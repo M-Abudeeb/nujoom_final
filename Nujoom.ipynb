{
  "cells": [
    {
      "cell_type": "markdown",
      "metadata": {
        "id": "vHOt8ToECfiP"
      },
      "source": [
        "Downloads"
      ]
    },
    {
      "cell_type": "code",
      "execution_count": 1,
      "metadata": {
        "colab": {
          "base_uri": "https://localhost:8080/"
        },
        "id": "Q0OmnrxRrgEk",
        "outputId": "0243c914-79d0-48fb-da8d-14d870baa22b"
      },
      "outputs": [
        {
          "name": "stdout",
          "output_type": "stream",
          "text": [
            "Requirement already satisfied: ultralytics in c:\\users\\yahya\\anaconda3\\envs\\myenv\\lib\\site-packages (8.3.113)\n",
            "Requirement already satisfied: numpy<=2.1.1,>=1.23.0 in c:\\users\\yahya\\anaconda3\\envs\\myenv\\lib\\site-packages (from ultralytics) (2.1.1)\n",
            "Requirement already satisfied: matplotlib>=3.3.0 in c:\\users\\yahya\\anaconda3\\envs\\myenv\\lib\\site-packages (from ultralytics) (3.9.2)\n",
            "Requirement already satisfied: opencv-python>=4.6.0 in c:\\users\\yahya\\anaconda3\\envs\\myenv\\lib\\site-packages (from ultralytics) (4.10.0)\n",
            "Requirement already satisfied: pillow>=7.1.2 in c:\\users\\yahya\\anaconda3\\envs\\myenv\\lib\\site-packages (from ultralytics) (11.2.1)\n",
            "Requirement already satisfied: pyyaml>=5.3.1 in c:\\users\\yahya\\anaconda3\\envs\\myenv\\lib\\site-packages (from ultralytics) (6.0.1)\n",
            "Requirement already satisfied: requests>=2.23.0 in c:\\users\\yahya\\anaconda3\\envs\\myenv\\lib\\site-packages (from ultralytics) (2.32.3)\n",
            "Requirement already satisfied: scipy>=1.4.1 in c:\\users\\yahya\\anaconda3\\envs\\myenv\\lib\\site-packages (from ultralytics) (1.14.1)\n",
            "Requirement already satisfied: torch>=1.8.0 in c:\\users\\yahya\\anaconda3\\envs\\myenv\\lib\\site-packages (from ultralytics) (2.5.1+cu121)\n",
            "Requirement already satisfied: torchvision>=0.9.0 in c:\\users\\yahya\\anaconda3\\envs\\myenv\\lib\\site-packages (from ultralytics) (0.20.1+cu121)\n",
            "Requirement already satisfied: tqdm>=4.64.0 in c:\\users\\yahya\\anaconda3\\envs\\myenv\\lib\\site-packages (from ultralytics) (4.67.1)\n",
            "Requirement already satisfied: psutil in c:\\users\\yahya\\anaconda3\\envs\\myenv\\lib\\site-packages (from ultralytics) (5.9.0)\n",
            "Requirement already satisfied: py-cpuinfo in c:\\users\\yahya\\anaconda3\\envs\\myenv\\lib\\site-packages (from ultralytics) (9.0.0)\n",
            "Requirement already satisfied: pandas>=1.1.4 in c:\\users\\yahya\\anaconda3\\envs\\myenv\\lib\\site-packages (from ultralytics) (2.2.3)\n",
            "Requirement already satisfied: seaborn>=0.11.0 in c:\\users\\yahya\\anaconda3\\envs\\myenv\\lib\\site-packages (from ultralytics) (0.13.2)\n",
            "Requirement already satisfied: ultralytics-thop>=2.0.0 in c:\\users\\yahya\\anaconda3\\envs\\myenv\\lib\\site-packages (from ultralytics) (2.0.14)\n",
            "Requirement already satisfied: contourpy>=1.0.1 in c:\\users\\yahya\\anaconda3\\envs\\myenv\\lib\\site-packages (from matplotlib>=3.3.0->ultralytics) (1.3.0)\n",
            "Requirement already satisfied: cycler>=0.10 in c:\\users\\yahya\\anaconda3\\envs\\myenv\\lib\\site-packages (from matplotlib>=3.3.0->ultralytics) (0.12.1)\n",
            "Requirement already satisfied: fonttools>=4.22.0 in c:\\users\\yahya\\anaconda3\\envs\\myenv\\lib\\site-packages (from matplotlib>=3.3.0->ultralytics) (4.53.1)\n",
            "Requirement already satisfied: kiwisolver>=1.3.1 in c:\\users\\yahya\\anaconda3\\envs\\myenv\\lib\\site-packages (from matplotlib>=3.3.0->ultralytics) (1.4.7)\n",
            "Requirement already satisfied: packaging>=20.0 in c:\\users\\yahya\\anaconda3\\envs\\myenv\\lib\\site-packages (from matplotlib>=3.3.0->ultralytics) (24.1)\n",
            "Requirement already satisfied: pyparsing>=2.3.1 in c:\\users\\yahya\\anaconda3\\envs\\myenv\\lib\\site-packages (from matplotlib>=3.3.0->ultralytics) (3.1.4)\n",
            "Requirement already satisfied: python-dateutil>=2.7 in c:\\users\\yahya\\anaconda3\\envs\\myenv\\lib\\site-packages (from matplotlib>=3.3.0->ultralytics) (2.9.0)\n",
            "Requirement already satisfied: pytz>=2020.1 in c:\\users\\yahya\\anaconda3\\envs\\myenv\\lib\\site-packages (from pandas>=1.1.4->ultralytics) (2024.1)\n",
            "Requirement already satisfied: tzdata>=2022.7 in c:\\users\\yahya\\anaconda3\\envs\\myenv\\lib\\site-packages (from pandas>=1.1.4->ultralytics) (2024.1)\n",
            "Requirement already satisfied: charset-normalizer<4,>=2 in c:\\users\\yahya\\anaconda3\\envs\\myenv\\lib\\site-packages (from requests>=2.23.0->ultralytics) (3.3.2)\n",
            "Requirement already satisfied: idna<4,>=2.5 in c:\\users\\yahya\\anaconda3\\envs\\myenv\\lib\\site-packages (from requests>=2.23.0->ultralytics) (3.7)\n",
            "Requirement already satisfied: urllib3<3,>=1.21.1 in c:\\users\\yahya\\anaconda3\\envs\\myenv\\lib\\site-packages (from requests>=2.23.0->ultralytics) (2.2.2)\n",
            "Requirement already satisfied: certifi>=2017.4.17 in c:\\users\\yahya\\anaconda3\\envs\\myenv\\lib\\site-packages (from requests>=2.23.0->ultralytics) (2025.1.31)\n",
            "Requirement already satisfied: filelock in c:\\users\\yahya\\anaconda3\\envs\\myenv\\lib\\site-packages (from torch>=1.8.0->ultralytics) (3.13.1)\n",
            "Requirement already satisfied: typing-extensions>=4.8.0 in c:\\users\\yahya\\anaconda3\\envs\\myenv\\lib\\site-packages (from torch>=1.8.0->ultralytics) (4.12.2)\n",
            "Requirement already satisfied: networkx in c:\\users\\yahya\\anaconda3\\envs\\myenv\\lib\\site-packages (from torch>=1.8.0->ultralytics) (3.4.2)\n",
            "Requirement already satisfied: jinja2 in c:\\users\\yahya\\anaconda3\\envs\\myenv\\lib\\site-packages (from torch>=1.8.0->ultralytics) (3.1.4)\n",
            "Requirement already satisfied: fsspec in c:\\users\\yahya\\anaconda3\\envs\\myenv\\lib\\site-packages (from torch>=1.8.0->ultralytics) (2025.2.0)\n",
            "Requirement already satisfied: setuptools in c:\\users\\yahya\\anaconda3\\envs\\myenv\\lib\\site-packages (from torch>=1.8.0->ultralytics) (72.1.0)\n",
            "Requirement already satisfied: sympy==1.13.1 in c:\\users\\yahya\\anaconda3\\envs\\myenv\\lib\\site-packages (from torch>=1.8.0->ultralytics) (1.13.1)\n",
            "Requirement already satisfied: mpmath<1.4,>=1.1.0 in c:\\users\\yahya\\anaconda3\\envs\\myenv\\lib\\site-packages (from sympy==1.13.1->torch>=1.8.0->ultralytics) (1.3.0)\n",
            "Requirement already satisfied: colorama in c:\\users\\yahya\\anaconda3\\envs\\myenv\\lib\\site-packages (from tqdm>=4.64.0->ultralytics) (0.4.6)\n",
            "Requirement already satisfied: six>=1.5 in c:\\users\\yahya\\anaconda3\\envs\\myenv\\lib\\site-packages (from python-dateutil>=2.7->matplotlib>=3.3.0->ultralytics) (1.16.0)\n",
            "Requirement already satisfied: MarkupSafe>=2.0 in c:\\users\\yahya\\anaconda3\\envs\\myenv\\lib\\site-packages (from jinja2->torch>=1.8.0->ultralytics) (2.1.3)\n",
            "Requirement already satisfied: opencv-python in c:\\users\\yahya\\anaconda3\\envs\\myenv\\lib\\site-packages (4.10.0)\n",
            "Requirement already satisfied: supervision in c:\\users\\yahya\\anaconda3\\envs\\myenv\\lib\\site-packages (0.25.1)\n",
            "Requirement already satisfied: contourpy>=1.0.7 in c:\\users\\yahya\\anaconda3\\envs\\myenv\\lib\\site-packages (from supervision) (1.3.0)\n",
            "Requirement already satisfied: defusedxml<0.8.0,>=0.7.1 in c:\\users\\yahya\\anaconda3\\envs\\myenv\\lib\\site-packages (from supervision) (0.7.1)\n",
            "Requirement already satisfied: matplotlib>=3.6.0 in c:\\users\\yahya\\anaconda3\\envs\\myenv\\lib\\site-packages (from supervision) (3.9.2)\n",
            "Requirement already satisfied: numpy>=1.21.2 in c:\\users\\yahya\\anaconda3\\envs\\myenv\\lib\\site-packages (from supervision) (2.1.1)\n",
            "Requirement already satisfied: opencv-python>=4.5.5.64 in c:\\users\\yahya\\anaconda3\\envs\\myenv\\lib\\site-packages (from supervision) (4.10.0)\n",
            "Requirement already satisfied: pillow>=9.4 in c:\\users\\yahya\\anaconda3\\envs\\myenv\\lib\\site-packages (from supervision) (11.2.1)\n",
            "Requirement already satisfied: pyyaml>=5.3 in c:\\users\\yahya\\anaconda3\\envs\\myenv\\lib\\site-packages (from supervision) (6.0.1)\n",
            "Requirement already satisfied: requests>=2.26.0 in c:\\users\\yahya\\anaconda3\\envs\\myenv\\lib\\site-packages (from supervision) (2.32.3)\n",
            "Requirement already satisfied: scipy<2.0.0,>=1.10.0 in c:\\users\\yahya\\anaconda3\\envs\\myenv\\lib\\site-packages (from supervision) (1.14.1)\n",
            "Requirement already satisfied: tqdm>=4.62.3 in c:\\users\\yahya\\anaconda3\\envs\\myenv\\lib\\site-packages (from supervision) (4.67.1)\n",
            "Requirement already satisfied: cycler>=0.10 in c:\\users\\yahya\\anaconda3\\envs\\myenv\\lib\\site-packages (from matplotlib>=3.6.0->supervision) (0.12.1)\n",
            "Requirement already satisfied: fonttools>=4.22.0 in c:\\users\\yahya\\anaconda3\\envs\\myenv\\lib\\site-packages (from matplotlib>=3.6.0->supervision) (4.53.1)\n",
            "Requirement already satisfied: kiwisolver>=1.3.1 in c:\\users\\yahya\\anaconda3\\envs\\myenv\\lib\\site-packages (from matplotlib>=3.6.0->supervision) (1.4.7)\n",
            "Requirement already satisfied: packaging>=20.0 in c:\\users\\yahya\\anaconda3\\envs\\myenv\\lib\\site-packages (from matplotlib>=3.6.0->supervision) (24.1)\n",
            "Requirement already satisfied: pyparsing>=2.3.1 in c:\\users\\yahya\\anaconda3\\envs\\myenv\\lib\\site-packages (from matplotlib>=3.6.0->supervision) (3.1.4)\n",
            "Requirement already satisfied: python-dateutil>=2.7 in c:\\users\\yahya\\anaconda3\\envs\\myenv\\lib\\site-packages (from matplotlib>=3.6.0->supervision) (2.9.0)\n",
            "Requirement already satisfied: charset-normalizer<4,>=2 in c:\\users\\yahya\\anaconda3\\envs\\myenv\\lib\\site-packages (from requests>=2.26.0->supervision) (3.3.2)\n",
            "Requirement already satisfied: idna<4,>=2.5 in c:\\users\\yahya\\anaconda3\\envs\\myenv\\lib\\site-packages (from requests>=2.26.0->supervision) (3.7)\n",
            "Requirement already satisfied: urllib3<3,>=1.21.1 in c:\\users\\yahya\\anaconda3\\envs\\myenv\\lib\\site-packages (from requests>=2.26.0->supervision) (2.2.2)\n",
            "Requirement already satisfied: certifi>=2017.4.17 in c:\\users\\yahya\\anaconda3\\envs\\myenv\\lib\\site-packages (from requests>=2.26.0->supervision) (2025.1.31)\n",
            "Requirement already satisfied: colorama in c:\\users\\yahya\\anaconda3\\envs\\myenv\\lib\\site-packages (from tqdm>=4.62.3->supervision) (0.4.6)\n",
            "Requirement already satisfied: six>=1.5 in c:\\users\\yahya\\anaconda3\\envs\\myenv\\lib\\site-packages (from python-dateutil>=2.7->matplotlib>=3.6.0->supervision) (1.16.0)\n"
          ]
        }
      ],
      "source": [
        "!pip install ultralytics\n",
        "!pip install opencv-python\n",
        "!pip install supervision"
      ]
    },
    {
      "cell_type": "markdown",
      "metadata": {
        "id": "jo_PjM6UClLK"
      },
      "source": [
        "Imports"
      ]
    },
    {
      "cell_type": "code",
      "execution_count": null,
      "metadata": {},
      "outputs": [],
      "source": [
        "### Imports\n",
        "import os\n",
        "from ultralytics import YOLO\n",
        "import supervision as sv\n",
        "import cv2\n",
        "import json\n",
        "import numpy as np\n",
        "from tqdm import tqdm\n",
        "from sports.common.team import TeamClassifier\n",
        "\n",
        "from transformers import CLIPProcessor, CLIPModel\n",
        "from PIL import Image\n",
        "import torch\n",
        "from transformers import AutoProcessor, SiglipVisionModel\n",
        "\n",
        "import supervision as sv\n",
        "import cv2\n",
        "import json\n",
        "import numpy as np\n",
        "from tqdm import tqdm\n",
        "import supervision as sv\n",
        "\n",
        "\n",
        "# Setup\n",
        "\n",
        "SOURCE_VIDEO_PATH = \"121364_0.mp4\"\n",
        "OUTPUT_VIDEO_PATH = \"121364_0_annotated.mp4\"\n",
        "JSON_OUTPUT_PATH = \"121364_0_log.json\"\n",
        "BALL_ID = 0\n",
        "SIGLIP_MODEL_PATH = 'google/siglip-base-patch16-224'\n",
        "\n",
        "DEVICE = 'cuda' if torch.cuda.is_available() else 'cpu'\n",
        "EMBEDDINGS_MODEL = SiglipVisionModel.from_pretrained(SIGLIP_MODEL_PATH).to(DEVICE)\n",
        "EMBEDDINGS_PROCESSOR = AutoProcessor.from_pretrained(SIGLIP_MODEL_PATH)\n",
        "\n",
        "\n"
      ]
    },
    {
      "cell_type": "code",
      "execution_count": 5,
      "metadata": {},
      "outputs": [
        {
          "name": "stdout",
          "output_type": "stream",
          "text": [
            "Ultralytics 8.3.113  Python-3.12.4 torch-2.5.1+cu121 CUDA:0 (NVIDIA GeForce RTX 3060 Laptop GPU, 6144MiB)\n",
            "Model summary (fused): 112 layers, 68,127,420 parameters, 0 gradients, 257.4 GFLOPs\n",
            "\u001b[34m\u001b[1mval: \u001b[0mFast image access  (ping: 0.10.0 ms, read: 334.122.5 MB/s, size: 182.0 KB)\n"
          ]
        },
        {
          "name": "stderr",
          "output_type": "stream",
          "text": [
            "\u001b[34m\u001b[1mval: \u001b[0mScanning C:\\Users\\Yahya\\Desktop\\football_analysis-main\\Nujoom\\football-players-detection.v12i.yolov8\\test\\labels.cache... 25 images, 0 backgrounds, 0 corrupt: 100%|██████████| 25/25 [00:00<?, ?it/s]\n",
            "                 Class     Images  Instances      Box(P          R      mAP50  mAP50-95): 100%|██████████| 2/2 [01:00<00:00, 30.08s/it]\n"
          ]
        },
        {
          "name": "stdout",
          "output_type": "stream",
          "text": [
            "                   all         25        598      0.934      0.828      0.875      0.689\n",
            "                  ball         23         24          1      0.486       0.65      0.395\n",
            "            goalkeeper         19         19      0.847      0.875      0.898      0.763\n",
            "                player         25        499      0.977      0.988      0.994      0.864\n",
            "               referee         25         56      0.911      0.964      0.959      0.732\n",
            "Speed: 23.7ms preprocess, 1979.6ms inference, 0.0ms loss, 5.2ms postprocess per image\n",
            "Results saved to \u001b[1mruns\\detect\\val17\u001b[0m\n"
          ]
        },
        {
          "data": {
            "text/plain": [
              "ultralytics.utils.metrics.DetMetrics object with attributes:\n",
              "\n",
              "ap_class_index: array([0, 1, 2, 3])\n",
              "box: ultralytics.utils.metrics.Metric object\n",
              "confusion_matrix: <ultralytics.utils.metrics.ConfusionMatrix object at 0x000002A4C24EAF00>\n",
              "curves: ['Precision-Recall(B)', 'F1-Confidence(B)', 'Precision-Confidence(B)', 'Recall-Confidence(B)']\n",
              "curves_results: [[array([          0,    0.001001,    0.002002,    0.003003,    0.004004,    0.005005,    0.006006,    0.007007,    0.008008,    0.009009,     0.01001,    0.011011,    0.012012,    0.013013,    0.014014,    0.015015,    0.016016,    0.017017,    0.018018,    0.019019,     0.02002,    0.021021,    0.022022,    0.023023,\n",
              "          0.024024,    0.025025,    0.026026,    0.027027,    0.028028,    0.029029,     0.03003,    0.031031,    0.032032,    0.033033,    0.034034,    0.035035,    0.036036,    0.037037,    0.038038,    0.039039,     0.04004,    0.041041,    0.042042,    0.043043,    0.044044,    0.045045,    0.046046,    0.047047,\n",
              "          0.048048,    0.049049,     0.05005,    0.051051,    0.052052,    0.053053,    0.054054,    0.055055,    0.056056,    0.057057,    0.058058,    0.059059,     0.06006,    0.061061,    0.062062,    0.063063,    0.064064,    0.065065,    0.066066,    0.067067,    0.068068,    0.069069,     0.07007,    0.071071,\n",
              "          0.072072,    0.073073,    0.074074,    0.075075,    0.076076,    0.077077,    0.078078,    0.079079,     0.08008,    0.081081,    0.082082,    0.083083,    0.084084,    0.085085,    0.086086,    0.087087,    0.088088,    0.089089,     0.09009,    0.091091,    0.092092,    0.093093,    0.094094,    0.095095,\n",
              "          0.096096,    0.097097,    0.098098,    0.099099,      0.1001,      0.1011,      0.1021,      0.1031,      0.1041,     0.10511,     0.10611,     0.10711,     0.10811,     0.10911,     0.11011,     0.11111,     0.11211,     0.11311,     0.11411,     0.11512,     0.11612,     0.11712,     0.11812,     0.11912,\n",
              "           0.12012,     0.12112,     0.12212,     0.12312,     0.12412,     0.12513,     0.12613,     0.12713,     0.12813,     0.12913,     0.13013,     0.13113,     0.13213,     0.13313,     0.13413,     0.13514,     0.13614,     0.13714,     0.13814,     0.13914,     0.14014,     0.14114,     0.14214,     0.14314,\n",
              "           0.14414,     0.14515,     0.14615,     0.14715,     0.14815,     0.14915,     0.15015,     0.15115,     0.15215,     0.15315,     0.15415,     0.15516,     0.15616,     0.15716,     0.15816,     0.15916,     0.16016,     0.16116,     0.16216,     0.16316,     0.16416,     0.16517,     0.16617,     0.16717,\n",
              "           0.16817,     0.16917,     0.17017,     0.17117,     0.17217,     0.17317,     0.17417,     0.17518,     0.17618,     0.17718,     0.17818,     0.17918,     0.18018,     0.18118,     0.18218,     0.18318,     0.18418,     0.18519,     0.18619,     0.18719,     0.18819,     0.18919,     0.19019,     0.19119,\n",
              "           0.19219,     0.19319,     0.19419,      0.1952,      0.1962,      0.1972,      0.1982,      0.1992,      0.2002,      0.2012,      0.2022,      0.2032,      0.2042,     0.20521,     0.20621,     0.20721,     0.20821,     0.20921,     0.21021,     0.21121,     0.21221,     0.21321,     0.21421,     0.21522,\n",
              "           0.21622,     0.21722,     0.21822,     0.21922,     0.22022,     0.22122,     0.22222,     0.22322,     0.22422,     0.22523,     0.22623,     0.22723,     0.22823,     0.22923,     0.23023,     0.23123,     0.23223,     0.23323,     0.23423,     0.23524,     0.23624,     0.23724,     0.23824,     0.23924,\n",
              "           0.24024,     0.24124,     0.24224,     0.24324,     0.24424,     0.24525,     0.24625,     0.24725,     0.24825,     0.24925,     0.25025,     0.25125,     0.25225,     0.25325,     0.25425,     0.25526,     0.25626,     0.25726,     0.25826,     0.25926,     0.26026,     0.26126,     0.26226,     0.26326,\n",
              "           0.26426,     0.26527,     0.26627,     0.26727,     0.26827,     0.26927,     0.27027,     0.27127,     0.27227,     0.27327,     0.27427,     0.27528,     0.27628,     0.27728,     0.27828,     0.27928,     0.28028,     0.28128,     0.28228,     0.28328,     0.28428,     0.28529,     0.28629,     0.28729,\n",
              "           0.28829,     0.28929,     0.29029,     0.29129,     0.29229,     0.29329,     0.29429,      0.2953,      0.2963,      0.2973,      0.2983,      0.2993,      0.3003,      0.3013,      0.3023,      0.3033,      0.3043,     0.30531,     0.30631,     0.30731,     0.30831,     0.30931,     0.31031,     0.31131,\n",
              "           0.31231,     0.31331,     0.31431,     0.31532,     0.31632,     0.31732,     0.31832,     0.31932,     0.32032,     0.32132,     0.32232,     0.32332,     0.32432,     0.32533,     0.32633,     0.32733,     0.32833,     0.32933,     0.33033,     0.33133,     0.33233,     0.33333,     0.33433,     0.33534,\n",
              "           0.33634,     0.33734,     0.33834,     0.33934,     0.34034,     0.34134,     0.34234,     0.34334,     0.34434,     0.34535,     0.34635,     0.34735,     0.34835,     0.34935,     0.35035,     0.35135,     0.35235,     0.35335,     0.35435,     0.35536,     0.35636,     0.35736,     0.35836,     0.35936,\n",
              "           0.36036,     0.36136,     0.36236,     0.36336,     0.36436,     0.36537,     0.36637,     0.36737,     0.36837,     0.36937,     0.37037,     0.37137,     0.37237,     0.37337,     0.37437,     0.37538,     0.37638,     0.37738,     0.37838,     0.37938,     0.38038,     0.38138,     0.38238,     0.38338,\n",
              "           0.38438,     0.38539,     0.38639,     0.38739,     0.38839,     0.38939,     0.39039,     0.39139,     0.39239,     0.39339,     0.39439,      0.3954,      0.3964,      0.3974,      0.3984,      0.3994,      0.4004,      0.4014,      0.4024,      0.4034,      0.4044,     0.40541,     0.40641,     0.40741,\n",
              "           0.40841,     0.40941,     0.41041,     0.41141,     0.41241,     0.41341,     0.41441,     0.41542,     0.41642,     0.41742,     0.41842,     0.41942,     0.42042,     0.42142,     0.42242,     0.42342,     0.42442,     0.42543,     0.42643,     0.42743,     0.42843,     0.42943,     0.43043,     0.43143,\n",
              "           0.43243,     0.43343,     0.43443,     0.43544,     0.43644,     0.43744,     0.43844,     0.43944,     0.44044,     0.44144,     0.44244,     0.44344,     0.44444,     0.44545,     0.44645,     0.44745,     0.44845,     0.44945,     0.45045,     0.45145,     0.45245,     0.45345,     0.45445,     0.45546,\n",
              "           0.45646,     0.45746,     0.45846,     0.45946,     0.46046,     0.46146,     0.46246,     0.46346,     0.46446,     0.46547,     0.46647,     0.46747,     0.46847,     0.46947,     0.47047,     0.47147,     0.47247,     0.47347,     0.47447,     0.47548,     0.47648,     0.47748,     0.47848,     0.47948,\n",
              "           0.48048,     0.48148,     0.48248,     0.48348,     0.48448,     0.48549,     0.48649,     0.48749,     0.48849,     0.48949,     0.49049,     0.49149,     0.49249,     0.49349,     0.49449,      0.4955,      0.4965,      0.4975,      0.4985,      0.4995,      0.5005,      0.5015,      0.5025,      0.5035,\n",
              "            0.5045,     0.50551,     0.50651,     0.50751,     0.50851,     0.50951,     0.51051,     0.51151,     0.51251,     0.51351,     0.51451,     0.51552,     0.51652,     0.51752,     0.51852,     0.51952,     0.52052,     0.52152,     0.52252,     0.52352,     0.52452,     0.52553,     0.52653,     0.52753,\n",
              "           0.52853,     0.52953,     0.53053,     0.53153,     0.53253,     0.53353,     0.53453,     0.53554,     0.53654,     0.53754,     0.53854,     0.53954,     0.54054,     0.54154,     0.54254,     0.54354,     0.54454,     0.54555,     0.54655,     0.54755,     0.54855,     0.54955,     0.55055,     0.55155,\n",
              "           0.55255,     0.55355,     0.55455,     0.55556,     0.55656,     0.55756,     0.55856,     0.55956,     0.56056,     0.56156,     0.56256,     0.56356,     0.56456,     0.56557,     0.56657,     0.56757,     0.56857,     0.56957,     0.57057,     0.57157,     0.57257,     0.57357,     0.57457,     0.57558,\n",
              "           0.57658,     0.57758,     0.57858,     0.57958,     0.58058,     0.58158,     0.58258,     0.58358,     0.58458,     0.58559,     0.58659,     0.58759,     0.58859,     0.58959,     0.59059,     0.59159,     0.59259,     0.59359,     0.59459,      0.5956,      0.5966,      0.5976,      0.5986,      0.5996,\n",
              "            0.6006,      0.6016,      0.6026,      0.6036,      0.6046,     0.60561,     0.60661,     0.60761,     0.60861,     0.60961,     0.61061,     0.61161,     0.61261,     0.61361,     0.61461,     0.61562,     0.61662,     0.61762,     0.61862,     0.61962,     0.62062,     0.62162,     0.62262,     0.62362,\n",
              "           0.62462,     0.62563,     0.62663,     0.62763,     0.62863,     0.62963,     0.63063,     0.63163,     0.63263,     0.63363,     0.63463,     0.63564,     0.63664,     0.63764,     0.63864,     0.63964,     0.64064,     0.64164,     0.64264,     0.64364,     0.64464,     0.64565,     0.64665,     0.64765,\n",
              "           0.64865,     0.64965,     0.65065,     0.65165,     0.65265,     0.65365,     0.65465,     0.65566,     0.65666,     0.65766,     0.65866,     0.65966,     0.66066,     0.66166,     0.66266,     0.66366,     0.66466,     0.66567,     0.66667,     0.66767,     0.66867,     0.66967,     0.67067,     0.67167,\n",
              "           0.67267,     0.67367,     0.67467,     0.67568,     0.67668,     0.67768,     0.67868,     0.67968,     0.68068,     0.68168,     0.68268,     0.68368,     0.68468,     0.68569,     0.68669,     0.68769,     0.68869,     0.68969,     0.69069,     0.69169,     0.69269,     0.69369,     0.69469,      0.6957,\n",
              "            0.6967,      0.6977,      0.6987,      0.6997,      0.7007,      0.7017,      0.7027,      0.7037,      0.7047,     0.70571,     0.70671,     0.70771,     0.70871,     0.70971,     0.71071,     0.71171,     0.71271,     0.71371,     0.71471,     0.71572,     0.71672,     0.71772,     0.71872,     0.71972,\n",
              "           0.72072,     0.72172,     0.72272,     0.72372,     0.72472,     0.72573,     0.72673,     0.72773,     0.72873,     0.72973,     0.73073,     0.73173,     0.73273,     0.73373,     0.73473,     0.73574,     0.73674,     0.73774,     0.73874,     0.73974,     0.74074,     0.74174,     0.74274,     0.74374,\n",
              "           0.74474,     0.74575,     0.74675,     0.74775,     0.74875,     0.74975,     0.75075,     0.75175,     0.75275,     0.75375,     0.75475,     0.75576,     0.75676,     0.75776,     0.75876,     0.75976,     0.76076,     0.76176,     0.76276,     0.76376,     0.76476,     0.76577,     0.76677,     0.76777,\n",
              "           0.76877,     0.76977,     0.77077,     0.77177,     0.77277,     0.77377,     0.77477,     0.77578,     0.77678,     0.77778,     0.77878,     0.77978,     0.78078,     0.78178,     0.78278,     0.78378,     0.78478,     0.78579,     0.78679,     0.78779,     0.78879,     0.78979,     0.79079,     0.79179,\n",
              "           0.79279,     0.79379,     0.79479,      0.7958,      0.7968,      0.7978,      0.7988,      0.7998,      0.8008,      0.8018,      0.8028,      0.8038,      0.8048,     0.80581,     0.80681,     0.80781,     0.80881,     0.80981,     0.81081,     0.81181,     0.81281,     0.81381,     0.81481,     0.81582,\n",
              "           0.81682,     0.81782,     0.81882,     0.81982,     0.82082,     0.82182,     0.82282,     0.82382,     0.82482,     0.82583,     0.82683,     0.82783,     0.82883,     0.82983,     0.83083,     0.83183,     0.83283,     0.83383,     0.83483,     0.83584,     0.83684,     0.83784,     0.83884,     0.83984,\n",
              "           0.84084,     0.84184,     0.84284,     0.84384,     0.84484,     0.84585,     0.84685,     0.84785,     0.84885,     0.84985,     0.85085,     0.85185,     0.85285,     0.85385,     0.85485,     0.85586,     0.85686,     0.85786,     0.85886,     0.85986,     0.86086,     0.86186,     0.86286,     0.86386,\n",
              "           0.86486,     0.86587,     0.86687,     0.86787,     0.86887,     0.86987,     0.87087,     0.87187,     0.87287,     0.87387,     0.87487,     0.87588,     0.87688,     0.87788,     0.87888,     0.87988,     0.88088,     0.88188,     0.88288,     0.88388,     0.88488,     0.88589,     0.88689,     0.88789,\n",
              "           0.88889,     0.88989,     0.89089,     0.89189,     0.89289,     0.89389,     0.89489,      0.8959,      0.8969,      0.8979,      0.8989,      0.8999,      0.9009,      0.9019,      0.9029,      0.9039,      0.9049,     0.90591,     0.90691,     0.90791,     0.90891,     0.90991,     0.91091,     0.91191,\n",
              "           0.91291,     0.91391,     0.91491,     0.91592,     0.91692,     0.91792,     0.91892,     0.91992,     0.92092,     0.92192,     0.92292,     0.92392,     0.92492,     0.92593,     0.92693,     0.92793,     0.92893,     0.92993,     0.93093,     0.93193,     0.93293,     0.93393,     0.93493,     0.93594,\n",
              "           0.93694,     0.93794,     0.93894,     0.93994,     0.94094,     0.94194,     0.94294,     0.94394,     0.94494,     0.94595,     0.94695,     0.94795,     0.94895,     0.94995,     0.95095,     0.95195,     0.95295,     0.95395,     0.95495,     0.95596,     0.95696,     0.95796,     0.95896,     0.95996,\n",
              "           0.96096,     0.96196,     0.96296,     0.96396,     0.96496,     0.96597,     0.96697,     0.96797,     0.96897,     0.96997,     0.97097,     0.97197,     0.97297,     0.97397,     0.97497,     0.97598,     0.97698,     0.97798,     0.97898,     0.97998,     0.98098,     0.98198,     0.98298,     0.98398,\n",
              "           0.98498,     0.98599,     0.98699,     0.98799,     0.98899,     0.98999,     0.99099,     0.99199,     0.99299,     0.99399,     0.99499,       0.996,       0.997,       0.998,       0.999,           1]), array([[          1,           1,           1, ...,  0.00079923,  0.00039962,           0],\n",
              "       [          1,           1,           1, ...,   0.0057537,   0.0028768,           0],\n",
              "       [          1,           1,           1, ...,     0.69387,     0.34693,           0],\n",
              "       [          1,           1,           1, ...,    0.033695,    0.016847,           0]]), 'Recall', 'Precision'], [array([          0,    0.001001,    0.002002,    0.003003,    0.004004,    0.005005,    0.006006,    0.007007,    0.008008,    0.009009,     0.01001,    0.011011,    0.012012,    0.013013,    0.014014,    0.015015,    0.016016,    0.017017,    0.018018,    0.019019,     0.02002,    0.021021,    0.022022,    0.023023,\n",
              "          0.024024,    0.025025,    0.026026,    0.027027,    0.028028,    0.029029,     0.03003,    0.031031,    0.032032,    0.033033,    0.034034,    0.035035,    0.036036,    0.037037,    0.038038,    0.039039,     0.04004,    0.041041,    0.042042,    0.043043,    0.044044,    0.045045,    0.046046,    0.047047,\n",
              "          0.048048,    0.049049,     0.05005,    0.051051,    0.052052,    0.053053,    0.054054,    0.055055,    0.056056,    0.057057,    0.058058,    0.059059,     0.06006,    0.061061,    0.062062,    0.063063,    0.064064,    0.065065,    0.066066,    0.067067,    0.068068,    0.069069,     0.07007,    0.071071,\n",
              "          0.072072,    0.073073,    0.074074,    0.075075,    0.076076,    0.077077,    0.078078,    0.079079,     0.08008,    0.081081,    0.082082,    0.083083,    0.084084,    0.085085,    0.086086,    0.087087,    0.088088,    0.089089,     0.09009,    0.091091,    0.092092,    0.093093,    0.094094,    0.095095,\n",
              "          0.096096,    0.097097,    0.098098,    0.099099,      0.1001,      0.1011,      0.1021,      0.1031,      0.1041,     0.10511,     0.10611,     0.10711,     0.10811,     0.10911,     0.11011,     0.11111,     0.11211,     0.11311,     0.11411,     0.11512,     0.11612,     0.11712,     0.11812,     0.11912,\n",
              "           0.12012,     0.12112,     0.12212,     0.12312,     0.12412,     0.12513,     0.12613,     0.12713,     0.12813,     0.12913,     0.13013,     0.13113,     0.13213,     0.13313,     0.13413,     0.13514,     0.13614,     0.13714,     0.13814,     0.13914,     0.14014,     0.14114,     0.14214,     0.14314,\n",
              "           0.14414,     0.14515,     0.14615,     0.14715,     0.14815,     0.14915,     0.15015,     0.15115,     0.15215,     0.15315,     0.15415,     0.15516,     0.15616,     0.15716,     0.15816,     0.15916,     0.16016,     0.16116,     0.16216,     0.16316,     0.16416,     0.16517,     0.16617,     0.16717,\n",
              "           0.16817,     0.16917,     0.17017,     0.17117,     0.17217,     0.17317,     0.17417,     0.17518,     0.17618,     0.17718,     0.17818,     0.17918,     0.18018,     0.18118,     0.18218,     0.18318,     0.18418,     0.18519,     0.18619,     0.18719,     0.18819,     0.18919,     0.19019,     0.19119,\n",
              "           0.19219,     0.19319,     0.19419,      0.1952,      0.1962,      0.1972,      0.1982,      0.1992,      0.2002,      0.2012,      0.2022,      0.2032,      0.2042,     0.20521,     0.20621,     0.20721,     0.20821,     0.20921,     0.21021,     0.21121,     0.21221,     0.21321,     0.21421,     0.21522,\n",
              "           0.21622,     0.21722,     0.21822,     0.21922,     0.22022,     0.22122,     0.22222,     0.22322,     0.22422,     0.22523,     0.22623,     0.22723,     0.22823,     0.22923,     0.23023,     0.23123,     0.23223,     0.23323,     0.23423,     0.23524,     0.23624,     0.23724,     0.23824,     0.23924,\n",
              "           0.24024,     0.24124,     0.24224,     0.24324,     0.24424,     0.24525,     0.24625,     0.24725,     0.24825,     0.24925,     0.25025,     0.25125,     0.25225,     0.25325,     0.25425,     0.25526,     0.25626,     0.25726,     0.25826,     0.25926,     0.26026,     0.26126,     0.26226,     0.26326,\n",
              "           0.26426,     0.26527,     0.26627,     0.26727,     0.26827,     0.26927,     0.27027,     0.27127,     0.27227,     0.27327,     0.27427,     0.27528,     0.27628,     0.27728,     0.27828,     0.27928,     0.28028,     0.28128,     0.28228,     0.28328,     0.28428,     0.28529,     0.28629,     0.28729,\n",
              "           0.28829,     0.28929,     0.29029,     0.29129,     0.29229,     0.29329,     0.29429,      0.2953,      0.2963,      0.2973,      0.2983,      0.2993,      0.3003,      0.3013,      0.3023,      0.3033,      0.3043,     0.30531,     0.30631,     0.30731,     0.30831,     0.30931,     0.31031,     0.31131,\n",
              "           0.31231,     0.31331,     0.31431,     0.31532,     0.31632,     0.31732,     0.31832,     0.31932,     0.32032,     0.32132,     0.32232,     0.32332,     0.32432,     0.32533,     0.32633,     0.32733,     0.32833,     0.32933,     0.33033,     0.33133,     0.33233,     0.33333,     0.33433,     0.33534,\n",
              "           0.33634,     0.33734,     0.33834,     0.33934,     0.34034,     0.34134,     0.34234,     0.34334,     0.34434,     0.34535,     0.34635,     0.34735,     0.34835,     0.34935,     0.35035,     0.35135,     0.35235,     0.35335,     0.35435,     0.35536,     0.35636,     0.35736,     0.35836,     0.35936,\n",
              "           0.36036,     0.36136,     0.36236,     0.36336,     0.36436,     0.36537,     0.36637,     0.36737,     0.36837,     0.36937,     0.37037,     0.37137,     0.37237,     0.37337,     0.37437,     0.37538,     0.37638,     0.37738,     0.37838,     0.37938,     0.38038,     0.38138,     0.38238,     0.38338,\n",
              "           0.38438,     0.38539,     0.38639,     0.38739,     0.38839,     0.38939,     0.39039,     0.39139,     0.39239,     0.39339,     0.39439,      0.3954,      0.3964,      0.3974,      0.3984,      0.3994,      0.4004,      0.4014,      0.4024,      0.4034,      0.4044,     0.40541,     0.40641,     0.40741,\n",
              "           0.40841,     0.40941,     0.41041,     0.41141,     0.41241,     0.41341,     0.41441,     0.41542,     0.41642,     0.41742,     0.41842,     0.41942,     0.42042,     0.42142,     0.42242,     0.42342,     0.42442,     0.42543,     0.42643,     0.42743,     0.42843,     0.42943,     0.43043,     0.43143,\n",
              "           0.43243,     0.43343,     0.43443,     0.43544,     0.43644,     0.43744,     0.43844,     0.43944,     0.44044,     0.44144,     0.44244,     0.44344,     0.44444,     0.44545,     0.44645,     0.44745,     0.44845,     0.44945,     0.45045,     0.45145,     0.45245,     0.45345,     0.45445,     0.45546,\n",
              "           0.45646,     0.45746,     0.45846,     0.45946,     0.46046,     0.46146,     0.46246,     0.46346,     0.46446,     0.46547,     0.46647,     0.46747,     0.46847,     0.46947,     0.47047,     0.47147,     0.47247,     0.47347,     0.47447,     0.47548,     0.47648,     0.47748,     0.47848,     0.47948,\n",
              "           0.48048,     0.48148,     0.48248,     0.48348,     0.48448,     0.48549,     0.48649,     0.48749,     0.48849,     0.48949,     0.49049,     0.49149,     0.49249,     0.49349,     0.49449,      0.4955,      0.4965,      0.4975,      0.4985,      0.4995,      0.5005,      0.5015,      0.5025,      0.5035,\n",
              "            0.5045,     0.50551,     0.50651,     0.50751,     0.50851,     0.50951,     0.51051,     0.51151,     0.51251,     0.51351,     0.51451,     0.51552,     0.51652,     0.51752,     0.51852,     0.51952,     0.52052,     0.52152,     0.52252,     0.52352,     0.52452,     0.52553,     0.52653,     0.52753,\n",
              "           0.52853,     0.52953,     0.53053,     0.53153,     0.53253,     0.53353,     0.53453,     0.53554,     0.53654,     0.53754,     0.53854,     0.53954,     0.54054,     0.54154,     0.54254,     0.54354,     0.54454,     0.54555,     0.54655,     0.54755,     0.54855,     0.54955,     0.55055,     0.55155,\n",
              "           0.55255,     0.55355,     0.55455,     0.55556,     0.55656,     0.55756,     0.55856,     0.55956,     0.56056,     0.56156,     0.56256,     0.56356,     0.56456,     0.56557,     0.56657,     0.56757,     0.56857,     0.56957,     0.57057,     0.57157,     0.57257,     0.57357,     0.57457,     0.57558,\n",
              "           0.57658,     0.57758,     0.57858,     0.57958,     0.58058,     0.58158,     0.58258,     0.58358,     0.58458,     0.58559,     0.58659,     0.58759,     0.58859,     0.58959,     0.59059,     0.59159,     0.59259,     0.59359,     0.59459,      0.5956,      0.5966,      0.5976,      0.5986,      0.5996,\n",
              "            0.6006,      0.6016,      0.6026,      0.6036,      0.6046,     0.60561,     0.60661,     0.60761,     0.60861,     0.60961,     0.61061,     0.61161,     0.61261,     0.61361,     0.61461,     0.61562,     0.61662,     0.61762,     0.61862,     0.61962,     0.62062,     0.62162,     0.62262,     0.62362,\n",
              "           0.62462,     0.62563,     0.62663,     0.62763,     0.62863,     0.62963,     0.63063,     0.63163,     0.63263,     0.63363,     0.63463,     0.63564,     0.63664,     0.63764,     0.63864,     0.63964,     0.64064,     0.64164,     0.64264,     0.64364,     0.64464,     0.64565,     0.64665,     0.64765,\n",
              "           0.64865,     0.64965,     0.65065,     0.65165,     0.65265,     0.65365,     0.65465,     0.65566,     0.65666,     0.65766,     0.65866,     0.65966,     0.66066,     0.66166,     0.66266,     0.66366,     0.66466,     0.66567,     0.66667,     0.66767,     0.66867,     0.66967,     0.67067,     0.67167,\n",
              "           0.67267,     0.67367,     0.67467,     0.67568,     0.67668,     0.67768,     0.67868,     0.67968,     0.68068,     0.68168,     0.68268,     0.68368,     0.68468,     0.68569,     0.68669,     0.68769,     0.68869,     0.68969,     0.69069,     0.69169,     0.69269,     0.69369,     0.69469,      0.6957,\n",
              "            0.6967,      0.6977,      0.6987,      0.6997,      0.7007,      0.7017,      0.7027,      0.7037,      0.7047,     0.70571,     0.70671,     0.70771,     0.70871,     0.70971,     0.71071,     0.71171,     0.71271,     0.71371,     0.71471,     0.71572,     0.71672,     0.71772,     0.71872,     0.71972,\n",
              "           0.72072,     0.72172,     0.72272,     0.72372,     0.72472,     0.72573,     0.72673,     0.72773,     0.72873,     0.72973,     0.73073,     0.73173,     0.73273,     0.73373,     0.73473,     0.73574,     0.73674,     0.73774,     0.73874,     0.73974,     0.74074,     0.74174,     0.74274,     0.74374,\n",
              "           0.74474,     0.74575,     0.74675,     0.74775,     0.74875,     0.74975,     0.75075,     0.75175,     0.75275,     0.75375,     0.75475,     0.75576,     0.75676,     0.75776,     0.75876,     0.75976,     0.76076,     0.76176,     0.76276,     0.76376,     0.76476,     0.76577,     0.76677,     0.76777,\n",
              "           0.76877,     0.76977,     0.77077,     0.77177,     0.77277,     0.77377,     0.77477,     0.77578,     0.77678,     0.77778,     0.77878,     0.77978,     0.78078,     0.78178,     0.78278,     0.78378,     0.78478,     0.78579,     0.78679,     0.78779,     0.78879,     0.78979,     0.79079,     0.79179,\n",
              "           0.79279,     0.79379,     0.79479,      0.7958,      0.7968,      0.7978,      0.7988,      0.7998,      0.8008,      0.8018,      0.8028,      0.8038,      0.8048,     0.80581,     0.80681,     0.80781,     0.80881,     0.80981,     0.81081,     0.81181,     0.81281,     0.81381,     0.81481,     0.81582,\n",
              "           0.81682,     0.81782,     0.81882,     0.81982,     0.82082,     0.82182,     0.82282,     0.82382,     0.82482,     0.82583,     0.82683,     0.82783,     0.82883,     0.82983,     0.83083,     0.83183,     0.83283,     0.83383,     0.83483,     0.83584,     0.83684,     0.83784,     0.83884,     0.83984,\n",
              "           0.84084,     0.84184,     0.84284,     0.84384,     0.84484,     0.84585,     0.84685,     0.84785,     0.84885,     0.84985,     0.85085,     0.85185,     0.85285,     0.85385,     0.85485,     0.85586,     0.85686,     0.85786,     0.85886,     0.85986,     0.86086,     0.86186,     0.86286,     0.86386,\n",
              "           0.86486,     0.86587,     0.86687,     0.86787,     0.86887,     0.86987,     0.87087,     0.87187,     0.87287,     0.87387,     0.87487,     0.87588,     0.87688,     0.87788,     0.87888,     0.87988,     0.88088,     0.88188,     0.88288,     0.88388,     0.88488,     0.88589,     0.88689,     0.88789,\n",
              "           0.88889,     0.88989,     0.89089,     0.89189,     0.89289,     0.89389,     0.89489,      0.8959,      0.8969,      0.8979,      0.8989,      0.8999,      0.9009,      0.9019,      0.9029,      0.9039,      0.9049,     0.90591,     0.90691,     0.90791,     0.90891,     0.90991,     0.91091,     0.91191,\n",
              "           0.91291,     0.91391,     0.91491,     0.91592,     0.91692,     0.91792,     0.91892,     0.91992,     0.92092,     0.92192,     0.92292,     0.92392,     0.92492,     0.92593,     0.92693,     0.92793,     0.92893,     0.92993,     0.93093,     0.93193,     0.93293,     0.93393,     0.93493,     0.93594,\n",
              "           0.93694,     0.93794,     0.93894,     0.93994,     0.94094,     0.94194,     0.94294,     0.94394,     0.94494,     0.94595,     0.94695,     0.94795,     0.94895,     0.94995,     0.95095,     0.95195,     0.95295,     0.95395,     0.95495,     0.95596,     0.95696,     0.95796,     0.95896,     0.95996,\n",
              "           0.96096,     0.96196,     0.96296,     0.96396,     0.96496,     0.96597,     0.96697,     0.96797,     0.96897,     0.96997,     0.97097,     0.97197,     0.97297,     0.97397,     0.97497,     0.97598,     0.97698,     0.97798,     0.97898,     0.97998,     0.98098,     0.98198,     0.98298,     0.98398,\n",
              "           0.98498,     0.98599,     0.98699,     0.98799,     0.98899,     0.98999,     0.99099,     0.99199,     0.99299,     0.99399,     0.99499,       0.996,       0.997,       0.998,       0.999,           1]), array([[        0.2,         0.2,     0.29062, ...,           0,           0,           0],\n",
              "       [    0.26087,     0.26087,     0.35927, ...,           0,           0,           0],\n",
              "       [    0.81908,     0.81908,     0.84821, ...,           0,           0,           0],\n",
              "       [    0.46025,     0.46025,     0.58059, ...,           0,           0,           0]]), 'Confidence', 'F1'], [array([          0,    0.001001,    0.002002,    0.003003,    0.004004,    0.005005,    0.006006,    0.007007,    0.008008,    0.009009,     0.01001,    0.011011,    0.012012,    0.013013,    0.014014,    0.015015,    0.016016,    0.017017,    0.018018,    0.019019,     0.02002,    0.021021,    0.022022,    0.023023,\n",
              "          0.024024,    0.025025,    0.026026,    0.027027,    0.028028,    0.029029,     0.03003,    0.031031,    0.032032,    0.033033,    0.034034,    0.035035,    0.036036,    0.037037,    0.038038,    0.039039,     0.04004,    0.041041,    0.042042,    0.043043,    0.044044,    0.045045,    0.046046,    0.047047,\n",
              "          0.048048,    0.049049,     0.05005,    0.051051,    0.052052,    0.053053,    0.054054,    0.055055,    0.056056,    0.057057,    0.058058,    0.059059,     0.06006,    0.061061,    0.062062,    0.063063,    0.064064,    0.065065,    0.066066,    0.067067,    0.068068,    0.069069,     0.07007,    0.071071,\n",
              "          0.072072,    0.073073,    0.074074,    0.075075,    0.076076,    0.077077,    0.078078,    0.079079,     0.08008,    0.081081,    0.082082,    0.083083,    0.084084,    0.085085,    0.086086,    0.087087,    0.088088,    0.089089,     0.09009,    0.091091,    0.092092,    0.093093,    0.094094,    0.095095,\n",
              "          0.096096,    0.097097,    0.098098,    0.099099,      0.1001,      0.1011,      0.1021,      0.1031,      0.1041,     0.10511,     0.10611,     0.10711,     0.10811,     0.10911,     0.11011,     0.11111,     0.11211,     0.11311,     0.11411,     0.11512,     0.11612,     0.11712,     0.11812,     0.11912,\n",
              "           0.12012,     0.12112,     0.12212,     0.12312,     0.12412,     0.12513,     0.12613,     0.12713,     0.12813,     0.12913,     0.13013,     0.13113,     0.13213,     0.13313,     0.13413,     0.13514,     0.13614,     0.13714,     0.13814,     0.13914,     0.14014,     0.14114,     0.14214,     0.14314,\n",
              "           0.14414,     0.14515,     0.14615,     0.14715,     0.14815,     0.14915,     0.15015,     0.15115,     0.15215,     0.15315,     0.15415,     0.15516,     0.15616,     0.15716,     0.15816,     0.15916,     0.16016,     0.16116,     0.16216,     0.16316,     0.16416,     0.16517,     0.16617,     0.16717,\n",
              "           0.16817,     0.16917,     0.17017,     0.17117,     0.17217,     0.17317,     0.17417,     0.17518,     0.17618,     0.17718,     0.17818,     0.17918,     0.18018,     0.18118,     0.18218,     0.18318,     0.18418,     0.18519,     0.18619,     0.18719,     0.18819,     0.18919,     0.19019,     0.19119,\n",
              "           0.19219,     0.19319,     0.19419,      0.1952,      0.1962,      0.1972,      0.1982,      0.1992,      0.2002,      0.2012,      0.2022,      0.2032,      0.2042,     0.20521,     0.20621,     0.20721,     0.20821,     0.20921,     0.21021,     0.21121,     0.21221,     0.21321,     0.21421,     0.21522,\n",
              "           0.21622,     0.21722,     0.21822,     0.21922,     0.22022,     0.22122,     0.22222,     0.22322,     0.22422,     0.22523,     0.22623,     0.22723,     0.22823,     0.22923,     0.23023,     0.23123,     0.23223,     0.23323,     0.23423,     0.23524,     0.23624,     0.23724,     0.23824,     0.23924,\n",
              "           0.24024,     0.24124,     0.24224,     0.24324,     0.24424,     0.24525,     0.24625,     0.24725,     0.24825,     0.24925,     0.25025,     0.25125,     0.25225,     0.25325,     0.25425,     0.25526,     0.25626,     0.25726,     0.25826,     0.25926,     0.26026,     0.26126,     0.26226,     0.26326,\n",
              "           0.26426,     0.26527,     0.26627,     0.26727,     0.26827,     0.26927,     0.27027,     0.27127,     0.27227,     0.27327,     0.27427,     0.27528,     0.27628,     0.27728,     0.27828,     0.27928,     0.28028,     0.28128,     0.28228,     0.28328,     0.28428,     0.28529,     0.28629,     0.28729,\n",
              "           0.28829,     0.28929,     0.29029,     0.29129,     0.29229,     0.29329,     0.29429,      0.2953,      0.2963,      0.2973,      0.2983,      0.2993,      0.3003,      0.3013,      0.3023,      0.3033,      0.3043,     0.30531,     0.30631,     0.30731,     0.30831,     0.30931,     0.31031,     0.31131,\n",
              "           0.31231,     0.31331,     0.31431,     0.31532,     0.31632,     0.31732,     0.31832,     0.31932,     0.32032,     0.32132,     0.32232,     0.32332,     0.32432,     0.32533,     0.32633,     0.32733,     0.32833,     0.32933,     0.33033,     0.33133,     0.33233,     0.33333,     0.33433,     0.33534,\n",
              "           0.33634,     0.33734,     0.33834,     0.33934,     0.34034,     0.34134,     0.34234,     0.34334,     0.34434,     0.34535,     0.34635,     0.34735,     0.34835,     0.34935,     0.35035,     0.35135,     0.35235,     0.35335,     0.35435,     0.35536,     0.35636,     0.35736,     0.35836,     0.35936,\n",
              "           0.36036,     0.36136,     0.36236,     0.36336,     0.36436,     0.36537,     0.36637,     0.36737,     0.36837,     0.36937,     0.37037,     0.37137,     0.37237,     0.37337,     0.37437,     0.37538,     0.37638,     0.37738,     0.37838,     0.37938,     0.38038,     0.38138,     0.38238,     0.38338,\n",
              "           0.38438,     0.38539,     0.38639,     0.38739,     0.38839,     0.38939,     0.39039,     0.39139,     0.39239,     0.39339,     0.39439,      0.3954,      0.3964,      0.3974,      0.3984,      0.3994,      0.4004,      0.4014,      0.4024,      0.4034,      0.4044,     0.40541,     0.40641,     0.40741,\n",
              "           0.40841,     0.40941,     0.41041,     0.41141,     0.41241,     0.41341,     0.41441,     0.41542,     0.41642,     0.41742,     0.41842,     0.41942,     0.42042,     0.42142,     0.42242,     0.42342,     0.42442,     0.42543,     0.42643,     0.42743,     0.42843,     0.42943,     0.43043,     0.43143,\n",
              "           0.43243,     0.43343,     0.43443,     0.43544,     0.43644,     0.43744,     0.43844,     0.43944,     0.44044,     0.44144,     0.44244,     0.44344,     0.44444,     0.44545,     0.44645,     0.44745,     0.44845,     0.44945,     0.45045,     0.45145,     0.45245,     0.45345,     0.45445,     0.45546,\n",
              "           0.45646,     0.45746,     0.45846,     0.45946,     0.46046,     0.46146,     0.46246,     0.46346,     0.46446,     0.46547,     0.46647,     0.46747,     0.46847,     0.46947,     0.47047,     0.47147,     0.47247,     0.47347,     0.47447,     0.47548,     0.47648,     0.47748,     0.47848,     0.47948,\n",
              "           0.48048,     0.48148,     0.48248,     0.48348,     0.48448,     0.48549,     0.48649,     0.48749,     0.48849,     0.48949,     0.49049,     0.49149,     0.49249,     0.49349,     0.49449,      0.4955,      0.4965,      0.4975,      0.4985,      0.4995,      0.5005,      0.5015,      0.5025,      0.5035,\n",
              "            0.5045,     0.50551,     0.50651,     0.50751,     0.50851,     0.50951,     0.51051,     0.51151,     0.51251,     0.51351,     0.51451,     0.51552,     0.51652,     0.51752,     0.51852,     0.51952,     0.52052,     0.52152,     0.52252,     0.52352,     0.52452,     0.52553,     0.52653,     0.52753,\n",
              "           0.52853,     0.52953,     0.53053,     0.53153,     0.53253,     0.53353,     0.53453,     0.53554,     0.53654,     0.53754,     0.53854,     0.53954,     0.54054,     0.54154,     0.54254,     0.54354,     0.54454,     0.54555,     0.54655,     0.54755,     0.54855,     0.54955,     0.55055,     0.55155,\n",
              "           0.55255,     0.55355,     0.55455,     0.55556,     0.55656,     0.55756,     0.55856,     0.55956,     0.56056,     0.56156,     0.56256,     0.56356,     0.56456,     0.56557,     0.56657,     0.56757,     0.56857,     0.56957,     0.57057,     0.57157,     0.57257,     0.57357,     0.57457,     0.57558,\n",
              "           0.57658,     0.57758,     0.57858,     0.57958,     0.58058,     0.58158,     0.58258,     0.58358,     0.58458,     0.58559,     0.58659,     0.58759,     0.58859,     0.58959,     0.59059,     0.59159,     0.59259,     0.59359,     0.59459,      0.5956,      0.5966,      0.5976,      0.5986,      0.5996,\n",
              "            0.6006,      0.6016,      0.6026,      0.6036,      0.6046,     0.60561,     0.60661,     0.60761,     0.60861,     0.60961,     0.61061,     0.61161,     0.61261,     0.61361,     0.61461,     0.61562,     0.61662,     0.61762,     0.61862,     0.61962,     0.62062,     0.62162,     0.62262,     0.62362,\n",
              "           0.62462,     0.62563,     0.62663,     0.62763,     0.62863,     0.62963,     0.63063,     0.63163,     0.63263,     0.63363,     0.63463,     0.63564,     0.63664,     0.63764,     0.63864,     0.63964,     0.64064,     0.64164,     0.64264,     0.64364,     0.64464,     0.64565,     0.64665,     0.64765,\n",
              "           0.64865,     0.64965,     0.65065,     0.65165,     0.65265,     0.65365,     0.65465,     0.65566,     0.65666,     0.65766,     0.65866,     0.65966,     0.66066,     0.66166,     0.66266,     0.66366,     0.66466,     0.66567,     0.66667,     0.66767,     0.66867,     0.66967,     0.67067,     0.67167,\n",
              "           0.67267,     0.67367,     0.67467,     0.67568,     0.67668,     0.67768,     0.67868,     0.67968,     0.68068,     0.68168,     0.68268,     0.68368,     0.68468,     0.68569,     0.68669,     0.68769,     0.68869,     0.68969,     0.69069,     0.69169,     0.69269,     0.69369,     0.69469,      0.6957,\n",
              "            0.6967,      0.6977,      0.6987,      0.6997,      0.7007,      0.7017,      0.7027,      0.7037,      0.7047,     0.70571,     0.70671,     0.70771,     0.70871,     0.70971,     0.71071,     0.71171,     0.71271,     0.71371,     0.71471,     0.71572,     0.71672,     0.71772,     0.71872,     0.71972,\n",
              "           0.72072,     0.72172,     0.72272,     0.72372,     0.72472,     0.72573,     0.72673,     0.72773,     0.72873,     0.72973,     0.73073,     0.73173,     0.73273,     0.73373,     0.73473,     0.73574,     0.73674,     0.73774,     0.73874,     0.73974,     0.74074,     0.74174,     0.74274,     0.74374,\n",
              "           0.74474,     0.74575,     0.74675,     0.74775,     0.74875,     0.74975,     0.75075,     0.75175,     0.75275,     0.75375,     0.75475,     0.75576,     0.75676,     0.75776,     0.75876,     0.75976,     0.76076,     0.76176,     0.76276,     0.76376,     0.76476,     0.76577,     0.76677,     0.76777,\n",
              "           0.76877,     0.76977,     0.77077,     0.77177,     0.77277,     0.77377,     0.77477,     0.77578,     0.77678,     0.77778,     0.77878,     0.77978,     0.78078,     0.78178,     0.78278,     0.78378,     0.78478,     0.78579,     0.78679,     0.78779,     0.78879,     0.78979,     0.79079,     0.79179,\n",
              "           0.79279,     0.79379,     0.79479,      0.7958,      0.7968,      0.7978,      0.7988,      0.7998,      0.8008,      0.8018,      0.8028,      0.8038,      0.8048,     0.80581,     0.80681,     0.80781,     0.80881,     0.80981,     0.81081,     0.81181,     0.81281,     0.81381,     0.81481,     0.81582,\n",
              "           0.81682,     0.81782,     0.81882,     0.81982,     0.82082,     0.82182,     0.82282,     0.82382,     0.82482,     0.82583,     0.82683,     0.82783,     0.82883,     0.82983,     0.83083,     0.83183,     0.83283,     0.83383,     0.83483,     0.83584,     0.83684,     0.83784,     0.83884,     0.83984,\n",
              "           0.84084,     0.84184,     0.84284,     0.84384,     0.84484,     0.84585,     0.84685,     0.84785,     0.84885,     0.84985,     0.85085,     0.85185,     0.85285,     0.85385,     0.85485,     0.85586,     0.85686,     0.85786,     0.85886,     0.85986,     0.86086,     0.86186,     0.86286,     0.86386,\n",
              "           0.86486,     0.86587,     0.86687,     0.86787,     0.86887,     0.86987,     0.87087,     0.87187,     0.87287,     0.87387,     0.87487,     0.87588,     0.87688,     0.87788,     0.87888,     0.87988,     0.88088,     0.88188,     0.88288,     0.88388,     0.88488,     0.88589,     0.88689,     0.88789,\n",
              "           0.88889,     0.88989,     0.89089,     0.89189,     0.89289,     0.89389,     0.89489,      0.8959,      0.8969,      0.8979,      0.8989,      0.8999,      0.9009,      0.9019,      0.9029,      0.9039,      0.9049,     0.90591,     0.90691,     0.90791,     0.90891,     0.90991,     0.91091,     0.91191,\n",
              "           0.91291,     0.91391,     0.91491,     0.91592,     0.91692,     0.91792,     0.91892,     0.91992,     0.92092,     0.92192,     0.92292,     0.92392,     0.92492,     0.92593,     0.92693,     0.92793,     0.92893,     0.92993,     0.93093,     0.93193,     0.93293,     0.93393,     0.93493,     0.93594,\n",
              "           0.93694,     0.93794,     0.93894,     0.93994,     0.94094,     0.94194,     0.94294,     0.94394,     0.94494,     0.94595,     0.94695,     0.94795,     0.94895,     0.94995,     0.95095,     0.95195,     0.95295,     0.95395,     0.95495,     0.95596,     0.95696,     0.95796,     0.95896,     0.95996,\n",
              "           0.96096,     0.96196,     0.96296,     0.96396,     0.96496,     0.96597,     0.96697,     0.96797,     0.96897,     0.96997,     0.97097,     0.97197,     0.97297,     0.97397,     0.97497,     0.97598,     0.97698,     0.97798,     0.97898,     0.97998,     0.98098,     0.98198,     0.98298,     0.98398,\n",
              "           0.98498,     0.98599,     0.98699,     0.98799,     0.98899,     0.98999,     0.99099,     0.99199,     0.99299,     0.99399,     0.99499,       0.996,       0.997,       0.998,       0.999,           1]), array([[    0.11644,     0.11644,     0.18281, ...,           1,           1,           1],\n",
              "       [    0.15126,     0.15126,     0.22167, ...,           1,           1,           1],\n",
              "       [    0.69456,     0.69456,     0.73752, ...,           1,           1,           1],\n",
              "       [    0.30055,     0.30055,     0.41211, ...,           1,           1,           1]]), 'Confidence', 'Precision'], [array([          0,    0.001001,    0.002002,    0.003003,    0.004004,    0.005005,    0.006006,    0.007007,    0.008008,    0.009009,     0.01001,    0.011011,    0.012012,    0.013013,    0.014014,    0.015015,    0.016016,    0.017017,    0.018018,    0.019019,     0.02002,    0.021021,    0.022022,    0.023023,\n",
              "          0.024024,    0.025025,    0.026026,    0.027027,    0.028028,    0.029029,     0.03003,    0.031031,    0.032032,    0.033033,    0.034034,    0.035035,    0.036036,    0.037037,    0.038038,    0.039039,     0.04004,    0.041041,    0.042042,    0.043043,    0.044044,    0.045045,    0.046046,    0.047047,\n",
              "          0.048048,    0.049049,     0.05005,    0.051051,    0.052052,    0.053053,    0.054054,    0.055055,    0.056056,    0.057057,    0.058058,    0.059059,     0.06006,    0.061061,    0.062062,    0.063063,    0.064064,    0.065065,    0.066066,    0.067067,    0.068068,    0.069069,     0.07007,    0.071071,\n",
              "          0.072072,    0.073073,    0.074074,    0.075075,    0.076076,    0.077077,    0.078078,    0.079079,     0.08008,    0.081081,    0.082082,    0.083083,    0.084084,    0.085085,    0.086086,    0.087087,    0.088088,    0.089089,     0.09009,    0.091091,    0.092092,    0.093093,    0.094094,    0.095095,\n",
              "          0.096096,    0.097097,    0.098098,    0.099099,      0.1001,      0.1011,      0.1021,      0.1031,      0.1041,     0.10511,     0.10611,     0.10711,     0.10811,     0.10911,     0.11011,     0.11111,     0.11211,     0.11311,     0.11411,     0.11512,     0.11612,     0.11712,     0.11812,     0.11912,\n",
              "           0.12012,     0.12112,     0.12212,     0.12312,     0.12412,     0.12513,     0.12613,     0.12713,     0.12813,     0.12913,     0.13013,     0.13113,     0.13213,     0.13313,     0.13413,     0.13514,     0.13614,     0.13714,     0.13814,     0.13914,     0.14014,     0.14114,     0.14214,     0.14314,\n",
              "           0.14414,     0.14515,     0.14615,     0.14715,     0.14815,     0.14915,     0.15015,     0.15115,     0.15215,     0.15315,     0.15415,     0.15516,     0.15616,     0.15716,     0.15816,     0.15916,     0.16016,     0.16116,     0.16216,     0.16316,     0.16416,     0.16517,     0.16617,     0.16717,\n",
              "           0.16817,     0.16917,     0.17017,     0.17117,     0.17217,     0.17317,     0.17417,     0.17518,     0.17618,     0.17718,     0.17818,     0.17918,     0.18018,     0.18118,     0.18218,     0.18318,     0.18418,     0.18519,     0.18619,     0.18719,     0.18819,     0.18919,     0.19019,     0.19119,\n",
              "           0.19219,     0.19319,     0.19419,      0.1952,      0.1962,      0.1972,      0.1982,      0.1992,      0.2002,      0.2012,      0.2022,      0.2032,      0.2042,     0.20521,     0.20621,     0.20721,     0.20821,     0.20921,     0.21021,     0.21121,     0.21221,     0.21321,     0.21421,     0.21522,\n",
              "           0.21622,     0.21722,     0.21822,     0.21922,     0.22022,     0.22122,     0.22222,     0.22322,     0.22422,     0.22523,     0.22623,     0.22723,     0.22823,     0.22923,     0.23023,     0.23123,     0.23223,     0.23323,     0.23423,     0.23524,     0.23624,     0.23724,     0.23824,     0.23924,\n",
              "           0.24024,     0.24124,     0.24224,     0.24324,     0.24424,     0.24525,     0.24625,     0.24725,     0.24825,     0.24925,     0.25025,     0.25125,     0.25225,     0.25325,     0.25425,     0.25526,     0.25626,     0.25726,     0.25826,     0.25926,     0.26026,     0.26126,     0.26226,     0.26326,\n",
              "           0.26426,     0.26527,     0.26627,     0.26727,     0.26827,     0.26927,     0.27027,     0.27127,     0.27227,     0.27327,     0.27427,     0.27528,     0.27628,     0.27728,     0.27828,     0.27928,     0.28028,     0.28128,     0.28228,     0.28328,     0.28428,     0.28529,     0.28629,     0.28729,\n",
              "           0.28829,     0.28929,     0.29029,     0.29129,     0.29229,     0.29329,     0.29429,      0.2953,      0.2963,      0.2973,      0.2983,      0.2993,      0.3003,      0.3013,      0.3023,      0.3033,      0.3043,     0.30531,     0.30631,     0.30731,     0.30831,     0.30931,     0.31031,     0.31131,\n",
              "           0.31231,     0.31331,     0.31431,     0.31532,     0.31632,     0.31732,     0.31832,     0.31932,     0.32032,     0.32132,     0.32232,     0.32332,     0.32432,     0.32533,     0.32633,     0.32733,     0.32833,     0.32933,     0.33033,     0.33133,     0.33233,     0.33333,     0.33433,     0.33534,\n",
              "           0.33634,     0.33734,     0.33834,     0.33934,     0.34034,     0.34134,     0.34234,     0.34334,     0.34434,     0.34535,     0.34635,     0.34735,     0.34835,     0.34935,     0.35035,     0.35135,     0.35235,     0.35335,     0.35435,     0.35536,     0.35636,     0.35736,     0.35836,     0.35936,\n",
              "           0.36036,     0.36136,     0.36236,     0.36336,     0.36436,     0.36537,     0.36637,     0.36737,     0.36837,     0.36937,     0.37037,     0.37137,     0.37237,     0.37337,     0.37437,     0.37538,     0.37638,     0.37738,     0.37838,     0.37938,     0.38038,     0.38138,     0.38238,     0.38338,\n",
              "           0.38438,     0.38539,     0.38639,     0.38739,     0.38839,     0.38939,     0.39039,     0.39139,     0.39239,     0.39339,     0.39439,      0.3954,      0.3964,      0.3974,      0.3984,      0.3994,      0.4004,      0.4014,      0.4024,      0.4034,      0.4044,     0.40541,     0.40641,     0.40741,\n",
              "           0.40841,     0.40941,     0.41041,     0.41141,     0.41241,     0.41341,     0.41441,     0.41542,     0.41642,     0.41742,     0.41842,     0.41942,     0.42042,     0.42142,     0.42242,     0.42342,     0.42442,     0.42543,     0.42643,     0.42743,     0.42843,     0.42943,     0.43043,     0.43143,\n",
              "           0.43243,     0.43343,     0.43443,     0.43544,     0.43644,     0.43744,     0.43844,     0.43944,     0.44044,     0.44144,     0.44244,     0.44344,     0.44444,     0.44545,     0.44645,     0.44745,     0.44845,     0.44945,     0.45045,     0.45145,     0.45245,     0.45345,     0.45445,     0.45546,\n",
              "           0.45646,     0.45746,     0.45846,     0.45946,     0.46046,     0.46146,     0.46246,     0.46346,     0.46446,     0.46547,     0.46647,     0.46747,     0.46847,     0.46947,     0.47047,     0.47147,     0.47247,     0.47347,     0.47447,     0.47548,     0.47648,     0.47748,     0.47848,     0.47948,\n",
              "           0.48048,     0.48148,     0.48248,     0.48348,     0.48448,     0.48549,     0.48649,     0.48749,     0.48849,     0.48949,     0.49049,     0.49149,     0.49249,     0.49349,     0.49449,      0.4955,      0.4965,      0.4975,      0.4985,      0.4995,      0.5005,      0.5015,      0.5025,      0.5035,\n",
              "            0.5045,     0.50551,     0.50651,     0.50751,     0.50851,     0.50951,     0.51051,     0.51151,     0.51251,     0.51351,     0.51451,     0.51552,     0.51652,     0.51752,     0.51852,     0.51952,     0.52052,     0.52152,     0.52252,     0.52352,     0.52452,     0.52553,     0.52653,     0.52753,\n",
              "           0.52853,     0.52953,     0.53053,     0.53153,     0.53253,     0.53353,     0.53453,     0.53554,     0.53654,     0.53754,     0.53854,     0.53954,     0.54054,     0.54154,     0.54254,     0.54354,     0.54454,     0.54555,     0.54655,     0.54755,     0.54855,     0.54955,     0.55055,     0.55155,\n",
              "           0.55255,     0.55355,     0.55455,     0.55556,     0.55656,     0.55756,     0.55856,     0.55956,     0.56056,     0.56156,     0.56256,     0.56356,     0.56456,     0.56557,     0.56657,     0.56757,     0.56857,     0.56957,     0.57057,     0.57157,     0.57257,     0.57357,     0.57457,     0.57558,\n",
              "           0.57658,     0.57758,     0.57858,     0.57958,     0.58058,     0.58158,     0.58258,     0.58358,     0.58458,     0.58559,     0.58659,     0.58759,     0.58859,     0.58959,     0.59059,     0.59159,     0.59259,     0.59359,     0.59459,      0.5956,      0.5966,      0.5976,      0.5986,      0.5996,\n",
              "            0.6006,      0.6016,      0.6026,      0.6036,      0.6046,     0.60561,     0.60661,     0.60761,     0.60861,     0.60961,     0.61061,     0.61161,     0.61261,     0.61361,     0.61461,     0.61562,     0.61662,     0.61762,     0.61862,     0.61962,     0.62062,     0.62162,     0.62262,     0.62362,\n",
              "           0.62462,     0.62563,     0.62663,     0.62763,     0.62863,     0.62963,     0.63063,     0.63163,     0.63263,     0.63363,     0.63463,     0.63564,     0.63664,     0.63764,     0.63864,     0.63964,     0.64064,     0.64164,     0.64264,     0.64364,     0.64464,     0.64565,     0.64665,     0.64765,\n",
              "           0.64865,     0.64965,     0.65065,     0.65165,     0.65265,     0.65365,     0.65465,     0.65566,     0.65666,     0.65766,     0.65866,     0.65966,     0.66066,     0.66166,     0.66266,     0.66366,     0.66466,     0.66567,     0.66667,     0.66767,     0.66867,     0.66967,     0.67067,     0.67167,\n",
              "           0.67267,     0.67367,     0.67467,     0.67568,     0.67668,     0.67768,     0.67868,     0.67968,     0.68068,     0.68168,     0.68268,     0.68368,     0.68468,     0.68569,     0.68669,     0.68769,     0.68869,     0.68969,     0.69069,     0.69169,     0.69269,     0.69369,     0.69469,      0.6957,\n",
              "            0.6967,      0.6977,      0.6987,      0.6997,      0.7007,      0.7017,      0.7027,      0.7037,      0.7047,     0.70571,     0.70671,     0.70771,     0.70871,     0.70971,     0.71071,     0.71171,     0.71271,     0.71371,     0.71471,     0.71572,     0.71672,     0.71772,     0.71872,     0.71972,\n",
              "           0.72072,     0.72172,     0.72272,     0.72372,     0.72472,     0.72573,     0.72673,     0.72773,     0.72873,     0.72973,     0.73073,     0.73173,     0.73273,     0.73373,     0.73473,     0.73574,     0.73674,     0.73774,     0.73874,     0.73974,     0.74074,     0.74174,     0.74274,     0.74374,\n",
              "           0.74474,     0.74575,     0.74675,     0.74775,     0.74875,     0.74975,     0.75075,     0.75175,     0.75275,     0.75375,     0.75475,     0.75576,     0.75676,     0.75776,     0.75876,     0.75976,     0.76076,     0.76176,     0.76276,     0.76376,     0.76476,     0.76577,     0.76677,     0.76777,\n",
              "           0.76877,     0.76977,     0.77077,     0.77177,     0.77277,     0.77377,     0.77477,     0.77578,     0.77678,     0.77778,     0.77878,     0.77978,     0.78078,     0.78178,     0.78278,     0.78378,     0.78478,     0.78579,     0.78679,     0.78779,     0.78879,     0.78979,     0.79079,     0.79179,\n",
              "           0.79279,     0.79379,     0.79479,      0.7958,      0.7968,      0.7978,      0.7988,      0.7998,      0.8008,      0.8018,      0.8028,      0.8038,      0.8048,     0.80581,     0.80681,     0.80781,     0.80881,     0.80981,     0.81081,     0.81181,     0.81281,     0.81381,     0.81481,     0.81582,\n",
              "           0.81682,     0.81782,     0.81882,     0.81982,     0.82082,     0.82182,     0.82282,     0.82382,     0.82482,     0.82583,     0.82683,     0.82783,     0.82883,     0.82983,     0.83083,     0.83183,     0.83283,     0.83383,     0.83483,     0.83584,     0.83684,     0.83784,     0.83884,     0.83984,\n",
              "           0.84084,     0.84184,     0.84284,     0.84384,     0.84484,     0.84585,     0.84685,     0.84785,     0.84885,     0.84985,     0.85085,     0.85185,     0.85285,     0.85385,     0.85485,     0.85586,     0.85686,     0.85786,     0.85886,     0.85986,     0.86086,     0.86186,     0.86286,     0.86386,\n",
              "           0.86486,     0.86587,     0.86687,     0.86787,     0.86887,     0.86987,     0.87087,     0.87187,     0.87287,     0.87387,     0.87487,     0.87588,     0.87688,     0.87788,     0.87888,     0.87988,     0.88088,     0.88188,     0.88288,     0.88388,     0.88488,     0.88589,     0.88689,     0.88789,\n",
              "           0.88889,     0.88989,     0.89089,     0.89189,     0.89289,     0.89389,     0.89489,      0.8959,      0.8969,      0.8979,      0.8989,      0.8999,      0.9009,      0.9019,      0.9029,      0.9039,      0.9049,     0.90591,     0.90691,     0.90791,     0.90891,     0.90991,     0.91091,     0.91191,\n",
              "           0.91291,     0.91391,     0.91491,     0.91592,     0.91692,     0.91792,     0.91892,     0.91992,     0.92092,     0.92192,     0.92292,     0.92392,     0.92492,     0.92593,     0.92693,     0.92793,     0.92893,     0.92993,     0.93093,     0.93193,     0.93293,     0.93393,     0.93493,     0.93594,\n",
              "           0.93694,     0.93794,     0.93894,     0.93994,     0.94094,     0.94194,     0.94294,     0.94394,     0.94494,     0.94595,     0.94695,     0.94795,     0.94895,     0.94995,     0.95095,     0.95195,     0.95295,     0.95395,     0.95495,     0.95596,     0.95696,     0.95796,     0.95896,     0.95996,\n",
              "           0.96096,     0.96196,     0.96296,     0.96396,     0.96496,     0.96597,     0.96697,     0.96797,     0.96897,     0.96997,     0.97097,     0.97197,     0.97297,     0.97397,     0.97497,     0.97598,     0.97698,     0.97798,     0.97898,     0.97998,     0.98098,     0.98198,     0.98298,     0.98398,\n",
              "           0.98498,     0.98599,     0.98699,     0.98799,     0.98899,     0.98999,     0.99099,     0.99199,     0.99299,     0.99399,     0.99499,       0.996,       0.997,       0.998,       0.999,           1]), array([[    0.70833,     0.70833,     0.70833, ...,           0,           0,           0],\n",
              "       [    0.94737,     0.94737,     0.94737, ...,           0,           0,           0],\n",
              "       [      0.998,       0.998,       0.998, ...,           0,           0,           0],\n",
              "       [    0.98214,     0.98214,     0.98214, ...,           0,           0,           0]]), 'Confidence', 'Recall']]\n",
              "fitness: np.float64(0.7073040147755674)\n",
              "keys: ['metrics/precision(B)', 'metrics/recall(B)', 'metrics/mAP50(B)', 'metrics/mAP50-95(B)']\n",
              "maps: array([    0.39513,     0.76299,     0.86444,      0.7321])\n",
              "names: {0: 'ball', 1: 'goalkeeper', 2: 'player', 3: 'referee'}\n",
              "plot: True\n",
              "results_dict: {'metrics/precision(B)': np.float64(0.9337790503622809), 'metrics/recall(B)': np.float64(0.8283580758678064), 'metrics/mAP50(B)': np.float64(0.8750701090062818), 'metrics/mAP50-95(B)': np.float64(0.6886633376388213), 'fitness': np.float64(0.7073040147755674)}\n",
              "save_dir: WindowsPath('runs/detect/val17')\n",
              "speed: {'preprocess': 23.669240004383028, 'inference': 1979.6384599991143, 'loss': 0.001208004541695118, 'postprocess': 5.193284000270069}\n",
              "task: 'detect'"
            ]
          },
          "execution_count": 5,
          "metadata": {},
          "output_type": "execute_result"
        }
      ],
      "source": [
        "player_model = YOLO('best.pt')\n",
        "\n",
        "player_model.val(data=\"C:/Users/Yahya/Desktop/football_analysis-main/Nujoom/football-players-detection.v12i.yolov8/data.yaml\", split='test')\n"
      ]
    },
    {
      "cell_type": "code",
      "execution_count": 9,
      "metadata": {
        "id": "CJZUHj9Stkir"
      },
      "outputs": [
        {
          "name": "stdout",
          "output_type": "stream",
          "text": [
            "Ultralytics 8.3.113  Python-3.12.4 torch-2.5.1+cu121 CUDA:0 (NVIDIA GeForce RTX 3060 Laptop GPU, 6144MiB)\n",
            "Model summary (fused): 72 layers, 3,006,428 parameters, 0 gradients, 8.1 GFLOPs\n",
            "\u001b[34m\u001b[1mval: \u001b[0mFast image access  (ping: 0.10.1 ms, read: 5.92.2 MB/s, size: 39.9 KB)\n"
          ]
        },
        {
          "name": "stderr",
          "output_type": "stream",
          "text": [
            "\u001b[34m\u001b[1mval: \u001b[0mScanning C:\\Users\\Yahya\\Desktop\\football_analysis-main\\Nujoom\\football-ball-detection.v4i.yolov8\\test\\labels... 500 images, 372 backgrounds, 0 corrupt: 100%|██████████| 500/500 [00:00<00:00, 633.72it/s]"
          ]
        },
        {
          "name": "stdout",
          "output_type": "stream",
          "text": [
            "\u001b[34m\u001b[1mval: \u001b[0mNew cache created: C:\\Users\\Yahya\\Desktop\\football_analysis-main\\Nujoom\\football-ball-detection.v4i.yolov8\\test\\labels.cache\n"
          ]
        },
        {
          "name": "stderr",
          "output_type": "stream",
          "text": [
            "\n",
            "                 Class     Images  Instances      Box(P          R      mAP50  mAP50-95): 100%|██████████| 32/32 [00:13<00:00,  2.29it/s]\n"
          ]
        },
        {
          "name": "stdout",
          "output_type": "stream",
          "text": [
            "                   all        500        128       0.88      0.836      0.915      0.563\n",
            "                  ball        128        128       0.88      0.836      0.915      0.563\n",
            "Speed: 4.5ms preprocess, 12.4ms inference, 0.0ms loss, 2.1ms postprocess per image\n",
            "Results saved to \u001b[1mruns\\detect\\val6\u001b[0m\n"
          ]
        },
        {
          "data": {
            "text/plain": [
              "ultralytics.utils.metrics.DetMetrics object with attributes:\n",
              "\n",
              "ap_class_index: array([0])\n",
              "box: ultralytics.utils.metrics.Metric object\n",
              "confusion_matrix: <ultralytics.utils.metrics.ConfusionMatrix object at 0x0000023849C57770>\n",
              "curves: ['Precision-Recall(B)', 'F1-Confidence(B)', 'Precision-Confidence(B)', 'Recall-Confidence(B)']\n",
              "curves_results: [[array([          0,    0.001001,    0.002002,    0.003003,    0.004004,    0.005005,    0.006006,    0.007007,    0.008008,    0.009009,     0.01001,    0.011011,    0.012012,    0.013013,    0.014014,    0.015015,    0.016016,    0.017017,    0.018018,    0.019019,     0.02002,    0.021021,    0.022022,    0.023023,\n",
              "          0.024024,    0.025025,    0.026026,    0.027027,    0.028028,    0.029029,     0.03003,    0.031031,    0.032032,    0.033033,    0.034034,    0.035035,    0.036036,    0.037037,    0.038038,    0.039039,     0.04004,    0.041041,    0.042042,    0.043043,    0.044044,    0.045045,    0.046046,    0.047047,\n",
              "          0.048048,    0.049049,     0.05005,    0.051051,    0.052052,    0.053053,    0.054054,    0.055055,    0.056056,    0.057057,    0.058058,    0.059059,     0.06006,    0.061061,    0.062062,    0.063063,    0.064064,    0.065065,    0.066066,    0.067067,    0.068068,    0.069069,     0.07007,    0.071071,\n",
              "          0.072072,    0.073073,    0.074074,    0.075075,    0.076076,    0.077077,    0.078078,    0.079079,     0.08008,    0.081081,    0.082082,    0.083083,    0.084084,    0.085085,    0.086086,    0.087087,    0.088088,    0.089089,     0.09009,    0.091091,    0.092092,    0.093093,    0.094094,    0.095095,\n",
              "          0.096096,    0.097097,    0.098098,    0.099099,      0.1001,      0.1011,      0.1021,      0.1031,      0.1041,     0.10511,     0.10611,     0.10711,     0.10811,     0.10911,     0.11011,     0.11111,     0.11211,     0.11311,     0.11411,     0.11512,     0.11612,     0.11712,     0.11812,     0.11912,\n",
              "           0.12012,     0.12112,     0.12212,     0.12312,     0.12412,     0.12513,     0.12613,     0.12713,     0.12813,     0.12913,     0.13013,     0.13113,     0.13213,     0.13313,     0.13413,     0.13514,     0.13614,     0.13714,     0.13814,     0.13914,     0.14014,     0.14114,     0.14214,     0.14314,\n",
              "           0.14414,     0.14515,     0.14615,     0.14715,     0.14815,     0.14915,     0.15015,     0.15115,     0.15215,     0.15315,     0.15415,     0.15516,     0.15616,     0.15716,     0.15816,     0.15916,     0.16016,     0.16116,     0.16216,     0.16316,     0.16416,     0.16517,     0.16617,     0.16717,\n",
              "           0.16817,     0.16917,     0.17017,     0.17117,     0.17217,     0.17317,     0.17417,     0.17518,     0.17618,     0.17718,     0.17818,     0.17918,     0.18018,     0.18118,     0.18218,     0.18318,     0.18418,     0.18519,     0.18619,     0.18719,     0.18819,     0.18919,     0.19019,     0.19119,\n",
              "           0.19219,     0.19319,     0.19419,      0.1952,      0.1962,      0.1972,      0.1982,      0.1992,      0.2002,      0.2012,      0.2022,      0.2032,      0.2042,     0.20521,     0.20621,     0.20721,     0.20821,     0.20921,     0.21021,     0.21121,     0.21221,     0.21321,     0.21421,     0.21522,\n",
              "           0.21622,     0.21722,     0.21822,     0.21922,     0.22022,     0.22122,     0.22222,     0.22322,     0.22422,     0.22523,     0.22623,     0.22723,     0.22823,     0.22923,     0.23023,     0.23123,     0.23223,     0.23323,     0.23423,     0.23524,     0.23624,     0.23724,     0.23824,     0.23924,\n",
              "           0.24024,     0.24124,     0.24224,     0.24324,     0.24424,     0.24525,     0.24625,     0.24725,     0.24825,     0.24925,     0.25025,     0.25125,     0.25225,     0.25325,     0.25425,     0.25526,     0.25626,     0.25726,     0.25826,     0.25926,     0.26026,     0.26126,     0.26226,     0.26326,\n",
              "           0.26426,     0.26527,     0.26627,     0.26727,     0.26827,     0.26927,     0.27027,     0.27127,     0.27227,     0.27327,     0.27427,     0.27528,     0.27628,     0.27728,     0.27828,     0.27928,     0.28028,     0.28128,     0.28228,     0.28328,     0.28428,     0.28529,     0.28629,     0.28729,\n",
              "           0.28829,     0.28929,     0.29029,     0.29129,     0.29229,     0.29329,     0.29429,      0.2953,      0.2963,      0.2973,      0.2983,      0.2993,      0.3003,      0.3013,      0.3023,      0.3033,      0.3043,     0.30531,     0.30631,     0.30731,     0.30831,     0.30931,     0.31031,     0.31131,\n",
              "           0.31231,     0.31331,     0.31431,     0.31532,     0.31632,     0.31732,     0.31832,     0.31932,     0.32032,     0.32132,     0.32232,     0.32332,     0.32432,     0.32533,     0.32633,     0.32733,     0.32833,     0.32933,     0.33033,     0.33133,     0.33233,     0.33333,     0.33433,     0.33534,\n",
              "           0.33634,     0.33734,     0.33834,     0.33934,     0.34034,     0.34134,     0.34234,     0.34334,     0.34434,     0.34535,     0.34635,     0.34735,     0.34835,     0.34935,     0.35035,     0.35135,     0.35235,     0.35335,     0.35435,     0.35536,     0.35636,     0.35736,     0.35836,     0.35936,\n",
              "           0.36036,     0.36136,     0.36236,     0.36336,     0.36436,     0.36537,     0.36637,     0.36737,     0.36837,     0.36937,     0.37037,     0.37137,     0.37237,     0.37337,     0.37437,     0.37538,     0.37638,     0.37738,     0.37838,     0.37938,     0.38038,     0.38138,     0.38238,     0.38338,\n",
              "           0.38438,     0.38539,     0.38639,     0.38739,     0.38839,     0.38939,     0.39039,     0.39139,     0.39239,     0.39339,     0.39439,      0.3954,      0.3964,      0.3974,      0.3984,      0.3994,      0.4004,      0.4014,      0.4024,      0.4034,      0.4044,     0.40541,     0.40641,     0.40741,\n",
              "           0.40841,     0.40941,     0.41041,     0.41141,     0.41241,     0.41341,     0.41441,     0.41542,     0.41642,     0.41742,     0.41842,     0.41942,     0.42042,     0.42142,     0.42242,     0.42342,     0.42442,     0.42543,     0.42643,     0.42743,     0.42843,     0.42943,     0.43043,     0.43143,\n",
              "           0.43243,     0.43343,     0.43443,     0.43544,     0.43644,     0.43744,     0.43844,     0.43944,     0.44044,     0.44144,     0.44244,     0.44344,     0.44444,     0.44545,     0.44645,     0.44745,     0.44845,     0.44945,     0.45045,     0.45145,     0.45245,     0.45345,     0.45445,     0.45546,\n",
              "           0.45646,     0.45746,     0.45846,     0.45946,     0.46046,     0.46146,     0.46246,     0.46346,     0.46446,     0.46547,     0.46647,     0.46747,     0.46847,     0.46947,     0.47047,     0.47147,     0.47247,     0.47347,     0.47447,     0.47548,     0.47648,     0.47748,     0.47848,     0.47948,\n",
              "           0.48048,     0.48148,     0.48248,     0.48348,     0.48448,     0.48549,     0.48649,     0.48749,     0.48849,     0.48949,     0.49049,     0.49149,     0.49249,     0.49349,     0.49449,      0.4955,      0.4965,      0.4975,      0.4985,      0.4995,      0.5005,      0.5015,      0.5025,      0.5035,\n",
              "            0.5045,     0.50551,     0.50651,     0.50751,     0.50851,     0.50951,     0.51051,     0.51151,     0.51251,     0.51351,     0.51451,     0.51552,     0.51652,     0.51752,     0.51852,     0.51952,     0.52052,     0.52152,     0.52252,     0.52352,     0.52452,     0.52553,     0.52653,     0.52753,\n",
              "           0.52853,     0.52953,     0.53053,     0.53153,     0.53253,     0.53353,     0.53453,     0.53554,     0.53654,     0.53754,     0.53854,     0.53954,     0.54054,     0.54154,     0.54254,     0.54354,     0.54454,     0.54555,     0.54655,     0.54755,     0.54855,     0.54955,     0.55055,     0.55155,\n",
              "           0.55255,     0.55355,     0.55455,     0.55556,     0.55656,     0.55756,     0.55856,     0.55956,     0.56056,     0.56156,     0.56256,     0.56356,     0.56456,     0.56557,     0.56657,     0.56757,     0.56857,     0.56957,     0.57057,     0.57157,     0.57257,     0.57357,     0.57457,     0.57558,\n",
              "           0.57658,     0.57758,     0.57858,     0.57958,     0.58058,     0.58158,     0.58258,     0.58358,     0.58458,     0.58559,     0.58659,     0.58759,     0.58859,     0.58959,     0.59059,     0.59159,     0.59259,     0.59359,     0.59459,      0.5956,      0.5966,      0.5976,      0.5986,      0.5996,\n",
              "            0.6006,      0.6016,      0.6026,      0.6036,      0.6046,     0.60561,     0.60661,     0.60761,     0.60861,     0.60961,     0.61061,     0.61161,     0.61261,     0.61361,     0.61461,     0.61562,     0.61662,     0.61762,     0.61862,     0.61962,     0.62062,     0.62162,     0.62262,     0.62362,\n",
              "           0.62462,     0.62563,     0.62663,     0.62763,     0.62863,     0.62963,     0.63063,     0.63163,     0.63263,     0.63363,     0.63463,     0.63564,     0.63664,     0.63764,     0.63864,     0.63964,     0.64064,     0.64164,     0.64264,     0.64364,     0.64464,     0.64565,     0.64665,     0.64765,\n",
              "           0.64865,     0.64965,     0.65065,     0.65165,     0.65265,     0.65365,     0.65465,     0.65566,     0.65666,     0.65766,     0.65866,     0.65966,     0.66066,     0.66166,     0.66266,     0.66366,     0.66466,     0.66567,     0.66667,     0.66767,     0.66867,     0.66967,     0.67067,     0.67167,\n",
              "           0.67267,     0.67367,     0.67467,     0.67568,     0.67668,     0.67768,     0.67868,     0.67968,     0.68068,     0.68168,     0.68268,     0.68368,     0.68468,     0.68569,     0.68669,     0.68769,     0.68869,     0.68969,     0.69069,     0.69169,     0.69269,     0.69369,     0.69469,      0.6957,\n",
              "            0.6967,      0.6977,      0.6987,      0.6997,      0.7007,      0.7017,      0.7027,      0.7037,      0.7047,     0.70571,     0.70671,     0.70771,     0.70871,     0.70971,     0.71071,     0.71171,     0.71271,     0.71371,     0.71471,     0.71572,     0.71672,     0.71772,     0.71872,     0.71972,\n",
              "           0.72072,     0.72172,     0.72272,     0.72372,     0.72472,     0.72573,     0.72673,     0.72773,     0.72873,     0.72973,     0.73073,     0.73173,     0.73273,     0.73373,     0.73473,     0.73574,     0.73674,     0.73774,     0.73874,     0.73974,     0.74074,     0.74174,     0.74274,     0.74374,\n",
              "           0.74474,     0.74575,     0.74675,     0.74775,     0.74875,     0.74975,     0.75075,     0.75175,     0.75275,     0.75375,     0.75475,     0.75576,     0.75676,     0.75776,     0.75876,     0.75976,     0.76076,     0.76176,     0.76276,     0.76376,     0.76476,     0.76577,     0.76677,     0.76777,\n",
              "           0.76877,     0.76977,     0.77077,     0.77177,     0.77277,     0.77377,     0.77477,     0.77578,     0.77678,     0.77778,     0.77878,     0.77978,     0.78078,     0.78178,     0.78278,     0.78378,     0.78478,     0.78579,     0.78679,     0.78779,     0.78879,     0.78979,     0.79079,     0.79179,\n",
              "           0.79279,     0.79379,     0.79479,      0.7958,      0.7968,      0.7978,      0.7988,      0.7998,      0.8008,      0.8018,      0.8028,      0.8038,      0.8048,     0.80581,     0.80681,     0.80781,     0.80881,     0.80981,     0.81081,     0.81181,     0.81281,     0.81381,     0.81481,     0.81582,\n",
              "           0.81682,     0.81782,     0.81882,     0.81982,     0.82082,     0.82182,     0.82282,     0.82382,     0.82482,     0.82583,     0.82683,     0.82783,     0.82883,     0.82983,     0.83083,     0.83183,     0.83283,     0.83383,     0.83483,     0.83584,     0.83684,     0.83784,     0.83884,     0.83984,\n",
              "           0.84084,     0.84184,     0.84284,     0.84384,     0.84484,     0.84585,     0.84685,     0.84785,     0.84885,     0.84985,     0.85085,     0.85185,     0.85285,     0.85385,     0.85485,     0.85586,     0.85686,     0.85786,     0.85886,     0.85986,     0.86086,     0.86186,     0.86286,     0.86386,\n",
              "           0.86486,     0.86587,     0.86687,     0.86787,     0.86887,     0.86987,     0.87087,     0.87187,     0.87287,     0.87387,     0.87487,     0.87588,     0.87688,     0.87788,     0.87888,     0.87988,     0.88088,     0.88188,     0.88288,     0.88388,     0.88488,     0.88589,     0.88689,     0.88789,\n",
              "           0.88889,     0.88989,     0.89089,     0.89189,     0.89289,     0.89389,     0.89489,      0.8959,      0.8969,      0.8979,      0.8989,      0.8999,      0.9009,      0.9019,      0.9029,      0.9039,      0.9049,     0.90591,     0.90691,     0.90791,     0.90891,     0.90991,     0.91091,     0.91191,\n",
              "           0.91291,     0.91391,     0.91491,     0.91592,     0.91692,     0.91792,     0.91892,     0.91992,     0.92092,     0.92192,     0.92292,     0.92392,     0.92492,     0.92593,     0.92693,     0.92793,     0.92893,     0.92993,     0.93093,     0.93193,     0.93293,     0.93393,     0.93493,     0.93594,\n",
              "           0.93694,     0.93794,     0.93894,     0.93994,     0.94094,     0.94194,     0.94294,     0.94394,     0.94494,     0.94595,     0.94695,     0.94795,     0.94895,     0.94995,     0.95095,     0.95195,     0.95295,     0.95395,     0.95495,     0.95596,     0.95696,     0.95796,     0.95896,     0.95996,\n",
              "           0.96096,     0.96196,     0.96296,     0.96396,     0.96496,     0.96597,     0.96697,     0.96797,     0.96897,     0.96997,     0.97097,     0.97197,     0.97297,     0.97397,     0.97497,     0.97598,     0.97698,     0.97798,     0.97898,     0.97998,     0.98098,     0.98198,     0.98298,     0.98398,\n",
              "           0.98498,     0.98599,     0.98699,     0.98799,     0.98899,     0.98999,     0.99099,     0.99199,     0.99299,     0.99399,     0.99499,       0.996,       0.997,       0.998,       0.999,           1]), array([[          1,           1,           1,           1,           1,           1,           1,           1,           1,           1,           1,           1,           1,           1,           1,           1,           1,           1,           1,           1,           1,           1,           1,\n",
              "                  1,           1,           1,           1,           1,           1,           1,           1,           1,           1,           1,           1,           1,           1,           1,           1,           1,           1,           1,           1,           1,           1,           1,\n",
              "                  1,           1,           1,           1,           1,           1,           1,           1,           1,           1,           1,           1,           1,           1,           1,           1,           1,           1,           1,           1,           1,           1,           1,\n",
              "                  1,           1,           1,           1,           1,           1,           1,           1,           1,           1,           1,           1,           1,           1,           1,           1,           1,           1,           1,           1,           1,           1,           1,\n",
              "                  1,           1,           1,           1,           1,           1,           1,           1,           1,           1,           1,           1,           1,           1,           1,           1,           1,           1,           1,           1,           1,           1,           1,\n",
              "                  1,           1,           1,           1,           1,           1,           1,           1,           1,           1,           1,           1,           1,           1,           1,           1,           1,           1,           1,           1,           1,           1,           1,\n",
              "                  1,           1,           1,           1,           1,           1,           1,           1,           1,           1,           1,           1,           1,           1,           1,           1,           1,           1,           1,           1,           1,           1,           1,\n",
              "                  1,           1,           1,           1,           1,           1,           1,           1,           1,           1,           1,           1,           1,           1,           1,           1,           1,           1,           1,           1,           1,           1,           1,\n",
              "                  1,           1,           1,           1,           1,           1,           1,           1,           1,           1,           1,           1,           1,           1,           1,           1,           1,           1,           1,           1,           1,           1,           1,\n",
              "                  1,           1,           1,           1,           1,           1,           1,           1,           1,           1,           1,           1,           1,           1,           1,           1,           1,           1,           1,           1,           1,           1,           1,\n",
              "                  1,           1,           1,           1,           1,           1,           1,           1,           1,           1,           1,           1,           1,           1,           1,           1,           1,           1,           1,           1,           1,           1,           1,\n",
              "                  1,           1,           1,           1,           1,           1,           1,           1,           1,           1,           1,           1,           1,           1,           1,           1,           1,           1,           1,           1,           1,           1,           1,\n",
              "                  1,           1,           1,           1,           1,           1,           1,           1,           1,           1,           1,           1,           1,           1,           1,           1,           1,           1,           1,           1,           1,           1,           1,\n",
              "                  1,           1,           1,           1,           1,           1,           1,           1,           1,           1,           1,           1,           1,           1,           1,           1,           1,           1,           1,           1,           1,           1,           1,\n",
              "                  1,           1,           1,           1,           1,           1,           1,           1,           1,           1,           1,           1,           1,           1,           1,           1,           1,           1,           1,           1,           1,           1,           1,\n",
              "                  1,           1,           1,           1,           1,           1,           1,           1,           1,           1,           1,           1,           1,           1,           1,           1,           1,           1,           1,           1,           1,           1,           1,\n",
              "                  1,           1,           1,           1,           1,           1,           1,           1,           1,           1,           1,           1,           1,           1,           1,           1,           1,           1,           1,           1,           1,           1,           1,\n",
              "                  1,           1,           1,           1,           1,           1,           1,           1,           1,           1,           1,           1,           1,           1,           1,           1,           1,           1,           1,           1,           1,           1,           1,\n",
              "                  1,           1,           1,           1,           1,           1,           1,           1,           1,           1,           1,           1,           1,           1,           1,           1,           1,           1,           1,           1,           1,           1,           1,\n",
              "                  1,           1,           1,           1,           1,           1,           1,           1,           1,           1,           1,           1,           1,           1,           1,           1,           1,           1,           1,           1,           1,           1,           1,\n",
              "                  1,           1,           1,           1,           1,           1,           1,           1,           1,           1,           1,           1,           1,           1,           1,           1,           1,           1,           1,           1,           1,           1,           1,\n",
              "                  1,           1,           1,           1,           1,           1,           1,           1,           1,           1,           1,           1,           1,           1,           1,           1,           1,           1,           1,           1,           1,           1,           1,\n",
              "                  1,           1,     0.98851,     0.98851,     0.98851,     0.98851,     0.98851,     0.98851,     0.98851,     0.98851,     0.98851,     0.98851,     0.98851,     0.98851,     0.98851,     0.98851,     0.98851,     0.98851,     0.98851,     0.98851,     0.98851,     0.98851,     0.98851,\n",
              "            0.98851,     0.98851,     0.98851,     0.98851,     0.98851,     0.98851,     0.98851,     0.98851,     0.98851,     0.98851,     0.98851,     0.98851,     0.98851,     0.98851,     0.98851,     0.98851,     0.98851,     0.98851,     0.98851,     0.98851,     0.98851,     0.98851,     0.98851,\n",
              "            0.98851,     0.98851,     0.98851,     0.98851,     0.98851,     0.98851,     0.98851,     0.98851,     0.98851,     0.98851,     0.98851,     0.98851,     0.98851,     0.98851,     0.98851,     0.98851,     0.98851,     0.98851,     0.98851,     0.98851,     0.98851,     0.98851,     0.98851,\n",
              "            0.98851,     0.98851,     0.98851,     0.98851,     0.98851,     0.98851,     0.98851,     0.98851,     0.98851,     0.98851,     0.98851,     0.98851,     0.98851,     0.98851,     0.98851,     0.98851,     0.98851,     0.98851,     0.98851,     0.98851,     0.98851,     0.98851,     0.98851,\n",
              "            0.98851,     0.98851,     0.98851,     0.98851,     0.98851,     0.98851,     0.98851,     0.98851,     0.98851,     0.98851,     0.98851,     0.98851,     0.98851,     0.98851,     0.98851,     0.98851,     0.98851,     0.98851,     0.98851,     0.98851,     0.98851,     0.98851,     0.98851,\n",
              "            0.98851,     0.98851,     0.98851,     0.98851,     0.98851,     0.98851,     0.98851,     0.98851,     0.98851,     0.98851,     0.98851,     0.98851,     0.98851,     0.98851,     0.98851,     0.98851,     0.98851,     0.98851,     0.98851,     0.98851,     0.98851,     0.98851,     0.98851,\n",
              "            0.98851,     0.98851,     0.98851,     0.98851,     0.98851,     0.98851,     0.98851,     0.98851,     0.98851,     0.98851,     0.98851,     0.98851,     0.98851,     0.98851,     0.98851,     0.98851,     0.98851,     0.98851,     0.98851,     0.98851,     0.98851,     0.98851,     0.98851,\n",
              "            0.98851,     0.98851,     0.98851,     0.98851,     0.98851,     0.97917,     0.97917,     0.97917,     0.97917,     0.97917,     0.97917,     0.97917,     0.97917,     0.97917,     0.97917,     0.97917,     0.97917,     0.97917,     0.97917,     0.97917,     0.97917,     0.97917,     0.97917,\n",
              "            0.97917,     0.97917,     0.97917,     0.97917,     0.97917,     0.97917,     0.97917,     0.97917,     0.97917,     0.97917,     0.97917,     0.97917,     0.97917,     0.97917,     0.97917,     0.97917,     0.97917,     0.97917,     0.97917,     0.97917,     0.97917,     0.97917,     0.97917,\n",
              "            0.97917,     0.97917,     0.97917,     0.97917,     0.97917,     0.97917,     0.97917,     0.97917,     0.97917,     0.97917,     0.97917,     0.97917,     0.97917,     0.97917,     0.97917,     0.97917,     0.97917,     0.97917,     0.97917,     0.97917,     0.97917,        0.95,        0.95,\n",
              "               0.95,        0.95,        0.95,        0.95,        0.95,        0.95,     0.94175,     0.94175,     0.94175,     0.94175,     0.94175,     0.94175,     0.94175,     0.94175,     0.94175,     0.94175,     0.94175,     0.94175,     0.94175,     0.94175,     0.94175,     0.94175,     0.91589,\n",
              "            0.91589,     0.91589,     0.91589,     0.91589,     0.91589,     0.91589,     0.90909,     0.90909,     0.90909,     0.90909,     0.90909,     0.90909,     0.90909,     0.90909,     0.90909,     0.90909,     0.90909,     0.90909,     0.90909,     0.90909,     0.90909,     0.90909,     0.89167,\n",
              "            0.89167,     0.89167,     0.89167,     0.89167,     0.89167,     0.89167,     0.89167,     0.89167,     0.89167,     0.89167,     0.89167,     0.89167,     0.89167,     0.89167,     0.89167,     0.89167,     0.89167,     0.89167,     0.89167,     0.89167,     0.89167,     0.89167,     0.89167,\n",
              "            0.89167,     0.89167,     0.89167,     0.89167,     0.89167,     0.89167,     0.89167,     0.89167,     0.89167,     0.89167,     0.89167,     0.89167,     0.89167,     0.89167,     0.89167,     0.89167,     0.89167,     0.89167,     0.89167,     0.89167,     0.89167,     0.89167,     0.89167,\n",
              "            0.89167,     0.89167,     0.89167,     0.89167,     0.89167,     0.89167,     0.89167,     0.89167,     0.87805,     0.87805,     0.87805,     0.87805,     0.87805,     0.87805,     0.87805,     0.85827,     0.85827,     0.85827,     0.85827,     0.85827,     0.85827,     0.85827,     0.85827,\n",
              "            0.85271,     0.85271,     0.85271,     0.85271,     0.85271,     0.85271,     0.85271,     0.85271,     0.82353,     0.82353,     0.82353,     0.82353,     0.82353,     0.82353,     0.82353,     0.82353,     0.82353,     0.82353,     0.82353,     0.82353,     0.82353,     0.82353,     0.82353,\n",
              "            0.82353,     0.81884,     0.81884,     0.81884,     0.81884,     0.81884,     0.81884,     0.81884,     0.71429,     0.71429,     0.71429,     0.71429,     0.71429,     0.71429,     0.71429,     0.71429,     0.71429,     0.71429,     0.71429,     0.71429,     0.71429,     0.71429,     0.71429,\n",
              "            0.71429,      0.6988,      0.6988,      0.6988,      0.6988,      0.6988,      0.6988,      0.6988,      0.6988,     0.69231,     0.69231,     0.69231,     0.69231,     0.69231,     0.69231,     0.69231,     0.69231,     0.65746,     0.65746,     0.65746,     0.65746,     0.65746,     0.65746,\n",
              "            0.65746,     0.65746,     0.65746,     0.65746,     0.65746,     0.65746,     0.65746,     0.65746,     0.65746,     0.47619,     0.47619,     0.47619,     0.47619,     0.47619,     0.47619,     0.47619,     0.47619,     0.44161,     0.44161,     0.44161,     0.44161,     0.44161,     0.44161,\n",
              "            0.44161,     0.44161,     0.36637,     0.36637,     0.36637,     0.36637,     0.36637,     0.36637,     0.36637,     0.36637,     0.35652,     0.35652,     0.35652,     0.35652,     0.35652,     0.35652,     0.35652,     0.31156,     0.31156,     0.31156,     0.31156,     0.31156,     0.31156,\n",
              "            0.31156,     0.31156,     0.25355,     0.25355,     0.25355,     0.25355,     0.25355,     0.25355,     0.25355,     0.25355,     0.18052,     0.18052,     0.18052,     0.18052,     0.18052,     0.18052,     0.18052,     0.18052,      0.1658,      0.1658,      0.1658,      0.1658,      0.1658,\n",
              "             0.1658,      0.1658,      0.1658,    0.040207,    0.034463,    0.028719,    0.022975,    0.017231,    0.011488,   0.0057438,           0]]), 'Recall', 'Precision'], [array([          0,    0.001001,    0.002002,    0.003003,    0.004004,    0.005005,    0.006006,    0.007007,    0.008008,    0.009009,     0.01001,    0.011011,    0.012012,    0.013013,    0.014014,    0.015015,    0.016016,    0.017017,    0.018018,    0.019019,     0.02002,    0.021021,    0.022022,    0.023023,\n",
              "          0.024024,    0.025025,    0.026026,    0.027027,    0.028028,    0.029029,     0.03003,    0.031031,    0.032032,    0.033033,    0.034034,    0.035035,    0.036036,    0.037037,    0.038038,    0.039039,     0.04004,    0.041041,    0.042042,    0.043043,    0.044044,    0.045045,    0.046046,    0.047047,\n",
              "          0.048048,    0.049049,     0.05005,    0.051051,    0.052052,    0.053053,    0.054054,    0.055055,    0.056056,    0.057057,    0.058058,    0.059059,     0.06006,    0.061061,    0.062062,    0.063063,    0.064064,    0.065065,    0.066066,    0.067067,    0.068068,    0.069069,     0.07007,    0.071071,\n",
              "          0.072072,    0.073073,    0.074074,    0.075075,    0.076076,    0.077077,    0.078078,    0.079079,     0.08008,    0.081081,    0.082082,    0.083083,    0.084084,    0.085085,    0.086086,    0.087087,    0.088088,    0.089089,     0.09009,    0.091091,    0.092092,    0.093093,    0.094094,    0.095095,\n",
              "          0.096096,    0.097097,    0.098098,    0.099099,      0.1001,      0.1011,      0.1021,      0.1031,      0.1041,     0.10511,     0.10611,     0.10711,     0.10811,     0.10911,     0.11011,     0.11111,     0.11211,     0.11311,     0.11411,     0.11512,     0.11612,     0.11712,     0.11812,     0.11912,\n",
              "           0.12012,     0.12112,     0.12212,     0.12312,     0.12412,     0.12513,     0.12613,     0.12713,     0.12813,     0.12913,     0.13013,     0.13113,     0.13213,     0.13313,     0.13413,     0.13514,     0.13614,     0.13714,     0.13814,     0.13914,     0.14014,     0.14114,     0.14214,     0.14314,\n",
              "           0.14414,     0.14515,     0.14615,     0.14715,     0.14815,     0.14915,     0.15015,     0.15115,     0.15215,     0.15315,     0.15415,     0.15516,     0.15616,     0.15716,     0.15816,     0.15916,     0.16016,     0.16116,     0.16216,     0.16316,     0.16416,     0.16517,     0.16617,     0.16717,\n",
              "           0.16817,     0.16917,     0.17017,     0.17117,     0.17217,     0.17317,     0.17417,     0.17518,     0.17618,     0.17718,     0.17818,     0.17918,     0.18018,     0.18118,     0.18218,     0.18318,     0.18418,     0.18519,     0.18619,     0.18719,     0.18819,     0.18919,     0.19019,     0.19119,\n",
              "           0.19219,     0.19319,     0.19419,      0.1952,      0.1962,      0.1972,      0.1982,      0.1992,      0.2002,      0.2012,      0.2022,      0.2032,      0.2042,     0.20521,     0.20621,     0.20721,     0.20821,     0.20921,     0.21021,     0.21121,     0.21221,     0.21321,     0.21421,     0.21522,\n",
              "           0.21622,     0.21722,     0.21822,     0.21922,     0.22022,     0.22122,     0.22222,     0.22322,     0.22422,     0.22523,     0.22623,     0.22723,     0.22823,     0.22923,     0.23023,     0.23123,     0.23223,     0.23323,     0.23423,     0.23524,     0.23624,     0.23724,     0.23824,     0.23924,\n",
              "           0.24024,     0.24124,     0.24224,     0.24324,     0.24424,     0.24525,     0.24625,     0.24725,     0.24825,     0.24925,     0.25025,     0.25125,     0.25225,     0.25325,     0.25425,     0.25526,     0.25626,     0.25726,     0.25826,     0.25926,     0.26026,     0.26126,     0.26226,     0.26326,\n",
              "           0.26426,     0.26527,     0.26627,     0.26727,     0.26827,     0.26927,     0.27027,     0.27127,     0.27227,     0.27327,     0.27427,     0.27528,     0.27628,     0.27728,     0.27828,     0.27928,     0.28028,     0.28128,     0.28228,     0.28328,     0.28428,     0.28529,     0.28629,     0.28729,\n",
              "           0.28829,     0.28929,     0.29029,     0.29129,     0.29229,     0.29329,     0.29429,      0.2953,      0.2963,      0.2973,      0.2983,      0.2993,      0.3003,      0.3013,      0.3023,      0.3033,      0.3043,     0.30531,     0.30631,     0.30731,     0.30831,     0.30931,     0.31031,     0.31131,\n",
              "           0.31231,     0.31331,     0.31431,     0.31532,     0.31632,     0.31732,     0.31832,     0.31932,     0.32032,     0.32132,     0.32232,     0.32332,     0.32432,     0.32533,     0.32633,     0.32733,     0.32833,     0.32933,     0.33033,     0.33133,     0.33233,     0.33333,     0.33433,     0.33534,\n",
              "           0.33634,     0.33734,     0.33834,     0.33934,     0.34034,     0.34134,     0.34234,     0.34334,     0.34434,     0.34535,     0.34635,     0.34735,     0.34835,     0.34935,     0.35035,     0.35135,     0.35235,     0.35335,     0.35435,     0.35536,     0.35636,     0.35736,     0.35836,     0.35936,\n",
              "           0.36036,     0.36136,     0.36236,     0.36336,     0.36436,     0.36537,     0.36637,     0.36737,     0.36837,     0.36937,     0.37037,     0.37137,     0.37237,     0.37337,     0.37437,     0.37538,     0.37638,     0.37738,     0.37838,     0.37938,     0.38038,     0.38138,     0.38238,     0.38338,\n",
              "           0.38438,     0.38539,     0.38639,     0.38739,     0.38839,     0.38939,     0.39039,     0.39139,     0.39239,     0.39339,     0.39439,      0.3954,      0.3964,      0.3974,      0.3984,      0.3994,      0.4004,      0.4014,      0.4024,      0.4034,      0.4044,     0.40541,     0.40641,     0.40741,\n",
              "           0.40841,     0.40941,     0.41041,     0.41141,     0.41241,     0.41341,     0.41441,     0.41542,     0.41642,     0.41742,     0.41842,     0.41942,     0.42042,     0.42142,     0.42242,     0.42342,     0.42442,     0.42543,     0.42643,     0.42743,     0.42843,     0.42943,     0.43043,     0.43143,\n",
              "           0.43243,     0.43343,     0.43443,     0.43544,     0.43644,     0.43744,     0.43844,     0.43944,     0.44044,     0.44144,     0.44244,     0.44344,     0.44444,     0.44545,     0.44645,     0.44745,     0.44845,     0.44945,     0.45045,     0.45145,     0.45245,     0.45345,     0.45445,     0.45546,\n",
              "           0.45646,     0.45746,     0.45846,     0.45946,     0.46046,     0.46146,     0.46246,     0.46346,     0.46446,     0.46547,     0.46647,     0.46747,     0.46847,     0.46947,     0.47047,     0.47147,     0.47247,     0.47347,     0.47447,     0.47548,     0.47648,     0.47748,     0.47848,     0.47948,\n",
              "           0.48048,     0.48148,     0.48248,     0.48348,     0.48448,     0.48549,     0.48649,     0.48749,     0.48849,     0.48949,     0.49049,     0.49149,     0.49249,     0.49349,     0.49449,      0.4955,      0.4965,      0.4975,      0.4985,      0.4995,      0.5005,      0.5015,      0.5025,      0.5035,\n",
              "            0.5045,     0.50551,     0.50651,     0.50751,     0.50851,     0.50951,     0.51051,     0.51151,     0.51251,     0.51351,     0.51451,     0.51552,     0.51652,     0.51752,     0.51852,     0.51952,     0.52052,     0.52152,     0.52252,     0.52352,     0.52452,     0.52553,     0.52653,     0.52753,\n",
              "           0.52853,     0.52953,     0.53053,     0.53153,     0.53253,     0.53353,     0.53453,     0.53554,     0.53654,     0.53754,     0.53854,     0.53954,     0.54054,     0.54154,     0.54254,     0.54354,     0.54454,     0.54555,     0.54655,     0.54755,     0.54855,     0.54955,     0.55055,     0.55155,\n",
              "           0.55255,     0.55355,     0.55455,     0.55556,     0.55656,     0.55756,     0.55856,     0.55956,     0.56056,     0.56156,     0.56256,     0.56356,     0.56456,     0.56557,     0.56657,     0.56757,     0.56857,     0.56957,     0.57057,     0.57157,     0.57257,     0.57357,     0.57457,     0.57558,\n",
              "           0.57658,     0.57758,     0.57858,     0.57958,     0.58058,     0.58158,     0.58258,     0.58358,     0.58458,     0.58559,     0.58659,     0.58759,     0.58859,     0.58959,     0.59059,     0.59159,     0.59259,     0.59359,     0.59459,      0.5956,      0.5966,      0.5976,      0.5986,      0.5996,\n",
              "            0.6006,      0.6016,      0.6026,      0.6036,      0.6046,     0.60561,     0.60661,     0.60761,     0.60861,     0.60961,     0.61061,     0.61161,     0.61261,     0.61361,     0.61461,     0.61562,     0.61662,     0.61762,     0.61862,     0.61962,     0.62062,     0.62162,     0.62262,     0.62362,\n",
              "           0.62462,     0.62563,     0.62663,     0.62763,     0.62863,     0.62963,     0.63063,     0.63163,     0.63263,     0.63363,     0.63463,     0.63564,     0.63664,     0.63764,     0.63864,     0.63964,     0.64064,     0.64164,     0.64264,     0.64364,     0.64464,     0.64565,     0.64665,     0.64765,\n",
              "           0.64865,     0.64965,     0.65065,     0.65165,     0.65265,     0.65365,     0.65465,     0.65566,     0.65666,     0.65766,     0.65866,     0.65966,     0.66066,     0.66166,     0.66266,     0.66366,     0.66466,     0.66567,     0.66667,     0.66767,     0.66867,     0.66967,     0.67067,     0.67167,\n",
              "           0.67267,     0.67367,     0.67467,     0.67568,     0.67668,     0.67768,     0.67868,     0.67968,     0.68068,     0.68168,     0.68268,     0.68368,     0.68468,     0.68569,     0.68669,     0.68769,     0.68869,     0.68969,     0.69069,     0.69169,     0.69269,     0.69369,     0.69469,      0.6957,\n",
              "            0.6967,      0.6977,      0.6987,      0.6997,      0.7007,      0.7017,      0.7027,      0.7037,      0.7047,     0.70571,     0.70671,     0.70771,     0.70871,     0.70971,     0.71071,     0.71171,     0.71271,     0.71371,     0.71471,     0.71572,     0.71672,     0.71772,     0.71872,     0.71972,\n",
              "           0.72072,     0.72172,     0.72272,     0.72372,     0.72472,     0.72573,     0.72673,     0.72773,     0.72873,     0.72973,     0.73073,     0.73173,     0.73273,     0.73373,     0.73473,     0.73574,     0.73674,     0.73774,     0.73874,     0.73974,     0.74074,     0.74174,     0.74274,     0.74374,\n",
              "           0.74474,     0.74575,     0.74675,     0.74775,     0.74875,     0.74975,     0.75075,     0.75175,     0.75275,     0.75375,     0.75475,     0.75576,     0.75676,     0.75776,     0.75876,     0.75976,     0.76076,     0.76176,     0.76276,     0.76376,     0.76476,     0.76577,     0.76677,     0.76777,\n",
              "           0.76877,     0.76977,     0.77077,     0.77177,     0.77277,     0.77377,     0.77477,     0.77578,     0.77678,     0.77778,     0.77878,     0.77978,     0.78078,     0.78178,     0.78278,     0.78378,     0.78478,     0.78579,     0.78679,     0.78779,     0.78879,     0.78979,     0.79079,     0.79179,\n",
              "           0.79279,     0.79379,     0.79479,      0.7958,      0.7968,      0.7978,      0.7988,      0.7998,      0.8008,      0.8018,      0.8028,      0.8038,      0.8048,     0.80581,     0.80681,     0.80781,     0.80881,     0.80981,     0.81081,     0.81181,     0.81281,     0.81381,     0.81481,     0.81582,\n",
              "           0.81682,     0.81782,     0.81882,     0.81982,     0.82082,     0.82182,     0.82282,     0.82382,     0.82482,     0.82583,     0.82683,     0.82783,     0.82883,     0.82983,     0.83083,     0.83183,     0.83283,     0.83383,     0.83483,     0.83584,     0.83684,     0.83784,     0.83884,     0.83984,\n",
              "           0.84084,     0.84184,     0.84284,     0.84384,     0.84484,     0.84585,     0.84685,     0.84785,     0.84885,     0.84985,     0.85085,     0.85185,     0.85285,     0.85385,     0.85485,     0.85586,     0.85686,     0.85786,     0.85886,     0.85986,     0.86086,     0.86186,     0.86286,     0.86386,\n",
              "           0.86486,     0.86587,     0.86687,     0.86787,     0.86887,     0.86987,     0.87087,     0.87187,     0.87287,     0.87387,     0.87487,     0.87588,     0.87688,     0.87788,     0.87888,     0.87988,     0.88088,     0.88188,     0.88288,     0.88388,     0.88488,     0.88589,     0.88689,     0.88789,\n",
              "           0.88889,     0.88989,     0.89089,     0.89189,     0.89289,     0.89389,     0.89489,      0.8959,      0.8969,      0.8979,      0.8989,      0.8999,      0.9009,      0.9019,      0.9029,      0.9039,      0.9049,     0.90591,     0.90691,     0.90791,     0.90891,     0.90991,     0.91091,     0.91191,\n",
              "           0.91291,     0.91391,     0.91491,     0.91592,     0.91692,     0.91792,     0.91892,     0.91992,     0.92092,     0.92192,     0.92292,     0.92392,     0.92492,     0.92593,     0.92693,     0.92793,     0.92893,     0.92993,     0.93093,     0.93193,     0.93293,     0.93393,     0.93493,     0.93594,\n",
              "           0.93694,     0.93794,     0.93894,     0.93994,     0.94094,     0.94194,     0.94294,     0.94394,     0.94494,     0.94595,     0.94695,     0.94795,     0.94895,     0.94995,     0.95095,     0.95195,     0.95295,     0.95395,     0.95495,     0.95596,     0.95696,     0.95796,     0.95896,     0.95996,\n",
              "           0.96096,     0.96196,     0.96296,     0.96396,     0.96496,     0.96597,     0.96697,     0.96797,     0.96897,     0.96997,     0.97097,     0.97197,     0.97297,     0.97397,     0.97497,     0.97598,     0.97698,     0.97798,     0.97898,     0.97998,     0.98098,     0.98198,     0.98298,     0.98398,\n",
              "           0.98498,     0.98599,     0.98699,     0.98799,     0.98899,     0.98999,     0.99099,     0.99199,     0.99299,     0.99399,     0.99499,       0.996,       0.997,       0.998,       0.999,           1]), array([[   0.085782,    0.085822,     0.12794,     0.16119,     0.18632,      0.2061,     0.22536,     0.24231,     0.25959,     0.27692,     0.28911,     0.30423,     0.31747,     0.33031,     0.34351,     0.35175,     0.35967,      0.3684,     0.37788,     0.38393,     0.39593,     0.40151,     0.40535,\n",
              "            0.41402,     0.42157,     0.42754,     0.43458,     0.44242,     0.45066,     0.45788,     0.46603,     0.47118,     0.47261,     0.47693,     0.48552,     0.49282,     0.50127,     0.50437,     0.50499,     0.50963,     0.51325,     0.51756,     0.52093,     0.52308,     0.52632,      0.5274,\n",
              "            0.52895,     0.53212,     0.53781,     0.54195,     0.54472,     0.54832,      0.5526,     0.55879,     0.56025,     0.56422,      0.5674,      0.5714,     0.57838,     0.58758,     0.59135,     0.59521,     0.60092,     0.60112,     0.59919,      0.6005,      0.6036,      0.6059,     0.60924,\n",
              "            0.61123,     0.61397,     0.61472,     0.61555,     0.61858,     0.61959,      0.6218,     0.62308,     0.62612,     0.63119,     0.62987,       0.628,     0.63068,     0.63566,     0.63986,     0.64105,     0.64501,     0.64634,     0.64888,     0.65016,     0.65322,     0.65733,      0.6577,\n",
              "            0.65795,      0.6582,     0.65845,      0.6587,     0.65895,      0.6592,     0.66029,     0.66149,     0.66233,     0.66325,     0.66435,     0.66777,       0.669,     0.66976,     0.67091,     0.67368,      0.6765,     0.67707,     0.67764,     0.67829,     0.67914,     0.67998,       0.682,\n",
              "            0.68452,     0.68585,     0.68696,     0.68825,     0.69007,     0.69091,     0.69175,     0.69262,      0.6935,     0.69548,     0.69647,     0.69714,      0.6978,     0.69908,      0.7006,     0.70233,     0.70427,     0.70463,     0.70498,     0.70533,     0.70568,     0.70603,     0.70652,\n",
              "            0.70719,     0.70786,     0.70954,     0.71174,     0.71426,     0.71727,     0.71779,     0.71831,     0.71883,     0.71932,     0.71981,     0.72029,     0.72077,     0.72131,     0.72247,     0.72353,     0.72416,     0.72479,     0.72543,      0.7261,     0.72678,     0.72747,     0.72852,\n",
              "            0.72997,     0.73196,     0.73426,     0.73934,     0.74166,     0.74287,     0.74633,     0.74828,     0.74998,     0.75146,     0.75277,      0.7534,     0.75373,     0.75406,     0.75439,     0.75471,     0.75504,     0.75537,     0.75588,      0.7566,     0.75733,       0.758,     0.75835,\n",
              "            0.75869,     0.75904,     0.75938,     0.75972,     0.76006,     0.76039,      0.7605,     0.76061,     0.76072,     0.76083,     0.76094,     0.76105,     0.76116,     0.76127,     0.76138,     0.76149,      0.7616,     0.76171,     0.76182,     0.76193,     0.76204,     0.76215,     0.76226,\n",
              "            0.76237,     0.76248,     0.76259,     0.76269,      0.7628,     0.76537,     0.76564,     0.76591,     0.76618,     0.76645,     0.76672,     0.76699,     0.76726,     0.76753,     0.76783,     0.76823,     0.76862,     0.76902,     0.76942,     0.76982,     0.77021,     0.76666,     0.76385,\n",
              "             0.7626,     0.76359,     0.76457,     0.76528,     0.76594,     0.76659,     0.76726,     0.76802,     0.76878,     0.76954,     0.77262,      0.7746,     0.77554,     0.77635,     0.77715,     0.77797,      0.7788,     0.77963,     0.78265,     0.78308,     0.78352,     0.78396,      0.7844,\n",
              "            0.78483,     0.78525,     0.78549,     0.78572,     0.78595,     0.78618,     0.78641,     0.78665,     0.78688,     0.78711,     0.78734,     0.78757,      0.7878,     0.78446,      0.7857,     0.78657,     0.78677,     0.78697,     0.78717,     0.78737,     0.78757,     0.78777,     0.78797,\n",
              "            0.78817,     0.78837,     0.78857,     0.78877,     0.78897,     0.78824,       0.785,     0.78585,      0.7867,     0.78754,     0.78793,     0.78824,     0.78854,     0.78885,     0.78915,     0.78945,     0.78976,     0.79006,     0.79037,     0.79335,     0.79414,     0.79493,     0.79572,\n",
              "            0.79452,     0.79293,     0.79042,     0.78868,     0.79054,     0.79142,      0.7923,      0.7931,     0.79363,     0.79417,      0.7947,     0.79523,     0.79576,      0.7967,     0.79766,     0.79862,     0.79977,     0.80092,      0.8043,     0.80477,     0.80524,     0.80571,     0.80618,\n",
              "            0.80665,     0.80712,     0.80747,     0.80782,     0.80816,     0.80851,     0.80885,      0.8092,     0.80954,     0.80989,     0.81038,     0.81098,     0.81159,     0.81219,     0.81279,     0.81368,     0.81466,     0.81564,     0.81717,     0.81888,     0.82027,     0.82167,     0.82279,\n",
              "            0.82387,     0.82484,     0.82506,     0.82527,     0.82548,     0.82569,      0.8259,     0.82611,     0.82632,     0.82653,     0.82674,     0.82696,     0.82717,     0.82738,     0.82759,      0.8278,     0.82819,     0.82862,     0.82905,     0.82948,     0.82991,     0.83034,     0.83077,\n",
              "            0.83169,     0.83278,     0.83387,     0.83417,      0.8344,     0.83464,     0.83488,     0.83511,     0.83535,     0.83559,     0.83582,     0.83606,     0.83629,     0.83653,     0.83676,       0.837,     0.83725,      0.8375,     0.83775,       0.838,     0.83824,     0.83849,     0.83874,\n",
              "            0.83899,     0.83924,     0.83949,     0.83974,     0.83999,     0.84341,       0.844,     0.84459,     0.84518,     0.84578,     0.84637,     0.84695,     0.84754,     0.84812,     0.84871,     0.84929,     0.84913,     0.84798,     0.84683,     0.84568,      0.8455,     0.84584,     0.84617,\n",
              "            0.84651,     0.84684,     0.84717,     0.84751,     0.84784,     0.84817,     0.84846,     0.84813,      0.8478,     0.84747,     0.84714,      0.8468,     0.84647,     0.84614,     0.84581,     0.84547,     0.84514,     0.84481,     0.84448,     0.84414,      0.8401,      0.8406,     0.84109,\n",
              "            0.84159,     0.84208,     0.84257,     0.84303,     0.84341,     0.84378,     0.84416,     0.84453,     0.84491,     0.84528,     0.84565,     0.84603,     0.84951,     0.84974,     0.84997,      0.8502,     0.85043,     0.85066,     0.85088,     0.85111,     0.85134,     0.85157,      0.8518,\n",
              "            0.85203,     0.85225,     0.85248,     0.85271,       0.853,      0.8533,     0.85359,     0.85389,     0.85418,     0.85448,     0.85477,     0.85506,     0.85536,     0.85565,     0.85594,     0.85165,     0.85181,     0.85206,     0.85231,     0.85256,     0.85281,     0.85306,     0.85331,\n",
              "            0.85356,     0.85381,     0.85406,     0.85431,     0.85456,      0.8548,     0.85389,     0.85223,     0.85056,     0.85046,     0.85053,     0.85061,     0.85068,     0.85076,     0.85083,      0.8509,     0.85098,     0.85105,     0.85112,      0.8512,     0.85127,     0.85135,     0.85142,\n",
              "            0.85149,     0.85157,     0.85164,     0.85171,     0.85179,     0.85186,     0.85194,     0.85201,     0.85208,     0.85216,     0.85223,      0.8523,     0.85238,     0.85245,     0.85252,      0.8526,     0.85267,     0.85274,     0.85282,     0.85289,     0.85297,     0.85304,     0.85311,\n",
              "            0.85319,     0.85326,     0.85333,     0.85341,     0.85348,     0.85355,     0.85363,      0.8537,      0.8542,     0.85602,     0.85738,     0.85801,     0.85863,     0.85925,     0.85987,     0.86049,     0.86016,     0.85971,     0.85927,     0.85882,     0.85837,     0.85793,     0.85748,\n",
              "            0.85703,     0.85658,     0.85613,     0.85613,     0.85631,     0.85649,     0.85667,     0.85685,     0.85703,     0.85721,     0.85739,     0.85757,     0.85775,     0.85793,     0.85811,     0.85829,     0.85847,     0.85865,     0.85883,     0.85901,     0.85919,     0.85937,     0.85957,\n",
              "            0.85979,        0.86,     0.86022,     0.86043,     0.86064,     0.86086,     0.86107,     0.86128,      0.8615,     0.86171,     0.86192,     0.86214,     0.86235,     0.86256,     0.86277,     0.86275,     0.86237,     0.86199,     0.86161,     0.86122,     0.86084,     0.86046,     0.86008,\n",
              "            0.85969,     0.85931,     0.85893,     0.85854,     0.85781,      0.8565,     0.85518,     0.85386,     0.85344,     0.85318,     0.85293,     0.85267,     0.85241,     0.85215,      0.8519,     0.85164,     0.85138,     0.85112,     0.85086,     0.85061,     0.85035,     0.85009,     0.84983,\n",
              "            0.84957,     0.84931,     0.84905,     0.84833,     0.84741,     0.84649,     0.84557,     0.84465,     0.83938,     0.83879,     0.83819,      0.8376,       0.837,     0.83641,     0.83581,     0.83521,     0.83455,     0.83356,     0.83257,     0.83159,      0.8306,     0.83002,     0.83053,\n",
              "            0.83104,     0.83155,     0.83206,     0.83257,     0.83308,     0.83371,     0.83446,     0.83521,     0.83596,      0.8367,     0.83779,     0.83893,     0.84008,     0.83804,      0.8354,     0.83509,     0.83478,     0.83447,     0.83416,     0.83385,     0.83354,     0.83323,     0.83292,\n",
              "            0.83261,     0.83229,     0.83198,     0.83167,     0.83136,     0.83105,     0.83073,     0.83056,     0.83073,      0.8309,     0.83108,     0.83125,     0.83142,     0.83159,     0.83177,     0.83194,     0.83211,     0.83228,     0.83246,     0.83263,      0.8328,     0.83297,     0.83314,\n",
              "            0.83332,     0.83349,     0.83366,     0.83383,       0.834,     0.83237,     0.83018,     0.82964,     0.83082,       0.832,     0.83689,     0.83854,     0.83954,     0.83824,     0.83692,     0.83561,     0.83452,     0.83383,     0.83314,     0.83244,     0.83175,     0.83105,     0.83036,\n",
              "            0.82971,     0.82999,     0.83028,     0.83056,     0.83084,     0.83112,     0.83141,     0.83169,     0.83197,     0.83225,     0.83253,     0.83281,     0.83309,     0.83306,     0.83117,     0.82927,     0.83207,     0.83293,     0.83379,     0.83465,      0.8355,     0.83605,     0.83659,\n",
              "            0.83712,     0.83764,     0.83817,      0.8387,     0.83923,     0.83875,     0.83814,     0.83753,     0.83693,     0.83632,     0.83571,      0.8351,     0.83449,     0.83394,      0.8335,     0.83307,     0.83263,     0.83219,     0.83175,     0.83131,     0.83087,     0.83043,     0.82999,\n",
              "            0.82956,     0.82911,     0.82855,     0.82776,     0.82697,     0.82618,     0.82539,      0.8246,      0.8238,     0.81634,     0.81237,     0.80984,     0.80723,      0.7964,     0.79684,     0.79727,      0.7977,     0.79813,     0.79856,     0.79899,     0.79942,     0.79985,     0.79903,\n",
              "            0.79754,     0.79606,     0.79457,     0.79164,     0.78863,     0.78715,     0.78567,     0.78419,     0.78153,     0.77476,     0.76548,     0.75895,     0.75739,     0.75583,     0.75426,     0.75174,     0.74856,     0.74509,     0.74148,     0.73613,     0.72253,     0.72099,     0.71945,\n",
              "            0.71791,     0.71612,     0.70912,     0.70589,     0.70262,      0.6993,     0.69571,     0.69149,     0.67691,      0.6741,     0.67127,     0.67121,     0.67308,     0.67225,     0.67043,     0.66861,     0.66678,     0.65381,     0.64671,     0.62302,     0.61928,     0.61506,     0.60838,\n",
              "            0.58847,     0.58402,     0.58118,     0.57833,     0.57369,     0.56456,     0.55275,     0.55092,     0.54909,     0.54725,       0.545,     0.51999,     0.51527,      0.5085,     0.49989,     0.49472,     0.48072,     0.47407,     0.46812,     0.46136,     0.44781,     0.44177,     0.42492,\n",
              "            0.41655,     0.41236,     0.40652,      0.3988,     0.39256,     0.38664,     0.38096,     0.36772,     0.34672,     0.33719,     0.33058,     0.32441,     0.31885,     0.30266,     0.29737,     0.29238,     0.28845,     0.28449,     0.27857,     0.25805,     0.25469,     0.25132,     0.24793,\n",
              "            0.24494,      0.2422,     0.23946,      0.2367,     0.23233,     0.22125,     0.20972,     0.20694,     0.20416,     0.20136,     0.19856,     0.19173,     0.18166,     0.17308,     0.15648,     0.15028,     0.14347,     0.13301,     0.11657,     0.11388,     0.11119,     0.10849,     0.10578,\n",
              "            0.10198,    0.094626,     0.08421,    0.073953,    0.071337,    0.068714,    0.066084,    0.063446,    0.060801,    0.059824,    0.058979,    0.058133,    0.057286,    0.056439,    0.055591,    0.054742,    0.053892,    0.053042,    0.052191,    0.051339,    0.050486,    0.049633,    0.048779,\n",
              "           0.047924,    0.047069,    0.046212,    0.043121,    0.037951,    0.032753,    0.030126,    0.029087,    0.028047,    0.027005,    0.025963,    0.024919,    0.023875,    0.022829,    0.021782,    0.020734,    0.019685,    0.018635,    0.017583,    0.016531,           0,           0,           0,\n",
              "                  0,           0,           0,           0,           0,           0,           0,           0,           0,           0,           0,           0,           0,           0,           0,           0,           0,           0,           0,           0,           0,           0,           0,\n",
              "                  0,           0,           0,           0,           0,           0,           0,           0,           0,           0,           0,           0,           0,           0,           0,           0,           0,           0,           0,           0,           0,           0,           0,\n",
              "                  0,           0,           0,           0,           0,           0,           0,           0,           0,           0,           0]]), 'Confidence', 'F1'], [array([          0,    0.001001,    0.002002,    0.003003,    0.004004,    0.005005,    0.006006,    0.007007,    0.008008,    0.009009,     0.01001,    0.011011,    0.012012,    0.013013,    0.014014,    0.015015,    0.016016,    0.017017,    0.018018,    0.019019,     0.02002,    0.021021,    0.022022,    0.023023,\n",
              "          0.024024,    0.025025,    0.026026,    0.027027,    0.028028,    0.029029,     0.03003,    0.031031,    0.032032,    0.033033,    0.034034,    0.035035,    0.036036,    0.037037,    0.038038,    0.039039,     0.04004,    0.041041,    0.042042,    0.043043,    0.044044,    0.045045,    0.046046,    0.047047,\n",
              "          0.048048,    0.049049,     0.05005,    0.051051,    0.052052,    0.053053,    0.054054,    0.055055,    0.056056,    0.057057,    0.058058,    0.059059,     0.06006,    0.061061,    0.062062,    0.063063,    0.064064,    0.065065,    0.066066,    0.067067,    0.068068,    0.069069,     0.07007,    0.071071,\n",
              "          0.072072,    0.073073,    0.074074,    0.075075,    0.076076,    0.077077,    0.078078,    0.079079,     0.08008,    0.081081,    0.082082,    0.083083,    0.084084,    0.085085,    0.086086,    0.087087,    0.088088,    0.089089,     0.09009,    0.091091,    0.092092,    0.093093,    0.094094,    0.095095,\n",
              "          0.096096,    0.097097,    0.098098,    0.099099,      0.1001,      0.1011,      0.1021,      0.1031,      0.1041,     0.10511,     0.10611,     0.10711,     0.10811,     0.10911,     0.11011,     0.11111,     0.11211,     0.11311,     0.11411,     0.11512,     0.11612,     0.11712,     0.11812,     0.11912,\n",
              "           0.12012,     0.12112,     0.12212,     0.12312,     0.12412,     0.12513,     0.12613,     0.12713,     0.12813,     0.12913,     0.13013,     0.13113,     0.13213,     0.13313,     0.13413,     0.13514,     0.13614,     0.13714,     0.13814,     0.13914,     0.14014,     0.14114,     0.14214,     0.14314,\n",
              "           0.14414,     0.14515,     0.14615,     0.14715,     0.14815,     0.14915,     0.15015,     0.15115,     0.15215,     0.15315,     0.15415,     0.15516,     0.15616,     0.15716,     0.15816,     0.15916,     0.16016,     0.16116,     0.16216,     0.16316,     0.16416,     0.16517,     0.16617,     0.16717,\n",
              "           0.16817,     0.16917,     0.17017,     0.17117,     0.17217,     0.17317,     0.17417,     0.17518,     0.17618,     0.17718,     0.17818,     0.17918,     0.18018,     0.18118,     0.18218,     0.18318,     0.18418,     0.18519,     0.18619,     0.18719,     0.18819,     0.18919,     0.19019,     0.19119,\n",
              "           0.19219,     0.19319,     0.19419,      0.1952,      0.1962,      0.1972,      0.1982,      0.1992,      0.2002,      0.2012,      0.2022,      0.2032,      0.2042,     0.20521,     0.20621,     0.20721,     0.20821,     0.20921,     0.21021,     0.21121,     0.21221,     0.21321,     0.21421,     0.21522,\n",
              "           0.21622,     0.21722,     0.21822,     0.21922,     0.22022,     0.22122,     0.22222,     0.22322,     0.22422,     0.22523,     0.22623,     0.22723,     0.22823,     0.22923,     0.23023,     0.23123,     0.23223,     0.23323,     0.23423,     0.23524,     0.23624,     0.23724,     0.23824,     0.23924,\n",
              "           0.24024,     0.24124,     0.24224,     0.24324,     0.24424,     0.24525,     0.24625,     0.24725,     0.24825,     0.24925,     0.25025,     0.25125,     0.25225,     0.25325,     0.25425,     0.25526,     0.25626,     0.25726,     0.25826,     0.25926,     0.26026,     0.26126,     0.26226,     0.26326,\n",
              "           0.26426,     0.26527,     0.26627,     0.26727,     0.26827,     0.26927,     0.27027,     0.27127,     0.27227,     0.27327,     0.27427,     0.27528,     0.27628,     0.27728,     0.27828,     0.27928,     0.28028,     0.28128,     0.28228,     0.28328,     0.28428,     0.28529,     0.28629,     0.28729,\n",
              "           0.28829,     0.28929,     0.29029,     0.29129,     0.29229,     0.29329,     0.29429,      0.2953,      0.2963,      0.2973,      0.2983,      0.2993,      0.3003,      0.3013,      0.3023,      0.3033,      0.3043,     0.30531,     0.30631,     0.30731,     0.30831,     0.30931,     0.31031,     0.31131,\n",
              "           0.31231,     0.31331,     0.31431,     0.31532,     0.31632,     0.31732,     0.31832,     0.31932,     0.32032,     0.32132,     0.32232,     0.32332,     0.32432,     0.32533,     0.32633,     0.32733,     0.32833,     0.32933,     0.33033,     0.33133,     0.33233,     0.33333,     0.33433,     0.33534,\n",
              "           0.33634,     0.33734,     0.33834,     0.33934,     0.34034,     0.34134,     0.34234,     0.34334,     0.34434,     0.34535,     0.34635,     0.34735,     0.34835,     0.34935,     0.35035,     0.35135,     0.35235,     0.35335,     0.35435,     0.35536,     0.35636,     0.35736,     0.35836,     0.35936,\n",
              "           0.36036,     0.36136,     0.36236,     0.36336,     0.36436,     0.36537,     0.36637,     0.36737,     0.36837,     0.36937,     0.37037,     0.37137,     0.37237,     0.37337,     0.37437,     0.37538,     0.37638,     0.37738,     0.37838,     0.37938,     0.38038,     0.38138,     0.38238,     0.38338,\n",
              "           0.38438,     0.38539,     0.38639,     0.38739,     0.38839,     0.38939,     0.39039,     0.39139,     0.39239,     0.39339,     0.39439,      0.3954,      0.3964,      0.3974,      0.3984,      0.3994,      0.4004,      0.4014,      0.4024,      0.4034,      0.4044,     0.40541,     0.40641,     0.40741,\n",
              "           0.40841,     0.40941,     0.41041,     0.41141,     0.41241,     0.41341,     0.41441,     0.41542,     0.41642,     0.41742,     0.41842,     0.41942,     0.42042,     0.42142,     0.42242,     0.42342,     0.42442,     0.42543,     0.42643,     0.42743,     0.42843,     0.42943,     0.43043,     0.43143,\n",
              "           0.43243,     0.43343,     0.43443,     0.43544,     0.43644,     0.43744,     0.43844,     0.43944,     0.44044,     0.44144,     0.44244,     0.44344,     0.44444,     0.44545,     0.44645,     0.44745,     0.44845,     0.44945,     0.45045,     0.45145,     0.45245,     0.45345,     0.45445,     0.45546,\n",
              "           0.45646,     0.45746,     0.45846,     0.45946,     0.46046,     0.46146,     0.46246,     0.46346,     0.46446,     0.46547,     0.46647,     0.46747,     0.46847,     0.46947,     0.47047,     0.47147,     0.47247,     0.47347,     0.47447,     0.47548,     0.47648,     0.47748,     0.47848,     0.47948,\n",
              "           0.48048,     0.48148,     0.48248,     0.48348,     0.48448,     0.48549,     0.48649,     0.48749,     0.48849,     0.48949,     0.49049,     0.49149,     0.49249,     0.49349,     0.49449,      0.4955,      0.4965,      0.4975,      0.4985,      0.4995,      0.5005,      0.5015,      0.5025,      0.5035,\n",
              "            0.5045,     0.50551,     0.50651,     0.50751,     0.50851,     0.50951,     0.51051,     0.51151,     0.51251,     0.51351,     0.51451,     0.51552,     0.51652,     0.51752,     0.51852,     0.51952,     0.52052,     0.52152,     0.52252,     0.52352,     0.52452,     0.52553,     0.52653,     0.52753,\n",
              "           0.52853,     0.52953,     0.53053,     0.53153,     0.53253,     0.53353,     0.53453,     0.53554,     0.53654,     0.53754,     0.53854,     0.53954,     0.54054,     0.54154,     0.54254,     0.54354,     0.54454,     0.54555,     0.54655,     0.54755,     0.54855,     0.54955,     0.55055,     0.55155,\n",
              "           0.55255,     0.55355,     0.55455,     0.55556,     0.55656,     0.55756,     0.55856,     0.55956,     0.56056,     0.56156,     0.56256,     0.56356,     0.56456,     0.56557,     0.56657,     0.56757,     0.56857,     0.56957,     0.57057,     0.57157,     0.57257,     0.57357,     0.57457,     0.57558,\n",
              "           0.57658,     0.57758,     0.57858,     0.57958,     0.58058,     0.58158,     0.58258,     0.58358,     0.58458,     0.58559,     0.58659,     0.58759,     0.58859,     0.58959,     0.59059,     0.59159,     0.59259,     0.59359,     0.59459,      0.5956,      0.5966,      0.5976,      0.5986,      0.5996,\n",
              "            0.6006,      0.6016,      0.6026,      0.6036,      0.6046,     0.60561,     0.60661,     0.60761,     0.60861,     0.60961,     0.61061,     0.61161,     0.61261,     0.61361,     0.61461,     0.61562,     0.61662,     0.61762,     0.61862,     0.61962,     0.62062,     0.62162,     0.62262,     0.62362,\n",
              "           0.62462,     0.62563,     0.62663,     0.62763,     0.62863,     0.62963,     0.63063,     0.63163,     0.63263,     0.63363,     0.63463,     0.63564,     0.63664,     0.63764,     0.63864,     0.63964,     0.64064,     0.64164,     0.64264,     0.64364,     0.64464,     0.64565,     0.64665,     0.64765,\n",
              "           0.64865,     0.64965,     0.65065,     0.65165,     0.65265,     0.65365,     0.65465,     0.65566,     0.65666,     0.65766,     0.65866,     0.65966,     0.66066,     0.66166,     0.66266,     0.66366,     0.66466,     0.66567,     0.66667,     0.66767,     0.66867,     0.66967,     0.67067,     0.67167,\n",
              "           0.67267,     0.67367,     0.67467,     0.67568,     0.67668,     0.67768,     0.67868,     0.67968,     0.68068,     0.68168,     0.68268,     0.68368,     0.68468,     0.68569,     0.68669,     0.68769,     0.68869,     0.68969,     0.69069,     0.69169,     0.69269,     0.69369,     0.69469,      0.6957,\n",
              "            0.6967,      0.6977,      0.6987,      0.6997,      0.7007,      0.7017,      0.7027,      0.7037,      0.7047,     0.70571,     0.70671,     0.70771,     0.70871,     0.70971,     0.71071,     0.71171,     0.71271,     0.71371,     0.71471,     0.71572,     0.71672,     0.71772,     0.71872,     0.71972,\n",
              "           0.72072,     0.72172,     0.72272,     0.72372,     0.72472,     0.72573,     0.72673,     0.72773,     0.72873,     0.72973,     0.73073,     0.73173,     0.73273,     0.73373,     0.73473,     0.73574,     0.73674,     0.73774,     0.73874,     0.73974,     0.74074,     0.74174,     0.74274,     0.74374,\n",
              "           0.74474,     0.74575,     0.74675,     0.74775,     0.74875,     0.74975,     0.75075,     0.75175,     0.75275,     0.75375,     0.75475,     0.75576,     0.75676,     0.75776,     0.75876,     0.75976,     0.76076,     0.76176,     0.76276,     0.76376,     0.76476,     0.76577,     0.76677,     0.76777,\n",
              "           0.76877,     0.76977,     0.77077,     0.77177,     0.77277,     0.77377,     0.77477,     0.77578,     0.77678,     0.77778,     0.77878,     0.77978,     0.78078,     0.78178,     0.78278,     0.78378,     0.78478,     0.78579,     0.78679,     0.78779,     0.78879,     0.78979,     0.79079,     0.79179,\n",
              "           0.79279,     0.79379,     0.79479,      0.7958,      0.7968,      0.7978,      0.7988,      0.7998,      0.8008,      0.8018,      0.8028,      0.8038,      0.8048,     0.80581,     0.80681,     0.80781,     0.80881,     0.80981,     0.81081,     0.81181,     0.81281,     0.81381,     0.81481,     0.81582,\n",
              "           0.81682,     0.81782,     0.81882,     0.81982,     0.82082,     0.82182,     0.82282,     0.82382,     0.82482,     0.82583,     0.82683,     0.82783,     0.82883,     0.82983,     0.83083,     0.83183,     0.83283,     0.83383,     0.83483,     0.83584,     0.83684,     0.83784,     0.83884,     0.83984,\n",
              "           0.84084,     0.84184,     0.84284,     0.84384,     0.84484,     0.84585,     0.84685,     0.84785,     0.84885,     0.84985,     0.85085,     0.85185,     0.85285,     0.85385,     0.85485,     0.85586,     0.85686,     0.85786,     0.85886,     0.85986,     0.86086,     0.86186,     0.86286,     0.86386,\n",
              "           0.86486,     0.86587,     0.86687,     0.86787,     0.86887,     0.86987,     0.87087,     0.87187,     0.87287,     0.87387,     0.87487,     0.87588,     0.87688,     0.87788,     0.87888,     0.87988,     0.88088,     0.88188,     0.88288,     0.88388,     0.88488,     0.88589,     0.88689,     0.88789,\n",
              "           0.88889,     0.88989,     0.89089,     0.89189,     0.89289,     0.89389,     0.89489,      0.8959,      0.8969,      0.8979,      0.8989,      0.8999,      0.9009,      0.9019,      0.9029,      0.9039,      0.9049,     0.90591,     0.90691,     0.90791,     0.90891,     0.90991,     0.91091,     0.91191,\n",
              "           0.91291,     0.91391,     0.91491,     0.91592,     0.91692,     0.91792,     0.91892,     0.91992,     0.92092,     0.92192,     0.92292,     0.92392,     0.92492,     0.92593,     0.92693,     0.92793,     0.92893,     0.92993,     0.93093,     0.93193,     0.93293,     0.93393,     0.93493,     0.93594,\n",
              "           0.93694,     0.93794,     0.93894,     0.93994,     0.94094,     0.94194,     0.94294,     0.94394,     0.94494,     0.94595,     0.94695,     0.94795,     0.94895,     0.94995,     0.95095,     0.95195,     0.95295,     0.95395,     0.95495,     0.95596,     0.95696,     0.95796,     0.95896,     0.95996,\n",
              "           0.96096,     0.96196,     0.96296,     0.96396,     0.96496,     0.96597,     0.96697,     0.96797,     0.96897,     0.96997,     0.97097,     0.97197,     0.97297,     0.97397,     0.97497,     0.97598,     0.97698,     0.97798,     0.97898,     0.97998,     0.98098,     0.98198,     0.98298,     0.98398,\n",
              "           0.98498,     0.98599,     0.98699,     0.98799,     0.98899,     0.98999,     0.99099,     0.99199,     0.99299,     0.99399,     0.99499,       0.996,       0.997,       0.998,       0.999,           1]), array([[   0.044829,    0.044851,    0.068376,    0.087722,     0.10281,       0.115,     0.12711,     0.13801,     0.14933,     0.16092,     0.16944,     0.18018,     0.18955,     0.19877,     0.20841,     0.21451,     0.22043,     0.22702,     0.23427,     0.23893,      0.2483,      0.2527,      0.2563,\n",
              "            0.26326,     0.26941,      0.2743,     0.28012,     0.28667,     0.29362,     0.29979,     0.30682,     0.31138,     0.31337,     0.31718,     0.32482,     0.33139,     0.33907,     0.34192,     0.34248,     0.34677,     0.35013,     0.35415,     0.35841,     0.36045,     0.36353,     0.36572,\n",
              "            0.36721,     0.37028,     0.37581,     0.37987,      0.3826,     0.38616,     0.39041,     0.39662,     0.39809,     0.40211,     0.40535,     0.40944,     0.41665,     0.42627,     0.43024,     0.43435,     0.44046,      0.4411,      0.4403,     0.44172,     0.44508,     0.44758,     0.45124,\n",
              "            0.45343,     0.45645,     0.45727,      0.4582,     0.46156,     0.46269,     0.46516,     0.46659,     0.47001,     0.47575,     0.47521,     0.47412,      0.4772,     0.48293,     0.48779,     0.48918,      0.4938,     0.49537,     0.49836,     0.49987,     0.50349,     0.50839,     0.50884,\n",
              "            0.50914,     0.50944,     0.50974,     0.51003,     0.51033,     0.51063,     0.51194,     0.51339,      0.5144,     0.51551,     0.51684,     0.52099,      0.5225,     0.52342,     0.52483,     0.52822,      0.5317,     0.53241,     0.53311,     0.53391,     0.53496,     0.53602,     0.53853,\n",
              "            0.54167,     0.54334,     0.54474,     0.54637,     0.54866,     0.54972,     0.55079,     0.55189,       0.553,     0.55553,      0.5568,     0.55765,      0.5585,     0.56014,     0.56209,     0.56432,     0.56684,     0.56729,     0.56775,     0.56821,     0.56866,     0.56912,     0.56975,\n",
              "            0.57062,     0.57149,     0.57369,     0.57657,     0.57988,     0.58386,     0.58455,     0.58524,     0.58593,     0.58659,     0.58724,     0.58788,     0.58852,     0.58924,     0.59079,      0.5922,     0.59305,      0.5939,     0.59476,     0.59566,     0.59658,      0.5975,     0.59892,\n",
              "            0.60088,     0.60359,     0.60672,     0.61369,     0.61689,     0.61857,     0.62338,     0.62611,     0.62849,     0.63058,     0.63242,      0.6333,     0.63377,     0.63424,      0.6347,     0.63517,     0.63564,     0.63611,     0.63682,     0.63785,     0.63888,     0.63985,     0.64034,\n",
              "            0.64083,     0.64132,     0.64181,      0.6423,     0.64279,     0.64325,     0.64341,     0.64357,     0.64373,     0.64388,     0.64404,      0.6442,     0.64436,     0.64451,     0.64467,     0.64483,     0.64499,     0.64514,      0.6453,     0.64546,     0.64561,     0.64577,     0.64593,\n",
              "            0.64609,     0.64624,      0.6464,     0.64656,     0.64672,     0.65041,      0.6508,     0.65119,     0.65158,     0.65197,     0.65237,     0.65276,     0.65315,     0.65354,     0.65397,     0.65455,     0.65513,     0.65571,     0.65628,     0.65686,     0.65744,     0.65576,     0.65442,\n",
              "             0.6542,     0.65566,     0.65711,     0.65815,     0.65912,      0.6601,     0.66108,     0.66222,     0.66335,     0.66448,     0.66908,     0.67206,     0.67348,     0.67469,     0.67591,     0.67715,     0.67841,     0.67967,     0.68427,     0.68494,     0.68561,     0.68628,     0.68695,\n",
              "            0.68762,     0.68826,     0.68862,     0.68898,     0.68934,     0.68969,     0.69005,     0.69041,     0.69076,     0.69112,     0.69148,     0.69184,     0.69219,     0.69078,     0.69346,     0.69482,     0.69513,     0.69544,     0.69576,     0.69607,     0.69638,     0.69669,       0.697,\n",
              "            0.69732,     0.69763,     0.69794,     0.69825,     0.69857,     0.69841,     0.69699,     0.69834,     0.69968,     0.70102,     0.70163,     0.70211,      0.7026,     0.70308,     0.70357,     0.70405,     0.70453,     0.70502,      0.7055,     0.71028,     0.71154,     0.71281,     0.71407,\n",
              "            0.71372,     0.71304,     0.71196,      0.7127,     0.71573,     0.71718,     0.71862,     0.71994,     0.72082,      0.7217,     0.72257,     0.72345,     0.72433,      0.7259,     0.72749,     0.72909,     0.73101,     0.73294,     0.73861,     0.73941,      0.7402,       0.741,     0.74179,\n",
              "            0.74259,     0.74338,     0.74398,     0.74457,     0.74515,     0.74574,     0.74633,     0.74691,      0.7475,     0.74809,     0.74893,     0.74996,       0.751,     0.75203,     0.75306,     0.75458,     0.75627,     0.75796,     0.76061,     0.76358,     0.76601,     0.76844,      0.7704,\n",
              "             0.7723,     0.77402,     0.77439,     0.77476,     0.77514,     0.77551,     0.77588,     0.77625,     0.77663,       0.777,     0.77737,     0.77775,     0.77812,     0.77849,     0.77886,     0.77924,     0.77993,     0.78069,     0.78146,     0.78223,     0.78299,     0.78376,     0.78453,\n",
              "            0.78617,     0.78812,     0.79007,      0.7906,     0.79103,     0.79145,     0.79188,     0.79231,     0.79273,     0.79316,     0.79358,     0.79401,     0.79443,     0.79486,     0.79528,     0.79571,     0.79615,     0.79661,     0.79706,     0.79751,     0.79796,     0.79841,     0.79886,\n",
              "            0.79932,     0.79977,     0.80022,     0.80067,     0.80112,     0.80737,     0.80845,     0.80954,     0.81063,     0.81172,     0.81281,     0.81389,     0.81498,     0.81606,     0.81714,     0.81823,     0.81869,     0.81834,     0.81799,     0.81764,     0.81793,     0.81855,     0.81918,\n",
              "            0.81981,     0.82044,     0.82106,     0.82169,     0.82232,     0.82295,     0.82352,     0.82342,     0.82332,     0.82323,     0.82313,     0.82303,     0.82293,     0.82283,     0.82273,     0.82263,     0.82253,     0.82243,     0.82233,     0.82223,     0.82168,     0.82262,     0.82357,\n",
              "            0.82452,     0.82547,     0.82642,      0.8273,     0.82802,     0.82874,     0.82947,     0.83019,     0.83092,     0.83164,     0.83237,     0.83309,     0.83987,     0.84032,     0.84077,     0.84122,     0.84166,     0.84211,     0.84256,     0.84301,     0.84346,      0.8439,     0.84435,\n",
              "             0.8448,     0.84525,      0.8457,     0.84615,     0.84672,     0.84731,     0.84789,     0.84847,     0.84905,     0.84963,     0.85021,     0.85079,     0.85138,     0.85196,     0.85254,     0.85159,     0.85206,     0.85256,     0.85306,     0.85356,     0.85406,     0.85456,     0.85506,\n",
              "            0.85556,     0.85607,     0.85657,     0.85707,     0.85757,     0.85807,     0.85802,      0.8576,     0.85719,     0.85728,     0.85743,     0.85758,     0.85773,     0.85788,     0.85803,     0.85818,     0.85833,     0.85848,     0.85863,     0.85878,     0.85893,     0.85908,     0.85923,\n",
              "            0.85938,     0.85953,     0.85968,     0.85983,     0.85998,     0.86013,     0.86028,     0.86043,     0.86058,     0.86073,     0.86088,     0.86103,     0.86118,     0.86133,     0.86148,     0.86163,     0.86178,     0.86193,     0.86208,     0.86223,     0.86238,     0.86253,     0.86268,\n",
              "            0.86283,     0.86299,     0.86314,     0.86329,     0.86344,     0.86359,     0.86374,     0.86389,     0.86491,     0.86866,     0.87146,     0.87275,     0.87404,     0.87533,     0.87662,     0.87791,     0.87796,     0.87786,     0.87777,     0.87767,     0.87757,     0.87747,     0.87737,\n",
              "            0.87727,     0.87718,     0.87708,     0.87732,      0.8777,     0.87808,     0.87846,     0.87884,     0.87922,      0.8796,     0.87998,     0.88036,     0.88074,     0.88112,      0.8815,     0.88188,     0.88226,     0.88264,     0.88302,      0.8834,     0.88378,     0.88416,     0.88459,\n",
              "            0.88504,     0.88549,     0.88595,      0.8864,     0.88685,     0.88731,     0.88776,     0.88822,     0.88867,     0.88912,     0.88958,     0.89003,     0.89048,     0.89094,     0.89139,     0.89164,     0.89156,     0.89149,     0.89141,     0.89133,     0.89126,     0.89118,     0.89111,\n",
              "            0.89103,     0.89096,     0.89088,      0.8908,     0.89066,      0.8904,     0.89013,     0.88987,     0.88979,     0.88973,     0.88968,     0.88963,     0.88958,     0.88953,     0.88948,     0.88942,     0.88937,     0.88932,     0.88927,     0.88922,     0.88916,     0.88911,     0.88906,\n",
              "            0.88901,     0.88896,      0.8889,     0.88876,     0.88857,     0.88838,      0.8882,     0.88801,     0.88693,     0.88681,     0.88668,     0.88656,     0.88644,     0.88631,     0.88619,     0.88607,     0.88593,     0.88572,     0.88552,     0.88531,     0.88511,     0.88528,     0.88644,\n",
              "            0.88761,     0.88878,     0.88994,     0.89111,     0.89228,     0.89372,     0.89545,     0.89717,      0.8989,     0.90062,     0.90314,     0.90582,     0.90849,      0.9087,     0.90825,      0.9082,     0.90814,     0.90809,     0.90804,     0.90798,     0.90793,     0.90787,     0.90782,\n",
              "            0.90777,     0.90771,     0.90766,     0.90761,     0.90755,      0.9075,     0.90745,     0.90752,     0.90794,     0.90835,     0.90876,     0.90918,     0.90959,        0.91,     0.91042,     0.91083,     0.91124,     0.91166,     0.91207,     0.91248,      0.9129,     0.91331,     0.91372,\n",
              "            0.91414,     0.91455,     0.91497,     0.91538,     0.91579,     0.91562,     0.91527,     0.91651,     0.91939,     0.92228,     0.93439,     0.93851,     0.94172,     0.94157,     0.94142,     0.94127,     0.94115,     0.94107,     0.94099,     0.94091,     0.94083,     0.94075,     0.94067,\n",
              "            0.94063,     0.94136,     0.94209,     0.94282,     0.94355,     0.94428,       0.945,     0.94573,     0.94646,     0.94719,     0.94792,     0.94865,     0.94938,     0.94997,     0.94979,      0.9496,     0.95975,     0.96204,     0.96434,     0.96663,     0.96893,     0.97041,     0.97185,\n",
              "            0.97328,     0.97471,     0.97614,     0.97758,     0.97901,     0.97914,     0.97912,     0.97909,     0.97907,     0.97904,     0.97902,     0.97899,     0.97896,     0.97894,     0.97892,      0.9789,     0.97889,     0.97887,     0.97885,     0.97883,     0.97881,     0.97879,     0.97877,\n",
              "            0.97875,     0.97874,     0.97871,     0.97868,     0.97864,     0.97861,     0.97857,     0.97854,     0.97851,     0.97818,       0.978,     0.97789,     0.97777,     0.97759,      0.9789,     0.98021,     0.98152,     0.98283,     0.98413,     0.98544,     0.98675,     0.98806,     0.98848,\n",
              "            0.98845,     0.98841,     0.98838,     0.98831,     0.98823,      0.9882,     0.98816,     0.98812,     0.98806,     0.98789,     0.98765,     0.98748,     0.98744,      0.9874,     0.98736,     0.98729,     0.98721,     0.98711,     0.98701,     0.98687,     0.98648,     0.98643,     0.98639,\n",
              "            0.98634,     0.98629,     0.98608,     0.98599,     0.98589,     0.98579,     0.98567,     0.98554,     0.98507,     0.98498,     0.98489,     0.98965,     0.99781,           1,           1,           1,           1,           1,           1,           1,           1,           1,           1,\n",
              "                  1,           1,           1,           1,           1,           1,           1,           1,           1,           1,           1,           1,           1,           1,           1,           1,           1,           1,           1,           1,           1,           1,           1,\n",
              "                  1,           1,           1,           1,           1,           1,           1,           1,           1,           1,           1,           1,           1,           1,           1,           1,           1,           1,           1,           1,           1,           1,           1,\n",
              "                  1,           1,           1,           1,           1,           1,           1,           1,           1,           1,           1,           1,           1,           1,           1,           1,           1,           1,           1,           1,           1,           1,           1,\n",
              "                  1,           1,           1,           1,           1,           1,           1,           1,           1,           1,           1,           1,           1,           1,           1,           1,           1,           1,           1,           1,           1,           1,           1,\n",
              "                  1,           1,           1,           1,           1,           1,           1,           1,           1,           1,           1,           1,           1,           1,           1,           1,           1,           1,           1,           1,           1,           1,           1,\n",
              "                  1,           1,           1,           1,           1,           1,           1,           1,           1,           1,           1,           1,           1,           1,           1,           1,           1,           1,           1,           1,           1,           1,           1,\n",
              "                  1,           1,           1,           1,           1,           1,           1,           1,           1,           1,           1,           1,           1,           1,           1,           1,           1,           1,           1,           1,           1,           1,           1,\n",
              "                  1,           1,           1,           1,           1,           1,           1,           1,           1,           1,           1]]), 'Confidence', 'Precision'], [array([          0,    0.001001,    0.002002,    0.003003,    0.004004,    0.005005,    0.006006,    0.007007,    0.008008,    0.009009,     0.01001,    0.011011,    0.012012,    0.013013,    0.014014,    0.015015,    0.016016,    0.017017,    0.018018,    0.019019,     0.02002,    0.021021,    0.022022,    0.023023,\n",
              "          0.024024,    0.025025,    0.026026,    0.027027,    0.028028,    0.029029,     0.03003,    0.031031,    0.032032,    0.033033,    0.034034,    0.035035,    0.036036,    0.037037,    0.038038,    0.039039,     0.04004,    0.041041,    0.042042,    0.043043,    0.044044,    0.045045,    0.046046,    0.047047,\n",
              "          0.048048,    0.049049,     0.05005,    0.051051,    0.052052,    0.053053,    0.054054,    0.055055,    0.056056,    0.057057,    0.058058,    0.059059,     0.06006,    0.061061,    0.062062,    0.063063,    0.064064,    0.065065,    0.066066,    0.067067,    0.068068,    0.069069,     0.07007,    0.071071,\n",
              "          0.072072,    0.073073,    0.074074,    0.075075,    0.076076,    0.077077,    0.078078,    0.079079,     0.08008,    0.081081,    0.082082,    0.083083,    0.084084,    0.085085,    0.086086,    0.087087,    0.088088,    0.089089,     0.09009,    0.091091,    0.092092,    0.093093,    0.094094,    0.095095,\n",
              "          0.096096,    0.097097,    0.098098,    0.099099,      0.1001,      0.1011,      0.1021,      0.1031,      0.1041,     0.10511,     0.10611,     0.10711,     0.10811,     0.10911,     0.11011,     0.11111,     0.11211,     0.11311,     0.11411,     0.11512,     0.11612,     0.11712,     0.11812,     0.11912,\n",
              "           0.12012,     0.12112,     0.12212,     0.12312,     0.12412,     0.12513,     0.12613,     0.12713,     0.12813,     0.12913,     0.13013,     0.13113,     0.13213,     0.13313,     0.13413,     0.13514,     0.13614,     0.13714,     0.13814,     0.13914,     0.14014,     0.14114,     0.14214,     0.14314,\n",
              "           0.14414,     0.14515,     0.14615,     0.14715,     0.14815,     0.14915,     0.15015,     0.15115,     0.15215,     0.15315,     0.15415,     0.15516,     0.15616,     0.15716,     0.15816,     0.15916,     0.16016,     0.16116,     0.16216,     0.16316,     0.16416,     0.16517,     0.16617,     0.16717,\n",
              "           0.16817,     0.16917,     0.17017,     0.17117,     0.17217,     0.17317,     0.17417,     0.17518,     0.17618,     0.17718,     0.17818,     0.17918,     0.18018,     0.18118,     0.18218,     0.18318,     0.18418,     0.18519,     0.18619,     0.18719,     0.18819,     0.18919,     0.19019,     0.19119,\n",
              "           0.19219,     0.19319,     0.19419,      0.1952,      0.1962,      0.1972,      0.1982,      0.1992,      0.2002,      0.2012,      0.2022,      0.2032,      0.2042,     0.20521,     0.20621,     0.20721,     0.20821,     0.20921,     0.21021,     0.21121,     0.21221,     0.21321,     0.21421,     0.21522,\n",
              "           0.21622,     0.21722,     0.21822,     0.21922,     0.22022,     0.22122,     0.22222,     0.22322,     0.22422,     0.22523,     0.22623,     0.22723,     0.22823,     0.22923,     0.23023,     0.23123,     0.23223,     0.23323,     0.23423,     0.23524,     0.23624,     0.23724,     0.23824,     0.23924,\n",
              "           0.24024,     0.24124,     0.24224,     0.24324,     0.24424,     0.24525,     0.24625,     0.24725,     0.24825,     0.24925,     0.25025,     0.25125,     0.25225,     0.25325,     0.25425,     0.25526,     0.25626,     0.25726,     0.25826,     0.25926,     0.26026,     0.26126,     0.26226,     0.26326,\n",
              "           0.26426,     0.26527,     0.26627,     0.26727,     0.26827,     0.26927,     0.27027,     0.27127,     0.27227,     0.27327,     0.27427,     0.27528,     0.27628,     0.27728,     0.27828,     0.27928,     0.28028,     0.28128,     0.28228,     0.28328,     0.28428,     0.28529,     0.28629,     0.28729,\n",
              "           0.28829,     0.28929,     0.29029,     0.29129,     0.29229,     0.29329,     0.29429,      0.2953,      0.2963,      0.2973,      0.2983,      0.2993,      0.3003,      0.3013,      0.3023,      0.3033,      0.3043,     0.30531,     0.30631,     0.30731,     0.30831,     0.30931,     0.31031,     0.31131,\n",
              "           0.31231,     0.31331,     0.31431,     0.31532,     0.31632,     0.31732,     0.31832,     0.31932,     0.32032,     0.32132,     0.32232,     0.32332,     0.32432,     0.32533,     0.32633,     0.32733,     0.32833,     0.32933,     0.33033,     0.33133,     0.33233,     0.33333,     0.33433,     0.33534,\n",
              "           0.33634,     0.33734,     0.33834,     0.33934,     0.34034,     0.34134,     0.34234,     0.34334,     0.34434,     0.34535,     0.34635,     0.34735,     0.34835,     0.34935,     0.35035,     0.35135,     0.35235,     0.35335,     0.35435,     0.35536,     0.35636,     0.35736,     0.35836,     0.35936,\n",
              "           0.36036,     0.36136,     0.36236,     0.36336,     0.36436,     0.36537,     0.36637,     0.36737,     0.36837,     0.36937,     0.37037,     0.37137,     0.37237,     0.37337,     0.37437,     0.37538,     0.37638,     0.37738,     0.37838,     0.37938,     0.38038,     0.38138,     0.38238,     0.38338,\n",
              "           0.38438,     0.38539,     0.38639,     0.38739,     0.38839,     0.38939,     0.39039,     0.39139,     0.39239,     0.39339,     0.39439,      0.3954,      0.3964,      0.3974,      0.3984,      0.3994,      0.4004,      0.4014,      0.4024,      0.4034,      0.4044,     0.40541,     0.40641,     0.40741,\n",
              "           0.40841,     0.40941,     0.41041,     0.41141,     0.41241,     0.41341,     0.41441,     0.41542,     0.41642,     0.41742,     0.41842,     0.41942,     0.42042,     0.42142,     0.42242,     0.42342,     0.42442,     0.42543,     0.42643,     0.42743,     0.42843,     0.42943,     0.43043,     0.43143,\n",
              "           0.43243,     0.43343,     0.43443,     0.43544,     0.43644,     0.43744,     0.43844,     0.43944,     0.44044,     0.44144,     0.44244,     0.44344,     0.44444,     0.44545,     0.44645,     0.44745,     0.44845,     0.44945,     0.45045,     0.45145,     0.45245,     0.45345,     0.45445,     0.45546,\n",
              "           0.45646,     0.45746,     0.45846,     0.45946,     0.46046,     0.46146,     0.46246,     0.46346,     0.46446,     0.46547,     0.46647,     0.46747,     0.46847,     0.46947,     0.47047,     0.47147,     0.47247,     0.47347,     0.47447,     0.47548,     0.47648,     0.47748,     0.47848,     0.47948,\n",
              "           0.48048,     0.48148,     0.48248,     0.48348,     0.48448,     0.48549,     0.48649,     0.48749,     0.48849,     0.48949,     0.49049,     0.49149,     0.49249,     0.49349,     0.49449,      0.4955,      0.4965,      0.4975,      0.4985,      0.4995,      0.5005,      0.5015,      0.5025,      0.5035,\n",
              "            0.5045,     0.50551,     0.50651,     0.50751,     0.50851,     0.50951,     0.51051,     0.51151,     0.51251,     0.51351,     0.51451,     0.51552,     0.51652,     0.51752,     0.51852,     0.51952,     0.52052,     0.52152,     0.52252,     0.52352,     0.52452,     0.52553,     0.52653,     0.52753,\n",
              "           0.52853,     0.52953,     0.53053,     0.53153,     0.53253,     0.53353,     0.53453,     0.53554,     0.53654,     0.53754,     0.53854,     0.53954,     0.54054,     0.54154,     0.54254,     0.54354,     0.54454,     0.54555,     0.54655,     0.54755,     0.54855,     0.54955,     0.55055,     0.55155,\n",
              "           0.55255,     0.55355,     0.55455,     0.55556,     0.55656,     0.55756,     0.55856,     0.55956,     0.56056,     0.56156,     0.56256,     0.56356,     0.56456,     0.56557,     0.56657,     0.56757,     0.56857,     0.56957,     0.57057,     0.57157,     0.57257,     0.57357,     0.57457,     0.57558,\n",
              "           0.57658,     0.57758,     0.57858,     0.57958,     0.58058,     0.58158,     0.58258,     0.58358,     0.58458,     0.58559,     0.58659,     0.58759,     0.58859,     0.58959,     0.59059,     0.59159,     0.59259,     0.59359,     0.59459,      0.5956,      0.5966,      0.5976,      0.5986,      0.5996,\n",
              "            0.6006,      0.6016,      0.6026,      0.6036,      0.6046,     0.60561,     0.60661,     0.60761,     0.60861,     0.60961,     0.61061,     0.61161,     0.61261,     0.61361,     0.61461,     0.61562,     0.61662,     0.61762,     0.61862,     0.61962,     0.62062,     0.62162,     0.62262,     0.62362,\n",
              "           0.62462,     0.62563,     0.62663,     0.62763,     0.62863,     0.62963,     0.63063,     0.63163,     0.63263,     0.63363,     0.63463,     0.63564,     0.63664,     0.63764,     0.63864,     0.63964,     0.64064,     0.64164,     0.64264,     0.64364,     0.64464,     0.64565,     0.64665,     0.64765,\n",
              "           0.64865,     0.64965,     0.65065,     0.65165,     0.65265,     0.65365,     0.65465,     0.65566,     0.65666,     0.65766,     0.65866,     0.65966,     0.66066,     0.66166,     0.66266,     0.66366,     0.66466,     0.66567,     0.66667,     0.66767,     0.66867,     0.66967,     0.67067,     0.67167,\n",
              "           0.67267,     0.67367,     0.67467,     0.67568,     0.67668,     0.67768,     0.67868,     0.67968,     0.68068,     0.68168,     0.68268,     0.68368,     0.68468,     0.68569,     0.68669,     0.68769,     0.68869,     0.68969,     0.69069,     0.69169,     0.69269,     0.69369,     0.69469,      0.6957,\n",
              "            0.6967,      0.6977,      0.6987,      0.6997,      0.7007,      0.7017,      0.7027,      0.7037,      0.7047,     0.70571,     0.70671,     0.70771,     0.70871,     0.70971,     0.71071,     0.71171,     0.71271,     0.71371,     0.71471,     0.71572,     0.71672,     0.71772,     0.71872,     0.71972,\n",
              "           0.72072,     0.72172,     0.72272,     0.72372,     0.72472,     0.72573,     0.72673,     0.72773,     0.72873,     0.72973,     0.73073,     0.73173,     0.73273,     0.73373,     0.73473,     0.73574,     0.73674,     0.73774,     0.73874,     0.73974,     0.74074,     0.74174,     0.74274,     0.74374,\n",
              "           0.74474,     0.74575,     0.74675,     0.74775,     0.74875,     0.74975,     0.75075,     0.75175,     0.75275,     0.75375,     0.75475,     0.75576,     0.75676,     0.75776,     0.75876,     0.75976,     0.76076,     0.76176,     0.76276,     0.76376,     0.76476,     0.76577,     0.76677,     0.76777,\n",
              "           0.76877,     0.76977,     0.77077,     0.77177,     0.77277,     0.77377,     0.77477,     0.77578,     0.77678,     0.77778,     0.77878,     0.77978,     0.78078,     0.78178,     0.78278,     0.78378,     0.78478,     0.78579,     0.78679,     0.78779,     0.78879,     0.78979,     0.79079,     0.79179,\n",
              "           0.79279,     0.79379,     0.79479,      0.7958,      0.7968,      0.7978,      0.7988,      0.7998,      0.8008,      0.8018,      0.8028,      0.8038,      0.8048,     0.80581,     0.80681,     0.80781,     0.80881,     0.80981,     0.81081,     0.81181,     0.81281,     0.81381,     0.81481,     0.81582,\n",
              "           0.81682,     0.81782,     0.81882,     0.81982,     0.82082,     0.82182,     0.82282,     0.82382,     0.82482,     0.82583,     0.82683,     0.82783,     0.82883,     0.82983,     0.83083,     0.83183,     0.83283,     0.83383,     0.83483,     0.83584,     0.83684,     0.83784,     0.83884,     0.83984,\n",
              "           0.84084,     0.84184,     0.84284,     0.84384,     0.84484,     0.84585,     0.84685,     0.84785,     0.84885,     0.84985,     0.85085,     0.85185,     0.85285,     0.85385,     0.85485,     0.85586,     0.85686,     0.85786,     0.85886,     0.85986,     0.86086,     0.86186,     0.86286,     0.86386,\n",
              "           0.86486,     0.86587,     0.86687,     0.86787,     0.86887,     0.86987,     0.87087,     0.87187,     0.87287,     0.87387,     0.87487,     0.87588,     0.87688,     0.87788,     0.87888,     0.87988,     0.88088,     0.88188,     0.88288,     0.88388,     0.88488,     0.88589,     0.88689,     0.88789,\n",
              "           0.88889,     0.88989,     0.89089,     0.89189,     0.89289,     0.89389,     0.89489,      0.8959,      0.8969,      0.8979,      0.8989,      0.8999,      0.9009,      0.9019,      0.9029,      0.9039,      0.9049,     0.90591,     0.90691,     0.90791,     0.90891,     0.90991,     0.91091,     0.91191,\n",
              "           0.91291,     0.91391,     0.91491,     0.91592,     0.91692,     0.91792,     0.91892,     0.91992,     0.92092,     0.92192,     0.92292,     0.92392,     0.92492,     0.92593,     0.92693,     0.92793,     0.92893,     0.92993,     0.93093,     0.93193,     0.93293,     0.93393,     0.93493,     0.93594,\n",
              "           0.93694,     0.93794,     0.93894,     0.93994,     0.94094,     0.94194,     0.94294,     0.94394,     0.94494,     0.94595,     0.94695,     0.94795,     0.94895,     0.94995,     0.95095,     0.95195,     0.95295,     0.95395,     0.95495,     0.95596,     0.95696,     0.95796,     0.95896,     0.95996,\n",
              "           0.96096,     0.96196,     0.96296,     0.96396,     0.96496,     0.96597,     0.96697,     0.96797,     0.96897,     0.96997,     0.97097,     0.97197,     0.97297,     0.97397,     0.97497,     0.97598,     0.97698,     0.97798,     0.97898,     0.97998,     0.98098,     0.98198,     0.98298,     0.98398,\n",
              "           0.98498,     0.98599,     0.98699,     0.98799,     0.98899,     0.98999,     0.99099,     0.99199,     0.99299,     0.99399,     0.99499,       0.996,       0.997,       0.998,       0.999,           1]), array([[    0.99219,     0.99219,     0.99219,     0.99219,     0.99219,     0.99219,     0.99219,     0.99219,     0.99219,     0.99219,     0.98438,     0.97656,     0.97656,     0.97656,     0.97656,     0.97656,     0.97656,     0.97656,     0.97656,     0.97656,     0.97656,     0.97656,     0.96875,\n",
              "            0.96875,     0.96875,     0.96875,     0.96875,     0.96875,     0.96875,     0.96875,     0.96875,     0.96794,     0.96094,     0.96094,     0.96094,     0.96094,     0.96094,     0.96094,     0.96094,     0.96094,     0.96094,     0.96094,     0.95312,     0.95312,     0.95312,     0.94531,\n",
              "            0.94531,     0.94531,     0.94531,     0.94531,     0.94531,     0.94531,     0.94531,     0.94531,     0.94531,     0.94531,     0.94531,     0.94531,     0.94531,     0.94531,     0.94531,     0.94531,     0.94531,     0.94336,      0.9375,      0.9375,      0.9375,      0.9375,      0.9375,\n",
              "             0.9375,      0.9375,      0.9375,      0.9375,      0.9375,      0.9375,      0.9375,      0.9375,      0.9375,      0.9375,     0.93381,     0.92975,     0.92969,     0.92969,     0.92969,     0.92969,     0.92969,     0.92969,     0.92969,     0.92969,     0.92969,     0.92969,     0.92969,\n",
              "            0.92969,     0.92969,     0.92969,     0.92969,     0.92969,     0.92969,     0.92969,     0.92969,     0.92969,     0.92969,     0.92969,     0.92969,     0.92969,     0.92969,     0.92969,     0.92969,     0.92969,     0.92969,     0.92969,     0.92969,     0.92969,     0.92969,     0.92969,\n",
              "            0.92969,     0.92969,     0.92969,     0.92969,     0.92969,     0.92969,     0.92969,     0.92969,     0.92969,     0.92969,     0.92969,     0.92969,     0.92969,     0.92969,     0.92969,     0.92969,     0.92969,     0.92969,     0.92969,     0.92969,     0.92969,     0.92969,     0.92969,\n",
              "            0.92969,     0.92969,     0.92969,     0.92969,     0.92969,     0.92969,     0.92969,     0.92969,     0.92969,     0.92969,     0.92969,     0.92969,     0.92969,     0.92969,     0.92969,     0.92969,     0.92969,     0.92969,     0.92969,     0.92969,     0.92969,     0.92969,     0.92969,\n",
              "            0.92969,     0.92969,     0.92969,     0.92969,     0.92969,     0.92969,     0.92969,     0.92969,     0.92969,     0.92969,     0.92969,     0.92969,     0.92969,     0.92969,     0.92969,     0.92969,     0.92969,     0.92969,     0.92969,     0.92969,     0.92969,     0.92969,     0.92969,\n",
              "            0.92969,     0.92969,     0.92969,     0.92969,     0.92969,     0.92969,     0.92969,     0.92969,     0.92969,     0.92969,     0.92969,     0.92969,     0.92969,     0.92969,     0.92969,     0.92969,     0.92969,     0.92969,     0.92969,     0.92969,     0.92969,     0.92969,     0.92969,\n",
              "            0.92969,     0.92969,     0.92969,     0.92969,     0.92969,     0.92969,     0.92969,     0.92969,     0.92969,     0.92969,     0.92969,     0.92969,     0.92969,     0.92969,     0.92969,     0.92969,     0.92969,     0.92969,     0.92969,     0.92969,     0.92969,     0.92271,     0.91724,\n",
              "            0.91406,     0.91406,     0.91406,     0.91406,     0.91406,     0.91406,     0.91406,     0.91406,     0.91406,     0.91406,     0.91406,     0.91406,     0.91406,     0.91406,     0.91406,     0.91406,     0.91406,     0.91406,     0.91406,     0.91406,     0.91406,     0.91406,     0.91406,\n",
              "            0.91406,     0.91406,     0.91406,     0.91406,     0.91406,     0.91406,     0.91406,     0.91406,     0.91406,     0.91406,     0.91406,     0.91406,     0.91406,     0.90754,     0.90625,     0.90625,     0.90625,     0.90625,     0.90625,     0.90625,     0.90625,     0.90625,     0.90625,\n",
              "            0.90625,     0.90625,     0.90625,     0.90625,     0.90625,     0.90459,     0.89844,     0.89844,     0.89844,     0.89844,     0.89844,     0.89844,     0.89844,     0.89844,     0.89844,     0.89844,     0.89844,     0.89844,     0.89844,     0.89844,     0.89844,     0.89844,     0.89844,\n",
              "            0.89596,     0.89298,     0.88831,     0.88281,     0.88281,     0.88281,     0.88281,     0.88281,     0.88281,     0.88281,     0.88281,     0.88281,     0.88281,     0.88281,     0.88281,     0.88281,     0.88281,     0.88281,     0.88281,     0.88281,     0.88281,     0.88281,     0.88281,\n",
              "            0.88281,     0.88281,     0.88281,     0.88281,     0.88281,     0.88281,     0.88281,     0.88281,     0.88281,     0.88281,     0.88281,     0.88281,     0.88281,     0.88281,     0.88281,     0.88281,     0.88281,     0.88281,     0.88281,     0.88281,     0.88281,     0.88281,     0.88281,\n",
              "            0.88281,     0.88281,     0.88281,     0.88281,     0.88281,     0.88281,     0.88281,     0.88281,     0.88281,     0.88281,     0.88281,     0.88281,     0.88281,     0.88281,     0.88281,     0.88281,     0.88281,     0.88281,     0.88281,     0.88281,     0.88281,     0.88281,     0.88281,\n",
              "            0.88281,     0.88281,     0.88281,     0.88281,     0.88281,     0.88281,     0.88281,     0.88281,     0.88281,     0.88281,     0.88281,     0.88281,     0.88281,     0.88281,     0.88281,     0.88281,     0.88281,     0.88281,     0.88281,     0.88281,     0.88281,     0.88281,     0.88281,\n",
              "            0.88281,     0.88281,     0.88281,     0.88281,     0.88281,     0.88281,     0.88281,     0.88281,     0.88281,     0.88281,     0.88281,     0.88281,     0.88281,     0.88281,     0.88281,     0.88281,     0.88192,     0.87985,     0.87778,     0.87572,       0.875,       0.875,       0.875,\n",
              "              0.875,       0.875,       0.875,       0.875,       0.875,       0.875,     0.87496,     0.87437,     0.87377,     0.87318,     0.87259,       0.872,      0.8714,     0.87081,     0.87022,     0.86962,     0.86903,     0.86844,     0.86785,     0.86725,     0.85938,     0.85938,     0.85938,\n",
              "            0.85938,     0.85938,     0.85938,     0.85938,     0.85938,     0.85938,     0.85938,     0.85938,     0.85938,     0.85938,     0.85938,     0.85938,     0.85938,     0.85938,     0.85938,     0.85938,     0.85938,     0.85938,     0.85938,     0.85938,     0.85938,     0.85938,     0.85938,\n",
              "            0.85938,     0.85938,     0.85938,     0.85938,     0.85938,     0.85938,     0.85938,     0.85938,     0.85938,     0.85938,     0.85938,     0.85938,     0.85938,     0.85938,     0.85938,     0.85172,     0.85156,     0.85156,     0.85156,     0.85156,     0.85156,     0.85156,     0.85156,\n",
              "            0.85156,     0.85156,     0.85156,     0.85156,     0.85156,     0.85156,     0.84981,     0.84693,     0.84404,     0.84375,     0.84375,     0.84375,     0.84375,     0.84375,     0.84375,     0.84375,     0.84375,     0.84375,     0.84375,     0.84375,     0.84375,     0.84375,     0.84375,\n",
              "            0.84375,     0.84375,     0.84375,     0.84375,     0.84375,     0.84375,     0.84375,     0.84375,     0.84375,     0.84375,     0.84375,     0.84375,     0.84375,     0.84375,     0.84375,     0.84375,     0.84375,     0.84375,     0.84375,     0.84375,     0.84375,     0.84375,     0.84375,\n",
              "            0.84375,     0.84375,     0.84375,     0.84375,     0.84375,     0.84375,     0.84375,     0.84375,     0.84375,     0.84375,     0.84375,     0.84375,     0.84375,     0.84375,     0.84375,     0.84375,     0.84307,      0.8423,     0.84153,     0.84077,        0.84,     0.83923,     0.83847,\n",
              "             0.8377,     0.83693,     0.83617,     0.83594,     0.83594,     0.83594,     0.83594,     0.83594,     0.83594,     0.83594,     0.83594,     0.83594,     0.83594,     0.83594,     0.83594,     0.83594,     0.83594,     0.83594,     0.83594,     0.83594,     0.83594,     0.83594,     0.83594,\n",
              "            0.83594,     0.83594,     0.83594,     0.83594,     0.83594,     0.83594,     0.83594,     0.83594,     0.83594,     0.83594,     0.83594,     0.83594,     0.83594,     0.83594,     0.83594,     0.83568,     0.83503,     0.83438,     0.83373,     0.83308,     0.83243,     0.83178,     0.83113,\n",
              "            0.83048,     0.82983,     0.82918,     0.82853,     0.82731,     0.82509,     0.82287,     0.82065,     0.81995,     0.81952,     0.81909,     0.81866,     0.81822,     0.81779,     0.81736,     0.81693,      0.8165,     0.81607,     0.81564,     0.81521,     0.81478,     0.81435,     0.81392,\n",
              "            0.81349,     0.81306,     0.81263,     0.81142,      0.8099,     0.80837,     0.80685,     0.80533,     0.79668,      0.7957,     0.79473,     0.79376,     0.79279,     0.79182,     0.79085,     0.78987,      0.7888,      0.7872,      0.7856,     0.78401,     0.78241,     0.78125,     0.78125,\n",
              "            0.78125,     0.78125,     0.78125,     0.78125,     0.78125,     0.78125,     0.78125,     0.78125,     0.78125,     0.78125,     0.78125,     0.78125,     0.78125,     0.77758,     0.77337,     0.77288,     0.77239,      0.7719,      0.7714,     0.77091,     0.77042,     0.76992,     0.76943,\n",
              "            0.76894,     0.76845,     0.76795,     0.76746,     0.76697,     0.76647,     0.76598,     0.76562,     0.76562,     0.76562,     0.76562,     0.76562,     0.76562,     0.76562,     0.76562,     0.76562,     0.76562,     0.76562,     0.76562,     0.76562,     0.76562,     0.76562,     0.76562,\n",
              "            0.76562,     0.76562,     0.76562,     0.76562,     0.76562,     0.76299,     0.75956,     0.75781,     0.75781,     0.75781,     0.75781,     0.75781,     0.75737,     0.75534,     0.75331,     0.75128,      0.7496,     0.74854,     0.74747,      0.7464,     0.74533,     0.74427,      0.7432,\n",
              "            0.74219,     0.74219,     0.74219,     0.74219,     0.74219,     0.74219,     0.74219,     0.74219,     0.74219,     0.74219,     0.74219,     0.74219,     0.74219,     0.74177,     0.73889,       0.736,     0.73438,     0.73438,     0.73438,     0.73438,     0.73438,     0.73438,     0.73438,\n",
              "            0.73438,     0.73438,     0.73438,     0.73438,     0.73438,     0.73356,     0.73265,     0.73174,     0.73083,     0.72992,       0.729,     0.72809,     0.72718,     0.72635,      0.7257,     0.72505,     0.72439,     0.72374,     0.72309,     0.72244,     0.72178,     0.72113,     0.72048,\n",
              "            0.71983,     0.71917,     0.71834,     0.71717,     0.71601,     0.71484,     0.71367,     0.71251,     0.71134,     0.70045,     0.69471,     0.69108,     0.68735,     0.67188,     0.67188,     0.67188,     0.67188,     0.67188,     0.67188,     0.67188,     0.67188,     0.67188,     0.67051,\n",
              "            0.66844,     0.66638,     0.66431,     0.66026,     0.65611,     0.65408,     0.65205,     0.65003,     0.64642,     0.63727,     0.62491,     0.61632,     0.61428,     0.61224,      0.6102,     0.60694,     0.60284,     0.59838,     0.59376,     0.58699,     0.57002,     0.56812,     0.56622,\n",
              "            0.56433,     0.56213,     0.55363,     0.54972,      0.5458,     0.54183,     0.53756,     0.53258,     0.51561,     0.51238,     0.50914,     0.50781,     0.50781,     0.50631,     0.50425,     0.50219,     0.50013,     0.48567,     0.47788,     0.45245,     0.44852,     0.44411,     0.43718,\n",
              "             0.4169,     0.41244,     0.40962,      0.4068,     0.40222,      0.3933,     0.38194,     0.38019,     0.37844,      0.3767,     0.37457,     0.35135,     0.34705,     0.34093,     0.33324,     0.32866,     0.31641,     0.31067,     0.30558,     0.29985,      0.2885,     0.28351,     0.26978,\n",
              "            0.26306,     0.25973,     0.25512,     0.24906,     0.24421,     0.23965,      0.2353,     0.22528,     0.20972,     0.20278,     0.19802,     0.19361,     0.18966,     0.17832,     0.17465,     0.17122,     0.16853,     0.16584,     0.16182,     0.14814,     0.14593,     0.14372,     0.14151,\n",
              "            0.13956,     0.13779,     0.13601,     0.13424,     0.13144,     0.12439,     0.11714,     0.11541,     0.11368,     0.11195,     0.11022,     0.10603,    0.099906,    0.094741,    0.084881,    0.081247,    0.077277,    0.071246,     0.06189,    0.060378,    0.058866,    0.057355,    0.055843,\n",
              "           0.053729,    0.049663,    0.043956,    0.038396,    0.036988,    0.035579,    0.034171,    0.032762,    0.031354,    0.030834,    0.030385,    0.029937,    0.029488,    0.029039,     0.02859,    0.028141,    0.027692,    0.027244,    0.026795,    0.026346,    0.025897,    0.025448,    0.024999,\n",
              "            0.02455,    0.024102,    0.023653,    0.022036,    0.019343,    0.016649,    0.015293,    0.014758,    0.014223,    0.013687,    0.013152,    0.012617,    0.012081,    0.011546,    0.011011,    0.010476,   0.0099403,    0.009405,   0.0088697,   0.0083344,           0,           0,           0,\n",
              "                  0,           0,           0,           0,           0,           0,           0,           0,           0,           0,           0,           0,           0,           0,           0,           0,           0,           0,           0,           0,           0,           0,           0,\n",
              "                  0,           0,           0,           0,           0,           0,           0,           0,           0,           0,           0,           0,           0,           0,           0,           0,           0,           0,           0,           0,           0,           0,           0,\n",
              "                  0,           0,           0,           0,           0,           0,           0,           0,           0,           0,           0]]), 'Confidence', 'Recall']]\n",
              "fitness: np.float64(0.5985770065976603)\n",
              "keys: ['metrics/precision(B)', 'metrics/recall(B)', 'metrics/mAP50(B)', 'metrics/mAP50-95(B)']\n",
              "maps: array([    0.56345,     0.56345,     0.56345,     0.56345])\n",
              "names: {0: 'ball', 1: 'goalkeeper', 2: 'player', 3: 'referee'}\n",
              "plot: True\n",
              "results_dict: {'metrics/precision(B)': np.float64(0.8799771207188994), 'metrics/recall(B)': np.float64(0.8359375), 'metrics/mAP50(B)': np.float64(0.9146935754786595), 'metrics/mAP50-95(B)': np.float64(0.5634529433886605), 'fitness': np.float64(0.5985770065976603)}\n",
              "save_dir: WindowsPath('runs/detect/val6')\n",
              "speed: {'preprocess': 4.485024598892778, 'inference': 12.395771400770172, 'loss': 0.0007279990240931511, 'postprocess': 2.117545599816367}\n",
              "task: 'detect'"
            ]
          },
          "execution_count": 9,
          "metadata": {},
          "output_type": "execute_result"
        }
      ],
      "source": [
        "ball_model = YOLO('ball_best.pt')\n",
        "\n",
        "ball_model.val(data=\"C:/Users/Yahya/Desktop/football_analysis-main/Nujoom/football-ball-detection.v4i.yolov8/data.yaml\", split='test')\n",
        "\n"
      ]
    },
    {
      "cell_type": "code",
      "execution_count": null,
      "metadata": {},
      "outputs": [
        {
          "name": "stdout",
          "output_type": "stream",
          "text": [
            "\n",
            "0: 736x1280 4 goalkeepers, 21 players, 2 referees, 305.2ms\n",
            "Speed: 12.7ms preprocess, 305.2ms inference, 1.8ms postprocess per image at shape (1, 3, 736, 1280)\n"
          ]
        },
        {
          "data": {
            "text/plain": [
              "<Figure size 1200x1200 with 1 Axes>"
            ]
          },
          "metadata": {},
          "output_type": "display_data"
        }
      ],
      "source": [
        "\n",
        "\n",
        "model = player_model\n",
        "\n",
        "\n",
        "\n",
        "ellipse_annotator = sv.EllipseAnnotator(\n",
        "    color=sv.ColorPalette.from_hex(['#00BFFF', '#FF1493', '#FFD700']),\n",
        "    thickness=2\n",
        ")\n",
        "label_annotator = sv.LabelAnnotator(\n",
        "    color=sv.ColorPalette.from_hex(['#00BFFF', '#FF1493', '#FFD700']),\n",
        "    text_color=sv.Color.from_hex('#000000'),\n",
        "    text_position=sv.Position.BOTTOM_CENTER\n",
        ")\n",
        "triangle_annotator = sv.TriangleAnnotator(\n",
        "    color=sv.Color.from_hex('#FFD700'),\n",
        "    base=25,\n",
        "    height=21,\n",
        "    outline_thickness=1\n",
        ")\n",
        "\n",
        "tracker = sv.ByteTrack()\n",
        "tracker.reset()\n",
        "\n",
        "frame_generator = sv.get_video_frames_generator(SOURCE_VIDEO_PATH)\n",
        "frame = next(frame_generator)\n",
        "\n",
        "result = model.predict(frame, conf=0.1)[0]\n",
        "detections = sv.Detections.from_ultralytics(result)\n",
        "\n",
        "ball_detections = detections[detections.class_id == BALL_ID]\n",
        "ball_detections.xyxy = sv.pad_boxes(xyxy=ball_detections.xyxy, px=10)\n",
        "\n",
        "all_detections = detections[detections.class_id != BALL_ID]\n",
        "all_detections = all_detections.with_nms(threshold=0.5, class_agnostic=True)\n",
        "all_detections.class_id -= 1\n",
        "all_detections = tracker.update_with_detections(detections=all_detections)\n",
        "\n",
        "labels = [\n",
        "    f\"#{tracker_id}\"\n",
        "    for tracker_id\n",
        "    in all_detections.tracker_id\n",
        "]\n",
        "\n",
        "annotated_frame = frame.copy()\n",
        "annotated_frame = ellipse_annotator.annotate(\n",
        "    scene=annotated_frame,\n",
        "    detections=all_detections)\n",
        "annotated_frame = label_annotator.annotate(\n",
        "    scene=annotated_frame,\n",
        "    detections=all_detections,\n",
        "    labels=labels)\n",
        "annotated_frame = triangle_annotator.annotate(\n",
        "    scene=annotated_frame,\n",
        "    detections=ball_detections)\n",
        "\n",
        "sv.plot_image(annotated_frame)"
      ]
    },
    {
      "cell_type": "code",
      "execution_count": null,
      "metadata": {},
      "outputs": [
        {
          "name": "stderr",
          "output_type": "stream",
          "text": [
            "collecting crops: 0it [00:00, ?it/s]"
          ]
        },
        {
          "name": "stdout",
          "output_type": "stream",
          "text": [
            "\n",
            "0: 736x1280 4 goalkeepers, 21 players, 2 referees, 320.9ms\n",
            "Speed: 11.9ms preprocess, 320.9ms inference, 1.5ms postprocess per image at shape (1, 3, 736, 1280)\n"
          ]
        },
        {
          "name": "stderr",
          "output_type": "stream",
          "text": [
            "collecting crops: 1it [00:00,  2.42it/s]"
          ]
        },
        {
          "name": "stdout",
          "output_type": "stream",
          "text": [
            "\n",
            "0: 736x1280 3 goalkeepers, 19 players, 2 referees, 100.3ms\n",
            "Speed: 7.2ms preprocess, 100.3ms inference, 1.7ms postprocess per image at shape (1, 3, 736, 1280)\n"
          ]
        },
        {
          "name": "stderr",
          "output_type": "stream",
          "text": [
            "collecting crops: 2it [00:00,  3.82it/s]"
          ]
        },
        {
          "name": "stdout",
          "output_type": "stream",
          "text": [
            "\n",
            "0: 736x1280 1 goalkeeper, 22 players, 2 referees, 94.2ms\n",
            "Speed: 12.1ms preprocess, 94.2ms inference, 1.4ms postprocess per image at shape (1, 3, 736, 1280)\n"
          ]
        },
        {
          "name": "stderr",
          "output_type": "stream",
          "text": [
            "collecting crops: 3it [00:00,  4.83it/s]"
          ]
        },
        {
          "name": "stdout",
          "output_type": "stream",
          "text": [
            "\n",
            "0: 736x1280 21 players, 2 referees, 94.8ms\n",
            "Speed: 12.5ms preprocess, 94.8ms inference, 1.4ms postprocess per image at shape (1, 3, 736, 1280)\n"
          ]
        },
        {
          "name": "stderr",
          "output_type": "stream",
          "text": [
            "collecting crops: 4it [00:00,  5.48it/s]"
          ]
        },
        {
          "name": "stdout",
          "output_type": "stream",
          "text": [
            "\n",
            "0: 736x1280 1 ball, 21 players, 2 referees, 94.3ms\n",
            "Speed: 8.3ms preprocess, 94.3ms inference, 1.5ms postprocess per image at shape (1, 3, 736, 1280)\n"
          ]
        },
        {
          "name": "stderr",
          "output_type": "stream",
          "text": [
            "collecting crops: 5it [00:01,  5.90it/s]"
          ]
        },
        {
          "name": "stdout",
          "output_type": "stream",
          "text": [
            "\n",
            "0: 736x1280 1 ball, 22 players, 2 referees, 94.8ms\n",
            "Speed: 7.3ms preprocess, 94.8ms inference, 1.4ms postprocess per image at shape (1, 3, 736, 1280)\n"
          ]
        },
        {
          "name": "stderr",
          "output_type": "stream",
          "text": [
            "collecting crops: 6it [00:01,  6.20it/s]"
          ]
        },
        {
          "name": "stdout",
          "output_type": "stream",
          "text": [
            "\n",
            "0: 736x1280 21 players, 2 referees, 96.7ms\n",
            "Speed: 13.7ms preprocess, 96.7ms inference, 1.5ms postprocess per image at shape (1, 3, 736, 1280)\n"
          ]
        },
        {
          "name": "stderr",
          "output_type": "stream",
          "text": [
            "collecting crops: 7it [00:01,  6.38it/s]"
          ]
        },
        {
          "name": "stdout",
          "output_type": "stream",
          "text": [
            "\n",
            "0: 736x1280 1 ball, 20 players, 2 referees, 96.1ms\n",
            "Speed: 10.7ms preprocess, 96.1ms inference, 1.4ms postprocess per image at shape (1, 3, 736, 1280)\n"
          ]
        },
        {
          "name": "stderr",
          "output_type": "stream",
          "text": [
            "collecting crops: 8it [00:01,  6.56it/s]"
          ]
        },
        {
          "name": "stdout",
          "output_type": "stream",
          "text": [
            "\n",
            "0: 736x1280 1 goalkeeper, 21 players, 2 referees, 97.7ms\n",
            "Speed: 8.1ms preprocess, 97.7ms inference, 1.5ms postprocess per image at shape (1, 3, 736, 1280)\n"
          ]
        },
        {
          "name": "stderr",
          "output_type": "stream",
          "text": [
            "collecting crops: 9it [00:01,  6.65it/s]"
          ]
        },
        {
          "name": "stdout",
          "output_type": "stream",
          "text": [
            "\n",
            "0: 736x1280 1 goalkeeper, 21 players, 1 referee, 96.7ms\n",
            "Speed: 10.4ms preprocess, 96.7ms inference, 1.7ms postprocess per image at shape (1, 3, 736, 1280)\n"
          ]
        },
        {
          "name": "stderr",
          "output_type": "stream",
          "text": [
            "collecting crops: 10it [00:01,  6.68it/s]"
          ]
        },
        {
          "name": "stdout",
          "output_type": "stream",
          "text": [
            "\n",
            "0: 736x1280 1 ball, 1 goalkeeper, 20 players, 2 referees, 97.4ms\n",
            "Speed: 7.5ms preprocess, 97.4ms inference, 1.7ms postprocess per image at shape (1, 3, 736, 1280)\n"
          ]
        },
        {
          "name": "stderr",
          "output_type": "stream",
          "text": [
            "collecting crops: 11it [00:01,  6.65it/s]"
          ]
        },
        {
          "name": "stdout",
          "output_type": "stream",
          "text": [
            "\n",
            "0: 736x1280 2 goalkeepers, 20 players, 2 referees, 98.5ms\n",
            "Speed: 11.4ms preprocess, 98.5ms inference, 1.5ms postprocess per image at shape (1, 3, 736, 1280)\n"
          ]
        },
        {
          "name": "stderr",
          "output_type": "stream",
          "text": [
            "collecting crops: 12it [00:02,  6.68it/s]"
          ]
        },
        {
          "name": "stdout",
          "output_type": "stream",
          "text": [
            "\n",
            "0: 736x1280 1 goalkeeper, 19 players, 2 referees, 94.9ms\n",
            "Speed: 8.5ms preprocess, 94.9ms inference, 1.5ms postprocess per image at shape (1, 3, 736, 1280)\n"
          ]
        },
        {
          "name": "stderr",
          "output_type": "stream",
          "text": [
            "collecting crops: 13it [00:02,  6.73it/s]"
          ]
        },
        {
          "name": "stdout",
          "output_type": "stream",
          "text": [
            "\n",
            "0: 736x1280 1 ball, 1 goalkeeper, 19 players, 2 referees, 98.1ms\n",
            "Speed: 9.4ms preprocess, 98.1ms inference, 1.8ms postprocess per image at shape (1, 3, 736, 1280)\n"
          ]
        },
        {
          "name": "stderr",
          "output_type": "stream",
          "text": [
            "collecting crops: 14it [00:02,  6.73it/s]"
          ]
        },
        {
          "name": "stdout",
          "output_type": "stream",
          "text": [
            "\n",
            "0: 736x1280 1 goalkeeper, 22 players, 2 referees, 98.1ms\n",
            "Speed: 10.0ms preprocess, 98.1ms inference, 1.8ms postprocess per image at shape (1, 3, 736, 1280)\n"
          ]
        },
        {
          "name": "stderr",
          "output_type": "stream",
          "text": [
            "collecting crops: 15it [00:02,  6.72it/s]"
          ]
        },
        {
          "name": "stdout",
          "output_type": "stream",
          "text": [
            "\n",
            "0: 736x1280 1 goalkeeper, 20 players, 1 referee, 99.2ms\n",
            "Speed: 10.0ms preprocess, 99.2ms inference, 1.7ms postprocess per image at shape (1, 3, 736, 1280)\n"
          ]
        },
        {
          "name": "stderr",
          "output_type": "stream",
          "text": [
            "collecting crops: 16it [00:02,  6.72it/s]"
          ]
        },
        {
          "name": "stdout",
          "output_type": "stream",
          "text": [
            "\n",
            "0: 736x1280 1 goalkeeper, 20 players, 3 referees, 99.2ms\n",
            "Speed: 11.8ms preprocess, 99.2ms inference, 1.5ms postprocess per image at shape (1, 3, 736, 1280)\n"
          ]
        },
        {
          "name": "stderr",
          "output_type": "stream",
          "text": [
            "collecting crops: 17it [00:02,  6.73it/s]"
          ]
        },
        {
          "name": "stdout",
          "output_type": "stream",
          "text": [
            "\n",
            "0: 736x1280 1 goalkeeper, 23 players, 1 referee, 98.6ms\n",
            "Speed: 10.9ms preprocess, 98.6ms inference, 1.8ms postprocess per image at shape (1, 3, 736, 1280)\n"
          ]
        },
        {
          "name": "stderr",
          "output_type": "stream",
          "text": [
            "collecting crops: 18it [00:02,  6.66it/s]"
          ]
        },
        {
          "name": "stdout",
          "output_type": "stream",
          "text": [
            "\n",
            "0: 736x1280 1 goalkeeper, 21 players, 2 referees, 99.1ms\n",
            "Speed: 10.5ms preprocess, 99.1ms inference, 1.5ms postprocess per image at shape (1, 3, 736, 1280)\n"
          ]
        },
        {
          "name": "stderr",
          "output_type": "stream",
          "text": [
            "collecting crops: 19it [00:03,  6.70it/s]"
          ]
        },
        {
          "name": "stdout",
          "output_type": "stream",
          "text": [
            "\n",
            "0: 736x1280 1 goalkeeper, 23 players, 2 referees, 98.4ms\n",
            "Speed: 9.7ms preprocess, 98.4ms inference, 1.4ms postprocess per image at shape (1, 3, 736, 1280)\n"
          ]
        },
        {
          "name": "stderr",
          "output_type": "stream",
          "text": [
            "collecting crops: 20it [00:03,  6.73it/s]"
          ]
        },
        {
          "name": "stdout",
          "output_type": "stream",
          "text": [
            "\n",
            "0: 736x1280 1 goalkeeper, 19 players, 2 referees, 98.2ms\n",
            "Speed: 12.7ms preprocess, 98.2ms inference, 1.5ms postprocess per image at shape (1, 3, 736, 1280)\n"
          ]
        },
        {
          "name": "stderr",
          "output_type": "stream",
          "text": [
            "collecting crops: 21it [00:03,  6.79it/s]"
          ]
        },
        {
          "name": "stdout",
          "output_type": "stream",
          "text": [
            "\n",
            "0: 736x1280 1 goalkeeper, 20 players, 2 referees, 99.7ms\n",
            "Speed: 9.3ms preprocess, 99.7ms inference, 2.0ms postprocess per image at shape (1, 3, 736, 1280)\n"
          ]
        },
        {
          "name": "stderr",
          "output_type": "stream",
          "text": [
            "collecting crops: 22it [00:03,  6.80it/s]"
          ]
        },
        {
          "name": "stdout",
          "output_type": "stream",
          "text": [
            "\n",
            "0: 736x1280 1 goalkeeper, 20 players, 2 referees, 97.7ms\n",
            "Speed: 9.1ms preprocess, 97.7ms inference, 1.4ms postprocess per image at shape (1, 3, 736, 1280)\n"
          ]
        },
        {
          "name": "stderr",
          "output_type": "stream",
          "text": [
            "collecting crops: 23it [00:03,  6.78it/s]"
          ]
        },
        {
          "name": "stdout",
          "output_type": "stream",
          "text": [
            "\n",
            "0: 736x1280 1 goalkeeper, 22 players, 1 referee, 99.1ms\n",
            "Speed: 8.6ms preprocess, 99.1ms inference, 1.4ms postprocess per image at shape (1, 3, 736, 1280)\n"
          ]
        },
        {
          "name": "stderr",
          "output_type": "stream",
          "text": [
            "collecting crops: 24it [00:03,  6.79it/s]"
          ]
        },
        {
          "name": "stdout",
          "output_type": "stream",
          "text": [
            "\n",
            "0: 736x1280 2 goalkeepers, 22 players, 2 referees, 99.3ms\n",
            "Speed: 9.1ms preprocess, 99.3ms inference, 2.5ms postprocess per image at shape (1, 3, 736, 1280)\n"
          ]
        },
        {
          "name": "stderr",
          "output_type": "stream",
          "text": [
            "collecting crops: 25it [00:03,  6.26it/s]\n"
          ]
        }
      ],
      "source": [
        "from tqdm import tqdm\n",
        "\n",
        "PLAYER_ID = 2\n",
        "STRIDE = 30\n",
        "\n",
        "frame_generator = sv.get_video_frames_generator(\n",
        "    source_path=SOURCE_VIDEO_PATH, stride=STRIDE)\n",
        "\n",
        "crops = []\n",
        "for frame in tqdm(frame_generator, desc='collecting crops'):\n",
        "    result = model.predict(frame, conf=0.1)[0]\n",
        "    detections = sv.Detections.from_ultralytics(result)\n",
        "    detections = detections.with_nms(threshold=0.5, class_agnostic=True)\n",
        "    detections = detections[detections.class_id == PLAYER_ID]\n",
        "    players_crops = [sv.crop_image(frame, xyxy) for xyxy in detections.xyxy]\n",
        "    crops += players_crops"
      ]
    },
    {
      "cell_type": "code",
      "execution_count": 17,
      "metadata": {
        "colab": {
          "base_uri": "https://localhost:8080/",
          "height": 211
        },
        "id": "aUJJWkpEBqtb",
        "outputId": "b67edf3a-e4ae-4c5b-c817-031404f4b910"
      },
      "outputs": [],
      "source": [
        "import torch\n",
        "from transformers import AutoProcessor, SiglipVisionModel\n",
        "\n",
        "SIGLIP_MODEL_PATH = 'google/siglip-base-patch16-224'\n",
        "\n",
        "DEVICE = 'cuda' if torch.cuda.is_available() else 'cpu'\n",
        "EMBEDDINGS_MODEL = SiglipVisionModel.from_pretrained(SIGLIP_MODEL_PATH).to(DEVICE)\n",
        "EMBEDDINGS_PROCESSOR = AutoProcessor.from_pretrained(SIGLIP_MODEL_PATH)"
      ]
    },
    {
      "cell_type": "markdown",
      "metadata": {
        "id": "qMvZz2ABSsV0"
      },
      "source": [
        "Possession Calculation"
      ]
    },
    {
      "cell_type": "code",
      "execution_count": 18,
      "metadata": {},
      "outputs": [
        {
          "name": "stderr",
          "output_type": "stream",
          "text": [
            "embedding extraction: 16it [00:05,  3.10it/s]\n"
          ]
        }
      ],
      "source": [
        "import numpy as np\n",
        "from more_itertools import chunked\n",
        "\n",
        "BATCH_SIZE = 32\n",
        "\n",
        "crops = [sv.cv2_to_pillow(crop) for crop in crops]\n",
        "batches = chunked(crops, BATCH_SIZE)\n",
        "data = []\n",
        "with torch.no_grad():\n",
        "    for batch in tqdm(batches, desc='embedding extraction'):\n",
        "        inputs = EMBEDDINGS_PROCESSOR(images=batch, return_tensors=\"pt\").to(DEVICE)\n",
        "        outputs = EMBEDDINGS_MODEL(**inputs)\n",
        "        embeddings = torch.mean(outputs.last_hidden_state, dim=1).cpu().numpy()\n",
        "        data.append(embeddings)\n",
        "\n",
        "data = np.concatenate(data)"
      ]
    },
    {
      "cell_type": "code",
      "execution_count": 19,
      "metadata": {},
      "outputs": [],
      "source": [
        "import umap\n",
        "from sklearn.cluster import KMeans\n",
        "\n",
        "REDUCER = umap.UMAP(n_components=3)\n",
        "CLUSTERING_MODEL = KMeans(n_clusters=2)"
      ]
    },
    {
      "cell_type": "code",
      "execution_count": 20,
      "metadata": {},
      "outputs": [],
      "source": [
        "projections = REDUCER.fit_transform(data)\n",
        "clusters = CLUSTERING_MODEL.fit_predict(projections)"
      ]
    },
    {
      "cell_type": "code",
      "execution_count": 21,
      "metadata": {},
      "outputs": [],
      "source": [
        "import numpy as np\n",
        "import supervision as sv\n",
        "\n",
        "def resolve_goalkeepers_team_id(\n",
        "    players: sv.Detections,\n",
        "    goalkeepers: sv.Detections\n",
        ") -> np.ndarray:\n",
        "    goalkeepers_xy = goalkeepers.get_anchors_coordinates(sv.Position.BOTTOM_CENTER)\n",
        "    players_xy = players.get_anchors_coordinates(sv.Position.BOTTOM_CENTER)\n",
        "    team_0_centroid = players_xy[players.class_id == 0].mean(axis=0)\n",
        "    team_1_centroid = players_xy[players.class_id == 1].mean(axis=0)\n",
        "    goalkeepers_team_id = []\n",
        "    for goalkeeper_xy in goalkeepers_xy:\n",
        "        dist_0 = np.linalg.norm(goalkeeper_xy - team_0_centroid)\n",
        "        dist_1 = np.linalg.norm(goalkeeper_xy - team_1_centroid)\n",
        "        goalkeepers_team_id.append(0 if dist_0 < dist_1 else 1)\n",
        "\n",
        "    return np.array(goalkeepers_team_id)"
      ]
    },
    {
      "cell_type": "code",
      "execution_count": null,
      "metadata": {},
      "outputs": [
        {
          "name": "stderr",
          "output_type": "stream",
          "text": [
            "collecting crops: 0it [00:00, ?it/s]"
          ]
        },
        {
          "name": "stdout",
          "output_type": "stream",
          "text": [
            "\n",
            "0: 736x1280 4 goalkeepers, 21 players, 2 referees, 306.8ms\n",
            "Speed: 12.0ms preprocess, 306.8ms inference, 1.9ms postprocess per image at shape (1, 3, 736, 1280)\n"
          ]
        },
        {
          "name": "stderr",
          "output_type": "stream",
          "text": [
            "collecting crops: 1it [00:00,  2.55it/s]"
          ]
        },
        {
          "name": "stdout",
          "output_type": "stream",
          "text": [
            "\n",
            "0: 736x1280 3 goalkeepers, 19 players, 2 referees, 101.8ms\n",
            "Speed: 7.4ms preprocess, 101.8ms inference, 1.8ms postprocess per image at shape (1, 3, 736, 1280)\n"
          ]
        },
        {
          "name": "stderr",
          "output_type": "stream",
          "text": [
            "collecting crops: 2it [00:00,  3.96it/s]"
          ]
        },
        {
          "name": "stdout",
          "output_type": "stream",
          "text": [
            "\n",
            "0: 736x1280 1 goalkeeper, 22 players, 2 referees, 96.4ms\n",
            "Speed: 11.5ms preprocess, 96.4ms inference, 1.5ms postprocess per image at shape (1, 3, 736, 1280)\n"
          ]
        },
        {
          "name": "stderr",
          "output_type": "stream",
          "text": [
            "collecting crops: 3it [00:00,  4.91it/s]"
          ]
        },
        {
          "name": "stdout",
          "output_type": "stream",
          "text": [
            "\n",
            "0: 736x1280 21 players, 2 referees, 95.5ms\n",
            "Speed: 8.8ms preprocess, 95.5ms inference, 1.4ms postprocess per image at shape (1, 3, 736, 1280)\n"
          ]
        },
        {
          "name": "stderr",
          "output_type": "stream",
          "text": [
            "collecting crops: 4it [00:00,  5.52it/s]"
          ]
        },
        {
          "name": "stdout",
          "output_type": "stream",
          "text": [
            "\n",
            "0: 736x1280 1 ball, 21 players, 2 referees, 97.6ms\n",
            "Speed: 8.4ms preprocess, 97.6ms inference, 1.5ms postprocess per image at shape (1, 3, 736, 1280)\n"
          ]
        },
        {
          "name": "stderr",
          "output_type": "stream",
          "text": [
            "collecting crops: 5it [00:00,  5.95it/s]"
          ]
        },
        {
          "name": "stdout",
          "output_type": "stream",
          "text": [
            "\n",
            "0: 736x1280 1 ball, 22 players, 2 referees, 97.4ms\n",
            "Speed: 6.8ms preprocess, 97.4ms inference, 1.5ms postprocess per image at shape (1, 3, 736, 1280)\n"
          ]
        },
        {
          "name": "stderr",
          "output_type": "stream",
          "text": [
            "collecting crops: 6it [00:01,  6.27it/s]"
          ]
        },
        {
          "name": "stdout",
          "output_type": "stream",
          "text": [
            "\n",
            "0: 736x1280 21 players, 2 referees, 97.2ms\n",
            "Speed: 10.5ms preprocess, 97.2ms inference, 1.4ms postprocess per image at shape (1, 3, 736, 1280)\n"
          ]
        },
        {
          "name": "stderr",
          "output_type": "stream",
          "text": [
            "collecting crops: 7it [00:01,  6.47it/s]"
          ]
        },
        {
          "name": "stdout",
          "output_type": "stream",
          "text": [
            "\n",
            "0: 736x1280 1 ball, 20 players, 2 referees, 97.5ms\n",
            "Speed: 10.2ms preprocess, 97.5ms inference, 1.5ms postprocess per image at shape (1, 3, 736, 1280)\n"
          ]
        },
        {
          "name": "stderr",
          "output_type": "stream",
          "text": [
            "collecting crops: 8it [00:01,  6.57it/s]"
          ]
        },
        {
          "name": "stdout",
          "output_type": "stream",
          "text": [
            "\n",
            "0: 736x1280 1 goalkeeper, 21 players, 2 referees, 98.0ms\n",
            "Speed: 11.6ms preprocess, 98.0ms inference, 1.5ms postprocess per image at shape (1, 3, 736, 1280)\n"
          ]
        },
        {
          "name": "stderr",
          "output_type": "stream",
          "text": [
            "collecting crops: 9it [00:01,  6.62it/s]"
          ]
        },
        {
          "name": "stdout",
          "output_type": "stream",
          "text": [
            "\n",
            "0: 736x1280 1 goalkeeper, 21 players, 1 referee, 98.4ms\n",
            "Speed: 11.1ms preprocess, 98.4ms inference, 1.4ms postprocess per image at shape (1, 3, 736, 1280)\n"
          ]
        },
        {
          "name": "stderr",
          "output_type": "stream",
          "text": [
            "collecting crops: 10it [00:01,  6.67it/s]"
          ]
        },
        {
          "name": "stdout",
          "output_type": "stream",
          "text": [
            "\n",
            "0: 736x1280 1 ball, 1 goalkeeper, 20 players, 2 referees, 98.1ms\n",
            "Speed: 9.3ms preprocess, 98.1ms inference, 1.7ms postprocess per image at shape (1, 3, 736, 1280)\n"
          ]
        },
        {
          "name": "stderr",
          "output_type": "stream",
          "text": [
            "collecting crops: 11it [00:01,  6.68it/s]"
          ]
        },
        {
          "name": "stdout",
          "output_type": "stream",
          "text": [
            "\n",
            "0: 736x1280 2 goalkeepers, 20 players, 2 referees, 99.1ms\n",
            "Speed: 12.7ms preprocess, 99.1ms inference, 1.7ms postprocess per image at shape (1, 3, 736, 1280)\n"
          ]
        },
        {
          "name": "stderr",
          "output_type": "stream",
          "text": [
            "collecting crops: 12it [00:02,  6.71it/s]"
          ]
        },
        {
          "name": "stdout",
          "output_type": "stream",
          "text": [
            "\n",
            "0: 736x1280 1 goalkeeper, 19 players, 2 referees, 98.8ms\n",
            "Speed: 10.4ms preprocess, 98.8ms inference, 1.7ms postprocess per image at shape (1, 3, 736, 1280)\n"
          ]
        },
        {
          "name": "stderr",
          "output_type": "stream",
          "text": [
            "collecting crops: 13it [00:02,  6.75it/s]"
          ]
        },
        {
          "name": "stdout",
          "output_type": "stream",
          "text": [
            "\n",
            "0: 736x1280 1 ball, 1 goalkeeper, 19 players, 2 referees, 98.0ms\n",
            "Speed: 10.4ms preprocess, 98.0ms inference, 1.4ms postprocess per image at shape (1, 3, 736, 1280)\n"
          ]
        },
        {
          "name": "stderr",
          "output_type": "stream",
          "text": [
            "collecting crops: 14it [00:02,  6.78it/s]"
          ]
        },
        {
          "name": "stdout",
          "output_type": "stream",
          "text": [
            "\n",
            "0: 736x1280 1 goalkeeper, 22 players, 2 referees, 99.3ms\n",
            "Speed: 10.3ms preprocess, 99.3ms inference, 1.5ms postprocess per image at shape (1, 3, 736, 1280)\n"
          ]
        },
        {
          "name": "stderr",
          "output_type": "stream",
          "text": [
            "collecting crops: 15it [00:02,  6.76it/s]"
          ]
        },
        {
          "name": "stdout",
          "output_type": "stream",
          "text": [
            "\n",
            "0: 736x1280 1 goalkeeper, 20 players, 1 referee, 95.4ms\n",
            "Speed: 11.8ms preprocess, 95.4ms inference, 1.5ms postprocess per image at shape (1, 3, 736, 1280)\n"
          ]
        },
        {
          "name": "stderr",
          "output_type": "stream",
          "text": [
            "collecting crops: 16it [00:02,  6.79it/s]"
          ]
        },
        {
          "name": "stdout",
          "output_type": "stream",
          "text": [
            "\n",
            "0: 736x1280 1 goalkeeper, 20 players, 3 referees, 99.4ms\n",
            "Speed: 9.6ms preprocess, 99.4ms inference, 1.8ms postprocess per image at shape (1, 3, 736, 1280)\n"
          ]
        },
        {
          "name": "stderr",
          "output_type": "stream",
          "text": [
            "collecting crops: 17it [00:02,  6.76it/s]"
          ]
        },
        {
          "name": "stdout",
          "output_type": "stream",
          "text": [
            "\n",
            "0: 736x1280 1 goalkeeper, 23 players, 1 referee, 99.1ms\n",
            "Speed: 9.6ms preprocess, 99.1ms inference, 1.8ms postprocess per image at shape (1, 3, 736, 1280)\n"
          ]
        },
        {
          "name": "stderr",
          "output_type": "stream",
          "text": [
            "collecting crops: 18it [00:02,  6.65it/s]"
          ]
        },
        {
          "name": "stdout",
          "output_type": "stream",
          "text": [
            "\n",
            "0: 736x1280 1 goalkeeper, 21 players, 2 referees, 100.2ms\n",
            "Speed: 10.5ms preprocess, 100.2ms inference, 1.7ms postprocess per image at shape (1, 3, 736, 1280)\n"
          ]
        },
        {
          "name": "stderr",
          "output_type": "stream",
          "text": [
            "collecting crops: 19it [00:03,  6.66it/s]"
          ]
        },
        {
          "name": "stdout",
          "output_type": "stream",
          "text": [
            "\n",
            "0: 736x1280 1 goalkeeper, 23 players, 2 referees, 98.9ms\n",
            "Speed: 10.2ms preprocess, 98.9ms inference, 1.6ms postprocess per image at shape (1, 3, 736, 1280)\n"
          ]
        },
        {
          "name": "stderr",
          "output_type": "stream",
          "text": [
            "collecting crops: 20it [00:03,  6.69it/s]"
          ]
        },
        {
          "name": "stdout",
          "output_type": "stream",
          "text": [
            "\n",
            "0: 736x1280 1 goalkeeper, 19 players, 2 referees, 99.8ms\n",
            "Speed: 11.5ms preprocess, 99.8ms inference, 1.4ms postprocess per image at shape (1, 3, 736, 1280)\n"
          ]
        },
        {
          "name": "stderr",
          "output_type": "stream",
          "text": [
            "collecting crops: 21it [00:03,  6.72it/s]"
          ]
        },
        {
          "name": "stdout",
          "output_type": "stream",
          "text": [
            "\n",
            "0: 736x1280 1 goalkeeper, 20 players, 2 referees, 100.2ms\n",
            "Speed: 6.8ms preprocess, 100.2ms inference, 1.6ms postprocess per image at shape (1, 3, 736, 1280)\n"
          ]
        },
        {
          "name": "stderr",
          "output_type": "stream",
          "text": [
            "collecting crops: 22it [00:03,  6.77it/s]"
          ]
        },
        {
          "name": "stdout",
          "output_type": "stream",
          "text": [
            "\n",
            "0: 736x1280 1 goalkeeper, 20 players, 2 referees, 98.3ms\n",
            "Speed: 8.4ms preprocess, 98.3ms inference, 1.5ms postprocess per image at shape (1, 3, 736, 1280)\n"
          ]
        },
        {
          "name": "stderr",
          "output_type": "stream",
          "text": [
            "collecting crops: 23it [00:03,  6.81it/s]"
          ]
        },
        {
          "name": "stdout",
          "output_type": "stream",
          "text": [
            "\n",
            "0: 736x1280 1 goalkeeper, 22 players, 1 referee, 99.2ms\n",
            "Speed: 9.1ms preprocess, 99.2ms inference, 1.4ms postprocess per image at shape (1, 3, 736, 1280)\n"
          ]
        },
        {
          "name": "stderr",
          "output_type": "stream",
          "text": [
            "collecting crops: 24it [00:03,  6.84it/s]"
          ]
        },
        {
          "name": "stdout",
          "output_type": "stream",
          "text": [
            "\n",
            "0: 736x1280 2 goalkeepers, 22 players, 2 referees, 98.5ms\n",
            "Speed: 8.0ms preprocess, 98.5ms inference, 1.5ms postprocess per image at shape (1, 3, 736, 1280)\n"
          ]
        },
        {
          "name": "stderr",
          "output_type": "stream",
          "text": [
            "collecting crops: 25it [00:03,  6.32it/s]\n",
            "Embedding extraction: 19it [00:06,  3.02it/s]\n"
          ]
        }
      ],
      "source": [
        "import supervision as sv\n",
        "from tqdm import tqdm\n",
        "from sports.common.team import TeamClassifier\n",
        "\n",
        "\n",
        "frame_generator = sv.get_video_frames_generator(\n",
        "    source_path=SOURCE_VIDEO_PATH, stride=STRIDE)\n",
        "\n",
        "crops = []\n",
        "for frame in tqdm(frame_generator, desc='collecting crops'):\n",
        "    result = model.predict(frame, conf=0.1)[0]\n",
        "    detections = sv.Detections.from_ultralytics(result)\n",
        "    players_detections = detections[detections.class_id == PLAYER_ID]\n",
        "    players_crops = [sv.crop_image(frame, xyxy) for xyxy in detections.xyxy]\n",
        "    crops += players_crops\n",
        "\n",
        "team_classifier = TeamClassifier(device=\"cuda\")\n",
        "team_classifier.fit(crops)"
      ]
    },
    {
      "cell_type": "code",
      "execution_count": null,
      "metadata": {},
      "outputs": [
        {
          "name": "stdout",
          "output_type": "stream",
          "text": [
            "\n",
            "0: 736x1280 4 goalkeepers, 21 players, 2 referees, 377.9ms\n",
            "Speed: 15.0ms preprocess, 377.9ms inference, 2.1ms postprocess per image at shape (1, 3, 736, 1280)\n"
          ]
        },
        {
          "name": "stderr",
          "output_type": "stream",
          "text": [
            "Embedding extraction: 1it [00:00,  5.05it/s]\n"
          ]
        },
        {
          "data": {
            "text/plain": [
              "<Figure size 1200x1200 with 1 Axes>"
            ]
          },
          "metadata": {},
          "output_type": "display_data"
        }
      ],
      "source": [
        "import supervision as sv\n",
        "\n",
        "BALL_ID = 0\n",
        "GOALKEEPER_ID = 1\n",
        "PLAYER_ID = 2\n",
        "REFEREE_ID = 3\n",
        "\n",
        "ellipse_annotator = sv.EllipseAnnotator(\n",
        "    color=sv.ColorPalette.from_hex(['#00BFFF', '#FF1493', '#FFD700']),\n",
        "    thickness=2\n",
        ")\n",
        "label_annotator = sv.LabelAnnotator(\n",
        "    color=sv.ColorPalette.from_hex(['#00BFFF', '#FF1493', '#FFD700']),\n",
        "    text_color=sv.Color.from_hex('#000000'),\n",
        "    text_position=sv.Position.BOTTOM_CENTER\n",
        ")\n",
        "triangle_annotator = sv.TriangleAnnotator(\n",
        "    color=sv.Color.from_hex('#FFD700'),\n",
        "    base=25,\n",
        "    height=21,\n",
        "    outline_thickness=1\n",
        ")\n",
        "\n",
        "tracker = sv.ByteTrack()\n",
        "tracker.reset()\n",
        "\n",
        "frame_generator = sv.get_video_frames_generator(SOURCE_VIDEO_PATH)\n",
        "frame = next(frame_generator)\n",
        "\n",
        "result = model.predict(frame, conf=0.1)[0]\n",
        "detections = sv.Detections.from_ultralytics(result)\n",
        "\n",
        "ball_detections = detections[detections.class_id == BALL_ID]\n",
        "ball_detections.xyxy = sv.pad_boxes(xyxy=ball_detections.xyxy, px=10)\n",
        "\n",
        "all_detections = detections[detections.class_id != BALL_ID]\n",
        "all_detections = all_detections.with_nms(threshold=0.5, class_agnostic=True)\n",
        "all_detections = tracker.update_with_detections(detections=all_detections)\n",
        "\n",
        "goalkeepers_detections = all_detections[all_detections.class_id == GOALKEEPER_ID]\n",
        "players_detections = all_detections[all_detections.class_id == PLAYER_ID]\n",
        "referees_detections = all_detections[all_detections.class_id == REFEREE_ID]\n",
        "\n",
        "players_crops = [sv.crop_image(frame, xyxy) for xyxy in players_detections.xyxy]\n",
        "players_detections.class_id = team_classifier.predict(players_crops)\n",
        "\n",
        "goalkeepers_detections.class_id = resolve_goalkeepers_team_id(\n",
        "    players_detections, goalkeepers_detections)\n",
        "\n",
        "referees_detections.class_id -= 1\n",
        "\n",
        "all_detections = sv.Detections.merge([\n",
        "    players_detections, goalkeepers_detections, referees_detections])\n",
        "\n",
        "labels = [\n",
        "    f\"#{tracker_id}\"\n",
        "    for tracker_id\n",
        "    in all_detections.tracker_id\n",
        "]\n",
        "\n",
        "all_detections.class_id = all_detections.class_id.astype(int)\n",
        "\n",
        "annotated_frame = frame.copy()\n",
        "annotated_frame = ellipse_annotator.annotate(\n",
        "    scene=annotated_frame,\n",
        "    detections=all_detections)\n",
        "annotated_frame = label_annotator.annotate(\n",
        "    scene=annotated_frame,\n",
        "    detections=all_detections,\n",
        "    labels=labels)\n",
        "annotated_frame = triangle_annotator.annotate(\n",
        "    scene=annotated_frame,\n",
        "    detections=ball_detections)\n",
        "\n",
        "sv.plot_image(annotated_frame)"
      ]
    },
    {
      "cell_type": "code",
      "execution_count": 29,
      "metadata": {},
      "outputs": [
        {
          "name": "stderr",
          "output_type": "stream",
          "text": [
            "  0%|          | 0/750 [00:00<?, ?it/s]"
          ]
        },
        {
          "name": "stdout",
          "output_type": "stream",
          "text": [
            "\n",
            "0: 736x1280 4 goalkeepers, 21 players, 2 referees, 385.0ms\n",
            "Speed: 32.5ms preprocess, 385.0ms inference, 11.2ms postprocess per image at shape (1, 3, 736, 1280)\n"
          ]
        },
        {
          "name": "stderr",
          "output_type": "stream",
          "text": [
            "Embedding extraction: 1it [00:00,  3.39it/s]\n",
            "  0%|          | 1/750 [00:00<12:20,  1.01it/s]"
          ]
        },
        {
          "name": "stdout",
          "output_type": "stream",
          "text": [
            "\n",
            "0: 736x1280 4 goalkeepers, 21 players, 2 referees, 104.7ms\n",
            "Speed: 7.9ms preprocess, 104.7ms inference, 1.9ms postprocess per image at shape (1, 3, 736, 1280)\n"
          ]
        },
        {
          "name": "stderr",
          "output_type": "stream",
          "text": [
            "Embedding extraction: 1it [00:00,  3.85it/s]\n",
            "  0%|          | 2/750 [00:01<08:27,  1.48it/s]"
          ]
        },
        {
          "name": "stdout",
          "output_type": "stream",
          "text": [
            "\n",
            "0: 736x1280 1 ball, 3 goalkeepers, 20 players, 2 referees, 99.8ms\n",
            "Speed: 11.9ms preprocess, 99.8ms inference, 1.7ms postprocess per image at shape (1, 3, 736, 1280)\n"
          ]
        },
        {
          "name": "stderr",
          "output_type": "stream",
          "text": [
            "Embedding extraction: 1it [00:00,  4.42it/s]\n",
            "  0%|          | 3/750 [00:01<07:04,  1.76it/s]"
          ]
        },
        {
          "name": "stdout",
          "output_type": "stream",
          "text": [
            "\n",
            "0: 736x1280 1 ball, 3 goalkeepers, 21 players, 1 referee, 99.3ms\n",
            "Speed: 10.3ms preprocess, 99.3ms inference, 1.8ms postprocess per image at shape (1, 3, 736, 1280)\n"
          ]
        },
        {
          "name": "stderr",
          "output_type": "stream",
          "text": [
            "Embedding extraction: 1it [00:00,  4.67it/s]\n",
            "  1%|          | 4/750 [00:02<06:15,  1.99it/s]"
          ]
        },
        {
          "name": "stdout",
          "output_type": "stream",
          "text": [
            "\n",
            "0: 736x1280 1 ball, 3 goalkeepers, 22 players, 1 referee, 106.5ms\n",
            "Speed: 10.3ms preprocess, 106.5ms inference, 2.9ms postprocess per image at shape (1, 3, 736, 1280)\n"
          ]
        },
        {
          "name": "stderr",
          "output_type": "stream",
          "text": [
            "Embedding extraction: 1it [00:00,  4.41it/s]\n",
            "  1%|          | 5/750 [00:02<05:54,  2.10it/s]"
          ]
        },
        {
          "name": "stdout",
          "output_type": "stream",
          "text": [
            "\n",
            "0: 736x1280 4 goalkeepers, 23 players, 3 referees, 99.9ms\n",
            "Speed: 8.4ms preprocess, 99.9ms inference, 1.9ms postprocess per image at shape (1, 3, 736, 1280)\n"
          ]
        },
        {
          "name": "stderr",
          "output_type": "stream",
          "text": [
            "Embedding extraction: 1it [00:00,  5.00it/s]\n",
            "  1%|          | 6/750 [00:03<05:31,  2.25it/s]"
          ]
        },
        {
          "name": "stdout",
          "output_type": "stream",
          "text": [
            "\n",
            "0: 736x1280 1 ball, 4 goalkeepers, 22 players, 2 referees, 102.1ms\n",
            "Speed: 8.8ms preprocess, 102.1ms inference, 1.7ms postprocess per image at shape (1, 3, 736, 1280)\n"
          ]
        },
        {
          "name": "stderr",
          "output_type": "stream",
          "text": [
            "Embedding extraction: 1it [00:00,  4.98it/s]\n",
            "  1%|          | 7/750 [00:03<05:14,  2.36it/s]"
          ]
        },
        {
          "name": "stdout",
          "output_type": "stream",
          "text": [
            "\n",
            "0: 736x1280 1 ball, 4 goalkeepers, 17 players, 2 referees, 100.3ms\n",
            "Speed: 8.4ms preprocess, 100.3ms inference, 1.9ms postprocess per image at shape (1, 3, 736, 1280)\n"
          ]
        },
        {
          "name": "stderr",
          "output_type": "stream",
          "text": [
            "Embedding extraction: 1it [00:00,  5.71it/s]\n",
            "  1%|          | 8/750 [00:03<04:54,  2.52it/s]"
          ]
        },
        {
          "name": "stdout",
          "output_type": "stream",
          "text": [
            "\n",
            "0: 736x1280 3 goalkeepers, 20 players, 2 referees, 99.7ms\n",
            "Speed: 7.1ms preprocess, 99.7ms inference, 1.4ms postprocess per image at shape (1, 3, 736, 1280)\n"
          ]
        },
        {
          "name": "stderr",
          "output_type": "stream",
          "text": [
            "Embedding extraction: 1it [00:00,  5.46it/s]\n",
            "  1%|          | 9/750 [00:04<04:47,  2.58it/s]"
          ]
        },
        {
          "name": "stdout",
          "output_type": "stream",
          "text": [
            "\n",
            "0: 736x1280 2 goalkeepers, 19 players, 2 referees, 99.4ms\n",
            "Speed: 8.7ms preprocess, 99.4ms inference, 2.1ms postprocess per image at shape (1, 3, 736, 1280)\n"
          ]
        },
        {
          "name": "stderr",
          "output_type": "stream",
          "text": [
            "Embedding extraction: 1it [00:00,  4.88it/s]\n",
            "  1%|▏         | 10/750 [00:04<04:45,  2.59it/s]"
          ]
        },
        {
          "name": "stdout",
          "output_type": "stream",
          "text": [
            "\n",
            "0: 736x1280 3 goalkeepers, 21 players, 2 referees, 99.7ms\n",
            "Speed: 6.2ms preprocess, 99.7ms inference, 1.9ms postprocess per image at shape (1, 3, 736, 1280)\n"
          ]
        },
        {
          "name": "stderr",
          "output_type": "stream",
          "text": [
            "Embedding extraction: 1it [00:00,  5.41it/s]\n",
            "  1%|▏         | 11/750 [00:04<04:36,  2.68it/s]"
          ]
        },
        {
          "name": "stdout",
          "output_type": "stream",
          "text": [
            "\n",
            "0: 736x1280 1 ball, 5 goalkeepers, 20 players, 2 referees, 98.1ms\n",
            "Speed: 6.5ms preprocess, 98.1ms inference, 1.9ms postprocess per image at shape (1, 3, 736, 1280)\n"
          ]
        },
        {
          "name": "stderr",
          "output_type": "stream",
          "text": [
            "Embedding extraction: 1it [00:00,  5.85it/s]\n",
            "  2%|▏         | 12/750 [00:05<04:26,  2.77it/s]"
          ]
        },
        {
          "name": "stdout",
          "output_type": "stream",
          "text": [
            "\n",
            "0: 736x1280 1 ball, 4 goalkeepers, 18 players, 2 referees, 97.7ms\n",
            "Speed: 7.2ms preprocess, 97.7ms inference, 1.7ms postprocess per image at shape (1, 3, 736, 1280)\n"
          ]
        },
        {
          "name": "stderr",
          "output_type": "stream",
          "text": [
            "Embedding extraction: 1it [00:00,  6.02it/s]\n",
            "  2%|▏         | 13/750 [00:05<04:17,  2.86it/s]"
          ]
        },
        {
          "name": "stdout",
          "output_type": "stream",
          "text": [
            "\n",
            "0: 736x1280 1 ball, 4 goalkeepers, 18 players, 3 referees, 97.2ms\n",
            "Speed: 9.8ms preprocess, 97.2ms inference, 1.9ms postprocess per image at shape (1, 3, 736, 1280)\n"
          ]
        },
        {
          "name": "stderr",
          "output_type": "stream",
          "text": [
            "Embedding extraction: 1it [00:00,  6.33it/s]\n",
            "  2%|▏         | 14/750 [00:05<04:11,  2.92it/s]"
          ]
        },
        {
          "name": "stdout",
          "output_type": "stream",
          "text": [
            "\n",
            "0: 736x1280 1 ball, 4 goalkeepers, 19 players, 2 referees, 96.1ms\n",
            "Speed: 6.6ms preprocess, 96.1ms inference, 1.8ms postprocess per image at shape (1, 3, 736, 1280)\n"
          ]
        },
        {
          "name": "stderr",
          "output_type": "stream",
          "text": [
            "Embedding extraction: 1it [00:00,  5.68it/s]\n",
            "  2%|▏         | 15/750 [00:06<04:10,  2.93it/s]"
          ]
        },
        {
          "name": "stdout",
          "output_type": "stream",
          "text": [
            "\n",
            "0: 736x1280 1 ball, 3 goalkeepers, 18 players, 2 referees, 94.8ms\n",
            "Speed: 7.2ms preprocess, 94.8ms inference, 2.0ms postprocess per image at shape (1, 3, 736, 1280)\n"
          ]
        },
        {
          "name": "stderr",
          "output_type": "stream",
          "text": [
            "Embedding extraction: 1it [00:00,  5.81it/s]\n",
            "  2%|▏         | 16/750 [00:06<04:07,  2.96it/s]"
          ]
        },
        {
          "name": "stdout",
          "output_type": "stream",
          "text": [
            "\n",
            "0: 736x1280 1 ball, 3 goalkeepers, 20 players, 2 referees, 94.5ms\n",
            "Speed: 6.4ms preprocess, 94.5ms inference, 1.8ms postprocess per image at shape (1, 3, 736, 1280)\n"
          ]
        },
        {
          "name": "stderr",
          "output_type": "stream",
          "text": [
            "Embedding extraction: 1it [00:00,  5.65it/s]\n",
            "  2%|▏         | 17/750 [00:06<04:06,  2.97it/s]"
          ]
        },
        {
          "name": "stdout",
          "output_type": "stream",
          "text": [
            "\n",
            "0: 736x1280 1 ball, 3 goalkeepers, 21 players, 2 referees, 95.3ms\n",
            "Speed: 6.7ms preprocess, 95.3ms inference, 1.7ms postprocess per image at shape (1, 3, 736, 1280)\n"
          ]
        },
        {
          "name": "stderr",
          "output_type": "stream",
          "text": [
            "Embedding extraction: 1it [00:00,  5.75it/s]\n",
            "  2%|▏         | 18/750 [00:07<04:05,  2.98it/s]"
          ]
        },
        {
          "name": "stdout",
          "output_type": "stream",
          "text": [
            "\n",
            "0: 736x1280 3 goalkeepers, 21 players, 1 referee, 94.8ms\n",
            "Speed: 6.2ms preprocess, 94.8ms inference, 1.4ms postprocess per image at shape (1, 3, 736, 1280)\n"
          ]
        },
        {
          "name": "stderr",
          "output_type": "stream",
          "text": [
            "Embedding extraction: 1it [00:00,  5.46it/s]\n",
            "  3%|▎         | 19/750 [00:07<04:06,  2.96it/s]"
          ]
        },
        {
          "name": "stdout",
          "output_type": "stream",
          "text": [
            "\n",
            "0: 736x1280 3 goalkeepers, 21 players, 2 referees, 94.8ms\n",
            "Speed: 5.9ms preprocess, 94.8ms inference, 1.5ms postprocess per image at shape (1, 3, 736, 1280)\n"
          ]
        },
        {
          "name": "stderr",
          "output_type": "stream",
          "text": [
            "Embedding extraction: 1it [00:00,  5.62it/s]\n",
            "  3%|▎         | 20/750 [00:07<04:06,  2.97it/s]"
          ]
        },
        {
          "name": "stdout",
          "output_type": "stream",
          "text": [
            "\n",
            "0: 736x1280 1 ball, 3 goalkeepers, 22 players, 95.4ms\n",
            "Speed: 6.7ms preprocess, 95.4ms inference, 2.0ms postprocess per image at shape (1, 3, 736, 1280)\n"
          ]
        },
        {
          "name": "stderr",
          "output_type": "stream",
          "text": [
            "Embedding extraction: 1it [00:00,  5.38it/s]\n",
            "  3%|▎         | 21/750 [00:08<04:07,  2.94it/s]"
          ]
        },
        {
          "name": "stdout",
          "output_type": "stream",
          "text": [
            "\n",
            "0: 736x1280 3 goalkeepers, 20 players, 1 referee, 95.5ms\n",
            "Speed: 6.6ms preprocess, 95.5ms inference, 1.6ms postprocess per image at shape (1, 3, 736, 1280)\n"
          ]
        },
        {
          "name": "stderr",
          "output_type": "stream",
          "text": [
            "Embedding extraction: 1it [00:00,  5.26it/s]\n",
            "  3%|▎         | 22/750 [00:08<04:09,  2.92it/s]"
          ]
        },
        {
          "name": "stdout",
          "output_type": "stream",
          "text": [
            "\n",
            "0: 736x1280 3 goalkeepers, 20 players, 2 referees, 95.6ms\n",
            "Speed: 7.4ms preprocess, 95.6ms inference, 1.9ms postprocess per image at shape (1, 3, 736, 1280)\n"
          ]
        },
        {
          "name": "stderr",
          "output_type": "stream",
          "text": [
            "Embedding extraction: 1it [00:00,  5.56it/s]\n",
            "  3%|▎         | 23/750 [00:08<04:08,  2.93it/s]"
          ]
        },
        {
          "name": "stdout",
          "output_type": "stream",
          "text": [
            "\n",
            "0: 736x1280 3 goalkeepers, 19 players, 2 referees, 94.7ms\n",
            "Speed: 7.5ms preprocess, 94.7ms inference, 2.1ms postprocess per image at shape (1, 3, 736, 1280)\n"
          ]
        },
        {
          "name": "stderr",
          "output_type": "stream",
          "text": [
            "Embedding extraction: 1it [00:00,  4.93it/s]\n",
            "  3%|▎         | 24/750 [00:09<04:12,  2.88it/s]"
          ]
        },
        {
          "name": "stdout",
          "output_type": "stream",
          "text": [
            "\n",
            "0: 736x1280 3 goalkeepers, 19 players, 2 referees, 94.5ms\n",
            "Speed: 6.3ms preprocess, 94.5ms inference, 1.8ms postprocess per image at shape (1, 3, 736, 1280)\n"
          ]
        },
        {
          "name": "stderr",
          "output_type": "stream",
          "text": [
            "Embedding extraction: 1it [00:00,  5.78it/s]\n",
            "  3%|▎         | 25/750 [00:09<04:06,  2.94it/s]"
          ]
        },
        {
          "name": "stdout",
          "output_type": "stream",
          "text": [
            "\n",
            "0: 736x1280 3 goalkeepers, 20 players, 2 referees, 95.1ms\n",
            "Speed: 6.1ms preprocess, 95.1ms inference, 1.6ms postprocess per image at shape (1, 3, 736, 1280)\n"
          ]
        },
        {
          "name": "stderr",
          "output_type": "stream",
          "text": [
            "Embedding extraction: 1it [00:00,  5.88it/s]\n",
            "  3%|▎         | 26/750 [00:09<04:02,  2.99it/s]"
          ]
        },
        {
          "name": "stdout",
          "output_type": "stream",
          "text": [
            "\n",
            "0: 736x1280 3 goalkeepers, 19 players, 2 referees, 94.6ms\n",
            "Speed: 6.1ms preprocess, 94.6ms inference, 1.4ms postprocess per image at shape (1, 3, 736, 1280)\n"
          ]
        },
        {
          "name": "stderr",
          "output_type": "stream",
          "text": [
            "Embedding extraction: 1it [00:00,  6.17it/s]\n",
            "  4%|▎         | 27/750 [00:10<03:57,  3.04it/s]"
          ]
        },
        {
          "name": "stdout",
          "output_type": "stream",
          "text": [
            "\n",
            "0: 736x1280 3 goalkeepers, 19 players, 2 referees, 94.0ms\n",
            "Speed: 7.0ms preprocess, 94.0ms inference, 1.7ms postprocess per image at shape (1, 3, 736, 1280)\n"
          ]
        },
        {
          "name": "stderr",
          "output_type": "stream",
          "text": [
            "Embedding extraction: 1it [00:00,  6.29it/s]\n",
            "  4%|▎         | 28/750 [00:10<03:54,  3.08it/s]"
          ]
        },
        {
          "name": "stdout",
          "output_type": "stream",
          "text": [
            "\n",
            "0: 736x1280 3 goalkeepers, 19 players, 2 referees, 94.1ms\n",
            "Speed: 9.2ms preprocess, 94.1ms inference, 2.4ms postprocess per image at shape (1, 3, 736, 1280)\n"
          ]
        },
        {
          "name": "stderr",
          "output_type": "stream",
          "text": [
            "Embedding extraction: 1it [00:00,  5.78it/s]\n",
            "  4%|▍         | 29/750 [00:10<03:55,  3.06it/s]"
          ]
        },
        {
          "name": "stdout",
          "output_type": "stream",
          "text": [
            "\n",
            "0: 736x1280 3 goalkeepers, 20 players, 2 referees, 93.7ms\n",
            "Speed: 7.0ms preprocess, 93.7ms inference, 1.6ms postprocess per image at shape (1, 3, 736, 1280)\n"
          ]
        },
        {
          "name": "stderr",
          "output_type": "stream",
          "text": [
            "Embedding extraction: 1it [00:00,  6.25it/s]\n",
            "  4%|▍         | 30/750 [00:11<03:52,  3.10it/s]"
          ]
        },
        {
          "name": "stdout",
          "output_type": "stream",
          "text": [
            "\n",
            "0: 736x1280 3 goalkeepers, 19 players, 2 referees, 93.4ms\n",
            "Speed: 6.4ms preprocess, 93.4ms inference, 2.2ms postprocess per image at shape (1, 3, 736, 1280)\n"
          ]
        },
        {
          "name": "stderr",
          "output_type": "stream",
          "text": [
            "Embedding extraction: 1it [00:00,  6.29it/s]\n",
            "  4%|▍         | 31/750 [00:11<03:49,  3.13it/s]"
          ]
        },
        {
          "name": "stdout",
          "output_type": "stream",
          "text": [
            "\n",
            "0: 736x1280 3 goalkeepers, 19 players, 1 referee, 94.7ms\n",
            "Speed: 6.2ms preprocess, 94.7ms inference, 1.8ms postprocess per image at shape (1, 3, 736, 1280)\n"
          ]
        },
        {
          "name": "stderr",
          "output_type": "stream",
          "text": [
            "Embedding extraction: 1it [00:00,  5.88it/s]\n",
            "  4%|▍         | 32/750 [00:11<03:51,  3.11it/s]"
          ]
        },
        {
          "name": "stdout",
          "output_type": "stream",
          "text": [
            "\n",
            "0: 736x1280 3 goalkeepers, 20 players, 2 referees, 93.6ms\n",
            "Speed: 7.2ms preprocess, 93.6ms inference, 2.1ms postprocess per image at shape (1, 3, 736, 1280)\n"
          ]
        },
        {
          "name": "stderr",
          "output_type": "stream",
          "text": [
            "Embedding extraction: 1it [00:00,  6.06it/s]\n",
            "  4%|▍         | 33/750 [00:12<03:51,  3.10it/s]"
          ]
        },
        {
          "name": "stdout",
          "output_type": "stream",
          "text": [
            "\n",
            "0: 736x1280 3 goalkeepers, 18 players, 2 referees, 94.8ms\n",
            "Speed: 7.1ms preprocess, 94.8ms inference, 1.7ms postprocess per image at shape (1, 3, 736, 1280)\n"
          ]
        },
        {
          "name": "stderr",
          "output_type": "stream",
          "text": [
            "Embedding extraction: 1it [00:00,  6.13it/s]\n",
            "  5%|▍         | 34/750 [00:12<03:50,  3.11it/s]"
          ]
        },
        {
          "name": "stdout",
          "output_type": "stream",
          "text": [
            "\n",
            "0: 736x1280 2 goalkeepers, 20 players, 2 referees, 92.2ms\n",
            "Speed: 6.5ms preprocess, 92.2ms inference, 2.0ms postprocess per image at shape (1, 3, 736, 1280)\n"
          ]
        },
        {
          "name": "stderr",
          "output_type": "stream",
          "text": [
            "Embedding extraction: 1it [00:00,  5.75it/s]\n",
            "  5%|▍         | 35/750 [00:12<03:50,  3.10it/s]"
          ]
        },
        {
          "name": "stdout",
          "output_type": "stream",
          "text": [
            "\n",
            "0: 736x1280 2 goalkeepers, 18 players, 3 referees, 94.9ms\n",
            "Speed: 8.3ms preprocess, 94.9ms inference, 1.4ms postprocess per image at shape (1, 3, 736, 1280)\n"
          ]
        },
        {
          "name": "stderr",
          "output_type": "stream",
          "text": [
            "Embedding extraction: 1it [00:00,  5.71it/s]\n",
            "  5%|▍         | 36/750 [00:13<03:52,  3.07it/s]"
          ]
        },
        {
          "name": "stdout",
          "output_type": "stream",
          "text": [
            "\n",
            "0: 736x1280 2 goalkeepers, 18 players, 2 referees, 94.1ms\n",
            "Speed: 7.1ms preprocess, 94.1ms inference, 2.1ms postprocess per image at shape (1, 3, 736, 1280)\n"
          ]
        },
        {
          "name": "stderr",
          "output_type": "stream",
          "text": [
            "Embedding extraction: 1it [00:00,  5.81it/s]\n",
            "  5%|▍         | 37/750 [00:13<03:51,  3.07it/s]"
          ]
        },
        {
          "name": "stdout",
          "output_type": "stream",
          "text": [
            "\n",
            "0: 736x1280 3 goalkeepers, 19 players, 2 referees, 93.1ms\n",
            "Speed: 6.5ms preprocess, 93.1ms inference, 1.8ms postprocess per image at shape (1, 3, 736, 1280)\n"
          ]
        },
        {
          "name": "stderr",
          "output_type": "stream",
          "text": [
            "Embedding extraction: 1it [00:00,  5.71it/s]\n",
            "  5%|▌         | 38/750 [00:13<03:52,  3.07it/s]"
          ]
        },
        {
          "name": "stdout",
          "output_type": "stream",
          "text": [
            "\n",
            "0: 736x1280 3 goalkeepers, 19 players, 2 referees, 92.8ms\n",
            "Speed: 6.1ms preprocess, 92.8ms inference, 2.1ms postprocess per image at shape (1, 3, 736, 1280)\n"
          ]
        },
        {
          "name": "stderr",
          "output_type": "stream",
          "text": [
            "Embedding extraction: 1it [00:00,  6.17it/s]\n",
            "  5%|▌         | 39/750 [00:14<03:49,  3.10it/s]"
          ]
        },
        {
          "name": "stdout",
          "output_type": "stream",
          "text": [
            "\n",
            "0: 736x1280 2 goalkeepers, 19 players, 2 referees, 94.1ms\n",
            "Speed: 7.6ms preprocess, 94.1ms inference, 2.4ms postprocess per image at shape (1, 3, 736, 1280)\n"
          ]
        },
        {
          "name": "stderr",
          "output_type": "stream",
          "text": [
            "Embedding extraction: 1it [00:00,  5.85it/s]\n",
            "  5%|▌         | 40/750 [00:14<03:50,  3.08it/s]"
          ]
        },
        {
          "name": "stdout",
          "output_type": "stream",
          "text": [
            "\n",
            "0: 736x1280 3 goalkeepers, 20 players, 2 referees, 93.9ms\n",
            "Speed: 7.7ms preprocess, 93.9ms inference, 1.7ms postprocess per image at shape (1, 3, 736, 1280)\n"
          ]
        },
        {
          "name": "stderr",
          "output_type": "stream",
          "text": [
            "Embedding extraction: 1it [00:00,  5.68it/s]\n",
            "  5%|▌         | 41/750 [00:14<03:53,  3.04it/s]"
          ]
        },
        {
          "name": "stdout",
          "output_type": "stream",
          "text": [
            "\n",
            "0: 736x1280 3 goalkeepers, 20 players, 2 referees, 93.8ms\n",
            "Speed: 7.5ms preprocess, 93.8ms inference, 1.6ms postprocess per image at shape (1, 3, 736, 1280)\n"
          ]
        },
        {
          "name": "stderr",
          "output_type": "stream",
          "text": [
            "Embedding extraction: 1it [00:00,  5.85it/s]\n",
            "  6%|▌         | 42/750 [00:15<03:51,  3.05it/s]"
          ]
        },
        {
          "name": "stdout",
          "output_type": "stream",
          "text": [
            "\n",
            "0: 736x1280 2 goalkeepers, 21 players, 1 referee, 93.8ms\n",
            "Speed: 5.9ms preprocess, 93.8ms inference, 1.4ms postprocess per image at shape (1, 3, 736, 1280)\n"
          ]
        },
        {
          "name": "stderr",
          "output_type": "stream",
          "text": [
            "Embedding extraction: 1it [00:00,  5.26it/s]\n",
            "  6%|▌         | 43/750 [00:15<03:56,  2.99it/s]"
          ]
        },
        {
          "name": "stdout",
          "output_type": "stream",
          "text": [
            "\n",
            "0: 736x1280 2 goalkeepers, 23 players, 1 referee, 94.5ms\n",
            "Speed: 6.2ms preprocess, 94.5ms inference, 1.4ms postprocess per image at shape (1, 3, 736, 1280)\n"
          ]
        },
        {
          "name": "stderr",
          "output_type": "stream",
          "text": [
            "Embedding extraction: 1it [00:00,  5.24it/s]\n",
            "  6%|▌         | 44/750 [00:15<03:58,  2.96it/s]"
          ]
        },
        {
          "name": "stdout",
          "output_type": "stream",
          "text": [
            "\n",
            "0: 736x1280 2 goalkeepers, 21 players, 2 referees, 93.9ms\n",
            "Speed: 6.9ms preprocess, 93.9ms inference, 1.4ms postprocess per image at shape (1, 3, 736, 1280)\n"
          ]
        },
        {
          "name": "stderr",
          "output_type": "stream",
          "text": [
            "Embedding extraction: 1it [00:00,  5.92it/s]\n",
            "  6%|▌         | 45/750 [00:16<03:55,  3.00it/s]"
          ]
        },
        {
          "name": "stdout",
          "output_type": "stream",
          "text": [
            "\n",
            "0: 736x1280 2 goalkeepers, 21 players, 2 referees, 94.1ms\n",
            "Speed: 7.9ms preprocess, 94.1ms inference, 1.7ms postprocess per image at shape (1, 3, 736, 1280)\n"
          ]
        },
        {
          "name": "stderr",
          "output_type": "stream",
          "text": [
            "Embedding extraction: 1it [00:00,  5.81it/s]\n",
            "  6%|▌         | 46/750 [00:16<03:53,  3.01it/s]"
          ]
        },
        {
          "name": "stdout",
          "output_type": "stream",
          "text": [
            "\n",
            "0: 736x1280 2 goalkeepers, 21 players, 2 referees, 94.0ms\n",
            "Speed: 7.0ms preprocess, 94.0ms inference, 1.5ms postprocess per image at shape (1, 3, 736, 1280)\n"
          ]
        },
        {
          "name": "stderr",
          "output_type": "stream",
          "text": [
            "Embedding extraction: 1it [00:00,  5.43it/s]\n",
            "  6%|▋         | 47/750 [00:16<03:55,  2.98it/s]"
          ]
        },
        {
          "name": "stdout",
          "output_type": "stream",
          "text": [
            "\n",
            "0: 736x1280 2 goalkeepers, 21 players, 2 referees, 94.6ms\n",
            "Speed: 10.2ms preprocess, 94.6ms inference, 2.1ms postprocess per image at shape (1, 3, 736, 1280)\n"
          ]
        },
        {
          "name": "stderr",
          "output_type": "stream",
          "text": [
            "Embedding extraction: 1it [00:00,  5.13it/s]\n",
            "  6%|▋         | 48/750 [00:17<04:00,  2.92it/s]"
          ]
        },
        {
          "name": "stdout",
          "output_type": "stream",
          "text": [
            "\n",
            "0: 736x1280 2 goalkeepers, 18 players, 2 referees, 95.4ms\n",
            "Speed: 6.0ms preprocess, 95.4ms inference, 1.7ms postprocess per image at shape (1, 3, 736, 1280)\n"
          ]
        },
        {
          "name": "stderr",
          "output_type": "stream",
          "text": [
            "Embedding extraction: 1it [00:00,  5.78it/s]\n",
            "  7%|▋         | 49/750 [00:17<03:56,  2.96it/s]"
          ]
        },
        {
          "name": "stdout",
          "output_type": "stream",
          "text": [
            "\n",
            "0: 736x1280 2 goalkeepers, 19 players, 2 referees, 95.3ms\n",
            "Speed: 7.0ms preprocess, 95.3ms inference, 1.5ms postprocess per image at shape (1, 3, 736, 1280)\n"
          ]
        },
        {
          "name": "stderr",
          "output_type": "stream",
          "text": [
            "Embedding extraction: 1it [00:00,  5.71it/s]\n",
            "  7%|▋         | 50/750 [00:17<03:55,  2.98it/s]"
          ]
        },
        {
          "name": "stdout",
          "output_type": "stream",
          "text": [
            "\n",
            "0: 736x1280 2 goalkeepers, 21 players, 2 referees, 95.7ms\n",
            "Speed: 6.5ms preprocess, 95.7ms inference, 1.5ms postprocess per image at shape (1, 3, 736, 1280)\n"
          ]
        },
        {
          "name": "stderr",
          "output_type": "stream",
          "text": [
            "Embedding extraction: 1it [00:00,  5.92it/s]\n",
            "  7%|▋         | 51/750 [00:18<03:52,  3.00it/s]"
          ]
        },
        {
          "name": "stdout",
          "output_type": "stream",
          "text": [
            "\n",
            "0: 736x1280 2 goalkeepers, 21 players, 2 referees, 94.7ms\n",
            "Speed: 5.9ms preprocess, 94.7ms inference, 1.5ms postprocess per image at shape (1, 3, 736, 1280)\n"
          ]
        },
        {
          "name": "stderr",
          "output_type": "stream",
          "text": [
            "Embedding extraction: 1it [00:00,  5.65it/s]\n",
            "  7%|▋         | 52/750 [00:18<03:52,  3.00it/s]"
          ]
        },
        {
          "name": "stdout",
          "output_type": "stream",
          "text": [
            "\n",
            "0: 736x1280 2 goalkeepers, 21 players, 2 referees, 94.9ms\n",
            "Speed: 6.4ms preprocess, 94.9ms inference, 1.6ms postprocess per image at shape (1, 3, 736, 1280)\n"
          ]
        },
        {
          "name": "stderr",
          "output_type": "stream",
          "text": [
            "Embedding extraction: 1it [00:00,  5.32it/s]\n",
            "  7%|▋         | 53/750 [00:18<03:54,  2.97it/s]"
          ]
        },
        {
          "name": "stdout",
          "output_type": "stream",
          "text": [
            "\n",
            "0: 736x1280 1 goalkeeper, 20 players, 2 referees, 94.9ms\n",
            "Speed: 6.7ms preprocess, 94.9ms inference, 1.7ms postprocess per image at shape (1, 3, 736, 1280)\n"
          ]
        },
        {
          "name": "stderr",
          "output_type": "stream",
          "text": [
            "Embedding extraction: 1it [00:00,  5.13it/s]\n",
            "  7%|▋         | 54/750 [00:19<03:57,  2.94it/s]"
          ]
        },
        {
          "name": "stdout",
          "output_type": "stream",
          "text": [
            "\n",
            "0: 736x1280 1 goalkeeper, 20 players, 2 referees, 95.6ms\n",
            "Speed: 5.7ms preprocess, 95.6ms inference, 1.7ms postprocess per image at shape (1, 3, 736, 1280)\n"
          ]
        },
        {
          "name": "stderr",
          "output_type": "stream",
          "text": [
            "Embedding extraction: 1it [00:00,  5.15it/s]\n",
            "  7%|▋         | 55/750 [00:19<03:58,  2.91it/s]"
          ]
        },
        {
          "name": "stdout",
          "output_type": "stream",
          "text": [
            "\n",
            "0: 736x1280 1 goalkeeper, 21 players, 2 referees, 94.9ms\n",
            "Speed: 5.8ms preprocess, 94.9ms inference, 1.4ms postprocess per image at shape (1, 3, 736, 1280)\n"
          ]
        },
        {
          "name": "stderr",
          "output_type": "stream",
          "text": [
            "Embedding extraction: 1it [00:00,  5.00it/s]\n",
            "  7%|▋         | 56/750 [00:19<04:01,  2.87it/s]"
          ]
        },
        {
          "name": "stdout",
          "output_type": "stream",
          "text": [
            "\n",
            "0: 736x1280 1 goalkeeper, 20 players, 2 referees, 95.2ms\n",
            "Speed: 8.5ms preprocess, 95.2ms inference, 1.4ms postprocess per image at shape (1, 3, 736, 1280)\n"
          ]
        },
        {
          "name": "stderr",
          "output_type": "stream",
          "text": [
            "Embedding extraction: 1it [00:00,  5.38it/s]\n",
            "  8%|▊         | 57/750 [00:20<04:00,  2.88it/s]"
          ]
        },
        {
          "name": "stdout",
          "output_type": "stream",
          "text": [
            "\n",
            "0: 736x1280 1 goalkeeper, 21 players, 2 referees, 95.7ms\n",
            "Speed: 6.7ms preprocess, 95.7ms inference, 1.6ms postprocess per image at shape (1, 3, 736, 1280)\n"
          ]
        },
        {
          "name": "stderr",
          "output_type": "stream",
          "text": [
            "Embedding extraction: 1it [00:00,  5.10it/s]\n",
            "  8%|▊         | 58/750 [00:20<04:02,  2.85it/s]"
          ]
        },
        {
          "name": "stdout",
          "output_type": "stream",
          "text": [
            "\n",
            "0: 736x1280 1 goalkeeper, 23 players, 2 referees, 96.5ms\n",
            "Speed: 6.4ms preprocess, 96.5ms inference, 1.8ms postprocess per image at shape (1, 3, 736, 1280)\n"
          ]
        },
        {
          "name": "stderr",
          "output_type": "stream",
          "text": [
            "Embedding extraction: 1it [00:00,  5.35it/s]\n",
            "  8%|▊         | 59/750 [00:20<04:00,  2.87it/s]"
          ]
        },
        {
          "name": "stdout",
          "output_type": "stream",
          "text": [
            "\n",
            "0: 736x1280 1 ball, 1 goalkeeper, 23 players, 2 referees, 95.0ms\n",
            "Speed: 6.9ms preprocess, 95.0ms inference, 1.4ms postprocess per image at shape (1, 3, 736, 1280)\n"
          ]
        },
        {
          "name": "stderr",
          "output_type": "stream",
          "text": [
            "Embedding extraction: 1it [00:00,  5.13it/s]\n",
            "  8%|▊         | 60/750 [00:21<04:01,  2.86it/s]"
          ]
        },
        {
          "name": "stdout",
          "output_type": "stream",
          "text": [
            "\n",
            "0: 736x1280 1 goalkeeper, 22 players, 2 referees, 94.8ms\n",
            "Speed: 7.8ms preprocess, 94.8ms inference, 1.7ms postprocess per image at shape (1, 3, 736, 1280)\n"
          ]
        },
        {
          "name": "stderr",
          "output_type": "stream",
          "text": [
            "Embedding extraction: 1it [00:00,  5.13it/s]\n",
            "  8%|▊         | 61/750 [00:21<04:00,  2.87it/s]"
          ]
        },
        {
          "name": "stdout",
          "output_type": "stream",
          "text": [
            "\n",
            "0: 736x1280 1 goalkeeper, 23 players, 2 referees, 95.5ms\n",
            "Speed: 6.8ms preprocess, 95.5ms inference, 1.5ms postprocess per image at shape (1, 3, 736, 1280)\n"
          ]
        },
        {
          "name": "stderr",
          "output_type": "stream",
          "text": [
            "Embedding extraction: 1it [00:00,  5.18it/s]\n",
            "  8%|▊         | 62/750 [00:21<04:00,  2.86it/s]"
          ]
        },
        {
          "name": "stdout",
          "output_type": "stream",
          "text": [
            "\n",
            "0: 736x1280 1 goalkeeper, 24 players, 1 referee, 94.9ms\n",
            "Speed: 6.5ms preprocess, 94.9ms inference, 1.7ms postprocess per image at shape (1, 3, 736, 1280)\n"
          ]
        },
        {
          "name": "stderr",
          "output_type": "stream",
          "text": [
            "Embedding extraction: 1it [00:00,  4.95it/s]\n",
            "  8%|▊         | 63/750 [00:22<04:01,  2.84it/s]"
          ]
        },
        {
          "name": "stdout",
          "output_type": "stream",
          "text": [
            "\n",
            "0: 736x1280 1 ball, 1 goalkeeper, 24 players, 1 referee, 95.0ms\n",
            "Speed: 6.7ms preprocess, 95.0ms inference, 1.4ms postprocess per image at shape (1, 3, 736, 1280)\n"
          ]
        },
        {
          "name": "stderr",
          "output_type": "stream",
          "text": [
            "Embedding extraction: 1it [00:00,  5.05it/s]\n",
            "  9%|▊         | 64/750 [00:22<04:02,  2.83it/s]"
          ]
        },
        {
          "name": "stdout",
          "output_type": "stream",
          "text": [
            "\n",
            "0: 736x1280 1 ball, 1 goalkeeper, 22 players, 1 referee, 94.4ms\n",
            "Speed: 6.7ms preprocess, 94.4ms inference, 1.4ms postprocess per image at shape (1, 3, 736, 1280)\n"
          ]
        },
        {
          "name": "stderr",
          "output_type": "stream",
          "text": [
            "Embedding extraction: 1it [00:00,  4.90it/s]\n",
            "  9%|▊         | 65/750 [00:23<04:03,  2.81it/s]"
          ]
        },
        {
          "name": "stdout",
          "output_type": "stream",
          "text": [
            "\n",
            "0: 736x1280 1 ball, 1 goalkeeper, 23 players, 1 referee, 94.8ms\n",
            "Speed: 6.6ms preprocess, 94.8ms inference, 1.4ms postprocess per image at shape (1, 3, 736, 1280)\n"
          ]
        },
        {
          "name": "stderr",
          "output_type": "stream",
          "text": [
            "Embedding extraction: 1it [00:00,  5.10it/s]\n",
            "  9%|▉         | 66/750 [00:23<04:02,  2.82it/s]"
          ]
        },
        {
          "name": "stdout",
          "output_type": "stream",
          "text": [
            "\n",
            "0: 736x1280 1 goalkeeper, 24 players, 1 referee, 94.6ms\n",
            "Speed: 6.4ms preprocess, 94.6ms inference, 1.7ms postprocess per image at shape (1, 3, 736, 1280)\n"
          ]
        },
        {
          "name": "stderr",
          "output_type": "stream",
          "text": [
            "Embedding extraction: 1it [00:00,  4.76it/s]\n",
            "  9%|▉         | 67/750 [00:23<04:05,  2.78it/s]"
          ]
        },
        {
          "name": "stdout",
          "output_type": "stream",
          "text": [
            "\n",
            "0: 736x1280 22 players, 1 referee, 95.8ms\n",
            "Speed: 6.0ms preprocess, 95.8ms inference, 1.6ms postprocess per image at shape (1, 3, 736, 1280)\n"
          ]
        },
        {
          "name": "stderr",
          "output_type": "stream",
          "text": [
            "Embedding extraction: 1it [00:00,  4.69it/s]\n",
            "  9%|▉         | 68/750 [00:24<04:07,  2.75it/s]"
          ]
        },
        {
          "name": "stdout",
          "output_type": "stream",
          "text": [
            "\n",
            "0: 736x1280 20 players, 1 referee, 96.3ms\n",
            "Speed: 7.8ms preprocess, 96.3ms inference, 2.1ms postprocess per image at shape (1, 3, 736, 1280)\n"
          ]
        },
        {
          "name": "stderr",
          "output_type": "stream",
          "text": [
            "Embedding extraction: 1it [00:00,  5.38it/s]\n",
            "  9%|▉         | 69/750 [00:24<04:03,  2.79it/s]"
          ]
        },
        {
          "name": "stdout",
          "output_type": "stream",
          "text": [
            "\n",
            "0: 736x1280 21 players, 1 referee, 95.8ms\n",
            "Speed: 6.5ms preprocess, 95.8ms inference, 1.6ms postprocess per image at shape (1, 3, 736, 1280)\n"
          ]
        },
        {
          "name": "stderr",
          "output_type": "stream",
          "text": [
            "Embedding extraction: 1it [00:00,  5.35it/s]\n",
            "  9%|▉         | 70/750 [00:24<04:00,  2.83it/s]"
          ]
        },
        {
          "name": "stdout",
          "output_type": "stream",
          "text": [
            "\n",
            "0: 736x1280 22 players, 1 referee, 94.1ms\n",
            "Speed: 6.2ms preprocess, 94.1ms inference, 1.6ms postprocess per image at shape (1, 3, 736, 1280)\n"
          ]
        },
        {
          "name": "stderr",
          "output_type": "stream",
          "text": [
            "Embedding extraction: 1it [00:00,  5.10it/s]\n",
            "  9%|▉         | 71/750 [00:25<03:59,  2.83it/s]"
          ]
        },
        {
          "name": "stdout",
          "output_type": "stream",
          "text": [
            "\n",
            "0: 736x1280 23 players, 1 referee, 95.2ms\n",
            "Speed: 7.3ms preprocess, 95.2ms inference, 1.7ms postprocess per image at shape (1, 3, 736, 1280)\n"
          ]
        },
        {
          "name": "stderr",
          "output_type": "stream",
          "text": [
            "Embedding extraction: 1it [00:00,  5.10it/s]\n",
            " 10%|▉         | 72/750 [00:25<03:59,  2.83it/s]"
          ]
        },
        {
          "name": "stdout",
          "output_type": "stream",
          "text": [
            "\n",
            "0: 736x1280 25 players, 1 referee, 95.1ms\n",
            "Speed: 6.5ms preprocess, 95.1ms inference, 1.4ms postprocess per image at shape (1, 3, 736, 1280)\n"
          ]
        },
        {
          "name": "stderr",
          "output_type": "stream",
          "text": [
            "Embedding extraction: 1it [00:00,  5.10it/s]\n",
            " 10%|▉         | 73/750 [00:25<03:58,  2.84it/s]"
          ]
        },
        {
          "name": "stdout",
          "output_type": "stream",
          "text": [
            "\n",
            "0: 736x1280 24 players, 1 referee, 95.2ms\n",
            "Speed: 5.9ms preprocess, 95.2ms inference, 1.5ms postprocess per image at shape (1, 3, 736, 1280)\n"
          ]
        },
        {
          "name": "stderr",
          "output_type": "stream",
          "text": [
            "Embedding extraction: 1it [00:00,  5.13it/s]\n",
            " 10%|▉         | 74/750 [00:26<03:57,  2.85it/s]"
          ]
        },
        {
          "name": "stdout",
          "output_type": "stream",
          "text": [
            "\n",
            "0: 736x1280 24 players, 1 referee, 94.4ms\n",
            "Speed: 6.4ms preprocess, 94.4ms inference, 1.5ms postprocess per image at shape (1, 3, 736, 1280)\n"
          ]
        },
        {
          "name": "stderr",
          "output_type": "stream",
          "text": [
            "Embedding extraction: 1it [00:00,  4.93it/s]\n",
            " 10%|█         | 75/750 [00:26<03:59,  2.82it/s]"
          ]
        },
        {
          "name": "stdout",
          "output_type": "stream",
          "text": [
            "\n",
            "0: 736x1280 21 players, 2 referees, 95.9ms\n",
            "Speed: 5.6ms preprocess, 95.9ms inference, 1.4ms postprocess per image at shape (1, 3, 736, 1280)\n"
          ]
        },
        {
          "name": "stderr",
          "output_type": "stream",
          "text": [
            "Embedding extraction: 1it [00:00,  5.15it/s]\n",
            " 10%|█         | 76/750 [00:26<03:57,  2.84it/s]"
          ]
        },
        {
          "name": "stdout",
          "output_type": "stream",
          "text": [
            "\n",
            "0: 736x1280 22 players, 2 referees, 94.2ms\n",
            "Speed: 6.8ms preprocess, 94.2ms inference, 1.5ms postprocess per image at shape (1, 3, 736, 1280)\n"
          ]
        },
        {
          "name": "stderr",
          "output_type": "stream",
          "text": [
            "Embedding extraction: 1it [00:00,  5.24it/s]\n",
            " 10%|█         | 77/750 [00:27<03:55,  2.85it/s]"
          ]
        },
        {
          "name": "stdout",
          "output_type": "stream",
          "text": [
            "\n",
            "0: 736x1280 22 players, 2 referees, 95.3ms\n",
            "Speed: 7.2ms preprocess, 95.3ms inference, 1.5ms postprocess per image at shape (1, 3, 736, 1280)\n"
          ]
        },
        {
          "name": "stderr",
          "output_type": "stream",
          "text": [
            "Embedding extraction: 1it [00:00,  5.10it/s]\n",
            " 10%|█         | 78/750 [00:27<03:55,  2.85it/s]"
          ]
        },
        {
          "name": "stdout",
          "output_type": "stream",
          "text": [
            "\n",
            "0: 736x1280 21 players, 2 referees, 95.3ms\n",
            "Speed: 6.8ms preprocess, 95.3ms inference, 1.8ms postprocess per image at shape (1, 3, 736, 1280)\n"
          ]
        },
        {
          "name": "stderr",
          "output_type": "stream",
          "text": [
            "Embedding extraction: 1it [00:00,  5.41it/s]\n",
            " 11%|█         | 79/750 [00:28<03:53,  2.88it/s]"
          ]
        },
        {
          "name": "stdout",
          "output_type": "stream",
          "text": [
            "\n",
            "0: 736x1280 22 players, 2 referees, 95.3ms\n",
            "Speed: 6.1ms preprocess, 95.3ms inference, 1.5ms postprocess per image at shape (1, 3, 736, 1280)\n"
          ]
        },
        {
          "name": "stderr",
          "output_type": "stream",
          "text": [
            "Embedding extraction: 1it [00:00,  5.10it/s]\n",
            " 11%|█         | 80/750 [00:28<03:54,  2.86it/s]"
          ]
        },
        {
          "name": "stdout",
          "output_type": "stream",
          "text": [
            "\n",
            "0: 736x1280 20 players, 2 referees, 94.8ms\n",
            "Speed: 5.9ms preprocess, 94.8ms inference, 1.6ms postprocess per image at shape (1, 3, 736, 1280)\n"
          ]
        },
        {
          "name": "stderr",
          "output_type": "stream",
          "text": [
            "Embedding extraction: 1it [00:00,  5.15it/s]\n",
            " 11%|█         | 81/750 [00:28<03:53,  2.86it/s]"
          ]
        },
        {
          "name": "stdout",
          "output_type": "stream",
          "text": [
            "\n",
            "0: 736x1280 22 players, 3 referees, 95.1ms\n",
            "Speed: 6.3ms preprocess, 95.1ms inference, 1.4ms postprocess per image at shape (1, 3, 736, 1280)\n"
          ]
        },
        {
          "name": "stderr",
          "output_type": "stream",
          "text": [
            "Embedding extraction: 1it [00:00,  5.08it/s]\n",
            " 11%|█         | 82/750 [00:29<03:54,  2.85it/s]"
          ]
        },
        {
          "name": "stdout",
          "output_type": "stream",
          "text": [
            "\n",
            "0: 736x1280 22 players, 2 referees, 95.4ms\n",
            "Speed: 6.8ms preprocess, 95.4ms inference, 1.7ms postprocess per image at shape (1, 3, 736, 1280)\n"
          ]
        },
        {
          "name": "stderr",
          "output_type": "stream",
          "text": [
            "Embedding extraction: 1it [00:00,  5.03it/s]\n",
            " 11%|█         | 83/750 [00:29<03:55,  2.83it/s]"
          ]
        },
        {
          "name": "stdout",
          "output_type": "stream",
          "text": [
            "\n",
            "0: 736x1280 21 players, 2 referees, 96.4ms\n",
            "Speed: 5.7ms preprocess, 96.4ms inference, 1.4ms postprocess per image at shape (1, 3, 736, 1280)\n"
          ]
        },
        {
          "name": "stderr",
          "output_type": "stream",
          "text": [
            "Embedding extraction: 1it [00:00,  5.05it/s]\n",
            " 11%|█         | 84/750 [00:29<03:56,  2.82it/s]"
          ]
        },
        {
          "name": "stdout",
          "output_type": "stream",
          "text": [
            "\n",
            "0: 736x1280 20 players, 2 referees, 95.7ms\n",
            "Speed: 7.3ms preprocess, 95.7ms inference, 1.9ms postprocess per image at shape (1, 3, 736, 1280)\n"
          ]
        },
        {
          "name": "stderr",
          "output_type": "stream",
          "text": [
            "Embedding extraction: 1it [00:00,  5.03it/s]\n",
            " 11%|█▏        | 85/750 [00:30<03:55,  2.82it/s]"
          ]
        },
        {
          "name": "stdout",
          "output_type": "stream",
          "text": [
            "\n",
            "0: 736x1280 21 players, 3 referees, 95.9ms\n",
            "Speed: 7.1ms preprocess, 95.9ms inference, 1.4ms postprocess per image at shape (1, 3, 736, 1280)\n"
          ]
        },
        {
          "name": "stderr",
          "output_type": "stream",
          "text": [
            "Embedding extraction: 1it [00:00,  5.00it/s]\n",
            " 11%|█▏        | 86/750 [00:30<03:56,  2.81it/s]"
          ]
        },
        {
          "name": "stdout",
          "output_type": "stream",
          "text": [
            "\n",
            "0: 736x1280 21 players, 3 referees, 95.1ms\n",
            "Speed: 6.1ms preprocess, 95.1ms inference, 1.6ms postprocess per image at shape (1, 3, 736, 1280)\n"
          ]
        },
        {
          "name": "stderr",
          "output_type": "stream",
          "text": [
            "Embedding extraction: 1it [00:00,  5.15it/s]\n",
            " 12%|█▏        | 87/750 [00:30<03:55,  2.81it/s]"
          ]
        },
        {
          "name": "stdout",
          "output_type": "stream",
          "text": [
            "\n",
            "0: 736x1280 21 players, 3 referees, 95.6ms\n",
            "Speed: 6.3ms preprocess, 95.6ms inference, 1.4ms postprocess per image at shape (1, 3, 736, 1280)\n"
          ]
        },
        {
          "name": "stderr",
          "output_type": "stream",
          "text": [
            "Embedding extraction: 1it [00:00,  5.13it/s]\n",
            " 12%|█▏        | 88/750 [00:31<03:54,  2.83it/s]"
          ]
        },
        {
          "name": "stdout",
          "output_type": "stream",
          "text": [
            "\n",
            "0: 736x1280 21 players, 3 referees, 95.1ms\n",
            "Speed: 7.6ms preprocess, 95.1ms inference, 1.7ms postprocess per image at shape (1, 3, 736, 1280)\n"
          ]
        },
        {
          "name": "stderr",
          "output_type": "stream",
          "text": [
            "Embedding extraction: 1it [00:00,  5.08it/s]\n",
            " 12%|█▏        | 89/750 [00:31<03:55,  2.81it/s]"
          ]
        },
        {
          "name": "stdout",
          "output_type": "stream",
          "text": [
            "\n",
            "0: 736x1280 23 players, 2 referees, 95.5ms\n",
            "Speed: 6.7ms preprocess, 95.5ms inference, 1.4ms postprocess per image at shape (1, 3, 736, 1280)\n"
          ]
        },
        {
          "name": "stderr",
          "output_type": "stream",
          "text": [
            "Embedding extraction: 1it [00:00,  5.03it/s]\n",
            " 12%|█▏        | 90/750 [00:31<03:54,  2.81it/s]"
          ]
        },
        {
          "name": "stdout",
          "output_type": "stream",
          "text": [
            "\n",
            "0: 736x1280 21 players, 2 referees, 95.9ms\n",
            "Speed: 6.0ms preprocess, 95.9ms inference, 1.9ms postprocess per image at shape (1, 3, 736, 1280)\n"
          ]
        },
        {
          "name": "stderr",
          "output_type": "stream",
          "text": [
            "Embedding extraction: 1it [00:00,  5.21it/s]\n",
            " 12%|█▏        | 91/750 [00:32<03:52,  2.83it/s]"
          ]
        },
        {
          "name": "stdout",
          "output_type": "stream",
          "text": [
            "\n",
            "0: 736x1280 22 players, 2 referees, 95.7ms\n",
            "Speed: 5.6ms preprocess, 95.7ms inference, 1.7ms postprocess per image at shape (1, 3, 736, 1280)\n"
          ]
        },
        {
          "name": "stderr",
          "output_type": "stream",
          "text": [
            "Embedding extraction: 1it [00:00,  5.21it/s]\n",
            " 12%|█▏        | 92/750 [00:32<03:51,  2.84it/s]"
          ]
        },
        {
          "name": "stdout",
          "output_type": "stream",
          "text": [
            "\n",
            "0: 736x1280 21 players, 3 referees, 95.0ms\n",
            "Speed: 6.2ms preprocess, 95.0ms inference, 1.7ms postprocess per image at shape (1, 3, 736, 1280)\n"
          ]
        },
        {
          "name": "stderr",
          "output_type": "stream",
          "text": [
            "Embedding extraction: 1it [00:00,  5.08it/s]\n",
            " 12%|█▏        | 93/750 [00:32<03:50,  2.84it/s]"
          ]
        },
        {
          "name": "stdout",
          "output_type": "stream",
          "text": [
            "\n",
            "0: 736x1280 1 ball, 22 players, 2 referees, 94.7ms\n",
            "Speed: 5.9ms preprocess, 94.7ms inference, 1.3ms postprocess per image at shape (1, 3, 736, 1280)\n"
          ]
        },
        {
          "name": "stderr",
          "output_type": "stream",
          "text": [
            "Embedding extraction: 1it [00:00,  5.24it/s]\n",
            " 13%|█▎        | 94/750 [00:33<03:49,  2.86it/s]"
          ]
        },
        {
          "name": "stdout",
          "output_type": "stream",
          "text": [
            "\n",
            "0: 736x1280 21 players, 3 referees, 94.7ms\n",
            "Speed: 6.2ms preprocess, 94.7ms inference, 1.7ms postprocess per image at shape (1, 3, 736, 1280)\n"
          ]
        },
        {
          "name": "stderr",
          "output_type": "stream",
          "text": [
            "Embedding extraction: 1it [00:00,  5.26it/s]\n",
            " 13%|█▎        | 95/750 [00:33<03:48,  2.87it/s]"
          ]
        },
        {
          "name": "stdout",
          "output_type": "stream",
          "text": [
            "\n",
            "0: 736x1280 22 players, 2 referees, 94.2ms\n",
            "Speed: 6.2ms preprocess, 94.2ms inference, 1.8ms postprocess per image at shape (1, 3, 736, 1280)\n"
          ]
        },
        {
          "name": "stderr",
          "output_type": "stream",
          "text": [
            "Embedding extraction: 1it [00:00,  5.21it/s]\n",
            " 13%|█▎        | 96/750 [00:34<03:47,  2.87it/s]"
          ]
        },
        {
          "name": "stdout",
          "output_type": "stream",
          "text": [
            "\n",
            "0: 736x1280 21 players, 2 referees, 95.5ms\n",
            "Speed: 6.8ms preprocess, 95.5ms inference, 1.8ms postprocess per image at shape (1, 3, 736, 1280)\n"
          ]
        },
        {
          "name": "stderr",
          "output_type": "stream",
          "text": [
            "Embedding extraction: 1it [00:00,  5.13it/s]\n",
            " 13%|█▎        | 97/750 [00:34<03:48,  2.86it/s]"
          ]
        },
        {
          "name": "stdout",
          "output_type": "stream",
          "text": [
            "\n",
            "0: 736x1280 21 players, 2 referees, 94.7ms\n",
            "Speed: 6.7ms preprocess, 94.7ms inference, 1.4ms postprocess per image at shape (1, 3, 736, 1280)\n"
          ]
        },
        {
          "name": "stderr",
          "output_type": "stream",
          "text": [
            "Embedding extraction: 1it [00:00,  5.10it/s]\n",
            " 13%|█▎        | 98/750 [00:34<03:48,  2.86it/s]"
          ]
        },
        {
          "name": "stdout",
          "output_type": "stream",
          "text": [
            "\n",
            "0: 736x1280 1 ball, 20 players, 2 referees, 95.0ms\n",
            "Speed: 6.5ms preprocess, 95.0ms inference, 1.8ms postprocess per image at shape (1, 3, 736, 1280)\n"
          ]
        },
        {
          "name": "stderr",
          "output_type": "stream",
          "text": [
            "Embedding extraction: 1it [00:00,  5.03it/s]\n",
            " 13%|█▎        | 99/750 [00:35<03:50,  2.82it/s]"
          ]
        },
        {
          "name": "stdout",
          "output_type": "stream",
          "text": [
            "\n",
            "0: 736x1280 1 ball, 20 players, 2 referees, 96.1ms\n",
            "Speed: 8.4ms preprocess, 96.1ms inference, 1.5ms postprocess per image at shape (1, 3, 736, 1280)\n"
          ]
        },
        {
          "name": "stderr",
          "output_type": "stream",
          "text": [
            "Embedding extraction: 1it [00:00,  4.88it/s]\n",
            " 13%|█▎        | 100/750 [00:35<03:53,  2.78it/s]"
          ]
        },
        {
          "name": "stdout",
          "output_type": "stream",
          "text": [
            "\n",
            "0: 736x1280 1 ball, 20 players, 2 referees, 96.4ms\n",
            "Speed: 7.0ms preprocess, 96.4ms inference, 1.8ms postprocess per image at shape (1, 3, 736, 1280)\n"
          ]
        },
        {
          "name": "stderr",
          "output_type": "stream",
          "text": [
            "Embedding extraction: 1it [00:00,  4.85it/s]\n",
            " 13%|█▎        | 101/750 [00:35<03:54,  2.77it/s]"
          ]
        },
        {
          "name": "stdout",
          "output_type": "stream",
          "text": [
            "\n",
            "0: 736x1280 1 ball, 20 players, 2 referees, 96.6ms\n",
            "Speed: 7.0ms preprocess, 96.6ms inference, 1.8ms postprocess per image at shape (1, 3, 736, 1280)\n"
          ]
        },
        {
          "name": "stderr",
          "output_type": "stream",
          "text": [
            "Embedding extraction: 1it [00:00,  5.00it/s]\n",
            " 14%|█▎        | 102/750 [00:36<03:54,  2.76it/s]"
          ]
        },
        {
          "name": "stdout",
          "output_type": "stream",
          "text": [
            "\n",
            "0: 736x1280 20 players, 2 referees, 98.3ms\n",
            "Speed: 7.6ms preprocess, 98.3ms inference, 1.4ms postprocess per image at shape (1, 3, 736, 1280)\n"
          ]
        },
        {
          "name": "stderr",
          "output_type": "stream",
          "text": [
            "Embedding extraction: 1it [00:00,  4.90it/s]\n",
            " 14%|█▎        | 103/750 [00:36<03:54,  2.76it/s]"
          ]
        },
        {
          "name": "stdout",
          "output_type": "stream",
          "text": [
            "\n",
            "0: 736x1280 2 balls, 20 players, 2 referees, 96.8ms\n",
            "Speed: 6.9ms preprocess, 96.8ms inference, 1.8ms postprocess per image at shape (1, 3, 736, 1280)\n"
          ]
        },
        {
          "name": "stderr",
          "output_type": "stream",
          "text": [
            "Embedding extraction: 1it [00:00,  4.78it/s]\n",
            " 14%|█▍        | 104/750 [00:36<03:55,  2.74it/s]"
          ]
        },
        {
          "name": "stdout",
          "output_type": "stream",
          "text": [
            "\n",
            "0: 736x1280 2 balls, 20 players, 2 referees, 98.5ms\n",
            "Speed: 6.4ms preprocess, 98.5ms inference, 1.7ms postprocess per image at shape (1, 3, 736, 1280)\n"
          ]
        },
        {
          "name": "stderr",
          "output_type": "stream",
          "text": [
            "Embedding extraction: 1it [00:00,  4.98it/s]\n",
            " 14%|█▍        | 105/750 [00:37<03:55,  2.74it/s]"
          ]
        },
        {
          "name": "stdout",
          "output_type": "stream",
          "text": [
            "\n",
            "0: 736x1280 1 ball, 20 players, 2 referees, 97.3ms\n",
            "Speed: 6.7ms preprocess, 97.3ms inference, 1.7ms postprocess per image at shape (1, 3, 736, 1280)\n"
          ]
        },
        {
          "name": "stderr",
          "output_type": "stream",
          "text": [
            "Embedding extraction: 1it [00:00,  4.98it/s]\n",
            " 14%|█▍        | 106/750 [00:37<03:54,  2.75it/s]"
          ]
        },
        {
          "name": "stdout",
          "output_type": "stream",
          "text": [
            "\n",
            "0: 736x1280 2 balls, 22 players, 2 referees, 97.1ms\n",
            "Speed: 7.1ms preprocess, 97.1ms inference, 1.4ms postprocess per image at shape (1, 3, 736, 1280)\n"
          ]
        },
        {
          "name": "stderr",
          "output_type": "stream",
          "text": [
            "Embedding extraction: 1it [00:00,  4.88it/s]\n",
            " 14%|█▍        | 107/750 [00:37<03:54,  2.74it/s]"
          ]
        },
        {
          "name": "stdout",
          "output_type": "stream",
          "text": [
            "\n",
            "0: 736x1280 1 ball, 20 players, 2 referees, 97.0ms\n",
            "Speed: 7.9ms preprocess, 97.0ms inference, 1.9ms postprocess per image at shape (1, 3, 736, 1280)\n"
          ]
        },
        {
          "name": "stderr",
          "output_type": "stream",
          "text": [
            "Embedding extraction: 1it [00:00,  4.85it/s]\n",
            " 14%|█▍        | 108/750 [00:38<03:55,  2.73it/s]"
          ]
        },
        {
          "name": "stdout",
          "output_type": "stream",
          "text": [
            "\n",
            "0: 736x1280 1 ball, 20 players, 2 referees, 96.4ms\n",
            "Speed: 8.5ms preprocess, 96.4ms inference, 2.6ms postprocess per image at shape (1, 3, 736, 1280)\n"
          ]
        },
        {
          "name": "stderr",
          "output_type": "stream",
          "text": [
            "Embedding extraction: 1it [00:00,  4.22it/s]\n",
            " 15%|█▍        | 109/750 [00:38<04:03,  2.64it/s]"
          ]
        },
        {
          "name": "stdout",
          "output_type": "stream",
          "text": [
            "\n",
            "0: 736x1280 1 ball, 20 players, 2 referees, 100.1ms\n",
            "Speed: 9.6ms preprocess, 100.1ms inference, 2.8ms postprocess per image at shape (1, 3, 736, 1280)\n"
          ]
        },
        {
          "name": "stderr",
          "output_type": "stream",
          "text": [
            "Embedding extraction: 1it [00:00,  4.18it/s]\n",
            " 15%|█▍        | 110/750 [00:39<04:11,  2.54it/s]"
          ]
        },
        {
          "name": "stdout",
          "output_type": "stream",
          "text": [
            "\n",
            "0: 736x1280 21 players, 2 referees, 95.5ms\n",
            "Speed: 11.1ms preprocess, 95.5ms inference, 1.5ms postprocess per image at shape (1, 3, 736, 1280)\n"
          ]
        },
        {
          "name": "stderr",
          "output_type": "stream",
          "text": [
            "Embedding extraction: 1it [00:00,  4.67it/s]\n",
            " 15%|█▍        | 111/750 [00:39<04:09,  2.57it/s]"
          ]
        },
        {
          "name": "stdout",
          "output_type": "stream",
          "text": [
            "\n",
            "0: 736x1280 20 players, 2 referees, 98.5ms\n",
            "Speed: 7.7ms preprocess, 98.5ms inference, 1.6ms postprocess per image at shape (1, 3, 736, 1280)\n"
          ]
        },
        {
          "name": "stderr",
          "output_type": "stream",
          "text": [
            "Embedding extraction: 1it [00:00,  4.48it/s]\n",
            " 15%|█▍        | 112/750 [00:39<04:08,  2.57it/s]"
          ]
        },
        {
          "name": "stdout",
          "output_type": "stream",
          "text": [
            "\n",
            "0: 736x1280 21 players, 2 referees, 99.7ms\n",
            "Speed: 6.7ms preprocess, 99.7ms inference, 2.0ms postprocess per image at shape (1, 3, 736, 1280)\n"
          ]
        },
        {
          "name": "stderr",
          "output_type": "stream",
          "text": [
            "Embedding extraction: 1it [00:00,  4.55it/s]\n",
            " 15%|█▌        | 113/750 [00:40<04:11,  2.53it/s]"
          ]
        },
        {
          "name": "stdout",
          "output_type": "stream",
          "text": [
            "\n",
            "0: 736x1280 20 players, 2 referees, 99.3ms\n",
            "Speed: 9.5ms preprocess, 99.3ms inference, 1.9ms postprocess per image at shape (1, 3, 736, 1280)\n"
          ]
        },
        {
          "name": "stderr",
          "output_type": "stream",
          "text": [
            "Embedding extraction: 1it [00:00,  4.69it/s]\n",
            " 15%|█▌        | 114/750 [00:40<04:09,  2.55it/s]"
          ]
        },
        {
          "name": "stdout",
          "output_type": "stream",
          "text": [
            "\n",
            "0: 736x1280 20 players, 2 referees, 99.6ms\n",
            "Speed: 6.7ms preprocess, 99.6ms inference, 2.0ms postprocess per image at shape (1, 3, 736, 1280)\n"
          ]
        },
        {
          "name": "stderr",
          "output_type": "stream",
          "text": [
            "Embedding extraction: 1it [00:00,  4.76it/s]\n",
            " 15%|█▌        | 115/750 [00:41<04:06,  2.58it/s]"
          ]
        },
        {
          "name": "stdout",
          "output_type": "stream",
          "text": [
            "\n",
            "0: 736x1280 20 players, 2 referees, 97.6ms\n",
            "Speed: 6.0ms preprocess, 97.6ms inference, 2.1ms postprocess per image at shape (1, 3, 736, 1280)\n"
          ]
        },
        {
          "name": "stderr",
          "output_type": "stream",
          "text": [
            "Embedding extraction: 1it [00:00,  4.67it/s]\n",
            " 15%|█▌        | 116/750 [00:41<04:04,  2.60it/s]"
          ]
        },
        {
          "name": "stdout",
          "output_type": "stream",
          "text": [
            "\n",
            "0: 736x1280 20 players, 2 referees, 97.8ms\n",
            "Speed: 6.7ms preprocess, 97.8ms inference, 2.1ms postprocess per image at shape (1, 3, 736, 1280)\n"
          ]
        },
        {
          "name": "stderr",
          "output_type": "stream",
          "text": [
            "Embedding extraction: 1it [00:00,  4.63it/s]\n",
            " 16%|█▌        | 117/750 [00:41<04:03,  2.60it/s]"
          ]
        },
        {
          "name": "stdout",
          "output_type": "stream",
          "text": [
            "\n",
            "0: 736x1280 20 players, 2 referees, 97.7ms\n",
            "Speed: 6.4ms preprocess, 97.7ms inference, 1.6ms postprocess per image at shape (1, 3, 736, 1280)\n"
          ]
        },
        {
          "name": "stderr",
          "output_type": "stream",
          "text": [
            "Embedding extraction: 1it [00:00,  4.81it/s]\n",
            " 16%|█▌        | 118/750 [00:42<04:01,  2.62it/s]"
          ]
        },
        {
          "name": "stdout",
          "output_type": "stream",
          "text": [
            "\n",
            "0: 736x1280 20 players, 2 referees, 99.6ms\n",
            "Speed: 8.7ms preprocess, 99.6ms inference, 1.9ms postprocess per image at shape (1, 3, 736, 1280)\n"
          ]
        },
        {
          "name": "stderr",
          "output_type": "stream",
          "text": [
            "Embedding extraction: 1it [00:00,  4.27it/s]\n",
            " 16%|█▌        | 119/750 [00:42<04:04,  2.58it/s]"
          ]
        },
        {
          "name": "stdout",
          "output_type": "stream",
          "text": [
            "\n",
            "0: 736x1280 20 players, 2 referees, 97.9ms\n",
            "Speed: 6.6ms preprocess, 97.9ms inference, 1.8ms postprocess per image at shape (1, 3, 736, 1280)\n"
          ]
        },
        {
          "name": "stderr",
          "output_type": "stream",
          "text": [
            "Embedding extraction: 1it [00:00,  4.88it/s]\n",
            " 16%|█▌        | 120/750 [00:43<03:59,  2.63it/s]"
          ]
        },
        {
          "name": "stdout",
          "output_type": "stream",
          "text": [
            "\n",
            "0: 736x1280 1 ball, 21 players, 2 referees, 96.1ms\n",
            "Speed: 7.5ms preprocess, 96.1ms inference, 1.7ms postprocess per image at shape (1, 3, 736, 1280)\n"
          ]
        },
        {
          "name": "stderr",
          "output_type": "stream",
          "text": [
            "Embedding extraction: 1it [00:00,  4.90it/s]\n",
            " 16%|█▌        | 121/750 [00:43<03:55,  2.67it/s]"
          ]
        },
        {
          "name": "stdout",
          "output_type": "stream",
          "text": [
            "\n",
            "0: 736x1280 20 players, 2 referees, 97.0ms\n",
            "Speed: 6.7ms preprocess, 97.0ms inference, 1.4ms postprocess per image at shape (1, 3, 736, 1280)\n"
          ]
        },
        {
          "name": "stderr",
          "output_type": "stream",
          "text": [
            "Embedding extraction: 1it [00:00,  5.00it/s]\n",
            " 16%|█▋        | 122/750 [00:43<03:52,  2.70it/s]"
          ]
        },
        {
          "name": "stdout",
          "output_type": "stream",
          "text": [
            "\n",
            "0: 736x1280 20 players, 2 referees, 97.9ms\n",
            "Speed: 6.6ms preprocess, 97.9ms inference, 1.4ms postprocess per image at shape (1, 3, 736, 1280)\n"
          ]
        },
        {
          "name": "stderr",
          "output_type": "stream",
          "text": [
            "Embedding extraction: 1it [00:00,  5.00it/s]\n",
            " 16%|█▋        | 123/750 [00:44<03:50,  2.72it/s]"
          ]
        },
        {
          "name": "stdout",
          "output_type": "stream",
          "text": [
            "\n",
            "0: 736x1280 20 players, 2 referees, 96.8ms\n",
            "Speed: 6.2ms preprocess, 96.8ms inference, 1.6ms postprocess per image at shape (1, 3, 736, 1280)\n"
          ]
        },
        {
          "name": "stderr",
          "output_type": "stream",
          "text": [
            "Embedding extraction: 1it [00:00,  5.10it/s]\n",
            " 17%|█▋        | 124/750 [00:44<03:47,  2.75it/s]"
          ]
        },
        {
          "name": "stdout",
          "output_type": "stream",
          "text": [
            "\n",
            "0: 736x1280 20 players, 2 referees, 95.7ms\n",
            "Speed: 8.8ms preprocess, 95.7ms inference, 1.9ms postprocess per image at shape (1, 3, 736, 1280)\n"
          ]
        },
        {
          "name": "stderr",
          "output_type": "stream",
          "text": [
            "Embedding extraction: 1it [00:00,  4.93it/s]\n",
            " 17%|█▋        | 125/750 [00:44<03:48,  2.73it/s]"
          ]
        },
        {
          "name": "stdout",
          "output_type": "stream",
          "text": [
            "\n",
            "0: 736x1280 21 players, 2 referees, 96.6ms\n",
            "Speed: 7.0ms preprocess, 96.6ms inference, 1.6ms postprocess per image at shape (1, 3, 736, 1280)\n"
          ]
        },
        {
          "name": "stderr",
          "output_type": "stream",
          "text": [
            "Embedding extraction: 1it [00:00,  4.98it/s]\n",
            " 17%|█▋        | 126/750 [00:45<03:48,  2.73it/s]"
          ]
        },
        {
          "name": "stdout",
          "output_type": "stream",
          "text": [
            "\n",
            "0: 736x1280 23 players, 2 referees, 97.6ms\n",
            "Speed: 8.3ms preprocess, 97.6ms inference, 1.4ms postprocess per image at shape (1, 3, 736, 1280)\n"
          ]
        },
        {
          "name": "stderr",
          "output_type": "stream",
          "text": [
            "Embedding extraction: 1it [00:00,  4.93it/s]\n",
            " 17%|█▋        | 127/750 [00:45<03:47,  2.74it/s]"
          ]
        },
        {
          "name": "stdout",
          "output_type": "stream",
          "text": [
            "\n",
            "0: 736x1280 20 players, 2 referees, 96.5ms\n",
            "Speed: 5.8ms preprocess, 96.5ms inference, 2.2ms postprocess per image at shape (1, 3, 736, 1280)\n"
          ]
        },
        {
          "name": "stderr",
          "output_type": "stream",
          "text": [
            "Embedding extraction: 1it [00:00,  4.88it/s]\n",
            " 17%|█▋        | 128/750 [00:45<03:46,  2.74it/s]"
          ]
        },
        {
          "name": "stdout",
          "output_type": "stream",
          "text": [
            "\n",
            "0: 736x1280 21 players, 2 referees, 95.9ms\n",
            "Speed: 8.1ms preprocess, 95.9ms inference, 1.5ms postprocess per image at shape (1, 3, 736, 1280)\n"
          ]
        },
        {
          "name": "stderr",
          "output_type": "stream",
          "text": [
            "Embedding extraction: 1it [00:00,  4.95it/s]\n",
            " 17%|█▋        | 129/750 [00:46<03:46,  2.75it/s]"
          ]
        },
        {
          "name": "stdout",
          "output_type": "stream",
          "text": [
            "\n",
            "0: 736x1280 23 players, 2 referees, 96.4ms\n",
            "Speed: 6.6ms preprocess, 96.4ms inference, 1.9ms postprocess per image at shape (1, 3, 736, 1280)\n"
          ]
        },
        {
          "name": "stderr",
          "output_type": "stream",
          "text": [
            "Embedding extraction: 1it [00:00,  4.93it/s]\n",
            " 17%|█▋        | 130/750 [00:46<03:45,  2.75it/s]"
          ]
        },
        {
          "name": "stdout",
          "output_type": "stream",
          "text": [
            "\n",
            "0: 736x1280 1 ball, 20 players, 2 referees, 97.5ms\n",
            "Speed: 6.3ms preprocess, 97.5ms inference, 1.8ms postprocess per image at shape (1, 3, 736, 1280)\n"
          ]
        },
        {
          "name": "stderr",
          "output_type": "stream",
          "text": [
            "Embedding extraction: 1it [00:00,  4.78it/s]\n",
            " 17%|█▋        | 131/750 [00:47<03:47,  2.72it/s]"
          ]
        },
        {
          "name": "stdout",
          "output_type": "stream",
          "text": [
            "\n",
            "0: 736x1280 1 ball, 21 players, 2 referees, 97.2ms\n",
            "Speed: 9.1ms preprocess, 97.2ms inference, 1.7ms postprocess per image at shape (1, 3, 736, 1280)\n"
          ]
        },
        {
          "name": "stderr",
          "output_type": "stream",
          "text": [
            "Embedding extraction: 1it [00:00,  4.50it/s]\n",
            " 18%|█▊        | 132/750 [00:47<03:51,  2.67it/s]"
          ]
        },
        {
          "name": "stdout",
          "output_type": "stream",
          "text": [
            "\n",
            "0: 736x1280 1 ball, 20 players, 2 referees, 99.1ms\n",
            "Speed: 8.0ms preprocess, 99.1ms inference, 1.9ms postprocess per image at shape (1, 3, 736, 1280)\n"
          ]
        },
        {
          "name": "stderr",
          "output_type": "stream",
          "text": [
            "Embedding extraction: 1it [00:00,  4.65it/s]\n",
            " 18%|█▊        | 133/750 [00:47<03:53,  2.64it/s]"
          ]
        },
        {
          "name": "stdout",
          "output_type": "stream",
          "text": [
            "\n",
            "0: 736x1280 1 ball, 21 players, 2 referees, 97.5ms\n",
            "Speed: 10.0ms preprocess, 97.5ms inference, 1.6ms postprocess per image at shape (1, 3, 736, 1280)\n"
          ]
        },
        {
          "name": "stderr",
          "output_type": "stream",
          "text": [
            "Embedding extraction: 1it [00:00,  4.63it/s]\n",
            " 18%|█▊        | 134/750 [00:48<03:54,  2.63it/s]"
          ]
        },
        {
          "name": "stdout",
          "output_type": "stream",
          "text": [
            "\n",
            "0: 736x1280 1 ball, 23 players, 2 referees, 99.7ms\n",
            "Speed: 9.0ms preprocess, 99.7ms inference, 2.5ms postprocess per image at shape (1, 3, 736, 1280)\n"
          ]
        },
        {
          "name": "stderr",
          "output_type": "stream",
          "text": [
            "Embedding extraction: 1it [00:00,  4.17it/s]\n",
            " 18%|█▊        | 135/750 [00:48<04:00,  2.56it/s]"
          ]
        },
        {
          "name": "stdout",
          "output_type": "stream",
          "text": [
            "\n",
            "0: 736x1280 1 ball, 23 players, 2 referees, 99.0ms\n",
            "Speed: 7.6ms preprocess, 99.0ms inference, 1.6ms postprocess per image at shape (1, 3, 736, 1280)\n"
          ]
        },
        {
          "name": "stderr",
          "output_type": "stream",
          "text": [
            "Embedding extraction: 1it [00:00,  4.55it/s]\n",
            " 18%|█▊        | 136/750 [00:49<03:59,  2.57it/s]"
          ]
        },
        {
          "name": "stdout",
          "output_type": "stream",
          "text": [
            "\n",
            "0: 736x1280 1 ball, 21 players, 2 referees, 99.6ms\n",
            "Speed: 6.1ms preprocess, 99.6ms inference, 1.5ms postprocess per image at shape (1, 3, 736, 1280)\n"
          ]
        },
        {
          "name": "stderr",
          "output_type": "stream",
          "text": [
            "Embedding extraction: 1it [00:00,  4.95it/s]\n",
            " 18%|█▊        | 137/750 [00:49<03:54,  2.62it/s]"
          ]
        },
        {
          "name": "stdout",
          "output_type": "stream",
          "text": [
            "\n",
            "0: 736x1280 1 ball, 21 players, 2 referees, 100.3ms\n",
            "Speed: 6.6ms preprocess, 100.3ms inference, 1.7ms postprocess per image at shape (1, 3, 736, 1280)\n"
          ]
        },
        {
          "name": "stderr",
          "output_type": "stream",
          "text": [
            "Embedding extraction: 1it [00:00,  4.98it/s]\n",
            " 18%|█▊        | 138/750 [00:49<03:50,  2.66it/s]"
          ]
        },
        {
          "name": "stdout",
          "output_type": "stream",
          "text": [
            "\n",
            "0: 736x1280 1 ball, 23 players, 2 referees, 98.1ms\n",
            "Speed: 7.4ms preprocess, 98.1ms inference, 2.1ms postprocess per image at shape (1, 3, 736, 1280)\n"
          ]
        },
        {
          "name": "stderr",
          "output_type": "stream",
          "text": [
            "Embedding extraction: 1it [00:00,  4.67it/s]\n",
            " 19%|█▊        | 139/750 [00:50<03:51,  2.64it/s]"
          ]
        },
        {
          "name": "stdout",
          "output_type": "stream",
          "text": [
            "\n",
            "0: 736x1280 1 ball, 21 players, 2 referees, 99.5ms\n",
            "Speed: 8.9ms preprocess, 99.5ms inference, 1.6ms postprocess per image at shape (1, 3, 736, 1280)\n"
          ]
        },
        {
          "name": "stderr",
          "output_type": "stream",
          "text": [
            "Embedding extraction: 1it [00:00,  4.61it/s]\n",
            " 19%|█▊        | 140/750 [00:50<03:52,  2.62it/s]"
          ]
        },
        {
          "name": "stdout",
          "output_type": "stream",
          "text": [
            "\n",
            "0: 736x1280 1 ball, 22 players, 2 referees, 100.6ms\n",
            "Speed: 9.7ms preprocess, 100.6ms inference, 2.4ms postprocess per image at shape (1, 3, 736, 1280)\n"
          ]
        },
        {
          "name": "stderr",
          "output_type": "stream",
          "text": [
            "Embedding extraction: 1it [00:00,  4.61it/s]\n",
            " 19%|█▉        | 141/750 [00:50<03:55,  2.59it/s]"
          ]
        },
        {
          "name": "stdout",
          "output_type": "stream",
          "text": [
            "\n",
            "0: 736x1280 1 ball, 22 players, 3 referees, 99.3ms\n",
            "Speed: 8.5ms preprocess, 99.3ms inference, 1.8ms postprocess per image at shape (1, 3, 736, 1280)\n"
          ]
        },
        {
          "name": "stderr",
          "output_type": "stream",
          "text": [
            "Embedding extraction: 1it [00:00,  4.65it/s]\n",
            " 19%|█▉        | 142/750 [00:51<03:54,  2.59it/s]"
          ]
        },
        {
          "name": "stdout",
          "output_type": "stream",
          "text": [
            "\n",
            "0: 736x1280 1 ball, 22 players, 3 referees, 99.8ms\n",
            "Speed: 6.8ms preprocess, 99.8ms inference, 2.0ms postprocess per image at shape (1, 3, 736, 1280)\n"
          ]
        },
        {
          "name": "stderr",
          "output_type": "stream",
          "text": [
            "Embedding extraction: 1it [00:00,  4.88it/s]\n",
            " 19%|█▉        | 143/750 [00:51<03:51,  2.62it/s]"
          ]
        },
        {
          "name": "stdout",
          "output_type": "stream",
          "text": [
            "\n",
            "0: 736x1280 1 ball, 22 players, 2 referees, 99.2ms\n",
            "Speed: 7.1ms preprocess, 99.2ms inference, 2.6ms postprocess per image at shape (1, 3, 736, 1280)\n"
          ]
        },
        {
          "name": "stderr",
          "output_type": "stream",
          "text": [
            "Embedding extraction: 1it [00:00,  4.52it/s]\n",
            " 19%|█▉        | 144/750 [00:52<03:54,  2.59it/s]"
          ]
        },
        {
          "name": "stdout",
          "output_type": "stream",
          "text": [
            "\n",
            "0: 736x1280 1 ball, 22 players, 2 referees, 98.3ms\n",
            "Speed: 7.5ms preprocess, 98.3ms inference, 1.7ms postprocess per image at shape (1, 3, 736, 1280)\n"
          ]
        },
        {
          "name": "stderr",
          "output_type": "stream",
          "text": [
            "Embedding extraction: 1it [00:00,  4.69it/s]\n",
            " 19%|█▉        | 145/750 [00:52<03:52,  2.60it/s]"
          ]
        },
        {
          "name": "stdout",
          "output_type": "stream",
          "text": [
            "\n",
            "0: 736x1280 1 ball, 21 players, 2 referees, 101.3ms\n",
            "Speed: 7.7ms preprocess, 101.3ms inference, 2.6ms postprocess per image at shape (1, 3, 736, 1280)\n"
          ]
        },
        {
          "name": "stderr",
          "output_type": "stream",
          "text": [
            "Embedding extraction: 1it [00:00,  4.31it/s]\n",
            " 19%|█▉        | 146/750 [00:52<03:55,  2.56it/s]"
          ]
        },
        {
          "name": "stdout",
          "output_type": "stream",
          "text": [
            "\n",
            "0: 736x1280 1 ball, 22 players, 2 referees, 97.9ms\n",
            "Speed: 6.9ms preprocess, 97.9ms inference, 1.6ms postprocess per image at shape (1, 3, 736, 1280)\n"
          ]
        },
        {
          "name": "stderr",
          "output_type": "stream",
          "text": [
            "Embedding extraction: 1it [00:00,  4.55it/s]\n",
            " 20%|█▉        | 147/750 [00:53<03:55,  2.56it/s]"
          ]
        },
        {
          "name": "stdout",
          "output_type": "stream",
          "text": [
            "\n",
            "0: 736x1280 1 ball, 23 players, 2 referees, 99.4ms\n",
            "Speed: 6.7ms preprocess, 99.4ms inference, 1.8ms postprocess per image at shape (1, 3, 736, 1280)\n"
          ]
        },
        {
          "name": "stderr",
          "output_type": "stream",
          "text": [
            "Embedding extraction: 1it [00:00,  5.10it/s]\n",
            " 20%|█▉        | 148/750 [00:53<03:49,  2.63it/s]"
          ]
        },
        {
          "name": "stdout",
          "output_type": "stream",
          "text": [
            "\n",
            "0: 736x1280 1 ball, 21 players, 2 referees, 98.8ms\n",
            "Speed: 6.6ms preprocess, 98.8ms inference, 1.7ms postprocess per image at shape (1, 3, 736, 1280)\n"
          ]
        },
        {
          "name": "stderr",
          "output_type": "stream",
          "text": [
            "Embedding extraction: 1it [00:00,  4.83it/s]\n",
            " 20%|█▉        | 149/750 [00:53<03:47,  2.64it/s]"
          ]
        },
        {
          "name": "stdout",
          "output_type": "stream",
          "text": [
            "\n",
            "0: 736x1280 1 ball, 21 players, 2 referees, 98.7ms\n",
            "Speed: 8.2ms preprocess, 98.7ms inference, 1.6ms postprocess per image at shape (1, 3, 736, 1280)\n"
          ]
        },
        {
          "name": "stderr",
          "output_type": "stream",
          "text": [
            "Embedding extraction: 1it [00:00,  4.95it/s]\n",
            " 20%|██        | 150/750 [00:54<03:45,  2.66it/s]"
          ]
        },
        {
          "name": "stdout",
          "output_type": "stream",
          "text": [
            "\n",
            "0: 736x1280 1 ball, 22 players, 2 referees, 98.1ms\n",
            "Speed: 6.3ms preprocess, 98.1ms inference, 2.1ms postprocess per image at shape (1, 3, 736, 1280)\n"
          ]
        },
        {
          "name": "stderr",
          "output_type": "stream",
          "text": [
            "Embedding extraction: 1it [00:00,  4.76it/s]\n",
            " 20%|██        | 151/750 [00:54<03:44,  2.67it/s]"
          ]
        },
        {
          "name": "stdout",
          "output_type": "stream",
          "text": [
            "\n",
            "0: 736x1280 1 ball, 23 players, 2 referees, 98.3ms\n",
            "Speed: 6.9ms preprocess, 98.3ms inference, 1.9ms postprocess per image at shape (1, 3, 736, 1280)\n"
          ]
        },
        {
          "name": "stderr",
          "output_type": "stream",
          "text": [
            "Embedding extraction: 1it [00:00,  4.93it/s]\n",
            " 20%|██        | 152/750 [00:55<03:42,  2.69it/s]"
          ]
        },
        {
          "name": "stdout",
          "output_type": "stream",
          "text": [
            "\n",
            "0: 736x1280 1 ball, 22 players, 2 referees, 96.4ms\n",
            "Speed: 6.4ms preprocess, 96.4ms inference, 2.1ms postprocess per image at shape (1, 3, 736, 1280)\n"
          ]
        },
        {
          "name": "stderr",
          "output_type": "stream",
          "text": [
            "Embedding extraction: 1it [00:00,  5.21it/s]\n",
            " 20%|██        | 153/750 [00:55<03:38,  2.73it/s]"
          ]
        },
        {
          "name": "stdout",
          "output_type": "stream",
          "text": [
            "\n",
            "0: 736x1280 1 ball, 20 players, 2 referees, 96.6ms\n",
            "Speed: 6.4ms preprocess, 96.6ms inference, 1.5ms postprocess per image at shape (1, 3, 736, 1280)\n"
          ]
        },
        {
          "name": "stderr",
          "output_type": "stream",
          "text": [
            "Embedding extraction: 1it [00:00,  5.00it/s]\n",
            " 21%|██        | 154/750 [00:55<03:37,  2.74it/s]"
          ]
        },
        {
          "name": "stdout",
          "output_type": "stream",
          "text": [
            "\n",
            "0: 736x1280 1 ball, 21 players, 2 referees, 96.5ms\n",
            "Speed: 6.7ms preprocess, 96.5ms inference, 1.7ms postprocess per image at shape (1, 3, 736, 1280)\n"
          ]
        },
        {
          "name": "stderr",
          "output_type": "stream",
          "text": [
            "Embedding extraction: 1it [00:00,  5.10it/s]\n",
            " 21%|██        | 155/750 [00:56<03:35,  2.76it/s]"
          ]
        },
        {
          "name": "stdout",
          "output_type": "stream",
          "text": [
            "\n",
            "0: 736x1280 23 players, 2 referees, 96.0ms\n",
            "Speed: 6.6ms preprocess, 96.0ms inference, 1.7ms postprocess per image at shape (1, 3, 736, 1280)\n"
          ]
        },
        {
          "name": "stderr",
          "output_type": "stream",
          "text": [
            "Embedding extraction: 1it [00:00,  5.13it/s]\n",
            " 21%|██        | 156/750 [00:56<03:33,  2.79it/s]"
          ]
        },
        {
          "name": "stdout",
          "output_type": "stream",
          "text": [
            "\n",
            "0: 736x1280 24 players, 2 referees, 96.0ms\n",
            "Speed: 6.0ms preprocess, 96.0ms inference, 1.6ms postprocess per image at shape (1, 3, 736, 1280)\n"
          ]
        },
        {
          "name": "stderr",
          "output_type": "stream",
          "text": [
            "Embedding extraction: 1it [00:00,  5.13it/s]\n",
            " 21%|██        | 157/750 [00:56<03:30,  2.82it/s]"
          ]
        },
        {
          "name": "stdout",
          "output_type": "stream",
          "text": [
            "\n",
            "0: 736x1280 23 players, 2 referees, 96.1ms\n",
            "Speed: 5.5ms preprocess, 96.1ms inference, 1.5ms postprocess per image at shape (1, 3, 736, 1280)\n"
          ]
        },
        {
          "name": "stderr",
          "output_type": "stream",
          "text": [
            "Embedding extraction: 1it [00:00,  5.13it/s]\n",
            " 21%|██        | 158/750 [00:57<03:29,  2.83it/s]"
          ]
        },
        {
          "name": "stdout",
          "output_type": "stream",
          "text": [
            "\n",
            "0: 736x1280 22 players, 2 referees, 95.8ms\n",
            "Speed: 5.5ms preprocess, 95.8ms inference, 1.8ms postprocess per image at shape (1, 3, 736, 1280)\n"
          ]
        },
        {
          "name": "stderr",
          "output_type": "stream",
          "text": [
            "Embedding extraction: 1it [00:00,  5.24it/s]\n",
            " 21%|██        | 159/750 [00:57<03:27,  2.84it/s]"
          ]
        },
        {
          "name": "stdout",
          "output_type": "stream",
          "text": [
            "\n",
            "0: 736x1280 2 balls, 21 players, 2 referees, 94.6ms\n",
            "Speed: 5.7ms preprocess, 94.6ms inference, 1.8ms postprocess per image at shape (1, 3, 736, 1280)\n"
          ]
        },
        {
          "name": "stderr",
          "output_type": "stream",
          "text": [
            "Embedding extraction: 1it [00:00,  5.13it/s]\n",
            " 21%|██▏       | 160/750 [00:57<03:27,  2.85it/s]"
          ]
        },
        {
          "name": "stdout",
          "output_type": "stream",
          "text": [
            "\n",
            "0: 736x1280 1 ball, 22 players, 2 referees, 94.6ms\n",
            "Speed: 6.3ms preprocess, 94.6ms inference, 1.5ms postprocess per image at shape (1, 3, 736, 1280)\n"
          ]
        },
        {
          "name": "stderr",
          "output_type": "stream",
          "text": [
            "Embedding extraction: 1it [00:00,  5.18it/s]\n",
            " 21%|██▏       | 161/750 [00:58<03:26,  2.85it/s]"
          ]
        },
        {
          "name": "stdout",
          "output_type": "stream",
          "text": [
            "\n",
            "0: 736x1280 1 ball, 22 players, 2 referees, 94.4ms\n",
            "Speed: 7.3ms preprocess, 94.4ms inference, 2.0ms postprocess per image at shape (1, 3, 736, 1280)\n"
          ]
        },
        {
          "name": "stderr",
          "output_type": "stream",
          "text": [
            "Embedding extraction: 1it [00:00,  5.08it/s]\n",
            " 22%|██▏       | 162/750 [00:58<03:27,  2.83it/s]"
          ]
        },
        {
          "name": "stdout",
          "output_type": "stream",
          "text": [
            "\n",
            "0: 736x1280 1 ball, 21 players, 2 referees, 96.0ms\n",
            "Speed: 6.6ms preprocess, 96.0ms inference, 1.7ms postprocess per image at shape (1, 3, 736, 1280)\n"
          ]
        },
        {
          "name": "stderr",
          "output_type": "stream",
          "text": [
            "Embedding extraction: 1it [00:00,  5.10it/s]\n",
            " 22%|██▏       | 163/750 [00:58<03:28,  2.82it/s]"
          ]
        },
        {
          "name": "stdout",
          "output_type": "stream",
          "text": [
            "\n",
            "0: 736x1280 1 ball, 19 players, 2 referees, 97.1ms\n",
            "Speed: 7.6ms preprocess, 97.1ms inference, 1.5ms postprocess per image at shape (1, 3, 736, 1280)\n"
          ]
        },
        {
          "name": "stderr",
          "output_type": "stream",
          "text": [
            "Embedding extraction: 1it [00:00,  5.38it/s]\n",
            " 22%|██▏       | 164/750 [00:59<03:26,  2.84it/s]"
          ]
        },
        {
          "name": "stdout",
          "output_type": "stream",
          "text": [
            "\n",
            "0: 736x1280 1 ball, 20 players, 2 referees, 96.3ms\n",
            "Speed: 6.3ms preprocess, 96.3ms inference, 2.0ms postprocess per image at shape (1, 3, 736, 1280)\n"
          ]
        },
        {
          "name": "stderr",
          "output_type": "stream",
          "text": [
            "Embedding extraction: 1it [00:00,  5.29it/s]\n",
            " 22%|██▏       | 165/750 [00:59<03:24,  2.86it/s]"
          ]
        },
        {
          "name": "stdout",
          "output_type": "stream",
          "text": [
            "\n",
            "0: 736x1280 2 balls, 19 players, 2 referees, 95.3ms\n",
            "Speed: 5.8ms preprocess, 95.3ms inference, 1.8ms postprocess per image at shape (1, 3, 736, 1280)\n"
          ]
        },
        {
          "name": "stderr",
          "output_type": "stream",
          "text": [
            "Embedding extraction: 1it [00:00,  5.38it/s]\n",
            " 22%|██▏       | 166/750 [00:59<03:23,  2.88it/s]"
          ]
        },
        {
          "name": "stdout",
          "output_type": "stream",
          "text": [
            "\n",
            "0: 736x1280 1 ball, 19 players, 2 referees, 96.1ms\n",
            "Speed: 6.1ms preprocess, 96.1ms inference, 1.8ms postprocess per image at shape (1, 3, 736, 1280)\n"
          ]
        },
        {
          "name": "stderr",
          "output_type": "stream",
          "text": [
            "Embedding extraction: 1it [00:00,  5.41it/s]\n",
            " 22%|██▏       | 167/750 [01:00<03:21,  2.90it/s]"
          ]
        },
        {
          "name": "stdout",
          "output_type": "stream",
          "text": [
            "\n",
            "0: 736x1280 1 ball, 19 players, 2 referees, 94.7ms\n",
            "Speed: 6.2ms preprocess, 94.7ms inference, 1.5ms postprocess per image at shape (1, 3, 736, 1280)\n"
          ]
        },
        {
          "name": "stderr",
          "output_type": "stream",
          "text": [
            "Embedding extraction: 1it [00:00,  5.32it/s]\n",
            " 22%|██▏       | 168/750 [01:00<03:21,  2.89it/s]"
          ]
        },
        {
          "name": "stdout",
          "output_type": "stream",
          "text": [
            "\n",
            "0: 736x1280 1 ball, 21 players, 2 referees, 95.6ms\n",
            "Speed: 6.4ms preprocess, 95.6ms inference, 1.6ms postprocess per image at shape (1, 3, 736, 1280)\n"
          ]
        },
        {
          "name": "stderr",
          "output_type": "stream",
          "text": [
            "Embedding extraction: 1it [00:00,  5.18it/s]\n",
            " 23%|██▎       | 169/750 [01:01<03:21,  2.88it/s]"
          ]
        },
        {
          "name": "stdout",
          "output_type": "stream",
          "text": [
            "\n",
            "0: 736x1280 1 ball, 23 players, 2 referees, 95.3ms\n",
            "Speed: 6.5ms preprocess, 95.3ms inference, 1.6ms postprocess per image at shape (1, 3, 736, 1280)\n"
          ]
        },
        {
          "name": "stderr",
          "output_type": "stream",
          "text": [
            "Embedding extraction: 1it [00:00,  5.32it/s]\n",
            " 23%|██▎       | 170/750 [01:01<03:21,  2.88it/s]"
          ]
        },
        {
          "name": "stdout",
          "output_type": "stream",
          "text": [
            "\n",
            "0: 736x1280 1 ball, 23 players, 2 referees, 95.5ms\n",
            "Speed: 7.3ms preprocess, 95.5ms inference, 1.7ms postprocess per image at shape (1, 3, 736, 1280)\n"
          ]
        },
        {
          "name": "stderr",
          "output_type": "stream",
          "text": [
            "Embedding extraction: 1it [00:00,  5.15it/s]\n",
            " 23%|██▎       | 171/750 [01:01<03:22,  2.86it/s]"
          ]
        },
        {
          "name": "stdout",
          "output_type": "stream",
          "text": [
            "\n",
            "0: 736x1280 1 ball, 19 players, 2 referees, 96.9ms\n",
            "Speed: 8.0ms preprocess, 96.9ms inference, 1.8ms postprocess per image at shape (1, 3, 736, 1280)\n"
          ]
        },
        {
          "name": "stderr",
          "output_type": "stream",
          "text": [
            "Embedding extraction: 1it [00:00,  5.10it/s]\n",
            " 23%|██▎       | 172/750 [01:02<03:23,  2.84it/s]"
          ]
        },
        {
          "name": "stdout",
          "output_type": "stream",
          "text": [
            "\n",
            "0: 736x1280 1 ball, 20 players, 2 referees, 96.4ms\n",
            "Speed: 6.5ms preprocess, 96.4ms inference, 1.6ms postprocess per image at shape (1, 3, 736, 1280)\n"
          ]
        },
        {
          "name": "stderr",
          "output_type": "stream",
          "text": [
            "Embedding extraction: 1it [00:00,  5.18it/s]\n",
            " 23%|██▎       | 173/750 [01:02<03:22,  2.85it/s]"
          ]
        },
        {
          "name": "stdout",
          "output_type": "stream",
          "text": [
            "\n",
            "0: 736x1280 1 ball, 21 players, 2 referees, 97.2ms\n",
            "Speed: 6.4ms preprocess, 97.2ms inference, 1.5ms postprocess per image at shape (1, 3, 736, 1280)\n"
          ]
        },
        {
          "name": "stderr",
          "output_type": "stream",
          "text": [
            "Embedding extraction: 1it [00:00,  5.41it/s]\n",
            " 23%|██▎       | 174/750 [01:02<03:21,  2.85it/s]"
          ]
        },
        {
          "name": "stdout",
          "output_type": "stream",
          "text": [
            "\n",
            "0: 736x1280 21 players, 2 referees, 94.1ms\n",
            "Speed: 6.1ms preprocess, 94.1ms inference, 1.6ms postprocess per image at shape (1, 3, 736, 1280)\n"
          ]
        },
        {
          "name": "stderr",
          "output_type": "stream",
          "text": [
            "Embedding extraction: 1it [00:00,  5.29it/s]\n",
            " 23%|██▎       | 175/750 [01:03<03:20,  2.87it/s]"
          ]
        },
        {
          "name": "stdout",
          "output_type": "stream",
          "text": [
            "\n",
            "0: 736x1280 20 players, 2 referees, 96.1ms\n",
            "Speed: 5.6ms preprocess, 96.1ms inference, 1.7ms postprocess per image at shape (1, 3, 736, 1280)\n"
          ]
        },
        {
          "name": "stderr",
          "output_type": "stream",
          "text": [
            "Embedding extraction: 1it [00:00,  5.41it/s]\n",
            " 23%|██▎       | 176/750 [01:03<03:18,  2.89it/s]"
          ]
        },
        {
          "name": "stdout",
          "output_type": "stream",
          "text": [
            "\n",
            "0: 736x1280 20 players, 2 referees, 95.8ms\n",
            "Speed: 6.3ms preprocess, 95.8ms inference, 1.5ms postprocess per image at shape (1, 3, 736, 1280)\n"
          ]
        },
        {
          "name": "stderr",
          "output_type": "stream",
          "text": [
            "Embedding extraction: 1it [00:00,  5.18it/s]\n",
            " 24%|██▎       | 177/750 [01:03<03:19,  2.88it/s]"
          ]
        },
        {
          "name": "stdout",
          "output_type": "stream",
          "text": [
            "\n",
            "0: 736x1280 20 players, 2 referees, 95.1ms\n",
            "Speed: 6.3ms preprocess, 95.1ms inference, 2.1ms postprocess per image at shape (1, 3, 736, 1280)\n"
          ]
        },
        {
          "name": "stderr",
          "output_type": "stream",
          "text": [
            "Embedding extraction: 1it [00:00,  5.41it/s]\n",
            " 24%|██▎       | 178/750 [01:04<03:17,  2.90it/s]"
          ]
        },
        {
          "name": "stdout",
          "output_type": "stream",
          "text": [
            "\n",
            "0: 736x1280 20 players, 2 referees, 95.6ms\n",
            "Speed: 6.4ms preprocess, 95.6ms inference, 1.5ms postprocess per image at shape (1, 3, 736, 1280)\n"
          ]
        },
        {
          "name": "stderr",
          "output_type": "stream",
          "text": [
            "Embedding extraction: 1it [00:00,  5.26it/s]\n",
            " 24%|██▍       | 179/750 [01:04<03:17,  2.90it/s]"
          ]
        },
        {
          "name": "stdout",
          "output_type": "stream",
          "text": [
            "\n",
            "0: 736x1280 21 players, 2 referees, 94.9ms\n",
            "Speed: 6.2ms preprocess, 94.9ms inference, 2.0ms postprocess per image at shape (1, 3, 736, 1280)\n"
          ]
        },
        {
          "name": "stderr",
          "output_type": "stream",
          "text": [
            "Embedding extraction: 1it [00:00,  5.05it/s]\n",
            " 24%|██▍       | 180/750 [01:04<03:17,  2.88it/s]"
          ]
        },
        {
          "name": "stdout",
          "output_type": "stream",
          "text": [
            "\n",
            "0: 736x1280 21 players, 2 referees, 95.1ms\n",
            "Speed: 6.2ms preprocess, 95.1ms inference, 1.4ms postprocess per image at shape (1, 3, 736, 1280)\n"
          ]
        },
        {
          "name": "stderr",
          "output_type": "stream",
          "text": [
            "Embedding extraction: 1it [00:00,  5.32it/s]\n",
            " 24%|██▍       | 181/750 [01:05<03:15,  2.91it/s]"
          ]
        },
        {
          "name": "stdout",
          "output_type": "stream",
          "text": [
            "\n",
            "0: 736x1280 21 players, 2 referees, 95.5ms\n",
            "Speed: 5.7ms preprocess, 95.5ms inference, 1.6ms postprocess per image at shape (1, 3, 736, 1280)\n"
          ]
        },
        {
          "name": "stderr",
          "output_type": "stream",
          "text": [
            "Embedding extraction: 1it [00:00,  5.18it/s]\n",
            " 24%|██▍       | 182/750 [01:05<03:15,  2.90it/s]"
          ]
        },
        {
          "name": "stdout",
          "output_type": "stream",
          "text": [
            "\n",
            "0: 736x1280 21 players, 2 referees, 95.3ms\n",
            "Speed: 5.9ms preprocess, 95.3ms inference, 1.7ms postprocess per image at shape (1, 3, 736, 1280)\n"
          ]
        },
        {
          "name": "stderr",
          "output_type": "stream",
          "text": [
            "Embedding extraction: 1it [00:00,  5.10it/s]\n",
            " 24%|██▍       | 183/750 [01:05<03:16,  2.88it/s]"
          ]
        },
        {
          "name": "stdout",
          "output_type": "stream",
          "text": [
            "\n",
            "0: 736x1280 2 balls, 20 players, 2 referees, 95.0ms\n",
            "Speed: 5.9ms preprocess, 95.0ms inference, 1.4ms postprocess per image at shape (1, 3, 736, 1280)\n"
          ]
        },
        {
          "name": "stderr",
          "output_type": "stream",
          "text": [
            "Embedding extraction: 1it [00:00,  5.46it/s]\n",
            " 25%|██▍       | 184/750 [01:06<03:14,  2.91it/s]"
          ]
        },
        {
          "name": "stdout",
          "output_type": "stream",
          "text": [
            "\n",
            "0: 736x1280 1 ball, 21 players, 2 referees, 94.9ms\n",
            "Speed: 5.9ms preprocess, 94.9ms inference, 1.6ms postprocess per image at shape (1, 3, 736, 1280)\n"
          ]
        },
        {
          "name": "stderr",
          "output_type": "stream",
          "text": [
            "Embedding extraction: 1it [00:00,  5.13it/s]\n",
            " 25%|██▍       | 185/750 [01:06<03:15,  2.89it/s]"
          ]
        },
        {
          "name": "stdout",
          "output_type": "stream",
          "text": [
            "\n",
            "0: 736x1280 22 players, 2 referees, 95.0ms\n",
            "Speed: 8.0ms preprocess, 95.0ms inference, 1.8ms postprocess per image at shape (1, 3, 736, 1280)\n"
          ]
        },
        {
          "name": "stderr",
          "output_type": "stream",
          "text": [
            "Embedding extraction: 1it [00:00,  4.97it/s]\n",
            " 25%|██▍       | 186/750 [01:06<03:17,  2.86it/s]"
          ]
        },
        {
          "name": "stdout",
          "output_type": "stream",
          "text": [
            "\n",
            "0: 736x1280 19 players, 2 referees, 95.5ms\n",
            "Speed: 6.4ms preprocess, 95.5ms inference, 1.7ms postprocess per image at shape (1, 3, 736, 1280)\n"
          ]
        },
        {
          "name": "stderr",
          "output_type": "stream",
          "text": [
            "Embedding extraction: 1it [00:00,  5.35it/s]\n",
            " 25%|██▍       | 187/750 [01:07<03:16,  2.86it/s]"
          ]
        },
        {
          "name": "stdout",
          "output_type": "stream",
          "text": [
            "\n",
            "0: 736x1280 20 players, 2 referees, 95.5ms\n",
            "Speed: 7.2ms preprocess, 95.5ms inference, 1.5ms postprocess per image at shape (1, 3, 736, 1280)\n"
          ]
        },
        {
          "name": "stderr",
          "output_type": "stream",
          "text": [
            "Embedding extraction: 1it [00:00,  5.32it/s]\n",
            " 25%|██▌       | 188/750 [01:07<03:15,  2.88it/s]"
          ]
        },
        {
          "name": "stdout",
          "output_type": "stream",
          "text": [
            "\n",
            "0: 736x1280 1 ball, 1 goalkeeper, 20 players, 2 referees, 95.2ms\n",
            "Speed: 6.4ms preprocess, 95.2ms inference, 1.7ms postprocess per image at shape (1, 3, 736, 1280)\n"
          ]
        },
        {
          "name": "stderr",
          "output_type": "stream",
          "text": [
            "Embedding extraction: 1it [00:00,  5.32it/s]\n",
            " 25%|██▌       | 189/750 [01:07<03:14,  2.89it/s]"
          ]
        },
        {
          "name": "stdout",
          "output_type": "stream",
          "text": [
            "\n",
            "0: 736x1280 1 ball, 19 players, 2 referees, 96.2ms\n",
            "Speed: 6.2ms preprocess, 96.2ms inference, 1.8ms postprocess per image at shape (1, 3, 736, 1280)\n"
          ]
        },
        {
          "name": "stderr",
          "output_type": "stream",
          "text": [
            "Embedding extraction: 1it [00:00,  5.35it/s]\n",
            " 25%|██▌       | 190/750 [01:08<03:13,  2.90it/s]"
          ]
        },
        {
          "name": "stdout",
          "output_type": "stream",
          "text": [
            "\n",
            "0: 736x1280 1 ball, 19 players, 2 referees, 95.2ms\n",
            "Speed: 6.1ms preprocess, 95.2ms inference, 1.8ms postprocess per image at shape (1, 3, 736, 1280)\n"
          ]
        },
        {
          "name": "stderr",
          "output_type": "stream",
          "text": [
            "Embedding extraction: 1it [00:00,  5.24it/s]\n",
            " 25%|██▌       | 191/750 [01:08<03:13,  2.88it/s]"
          ]
        },
        {
          "name": "stdout",
          "output_type": "stream",
          "text": [
            "\n",
            "0: 736x1280 1 ball, 21 players, 2 referees, 96.4ms\n",
            "Speed: 6.9ms preprocess, 96.4ms inference, 1.9ms postprocess per image at shape (1, 3, 736, 1280)\n"
          ]
        },
        {
          "name": "stderr",
          "output_type": "stream",
          "text": [
            "Embedding extraction: 1it [00:00,  4.81it/s]\n",
            " 26%|██▌       | 192/750 [01:09<03:17,  2.83it/s]"
          ]
        },
        {
          "name": "stdout",
          "output_type": "stream",
          "text": [
            "\n",
            "0: 736x1280 20 players, 2 referees, 96.6ms\n",
            "Speed: 7.0ms preprocess, 96.6ms inference, 1.6ms postprocess per image at shape (1, 3, 736, 1280)\n"
          ]
        },
        {
          "name": "stderr",
          "output_type": "stream",
          "text": [
            "Embedding extraction: 1it [00:00,  5.10it/s]\n",
            " 26%|██▌       | 193/750 [01:09<03:16,  2.83it/s]"
          ]
        },
        {
          "name": "stdout",
          "output_type": "stream",
          "text": [
            "\n",
            "0: 736x1280 1 ball, 22 players, 2 referees, 97.5ms\n",
            "Speed: 6.9ms preprocess, 97.5ms inference, 1.5ms postprocess per image at shape (1, 3, 736, 1280)\n"
          ]
        },
        {
          "name": "stderr",
          "output_type": "stream",
          "text": [
            "Embedding extraction: 1it [00:00,  5.29it/s]\n",
            " 26%|██▌       | 194/750 [01:09<03:15,  2.84it/s]"
          ]
        },
        {
          "name": "stdout",
          "output_type": "stream",
          "text": [
            "\n",
            "0: 736x1280 1 ball, 20 players, 2 referees, 96.0ms\n",
            "Speed: 6.5ms preprocess, 96.0ms inference, 1.7ms postprocess per image at shape (1, 3, 736, 1280)\n"
          ]
        },
        {
          "name": "stderr",
          "output_type": "stream",
          "text": [
            "Embedding extraction: 1it [00:00,  5.05it/s]\n",
            " 26%|██▌       | 195/750 [01:10<03:19,  2.78it/s]"
          ]
        },
        {
          "name": "stdout",
          "output_type": "stream",
          "text": [
            "\n",
            "0: 736x1280 1 ball, 1 goalkeeper, 20 players, 2 referees, 98.2ms\n",
            "Speed: 7.9ms preprocess, 98.2ms inference, 1.8ms postprocess per image at shape (1, 3, 736, 1280)\n"
          ]
        },
        {
          "name": "stderr",
          "output_type": "stream",
          "text": [
            "Embedding extraction: 1it [00:00,  4.63it/s]\n",
            " 26%|██▌       | 196/750 [01:10<03:24,  2.71it/s]"
          ]
        },
        {
          "name": "stdout",
          "output_type": "stream",
          "text": [
            "\n",
            "0: 736x1280 1 ball, 1 goalkeeper, 19 players, 2 referees, 98.2ms\n",
            "Speed: 10.6ms preprocess, 98.2ms inference, 1.9ms postprocess per image at shape (1, 3, 736, 1280)\n"
          ]
        },
        {
          "name": "stderr",
          "output_type": "stream",
          "text": [
            "Embedding extraction: 1it [00:00,  5.00it/s]\n",
            " 26%|██▋       | 197/750 [01:10<03:23,  2.71it/s]"
          ]
        },
        {
          "name": "stdout",
          "output_type": "stream",
          "text": [
            "\n",
            "0: 736x1280 1 ball, 1 goalkeeper, 19 players, 2 referees, 99.3ms\n",
            "Speed: 6.0ms preprocess, 99.3ms inference, 1.7ms postprocess per image at shape (1, 3, 736, 1280)\n"
          ]
        },
        {
          "name": "stderr",
          "output_type": "stream",
          "text": [
            "Embedding extraction: 1it [00:00,  5.05it/s]\n",
            " 26%|██▋       | 198/750 [01:11<03:20,  2.75it/s]"
          ]
        },
        {
          "name": "stdout",
          "output_type": "stream",
          "text": [
            "\n",
            "0: 736x1280 1 ball, 20 players, 1 referee, 98.2ms\n",
            "Speed: 6.3ms preprocess, 98.2ms inference, 1.8ms postprocess per image at shape (1, 3, 736, 1280)\n"
          ]
        },
        {
          "name": "stderr",
          "output_type": "stream",
          "text": [
            "Embedding extraction: 1it [00:00,  4.74it/s]\n",
            " 27%|██▋       | 199/750 [01:11<03:22,  2.72it/s]"
          ]
        },
        {
          "name": "stdout",
          "output_type": "stream",
          "text": [
            "\n",
            "0: 736x1280 1 ball, 19 players, 2 referees, 97.5ms\n",
            "Speed: 6.7ms preprocess, 97.5ms inference, 1.5ms postprocess per image at shape (1, 3, 736, 1280)\n"
          ]
        },
        {
          "name": "stderr",
          "output_type": "stream",
          "text": [
            "Embedding extraction: 1it [00:00,  5.24it/s]\n",
            " 27%|██▋       | 200/750 [01:11<03:18,  2.76it/s]"
          ]
        },
        {
          "name": "stdout",
          "output_type": "stream",
          "text": [
            "\n",
            "0: 736x1280 1 ball, 19 players, 2 referees, 95.9ms\n",
            "Speed: 6.1ms preprocess, 95.9ms inference, 1.6ms postprocess per image at shape (1, 3, 736, 1280)\n"
          ]
        },
        {
          "name": "stderr",
          "output_type": "stream",
          "text": [
            "Embedding extraction: 1it [00:00,  5.24it/s]\n",
            " 27%|██▋       | 201/750 [01:12<03:15,  2.80it/s]"
          ]
        },
        {
          "name": "stdout",
          "output_type": "stream",
          "text": [
            "\n",
            "0: 736x1280 1 ball, 1 goalkeeper, 20 players, 2 referees, 96.4ms\n",
            "Speed: 6.4ms preprocess, 96.4ms inference, 1.8ms postprocess per image at shape (1, 3, 736, 1280)\n"
          ]
        },
        {
          "name": "stderr",
          "output_type": "stream",
          "text": [
            "Embedding extraction: 1it [00:00,  5.38it/s]\n",
            " 27%|██▋       | 202/750 [01:12<03:13,  2.83it/s]"
          ]
        },
        {
          "name": "stdout",
          "output_type": "stream",
          "text": [
            "\n",
            "0: 736x1280 1 ball, 1 goalkeeper, 20 players, 2 referees, 95.8ms\n",
            "Speed: 6.3ms preprocess, 95.8ms inference, 1.5ms postprocess per image at shape (1, 3, 736, 1280)\n"
          ]
        },
        {
          "name": "stderr",
          "output_type": "stream",
          "text": [
            "Embedding extraction: 1it [00:00,  5.21it/s]\n",
            " 27%|██▋       | 203/750 [01:13<03:14,  2.82it/s]"
          ]
        },
        {
          "name": "stdout",
          "output_type": "stream",
          "text": [
            "\n",
            "0: 736x1280 1 ball, 1 goalkeeper, 22 players, 2 referees, 96.1ms\n",
            "Speed: 8.4ms preprocess, 96.1ms inference, 1.6ms postprocess per image at shape (1, 3, 736, 1280)\n"
          ]
        },
        {
          "name": "stderr",
          "output_type": "stream",
          "text": [
            "Embedding extraction: 1it [00:00,  5.24it/s]\n",
            " 27%|██▋       | 204/750 [01:13<03:13,  2.82it/s]"
          ]
        },
        {
          "name": "stdout",
          "output_type": "stream",
          "text": [
            "\n",
            "0: 736x1280 1 ball, 1 goalkeeper, 21 players, 2 referees, 97.0ms\n",
            "Speed: 6.3ms preprocess, 97.0ms inference, 1.8ms postprocess per image at shape (1, 3, 736, 1280)\n"
          ]
        },
        {
          "name": "stderr",
          "output_type": "stream",
          "text": [
            "Embedding extraction: 1it [00:00,  5.52it/s]\n",
            " 27%|██▋       | 205/750 [01:13<03:09,  2.87it/s]"
          ]
        },
        {
          "name": "stdout",
          "output_type": "stream",
          "text": [
            "\n",
            "0: 736x1280 1 ball, 1 goalkeeper, 22 players, 2 referees, 96.4ms\n",
            "Speed: 6.3ms preprocess, 96.4ms inference, 1.9ms postprocess per image at shape (1, 3, 736, 1280)\n"
          ]
        },
        {
          "name": "stderr",
          "output_type": "stream",
          "text": [
            "Embedding extraction: 1it [00:00,  5.00it/s]\n",
            " 27%|██▋       | 206/750 [01:14<03:11,  2.84it/s]"
          ]
        },
        {
          "name": "stdout",
          "output_type": "stream",
          "text": [
            "\n",
            "0: 736x1280 1 ball, 1 goalkeeper, 21 players, 2 referees, 96.2ms\n",
            "Speed: 5.6ms preprocess, 96.2ms inference, 1.8ms postprocess per image at shape (1, 3, 736, 1280)\n"
          ]
        },
        {
          "name": "stderr",
          "output_type": "stream",
          "text": [
            "Embedding extraction: 1it [00:00,  5.08it/s]\n",
            " 28%|██▊       | 207/750 [01:14<03:11,  2.84it/s]"
          ]
        },
        {
          "name": "stdout",
          "output_type": "stream",
          "text": [
            "\n",
            "0: 736x1280 1 ball, 21 players, 2 referees, 96.2ms\n",
            "Speed: 5.6ms preprocess, 96.2ms inference, 1.6ms postprocess per image at shape (1, 3, 736, 1280)\n"
          ]
        },
        {
          "name": "stderr",
          "output_type": "stream",
          "text": [
            "Embedding extraction: 1it [00:00,  5.03it/s]\n",
            " 28%|██▊       | 208/750 [01:14<03:11,  2.83it/s]"
          ]
        },
        {
          "name": "stdout",
          "output_type": "stream",
          "text": [
            "\n",
            "0: 736x1280 1 ball, 23 players, 2 referees, 95.9ms\n",
            "Speed: 6.2ms preprocess, 95.9ms inference, 1.7ms postprocess per image at shape (1, 3, 736, 1280)\n"
          ]
        },
        {
          "name": "stderr",
          "output_type": "stream",
          "text": [
            "Embedding extraction: 1it [00:00,  5.41it/s]\n",
            " 28%|██▊       | 209/750 [01:15<03:09,  2.86it/s]"
          ]
        },
        {
          "name": "stdout",
          "output_type": "stream",
          "text": [
            "\n",
            "0: 736x1280 1 ball, 20 players, 2 referees, 96.1ms\n",
            "Speed: 6.7ms preprocess, 96.1ms inference, 1.9ms postprocess per image at shape (1, 3, 736, 1280)\n"
          ]
        },
        {
          "name": "stderr",
          "output_type": "stream",
          "text": [
            "Embedding extraction: 1it [00:00,  5.71it/s]\n",
            " 28%|██▊       | 210/750 [01:15<03:05,  2.91it/s]"
          ]
        },
        {
          "name": "stdout",
          "output_type": "stream",
          "text": [
            "\n",
            "0: 736x1280 1 ball, 20 players, 2 referees, 96.3ms\n",
            "Speed: 6.2ms preprocess, 96.3ms inference, 2.0ms postprocess per image at shape (1, 3, 736, 1280)\n"
          ]
        },
        {
          "name": "stderr",
          "output_type": "stream",
          "text": [
            "Embedding extraction: 1it [00:00,  5.65it/s]\n",
            " 28%|██▊       | 211/750 [01:15<03:03,  2.95it/s]"
          ]
        },
        {
          "name": "stdout",
          "output_type": "stream",
          "text": [
            "\n",
            "0: 736x1280 1 ball, 1 goalkeeper, 20 players, 2 referees, 96.1ms\n",
            "Speed: 6.3ms preprocess, 96.1ms inference, 1.9ms postprocess per image at shape (1, 3, 736, 1280)\n"
          ]
        },
        {
          "name": "stderr",
          "output_type": "stream",
          "text": [
            "Embedding extraction: 1it [00:00,  5.71it/s]\n",
            " 28%|██▊       | 212/750 [01:16<03:00,  2.98it/s]"
          ]
        },
        {
          "name": "stdout",
          "output_type": "stream",
          "text": [
            "\n",
            "0: 736x1280 1 goalkeeper, 19 players, 2 referees, 95.7ms\n",
            "Speed: 6.0ms preprocess, 95.7ms inference, 1.5ms postprocess per image at shape (1, 3, 736, 1280)\n"
          ]
        },
        {
          "name": "stderr",
          "output_type": "stream",
          "text": [
            "Embedding extraction: 1it [00:00,  6.02it/s]\n",
            " 28%|██▊       | 213/750 [01:16<02:57,  3.02it/s]"
          ]
        },
        {
          "name": "stdout",
          "output_type": "stream",
          "text": [
            "\n",
            "0: 736x1280 1 goalkeeper, 19 players, 2 referees, 96.2ms\n",
            "Speed: 5.7ms preprocess, 96.2ms inference, 1.8ms postprocess per image at shape (1, 3, 736, 1280)\n"
          ]
        },
        {
          "name": "stderr",
          "output_type": "stream",
          "text": [
            "Embedding extraction: 1it [00:00,  5.99it/s]\n",
            " 29%|██▊       | 214/750 [01:16<02:56,  3.04it/s]"
          ]
        },
        {
          "name": "stdout",
          "output_type": "stream",
          "text": [
            "\n",
            "0: 736x1280 19 players, 2 referees, 97.3ms\n",
            "Speed: 6.2ms preprocess, 97.3ms inference, 1.9ms postprocess per image at shape (1, 3, 736, 1280)\n"
          ]
        },
        {
          "name": "stderr",
          "output_type": "stream",
          "text": [
            "Embedding extraction: 1it [00:00,  5.38it/s]\n",
            " 29%|██▊       | 215/750 [01:17<02:58,  2.99it/s]"
          ]
        },
        {
          "name": "stdout",
          "output_type": "stream",
          "text": [
            "\n",
            "0: 736x1280 2 goalkeepers, 20 players, 2 referees, 95.6ms\n",
            "Speed: 6.3ms preprocess, 95.6ms inference, 1.7ms postprocess per image at shape (1, 3, 736, 1280)\n"
          ]
        },
        {
          "name": "stderr",
          "output_type": "stream",
          "text": [
            "Embedding extraction: 1it [00:00,  5.85it/s]\n",
            " 29%|██▉       | 216/750 [01:17<02:57,  3.02it/s]"
          ]
        },
        {
          "name": "stdout",
          "output_type": "stream",
          "text": [
            "\n",
            "0: 736x1280 1 goalkeeper, 20 players, 2 referees, 96.5ms\n",
            "Speed: 6.4ms preprocess, 96.5ms inference, 1.6ms postprocess per image at shape (1, 3, 736, 1280)\n"
          ]
        },
        {
          "name": "stderr",
          "output_type": "stream",
          "text": [
            "Embedding extraction: 1it [00:00,  5.13it/s]\n",
            " 29%|██▉       | 217/750 [01:17<02:59,  2.97it/s]"
          ]
        },
        {
          "name": "stdout",
          "output_type": "stream",
          "text": [
            "\n",
            "0: 736x1280 1 goalkeeper, 19 players, 2 referees, 97.4ms\n",
            "Speed: 6.0ms preprocess, 97.4ms inference, 2.2ms postprocess per image at shape (1, 3, 736, 1280)\n"
          ]
        },
        {
          "name": "stderr",
          "output_type": "stream",
          "text": [
            "Embedding extraction: 1it [00:00,  5.24it/s]\n",
            " 29%|██▉       | 218/750 [01:18<03:00,  2.95it/s]"
          ]
        },
        {
          "name": "stdout",
          "output_type": "stream",
          "text": [
            "\n",
            "0: 736x1280 1 goalkeeper, 21 players, 2 referees, 95.3ms\n",
            "Speed: 6.3ms preprocess, 95.3ms inference, 1.6ms postprocess per image at shape (1, 3, 736, 1280)\n"
          ]
        },
        {
          "name": "stderr",
          "output_type": "stream",
          "text": [
            "Embedding extraction: 1it [00:00,  5.43it/s]\n",
            " 29%|██▉       | 219/750 [01:18<02:59,  2.95it/s]"
          ]
        },
        {
          "name": "stdout",
          "output_type": "stream",
          "text": [
            "\n",
            "0: 736x1280 1 goalkeeper, 21 players, 2 referees, 95.1ms\n",
            "Speed: 5.7ms preprocess, 95.1ms inference, 1.8ms postprocess per image at shape (1, 3, 736, 1280)\n"
          ]
        },
        {
          "name": "stderr",
          "output_type": "stream",
          "text": [
            "Embedding extraction: 1it [00:00,  5.65it/s]\n",
            " 29%|██▉       | 220/750 [01:18<02:58,  2.96it/s]"
          ]
        },
        {
          "name": "stdout",
          "output_type": "stream",
          "text": [
            "\n",
            "0: 736x1280 1 goalkeeper, 21 players, 2 referees, 95.7ms\n",
            "Speed: 6.2ms preprocess, 95.7ms inference, 1.6ms postprocess per image at shape (1, 3, 736, 1280)\n"
          ]
        },
        {
          "name": "stderr",
          "output_type": "stream",
          "text": [
            "Embedding extraction: 1it [00:00,  5.29it/s]\n",
            " 29%|██▉       | 221/750 [01:19<02:59,  2.95it/s]"
          ]
        },
        {
          "name": "stdout",
          "output_type": "stream",
          "text": [
            "\n",
            "0: 736x1280 1 goalkeeper, 21 players, 3 referees, 96.1ms\n",
            "Speed: 5.7ms preprocess, 96.1ms inference, 1.7ms postprocess per image at shape (1, 3, 736, 1280)\n"
          ]
        },
        {
          "name": "stderr",
          "output_type": "stream",
          "text": [
            "Embedding extraction: 1it [00:00,  5.08it/s]\n",
            " 30%|██▉       | 222/750 [01:19<03:01,  2.91it/s]"
          ]
        },
        {
          "name": "stdout",
          "output_type": "stream",
          "text": [
            "\n",
            "0: 736x1280 2 balls, 21 players, 2 referees, 95.6ms\n",
            "Speed: 5.7ms preprocess, 95.6ms inference, 1.8ms postprocess per image at shape (1, 3, 736, 1280)\n"
          ]
        },
        {
          "name": "stderr",
          "output_type": "stream",
          "text": [
            "Embedding extraction: 1it [00:00,  5.08it/s]\n",
            " 30%|██▉       | 223/750 [01:19<03:02,  2.88it/s]"
          ]
        },
        {
          "name": "stdout",
          "output_type": "stream",
          "text": [
            "\n",
            "0: 736x1280 1 ball, 21 players, 2 referees, 96.6ms\n",
            "Speed: 6.2ms preprocess, 96.6ms inference, 1.7ms postprocess per image at shape (1, 3, 736, 1280)\n"
          ]
        },
        {
          "name": "stderr",
          "output_type": "stream",
          "text": [
            "Embedding extraction: 1it [00:00,  4.95it/s]\n",
            " 30%|██▉       | 224/750 [01:20<03:04,  2.85it/s]"
          ]
        },
        {
          "name": "stdout",
          "output_type": "stream",
          "text": [
            "\n",
            "0: 736x1280 1 ball, 22 players, 2 referees, 95.0ms\n",
            "Speed: 6.2ms preprocess, 95.0ms inference, 1.4ms postprocess per image at shape (1, 3, 736, 1280)\n"
          ]
        },
        {
          "name": "stderr",
          "output_type": "stream",
          "text": [
            "Embedding extraction: 1it [00:00,  4.98it/s]\n",
            " 30%|███       | 225/750 [01:20<03:05,  2.84it/s]"
          ]
        },
        {
          "name": "stdout",
          "output_type": "stream",
          "text": [
            "\n",
            "0: 736x1280 1 ball, 1 goalkeeper, 20 players, 2 referees, 95.8ms\n",
            "Speed: 5.6ms preprocess, 95.8ms inference, 2.2ms postprocess per image at shape (1, 3, 736, 1280)\n"
          ]
        },
        {
          "name": "stderr",
          "output_type": "stream",
          "text": [
            "Embedding extraction: 1it [00:00,  5.38it/s]\n",
            " 30%|███       | 226/750 [01:20<03:03,  2.86it/s]"
          ]
        },
        {
          "name": "stdout",
          "output_type": "stream",
          "text": [
            "\n",
            "0: 736x1280 1 ball, 21 players, 2 referees, 96.4ms\n",
            "Speed: 5.8ms preprocess, 96.4ms inference, 1.6ms postprocess per image at shape (1, 3, 736, 1280)\n"
          ]
        },
        {
          "name": "stderr",
          "output_type": "stream",
          "text": [
            "Embedding extraction: 1it [00:00,  5.08it/s]\n",
            " 30%|███       | 227/750 [01:21<03:03,  2.85it/s]"
          ]
        },
        {
          "name": "stdout",
          "output_type": "stream",
          "text": [
            "\n",
            "0: 736x1280 1 ball, 20 players, 2 referees, 95.8ms\n",
            "Speed: 6.2ms preprocess, 95.8ms inference, 1.6ms postprocess per image at shape (1, 3, 736, 1280)\n"
          ]
        },
        {
          "name": "stderr",
          "output_type": "stream",
          "text": [
            "Embedding extraction: 1it [00:00,  5.10it/s]\n",
            " 30%|███       | 228/750 [01:21<03:03,  2.85it/s]"
          ]
        },
        {
          "name": "stdout",
          "output_type": "stream",
          "text": [
            "\n",
            "0: 736x1280 2 balls, 1 goalkeeper, 20 players, 2 referees, 95.1ms\n",
            "Speed: 9.3ms preprocess, 95.1ms inference, 1.7ms postprocess per image at shape (1, 3, 736, 1280)\n"
          ]
        },
        {
          "name": "stderr",
          "output_type": "stream",
          "text": [
            "Embedding extraction: 1it [00:00,  4.90it/s]\n",
            " 31%|███       | 229/750 [01:21<03:04,  2.83it/s]"
          ]
        },
        {
          "name": "stdout",
          "output_type": "stream",
          "text": [
            "\n",
            "0: 736x1280 1 ball, 21 players, 2 referees, 95.4ms\n",
            "Speed: 5.9ms preprocess, 95.4ms inference, 1.7ms postprocess per image at shape (1, 3, 736, 1280)\n"
          ]
        },
        {
          "name": "stderr",
          "output_type": "stream",
          "text": [
            "Embedding extraction: 1it [00:00,  5.08it/s]\n",
            " 31%|███       | 230/750 [01:22<03:03,  2.83it/s]"
          ]
        },
        {
          "name": "stdout",
          "output_type": "stream",
          "text": [
            "\n",
            "0: 736x1280 1 ball, 22 players, 2 referees, 95.1ms\n",
            "Speed: 6.0ms preprocess, 95.1ms inference, 1.9ms postprocess per image at shape (1, 3, 736, 1280)\n"
          ]
        },
        {
          "name": "stderr",
          "output_type": "stream",
          "text": [
            "Embedding extraction: 1it [00:00,  5.13it/s]\n",
            " 31%|███       | 231/750 [01:22<03:03,  2.83it/s]"
          ]
        },
        {
          "name": "stdout",
          "output_type": "stream",
          "text": [
            "\n",
            "0: 736x1280 1 ball, 22 players, 2 referees, 95.5ms\n",
            "Speed: 5.8ms preprocess, 95.5ms inference, 2.1ms postprocess per image at shape (1, 3, 736, 1280)\n"
          ]
        },
        {
          "name": "stderr",
          "output_type": "stream",
          "text": [
            "Embedding extraction: 1it [00:00,  5.03it/s]\n",
            " 31%|███       | 232/750 [01:23<03:03,  2.83it/s]"
          ]
        },
        {
          "name": "stdout",
          "output_type": "stream",
          "text": [
            "\n",
            "0: 736x1280 1 ball, 22 players, 2 referees, 95.8ms\n",
            "Speed: 6.1ms preprocess, 95.8ms inference, 1.8ms postprocess per image at shape (1, 3, 736, 1280)\n"
          ]
        },
        {
          "name": "stderr",
          "output_type": "stream",
          "text": [
            "Embedding extraction: 1it [00:00,  5.15it/s]\n",
            " 31%|███       | 233/750 [01:23<03:02,  2.83it/s]"
          ]
        },
        {
          "name": "stdout",
          "output_type": "stream",
          "text": [
            "\n",
            "0: 736x1280 1 ball, 1 goalkeeper, 22 players, 2 referees, 96.4ms\n",
            "Speed: 6.2ms preprocess, 96.4ms inference, 1.9ms postprocess per image at shape (1, 3, 736, 1280)\n"
          ]
        },
        {
          "name": "stderr",
          "output_type": "stream",
          "text": [
            "Embedding extraction: 1it [00:00,  5.10it/s]\n",
            " 31%|███       | 234/750 [01:23<03:03,  2.82it/s]"
          ]
        },
        {
          "name": "stdout",
          "output_type": "stream",
          "text": [
            "\n",
            "0: 736x1280 1 ball, 1 goalkeeper, 22 players, 2 referees, 96.1ms\n",
            "Speed: 6.6ms preprocess, 96.1ms inference, 2.3ms postprocess per image at shape (1, 3, 736, 1280)\n"
          ]
        },
        {
          "name": "stderr",
          "output_type": "stream",
          "text": [
            "Embedding extraction: 1it [00:00,  4.98it/s]\n",
            " 31%|███▏      | 235/750 [01:24<03:03,  2.81it/s]"
          ]
        },
        {
          "name": "stdout",
          "output_type": "stream",
          "text": [
            "\n",
            "0: 736x1280 1 ball, 1 goalkeeper, 21 players, 2 referees, 96.6ms\n",
            "Speed: 6.4ms preprocess, 96.6ms inference, 1.8ms postprocess per image at shape (1, 3, 736, 1280)\n"
          ]
        },
        {
          "name": "stderr",
          "output_type": "stream",
          "text": [
            "Embedding extraction: 1it [00:00,  5.02it/s]\n",
            " 31%|███▏      | 236/750 [01:24<03:03,  2.80it/s]"
          ]
        },
        {
          "name": "stdout",
          "output_type": "stream",
          "text": [
            "\n",
            "0: 736x1280 1 ball, 1 goalkeeper, 22 players, 2 referees, 96.5ms\n",
            "Speed: 5.6ms preprocess, 96.5ms inference, 1.5ms postprocess per image at shape (1, 3, 736, 1280)\n"
          ]
        },
        {
          "name": "stderr",
          "output_type": "stream",
          "text": [
            "Embedding extraction: 1it [00:00,  4.98it/s]\n",
            " 32%|███▏      | 237/750 [01:24<03:03,  2.80it/s]"
          ]
        },
        {
          "name": "stdout",
          "output_type": "stream",
          "text": [
            "\n",
            "0: 736x1280 1 ball, 1 goalkeeper, 20 players, 3 referees, 96.2ms\n",
            "Speed: 5.9ms preprocess, 96.2ms inference, 1.7ms postprocess per image at shape (1, 3, 736, 1280)\n"
          ]
        },
        {
          "name": "stderr",
          "output_type": "stream",
          "text": [
            "Embedding extraction: 1it [00:00,  4.98it/s]\n",
            " 32%|███▏      | 238/750 [01:25<03:03,  2.79it/s]"
          ]
        },
        {
          "name": "stdout",
          "output_type": "stream",
          "text": [
            "\n",
            "0: 736x1280 1 ball, 1 goalkeeper, 21 players, 2 referees, 96.4ms\n",
            "Speed: 5.7ms preprocess, 96.4ms inference, 1.6ms postprocess per image at shape (1, 3, 736, 1280)\n"
          ]
        },
        {
          "name": "stderr",
          "output_type": "stream",
          "text": [
            "Embedding extraction: 1it [00:00,  5.15it/s]\n",
            " 32%|███▏      | 239/750 [01:25<03:01,  2.81it/s]"
          ]
        },
        {
          "name": "stdout",
          "output_type": "stream",
          "text": [
            "\n",
            "0: 736x1280 1 ball, 1 goalkeeper, 22 players, 2 referees, 96.7ms\n",
            "Speed: 6.4ms preprocess, 96.7ms inference, 1.7ms postprocess per image at shape (1, 3, 736, 1280)\n"
          ]
        },
        {
          "name": "stderr",
          "output_type": "stream",
          "text": [
            "Embedding extraction: 1it [00:00,  5.34it/s]\n",
            " 32%|███▏      | 240/750 [01:25<03:00,  2.83it/s]"
          ]
        },
        {
          "name": "stdout",
          "output_type": "stream",
          "text": [
            "\n",
            "0: 736x1280 1 goalkeeper, 21 players, 2 referees, 95.4ms\n",
            "Speed: 5.9ms preprocess, 95.4ms inference, 1.6ms postprocess per image at shape (1, 3, 736, 1280)\n"
          ]
        },
        {
          "name": "stderr",
          "output_type": "stream",
          "text": [
            "Embedding extraction: 1it [00:00,  5.35it/s]\n",
            " 32%|███▏      | 241/750 [01:26<02:57,  2.87it/s]"
          ]
        },
        {
          "name": "stdout",
          "output_type": "stream",
          "text": [
            "\n",
            "0: 736x1280 1 goalkeeper, 22 players, 2 referees, 94.0ms\n",
            "Speed: 6.1ms preprocess, 94.0ms inference, 1.6ms postprocess per image at shape (1, 3, 736, 1280)\n"
          ]
        },
        {
          "name": "stderr",
          "output_type": "stream",
          "text": [
            "Embedding extraction: 1it [00:00,  5.10it/s]\n",
            " 32%|███▏      | 242/750 [01:26<02:57,  2.87it/s]"
          ]
        },
        {
          "name": "stdout",
          "output_type": "stream",
          "text": [
            "\n",
            "0: 736x1280 1 goalkeeper, 23 players, 2 referees, 95.3ms\n",
            "Speed: 12.0ms preprocess, 95.3ms inference, 1.9ms postprocess per image at shape (1, 3, 736, 1280)\n"
          ]
        },
        {
          "name": "stderr",
          "output_type": "stream",
          "text": [
            "Embedding extraction: 1it [00:00,  5.10it/s]\n",
            " 32%|███▏      | 243/750 [01:26<02:58,  2.85it/s]"
          ]
        },
        {
          "name": "stdout",
          "output_type": "stream",
          "text": [
            "\n",
            "0: 736x1280 1 goalkeeper, 23 players, 2 referees, 95.5ms\n",
            "Speed: 5.9ms preprocess, 95.5ms inference, 1.8ms postprocess per image at shape (1, 3, 736, 1280)\n"
          ]
        },
        {
          "name": "stderr",
          "output_type": "stream",
          "text": [
            "Embedding extraction: 1it [00:00,  4.85it/s]\n",
            " 33%|███▎      | 244/750 [01:27<02:59,  2.81it/s]"
          ]
        },
        {
          "name": "stdout",
          "output_type": "stream",
          "text": [
            "\n",
            "0: 736x1280 1 goalkeeper, 22 players, 2 referees, 95.6ms\n",
            "Speed: 6.7ms preprocess, 95.6ms inference, 1.7ms postprocess per image at shape (1, 3, 736, 1280)\n"
          ]
        },
        {
          "name": "stderr",
          "output_type": "stream",
          "text": [
            "Embedding extraction: 1it [00:00,  5.03it/s]\n",
            " 33%|███▎      | 245/750 [01:27<03:00,  2.80it/s]"
          ]
        },
        {
          "name": "stdout",
          "output_type": "stream",
          "text": [
            "\n",
            "0: 736x1280 1 goalkeeper, 23 players, 2 referees, 96.7ms\n",
            "Speed: 6.5ms preprocess, 96.7ms inference, 1.9ms postprocess per image at shape (1, 3, 736, 1280)\n"
          ]
        },
        {
          "name": "stderr",
          "output_type": "stream",
          "text": [
            "Embedding extraction: 1it [00:00,  4.98it/s]\n",
            " 33%|███▎      | 246/750 [01:27<03:01,  2.78it/s]"
          ]
        },
        {
          "name": "stdout",
          "output_type": "stream",
          "text": [
            "\n",
            "0: 736x1280 1 goalkeeper, 23 players, 2 referees, 95.9ms\n",
            "Speed: 6.6ms preprocess, 95.9ms inference, 1.8ms postprocess per image at shape (1, 3, 736, 1280)\n"
          ]
        },
        {
          "name": "stderr",
          "output_type": "stream",
          "text": [
            "Embedding extraction: 1it [00:00,  5.00it/s]\n",
            " 33%|███▎      | 247/750 [01:28<03:00,  2.78it/s]"
          ]
        },
        {
          "name": "stdout",
          "output_type": "stream",
          "text": [
            "\n",
            "0: 736x1280 1 goalkeeper, 22 players, 2 referees, 95.5ms\n",
            "Speed: 6.0ms preprocess, 95.5ms inference, 2.0ms postprocess per image at shape (1, 3, 736, 1280)\n"
          ]
        },
        {
          "name": "stderr",
          "output_type": "stream",
          "text": [
            "Embedding extraction: 1it [00:00,  5.08it/s]\n",
            " 33%|███▎      | 248/750 [01:28<02:59,  2.79it/s]"
          ]
        },
        {
          "name": "stdout",
          "output_type": "stream",
          "text": [
            "\n",
            "0: 736x1280 2 goalkeepers, 24 players, 2 referees, 96.3ms\n",
            "Speed: 6.5ms preprocess, 96.3ms inference, 1.7ms postprocess per image at shape (1, 3, 736, 1280)\n"
          ]
        },
        {
          "name": "stderr",
          "output_type": "stream",
          "text": [
            "Embedding extraction: 1it [00:00,  5.00it/s]\n",
            " 33%|███▎      | 249/750 [01:29<03:02,  2.74it/s]"
          ]
        },
        {
          "name": "stdout",
          "output_type": "stream",
          "text": [
            "\n",
            "0: 736x1280 2 goalkeepers, 25 players, 1 referee, 95.9ms\n",
            "Speed: 8.3ms preprocess, 95.9ms inference, 1.6ms postprocess per image at shape (1, 3, 736, 1280)\n"
          ]
        },
        {
          "name": "stderr",
          "output_type": "stream",
          "text": [
            "Embedding extraction: 1it [00:00,  5.05it/s]\n",
            " 33%|███▎      | 250/750 [01:29<03:01,  2.76it/s]"
          ]
        },
        {
          "name": "stdout",
          "output_type": "stream",
          "text": [
            "\n",
            "0: 736x1280 2 goalkeepers, 22 players, 1 referee, 97.5ms\n",
            "Speed: 6.2ms preprocess, 97.5ms inference, 1.7ms postprocess per image at shape (1, 3, 736, 1280)\n"
          ]
        },
        {
          "name": "stderr",
          "output_type": "stream",
          "text": [
            "Embedding extraction: 1it [00:00,  4.69it/s]\n",
            " 33%|███▎      | 251/750 [01:29<03:02,  2.73it/s]"
          ]
        },
        {
          "name": "stdout",
          "output_type": "stream",
          "text": [
            "\n",
            "0: 736x1280 2 goalkeepers, 21 players, 1 referee, 97.2ms\n",
            "Speed: 6.3ms preprocess, 97.2ms inference, 2.0ms postprocess per image at shape (1, 3, 736, 1280)\n"
          ]
        },
        {
          "name": "stderr",
          "output_type": "stream",
          "text": [
            "Embedding extraction: 1it [00:00,  4.81it/s]\n",
            " 34%|███▎      | 252/750 [01:30<03:02,  2.73it/s]"
          ]
        },
        {
          "name": "stdout",
          "output_type": "stream",
          "text": [
            "\n",
            "0: 736x1280 1 goalkeeper, 20 players, 1 referee, 96.3ms\n",
            "Speed: 6.2ms preprocess, 96.3ms inference, 1.6ms postprocess per image at shape (1, 3, 736, 1280)\n"
          ]
        },
        {
          "name": "stderr",
          "output_type": "stream",
          "text": [
            "Embedding extraction: 1it [00:00,  5.10it/s]\n",
            " 34%|███▎      | 253/750 [01:30<02:59,  2.77it/s]"
          ]
        },
        {
          "name": "stdout",
          "output_type": "stream",
          "text": [
            "\n",
            "0: 736x1280 1 goalkeeper, 21 players, 2 referees, 96.0ms\n",
            "Speed: 6.0ms preprocess, 96.0ms inference, 1.4ms postprocess per image at shape (1, 3, 736, 1280)\n"
          ]
        },
        {
          "name": "stderr",
          "output_type": "stream",
          "text": [
            "Embedding extraction: 1it [00:00,  5.29it/s]\n",
            " 34%|███▍      | 254/750 [01:30<02:57,  2.80it/s]"
          ]
        },
        {
          "name": "stdout",
          "output_type": "stream",
          "text": [
            "\n",
            "0: 736x1280 2 goalkeepers, 23 players, 2 referees, 96.9ms\n",
            "Speed: 6.4ms preprocess, 96.9ms inference, 1.8ms postprocess per image at shape (1, 3, 736, 1280)\n"
          ]
        },
        {
          "name": "stderr",
          "output_type": "stream",
          "text": [
            "Embedding extraction: 1it [00:00,  5.24it/s]\n",
            " 34%|███▍      | 255/750 [01:31<02:57,  2.79it/s]"
          ]
        },
        {
          "name": "stdout",
          "output_type": "stream",
          "text": [
            "\n",
            "0: 736x1280 2 goalkeepers, 23 players, 1 referee, 94.8ms\n",
            "Speed: 13.4ms preprocess, 94.8ms inference, 1.7ms postprocess per image at shape (1, 3, 736, 1280)\n"
          ]
        },
        {
          "name": "stderr",
          "output_type": "stream",
          "text": [
            "Embedding extraction: 1it [00:00,  4.81it/s]\n",
            " 34%|███▍      | 256/750 [01:31<03:02,  2.71it/s]"
          ]
        },
        {
          "name": "stdout",
          "output_type": "stream",
          "text": [
            "\n",
            "0: 736x1280 2 goalkeepers, 22 players, 1 referee, 97.0ms\n",
            "Speed: 6.4ms preprocess, 97.0ms inference, 1.8ms postprocess per image at shape (1, 3, 736, 1280)\n"
          ]
        },
        {
          "name": "stderr",
          "output_type": "stream",
          "text": [
            "Embedding extraction: 1it [00:00,  4.76it/s]\n",
            " 34%|███▍      | 257/750 [01:31<03:01,  2.71it/s]"
          ]
        },
        {
          "name": "stdout",
          "output_type": "stream",
          "text": [
            "\n",
            "0: 736x1280 1 goalkeeper, 25 players, 1 referee, 95.6ms\n",
            "Speed: 5.9ms preprocess, 95.6ms inference, 1.5ms postprocess per image at shape (1, 3, 736, 1280)\n"
          ]
        },
        {
          "name": "stderr",
          "output_type": "stream",
          "text": [
            "Embedding extraction: 1it [00:00,  4.61it/s]\n",
            " 34%|███▍      | 258/750 [01:32<03:03,  2.69it/s]"
          ]
        },
        {
          "name": "stdout",
          "output_type": "stream",
          "text": [
            "\n",
            "0: 736x1280 2 goalkeepers, 22 players, 1 referee, 96.5ms\n",
            "Speed: 7.9ms preprocess, 96.5ms inference, 1.5ms postprocess per image at shape (1, 3, 736, 1280)\n"
          ]
        },
        {
          "name": "stderr",
          "output_type": "stream",
          "text": [
            "Embedding extraction: 1it [00:00,  4.74it/s]\n",
            " 35%|███▍      | 259/750 [01:32<03:02,  2.69it/s]"
          ]
        },
        {
          "name": "stdout",
          "output_type": "stream",
          "text": [
            "\n",
            "0: 736x1280 1 goalkeeper, 23 players, 2 referees, 96.8ms\n",
            "Speed: 6.1ms preprocess, 96.8ms inference, 1.6ms postprocess per image at shape (1, 3, 736, 1280)\n"
          ]
        },
        {
          "name": "stderr",
          "output_type": "stream",
          "text": [
            "Embedding extraction: 1it [00:00,  5.00it/s]\n",
            " 35%|███▍      | 260/750 [01:33<03:00,  2.72it/s]"
          ]
        },
        {
          "name": "stdout",
          "output_type": "stream",
          "text": [
            "\n",
            "0: 736x1280 1 goalkeeper, 22 players, 2 referees, 96.8ms\n",
            "Speed: 5.8ms preprocess, 96.8ms inference, 1.4ms postprocess per image at shape (1, 3, 736, 1280)\n"
          ]
        },
        {
          "name": "stderr",
          "output_type": "stream",
          "text": [
            "Embedding extraction: 1it [00:00,  4.98it/s]\n",
            " 35%|███▍      | 261/750 [01:33<02:59,  2.72it/s]"
          ]
        },
        {
          "name": "stdout",
          "output_type": "stream",
          "text": [
            "\n",
            "0: 736x1280 1 ball, 1 goalkeeper, 21 players, 2 referees, 97.0ms\n",
            "Speed: 6.4ms preprocess, 97.0ms inference, 1.7ms postprocess per image at shape (1, 3, 736, 1280)\n"
          ]
        },
        {
          "name": "stderr",
          "output_type": "stream",
          "text": [
            "Embedding extraction: 1it [00:00,  4.93it/s]\n",
            " 35%|███▍      | 262/750 [01:33<02:58,  2.73it/s]"
          ]
        },
        {
          "name": "stdout",
          "output_type": "stream",
          "text": [
            "\n",
            "0: 736x1280 2 goalkeepers, 23 players, 2 referees, 96.1ms\n",
            "Speed: 6.3ms preprocess, 96.1ms inference, 1.9ms postprocess per image at shape (1, 3, 736, 1280)\n"
          ]
        },
        {
          "name": "stderr",
          "output_type": "stream",
          "text": [
            "Embedding extraction: 1it [00:00,  5.15it/s]\n",
            " 35%|███▌      | 263/750 [01:34<02:56,  2.76it/s]"
          ]
        },
        {
          "name": "stdout",
          "output_type": "stream",
          "text": [
            "\n",
            "0: 736x1280 1 ball, 2 goalkeepers, 21 players, 2 referees, 97.5ms\n",
            "Speed: 6.6ms preprocess, 97.5ms inference, 1.9ms postprocess per image at shape (1, 3, 736, 1280)\n"
          ]
        },
        {
          "name": "stderr",
          "output_type": "stream",
          "text": [
            "Embedding extraction: 1it [00:00,  5.00it/s]\n",
            " 35%|███▌      | 264/750 [01:34<02:56,  2.76it/s]"
          ]
        },
        {
          "name": "stdout",
          "output_type": "stream",
          "text": [
            "\n",
            "0: 736x1280 2 goalkeepers, 22 players, 2 referees, 96.8ms\n",
            "Speed: 5.9ms preprocess, 96.8ms inference, 2.0ms postprocess per image at shape (1, 3, 736, 1280)\n"
          ]
        },
        {
          "name": "stderr",
          "output_type": "stream",
          "text": [
            "Embedding extraction: 1it [00:00,  5.29it/s]\n",
            " 35%|███▌      | 265/750 [01:34<02:53,  2.80it/s]"
          ]
        },
        {
          "name": "stdout",
          "output_type": "stream",
          "text": [
            "\n",
            "0: 736x1280 3 goalkeepers, 22 players, 2 referees, 96.9ms\n",
            "Speed: 6.1ms preprocess, 96.9ms inference, 1.6ms postprocess per image at shape (1, 3, 736, 1280)\n"
          ]
        },
        {
          "name": "stderr",
          "output_type": "stream",
          "text": [
            "Embedding extraction: 1it [00:00,  4.59it/s]\n",
            " 35%|███▌      | 266/750 [01:35<02:55,  2.75it/s]"
          ]
        },
        {
          "name": "stdout",
          "output_type": "stream",
          "text": [
            "\n",
            "0: 736x1280 1 ball, 3 goalkeepers, 24 players, 3 referees, 96.6ms\n",
            "Speed: 7.8ms preprocess, 96.6ms inference, 1.8ms postprocess per image at shape (1, 3, 736, 1280)\n"
          ]
        },
        {
          "name": "stderr",
          "output_type": "stream",
          "text": [
            "Embedding extraction: 1it [00:00,  5.65it/s]\n",
            " 36%|███▌      | 267/750 [01:35<02:53,  2.79it/s]"
          ]
        },
        {
          "name": "stdout",
          "output_type": "stream",
          "text": [
            "\n",
            "0: 736x1280 2 balls, 2 goalkeepers, 21 players, 1 referee, 97.5ms\n",
            "Speed: 6.9ms preprocess, 97.5ms inference, 1.7ms postprocess per image at shape (1, 3, 736, 1280)\n"
          ]
        },
        {
          "name": "stderr",
          "output_type": "stream",
          "text": [
            "Embedding extraction: 1it [00:00,  4.72it/s]\n",
            " 36%|███▌      | 268/750 [01:36<02:55,  2.75it/s]"
          ]
        },
        {
          "name": "stdout",
          "output_type": "stream",
          "text": [
            "\n",
            "0: 736x1280 3 goalkeepers, 21 players, 1 referee, 96.3ms\n",
            "Speed: 6.5ms preprocess, 96.3ms inference, 1.5ms postprocess per image at shape (1, 3, 736, 1280)\n"
          ]
        },
        {
          "name": "stderr",
          "output_type": "stream",
          "text": [
            "Embedding extraction: 1it [00:00,  5.03it/s]\n",
            " 36%|███▌      | 269/750 [01:36<02:54,  2.76it/s]"
          ]
        },
        {
          "name": "stdout",
          "output_type": "stream",
          "text": [
            "\n",
            "0: 736x1280 1 ball, 1 goalkeeper, 21 players, 2 referees, 97.4ms\n",
            "Speed: 6.3ms preprocess, 97.4ms inference, 1.7ms postprocess per image at shape (1, 3, 736, 1280)\n"
          ]
        },
        {
          "name": "stderr",
          "output_type": "stream",
          "text": [
            "Embedding extraction: 1it [00:00,  4.72it/s]\n",
            " 36%|███▌      | 270/750 [01:36<02:55,  2.73it/s]"
          ]
        },
        {
          "name": "stdout",
          "output_type": "stream",
          "text": [
            "\n",
            "0: 736x1280 1 goalkeeper, 21 players, 1 referee, 96.7ms\n",
            "Speed: 7.4ms preprocess, 96.7ms inference, 2.0ms postprocess per image at shape (1, 3, 736, 1280)\n"
          ]
        },
        {
          "name": "stderr",
          "output_type": "stream",
          "text": [
            "Embedding extraction: 1it [00:00,  4.69it/s]\n",
            " 36%|███▌      | 271/750 [01:37<02:57,  2.70it/s]"
          ]
        },
        {
          "name": "stdout",
          "output_type": "stream",
          "text": [
            "\n",
            "0: 736x1280 1 ball, 1 goalkeeper, 20 players, 2 referees, 97.5ms\n",
            "Speed: 7.2ms preprocess, 97.5ms inference, 1.6ms postprocess per image at shape (1, 3, 736, 1280)\n"
          ]
        },
        {
          "name": "stderr",
          "output_type": "stream",
          "text": [
            "Embedding extraction: 1it [00:00,  4.93it/s]\n",
            " 36%|███▋      | 272/750 [01:37<02:57,  2.70it/s]"
          ]
        },
        {
          "name": "stdout",
          "output_type": "stream",
          "text": [
            "\n",
            "0: 736x1280 2 goalkeepers, 21 players, 2 referees, 96.2ms\n",
            "Speed: 6.7ms preprocess, 96.2ms inference, 1.7ms postprocess per image at shape (1, 3, 736, 1280)\n"
          ]
        },
        {
          "name": "stderr",
          "output_type": "stream",
          "text": [
            "Embedding extraction: 1it [00:00,  5.10it/s]\n",
            " 36%|███▋      | 273/750 [01:37<02:55,  2.72it/s]"
          ]
        },
        {
          "name": "stdout",
          "output_type": "stream",
          "text": [
            "\n",
            "0: 736x1280 1 ball, 1 goalkeeper, 22 players, 1 referee, 97.4ms\n",
            "Speed: 7.1ms preprocess, 97.4ms inference, 1.9ms postprocess per image at shape (1, 3, 736, 1280)\n"
          ]
        },
        {
          "name": "stderr",
          "output_type": "stream",
          "text": [
            "Embedding extraction: 1it [00:00,  4.65it/s]\n",
            " 37%|███▋      | 274/750 [01:38<02:55,  2.71it/s]"
          ]
        },
        {
          "name": "stdout",
          "output_type": "stream",
          "text": [
            "\n",
            "0: 736x1280 1 ball, 1 goalkeeper, 21 players, 1 referee, 97.3ms\n",
            "Speed: 6.5ms preprocess, 97.3ms inference, 1.9ms postprocess per image at shape (1, 3, 736, 1280)\n"
          ]
        },
        {
          "name": "stderr",
          "output_type": "stream",
          "text": [
            "Embedding extraction: 1it [00:00,  4.61it/s]\n",
            " 37%|███▋      | 275/750 [01:38<02:57,  2.67it/s]"
          ]
        },
        {
          "name": "stdout",
          "output_type": "stream",
          "text": [
            "\n",
            "0: 736x1280 1 ball, 1 goalkeeper, 20 players, 2 referees, 96.1ms\n",
            "Speed: 6.6ms preprocess, 96.1ms inference, 1.8ms postprocess per image at shape (1, 3, 736, 1280)\n"
          ]
        },
        {
          "name": "stderr",
          "output_type": "stream",
          "text": [
            "Embedding extraction: 1it [00:00,  4.90it/s]\n",
            " 37%|███▋      | 276/750 [01:38<02:56,  2.69it/s]"
          ]
        },
        {
          "name": "stdout",
          "output_type": "stream",
          "text": [
            "\n",
            "0: 736x1280 1 ball, 2 goalkeepers, 21 players, 2 referees, 97.2ms\n",
            "Speed: 6.4ms preprocess, 97.2ms inference, 1.4ms postprocess per image at shape (1, 3, 736, 1280)\n"
          ]
        },
        {
          "name": "stderr",
          "output_type": "stream",
          "text": [
            "Embedding extraction: 1it [00:00,  5.35it/s]\n",
            " 37%|███▋      | 277/750 [01:39<02:52,  2.75it/s]"
          ]
        },
        {
          "name": "stdout",
          "output_type": "stream",
          "text": [
            "\n",
            "0: 736x1280 1 ball, 2 goalkeepers, 20 players, 2 referees, 96.4ms\n",
            "Speed: 6.8ms preprocess, 96.4ms inference, 1.5ms postprocess per image at shape (1, 3, 736, 1280)\n"
          ]
        },
        {
          "name": "stderr",
          "output_type": "stream",
          "text": [
            "Embedding extraction: 1it [00:00,  5.10it/s]\n",
            " 37%|███▋      | 278/750 [01:39<02:50,  2.76it/s]"
          ]
        },
        {
          "name": "stdout",
          "output_type": "stream",
          "text": [
            "\n",
            "0: 736x1280 2 goalkeepers, 22 players, 2 referees, 96.6ms\n",
            "Speed: 6.8ms preprocess, 96.6ms inference, 1.8ms postprocess per image at shape (1, 3, 736, 1280)\n"
          ]
        },
        {
          "name": "stderr",
          "output_type": "stream",
          "text": [
            "Embedding extraction: 1it [00:00,  5.29it/s]\n",
            " 37%|███▋      | 279/750 [01:40<02:48,  2.79it/s]"
          ]
        },
        {
          "name": "stdout",
          "output_type": "stream",
          "text": [
            "\n",
            "0: 736x1280 2 goalkeepers, 21 players, 2 referees, 96.4ms\n",
            "Speed: 5.9ms preprocess, 96.4ms inference, 1.5ms postprocess per image at shape (1, 3, 736, 1280)\n"
          ]
        },
        {
          "name": "stderr",
          "output_type": "stream",
          "text": [
            "Embedding extraction: 1it [00:00,  5.00it/s]\n",
            " 37%|███▋      | 280/750 [01:40<02:48,  2.79it/s]"
          ]
        },
        {
          "name": "stdout",
          "output_type": "stream",
          "text": [
            "\n",
            "0: 736x1280 1 goalkeeper, 21 players, 1 referee, 96.8ms\n",
            "Speed: 7.9ms preprocess, 96.8ms inference, 1.7ms postprocess per image at shape (1, 3, 736, 1280)\n"
          ]
        },
        {
          "name": "stderr",
          "output_type": "stream",
          "text": [
            "Embedding extraction: 1it [00:00,  4.78it/s]\n",
            " 37%|███▋      | 281/750 [01:40<02:49,  2.76it/s]"
          ]
        },
        {
          "name": "stdout",
          "output_type": "stream",
          "text": [
            "\n",
            "0: 736x1280 1 ball, 2 goalkeepers, 20 players, 2 referees, 96.2ms\n",
            "Speed: 5.8ms preprocess, 96.2ms inference, 1.8ms postprocess per image at shape (1, 3, 736, 1280)\n"
          ]
        },
        {
          "name": "stderr",
          "output_type": "stream",
          "text": [
            "Embedding extraction: 1it [00:00,  5.17it/s]\n",
            " 38%|███▊      | 282/750 [01:41<02:48,  2.78it/s]"
          ]
        },
        {
          "name": "stdout",
          "output_type": "stream",
          "text": [
            "\n",
            "0: 736x1280 1 goalkeeper, 20 players, 2 referees, 96.2ms\n",
            "Speed: 6.3ms preprocess, 96.2ms inference, 1.8ms postprocess per image at shape (1, 3, 736, 1280)\n"
          ]
        },
        {
          "name": "stderr",
          "output_type": "stream",
          "text": [
            "Embedding extraction: 1it [00:00,  4.93it/s]\n",
            " 38%|███▊      | 283/750 [01:41<02:48,  2.77it/s]"
          ]
        },
        {
          "name": "stdout",
          "output_type": "stream",
          "text": [
            "\n",
            "0: 736x1280 1 ball, 1 goalkeeper, 20 players, 2 referees, 96.6ms\n",
            "Speed: 6.0ms preprocess, 96.6ms inference, 1.8ms postprocess per image at shape (1, 3, 736, 1280)\n"
          ]
        },
        {
          "name": "stderr",
          "output_type": "stream",
          "text": [
            "Embedding extraction: 1it [00:00,  4.98it/s]\n",
            " 38%|███▊      | 284/750 [01:41<02:48,  2.76it/s]"
          ]
        },
        {
          "name": "stdout",
          "output_type": "stream",
          "text": [
            "\n",
            "0: 736x1280 1 ball, 2 goalkeepers, 20 players, 2 referees, 96.3ms\n",
            "Speed: 6.1ms preprocess, 96.3ms inference, 1.9ms postprocess per image at shape (1, 3, 736, 1280)\n"
          ]
        },
        {
          "name": "stderr",
          "output_type": "stream",
          "text": [
            "Embedding extraction: 1it [00:00,  5.21it/s]\n",
            " 38%|███▊      | 285/750 [01:42<02:47,  2.78it/s]"
          ]
        },
        {
          "name": "stdout",
          "output_type": "stream",
          "text": [
            "\n",
            "0: 736x1280 2 goalkeepers, 21 players, 2 referees, 96.2ms\n",
            "Speed: 7.9ms preprocess, 96.2ms inference, 2.0ms postprocess per image at shape (1, 3, 736, 1280)\n"
          ]
        },
        {
          "name": "stderr",
          "output_type": "stream",
          "text": [
            "Embedding extraction: 1it [00:00,  5.21it/s]\n",
            " 38%|███▊      | 286/750 [01:42<02:46,  2.78it/s]"
          ]
        },
        {
          "name": "stdout",
          "output_type": "stream",
          "text": [
            "\n",
            "0: 736x1280 1 ball, 1 goalkeeper, 21 players, 2 referees, 97.4ms\n",
            "Speed: 7.2ms preprocess, 97.4ms inference, 1.7ms postprocess per image at shape (1, 3, 736, 1280)\n"
          ]
        },
        {
          "name": "stderr",
          "output_type": "stream",
          "text": [
            "Embedding extraction: 1it [00:00,  4.72it/s]\n",
            " 38%|███▊      | 287/750 [01:42<02:51,  2.69it/s]"
          ]
        },
        {
          "name": "stdout",
          "output_type": "stream",
          "text": [
            "\n",
            "0: 736x1280 1 ball, 1 goalkeeper, 20 players, 2 referees, 97.7ms\n",
            "Speed: 9.4ms preprocess, 97.7ms inference, 1.6ms postprocess per image at shape (1, 3, 736, 1280)\n"
          ]
        },
        {
          "name": "stderr",
          "output_type": "stream",
          "text": [
            "Embedding extraction: 1it [00:00,  4.72it/s]\n",
            " 38%|███▊      | 288/750 [01:43<02:53,  2.66it/s]"
          ]
        },
        {
          "name": "stdout",
          "output_type": "stream",
          "text": [
            "\n",
            "0: 736x1280 1 goalkeeper, 20 players, 2 referees, 97.1ms\n",
            "Speed: 7.5ms preprocess, 97.1ms inference, 2.6ms postprocess per image at shape (1, 3, 736, 1280)\n"
          ]
        },
        {
          "name": "stderr",
          "output_type": "stream",
          "text": [
            "Embedding extraction: 1it [00:00,  4.55it/s]\n",
            " 39%|███▊      | 289/750 [01:43<02:54,  2.64it/s]"
          ]
        },
        {
          "name": "stdout",
          "output_type": "stream",
          "text": [
            "\n",
            "0: 736x1280 1 goalkeeper, 21 players, 2 referees, 96.6ms\n",
            "Speed: 8.0ms preprocess, 96.6ms inference, 1.6ms postprocess per image at shape (1, 3, 736, 1280)\n"
          ]
        },
        {
          "name": "stderr",
          "output_type": "stream",
          "text": [
            "Embedding extraction: 1it [00:00,  4.83it/s]\n",
            " 39%|███▊      | 290/750 [01:44<02:53,  2.65it/s]"
          ]
        },
        {
          "name": "stdout",
          "output_type": "stream",
          "text": [
            "\n",
            "0: 736x1280 1 goalkeeper, 20 players, 2 referees, 98.1ms\n",
            "Speed: 7.0ms preprocess, 98.1ms inference, 1.6ms postprocess per image at shape (1, 3, 736, 1280)\n"
          ]
        },
        {
          "name": "stderr",
          "output_type": "stream",
          "text": [
            "Embedding extraction: 1it [00:00,  4.81it/s]\n",
            " 39%|███▉      | 291/750 [01:44<02:52,  2.67it/s]"
          ]
        },
        {
          "name": "stdout",
          "output_type": "stream",
          "text": [
            "\n",
            "0: 736x1280 2 goalkeepers, 20 players, 2 referees, 97.0ms\n",
            "Speed: 6.2ms preprocess, 97.0ms inference, 1.5ms postprocess per image at shape (1, 3, 736, 1280)\n"
          ]
        },
        {
          "name": "stderr",
          "output_type": "stream",
          "text": [
            "Embedding extraction: 1it [00:00,  4.81it/s]\n",
            " 39%|███▉      | 292/750 [01:44<02:50,  2.68it/s]"
          ]
        },
        {
          "name": "stdout",
          "output_type": "stream",
          "text": [
            "\n",
            "0: 736x1280 2 goalkeepers, 20 players, 2 referees, 96.0ms\n",
            "Speed: 6.4ms preprocess, 96.0ms inference, 1.6ms postprocess per image at shape (1, 3, 736, 1280)\n"
          ]
        },
        {
          "name": "stderr",
          "output_type": "stream",
          "text": [
            "Embedding extraction: 1it [00:00,  4.90it/s]\n",
            " 39%|███▉      | 293/750 [01:45<02:49,  2.70it/s]"
          ]
        },
        {
          "name": "stdout",
          "output_type": "stream",
          "text": [
            "\n",
            "0: 736x1280 2 goalkeepers, 20 players, 3 referees, 96.4ms\n",
            "Speed: 6.4ms preprocess, 96.4ms inference, 1.9ms postprocess per image at shape (1, 3, 736, 1280)\n"
          ]
        },
        {
          "name": "stderr",
          "output_type": "stream",
          "text": [
            "Embedding extraction: 1it [00:00,  5.18it/s]\n",
            " 39%|███▉      | 294/750 [01:45<02:46,  2.74it/s]"
          ]
        },
        {
          "name": "stdout",
          "output_type": "stream",
          "text": [
            "\n",
            "0: 736x1280 1 ball, 2 goalkeepers, 20 players, 2 referees, 97.7ms\n",
            "Speed: 7.5ms preprocess, 97.7ms inference, 1.4ms postprocess per image at shape (1, 3, 736, 1280)\n"
          ]
        },
        {
          "name": "stderr",
          "output_type": "stream",
          "text": [
            "Embedding extraction: 1it [00:00,  5.24it/s]\n",
            " 39%|███▉      | 295/750 [01:45<02:44,  2.76it/s]"
          ]
        },
        {
          "name": "stdout",
          "output_type": "stream",
          "text": [
            "\n",
            "0: 736x1280 1 ball, 2 goalkeepers, 20 players, 2 referees, 96.0ms\n",
            "Speed: 6.2ms preprocess, 96.0ms inference, 1.9ms postprocess per image at shape (1, 3, 736, 1280)\n"
          ]
        },
        {
          "name": "stderr",
          "output_type": "stream",
          "text": [
            "Embedding extraction: 1it [00:00,  5.38it/s]\n",
            " 39%|███▉      | 296/750 [01:46<02:41,  2.81it/s]"
          ]
        },
        {
          "name": "stdout",
          "output_type": "stream",
          "text": [
            "\n",
            "0: 736x1280 1 ball, 2 goalkeepers, 20 players, 2 referees, 96.6ms\n",
            "Speed: 5.9ms preprocess, 96.6ms inference, 1.6ms postprocess per image at shape (1, 3, 736, 1280)\n"
          ]
        },
        {
          "name": "stderr",
          "output_type": "stream",
          "text": [
            "Embedding extraction: 1it [00:00,  5.10it/s]\n",
            " 40%|███▉      | 297/750 [01:46<02:41,  2.80it/s]"
          ]
        },
        {
          "name": "stdout",
          "output_type": "stream",
          "text": [
            "\n",
            "0: 736x1280 3 goalkeepers, 20 players, 2 referees, 96.5ms\n",
            "Speed: 6.3ms preprocess, 96.5ms inference, 1.7ms postprocess per image at shape (1, 3, 736, 1280)\n"
          ]
        },
        {
          "name": "stderr",
          "output_type": "stream",
          "text": [
            "Embedding extraction: 1it [00:00,  5.13it/s]\n",
            " 40%|███▉      | 298/750 [01:46<02:41,  2.80it/s]"
          ]
        },
        {
          "name": "stdout",
          "output_type": "stream",
          "text": [
            "\n",
            "0: 736x1280 1 ball, 2 goalkeepers, 20 players, 2 referees, 95.9ms\n",
            "Speed: 6.2ms preprocess, 95.9ms inference, 1.6ms postprocess per image at shape (1, 3, 736, 1280)\n"
          ]
        },
        {
          "name": "stderr",
          "output_type": "stream",
          "text": [
            "Embedding extraction: 1it [00:00,  5.29it/s]\n",
            " 40%|███▉      | 299/750 [01:47<02:39,  2.82it/s]"
          ]
        },
        {
          "name": "stdout",
          "output_type": "stream",
          "text": [
            "\n",
            "0: 736x1280 2 goalkeepers, 20 players, 2 referees, 96.7ms\n",
            "Speed: 6.5ms preprocess, 96.7ms inference, 1.8ms postprocess per image at shape (1, 3, 736, 1280)\n"
          ]
        },
        {
          "name": "stderr",
          "output_type": "stream",
          "text": [
            "Embedding extraction: 1it [00:00,  5.26it/s]\n",
            " 40%|████      | 300/750 [01:47<02:39,  2.82it/s]"
          ]
        },
        {
          "name": "stdout",
          "output_type": "stream",
          "text": [
            "\n",
            "0: 736x1280 1 ball, 1 goalkeeper, 20 players, 2 referees, 96.8ms\n",
            "Speed: 6.5ms preprocess, 96.8ms inference, 1.7ms postprocess per image at shape (1, 3, 736, 1280)\n"
          ]
        },
        {
          "name": "stderr",
          "output_type": "stream",
          "text": [
            "Embedding extraction: 1it [00:00,  4.88it/s]\n",
            " 40%|████      | 301/750 [01:48<02:39,  2.81it/s]"
          ]
        },
        {
          "name": "stdout",
          "output_type": "stream",
          "text": [
            "\n",
            "0: 736x1280 2 goalkeepers, 20 players, 2 referees, 96.8ms\n",
            "Speed: 6.3ms preprocess, 96.8ms inference, 1.6ms postprocess per image at shape (1, 3, 736, 1280)\n"
          ]
        },
        {
          "name": "stderr",
          "output_type": "stream",
          "text": [
            "Embedding extraction: 1it [00:00,  5.21it/s]\n",
            " 40%|████      | 302/750 [01:48<02:38,  2.83it/s]"
          ]
        },
        {
          "name": "stdout",
          "output_type": "stream",
          "text": [
            "\n",
            "0: 736x1280 1 goalkeeper, 20 players, 2 referees, 96.2ms\n",
            "Speed: 6.4ms preprocess, 96.2ms inference, 1.8ms postprocess per image at shape (1, 3, 736, 1280)\n"
          ]
        },
        {
          "name": "stderr",
          "output_type": "stream",
          "text": [
            "Embedding extraction: 1it [00:00,  5.13it/s]\n",
            " 40%|████      | 303/750 [01:48<02:38,  2.82it/s]"
          ]
        },
        {
          "name": "stdout",
          "output_type": "stream",
          "text": [
            "\n",
            "0: 736x1280 1 goalkeeper, 20 players, 2 referees, 96.2ms\n",
            "Speed: 5.8ms preprocess, 96.2ms inference, 1.7ms postprocess per image at shape (1, 3, 736, 1280)\n"
          ]
        },
        {
          "name": "stderr",
          "output_type": "stream",
          "text": [
            "Embedding extraction: 1it [00:00,  5.10it/s]\n",
            " 41%|████      | 304/750 [01:49<02:37,  2.82it/s]"
          ]
        },
        {
          "name": "stdout",
          "output_type": "stream",
          "text": [
            "\n",
            "0: 736x1280 1 goalkeeper, 20 players, 2 referees, 96.1ms\n",
            "Speed: 5.7ms preprocess, 96.1ms inference, 1.5ms postprocess per image at shape (1, 3, 736, 1280)\n"
          ]
        },
        {
          "name": "stderr",
          "output_type": "stream",
          "text": [
            "Embedding extraction: 1it [00:00,  5.15it/s]\n",
            " 41%|████      | 305/750 [01:49<02:37,  2.83it/s]"
          ]
        },
        {
          "name": "stdout",
          "output_type": "stream",
          "text": [
            "\n",
            "0: 736x1280 1 goalkeeper, 20 players, 2 referees, 95.9ms\n",
            "Speed: 5.9ms preprocess, 95.9ms inference, 1.5ms postprocess per image at shape (1, 3, 736, 1280)\n"
          ]
        },
        {
          "name": "stderr",
          "output_type": "stream",
          "text": [
            "Embedding extraction: 1it [00:00,  5.15it/s]\n",
            " 41%|████      | 306/750 [01:49<02:36,  2.84it/s]"
          ]
        },
        {
          "name": "stdout",
          "output_type": "stream",
          "text": [
            "\n",
            "0: 736x1280 1 goalkeeper, 20 players, 2 referees, 95.8ms\n",
            "Speed: 5.7ms preprocess, 95.8ms inference, 1.8ms postprocess per image at shape (1, 3, 736, 1280)\n"
          ]
        },
        {
          "name": "stderr",
          "output_type": "stream",
          "text": [
            "Embedding extraction: 1it [00:00,  5.13it/s]\n",
            " 41%|████      | 307/750 [01:50<02:36,  2.84it/s]"
          ]
        },
        {
          "name": "stdout",
          "output_type": "stream",
          "text": [
            "\n",
            "0: 736x1280 1 goalkeeper, 20 players, 2 referees, 95.4ms\n",
            "Speed: 6.0ms preprocess, 95.4ms inference, 1.6ms postprocess per image at shape (1, 3, 736, 1280)\n"
          ]
        },
        {
          "name": "stderr",
          "output_type": "stream",
          "text": [
            "Embedding extraction: 1it [00:00,  5.13it/s]\n",
            " 41%|████      | 308/750 [01:50<02:36,  2.82it/s]"
          ]
        },
        {
          "name": "stdout",
          "output_type": "stream",
          "text": [
            "\n",
            "0: 736x1280 1 goalkeeper, 20 players, 2 referees, 96.1ms\n",
            "Speed: 5.9ms preprocess, 96.1ms inference, 1.7ms postprocess per image at shape (1, 3, 736, 1280)\n"
          ]
        },
        {
          "name": "stderr",
          "output_type": "stream",
          "text": [
            "Embedding extraction: 1it [00:00,  5.13it/s]\n",
            " 41%|████      | 309/750 [01:50<02:36,  2.82it/s]"
          ]
        },
        {
          "name": "stdout",
          "output_type": "stream",
          "text": [
            "\n",
            "0: 736x1280 1 goalkeeper, 20 players, 2 referees, 96.1ms\n",
            "Speed: 6.0ms preprocess, 96.1ms inference, 1.5ms postprocess per image at shape (1, 3, 736, 1280)\n"
          ]
        },
        {
          "name": "stderr",
          "output_type": "stream",
          "text": [
            "Embedding extraction: 1it [00:00,  5.10it/s]\n",
            " 41%|████▏     | 310/750 [01:51<02:35,  2.82it/s]"
          ]
        },
        {
          "name": "stdout",
          "output_type": "stream",
          "text": [
            "\n",
            "0: 736x1280 1 goalkeeper, 20 players, 2 referees, 96.0ms\n",
            "Speed: 6.3ms preprocess, 96.0ms inference, 1.4ms postprocess per image at shape (1, 3, 736, 1280)\n"
          ]
        },
        {
          "name": "stderr",
          "output_type": "stream",
          "text": [
            "Embedding extraction: 1it [00:00,  5.10it/s]\n",
            " 41%|████▏     | 311/750 [01:51<02:35,  2.82it/s]"
          ]
        },
        {
          "name": "stdout",
          "output_type": "stream",
          "text": [
            "\n",
            "0: 736x1280 1 goalkeeper, 20 players, 2 referees, 95.3ms\n",
            "Speed: 6.5ms preprocess, 95.3ms inference, 1.6ms postprocess per image at shape (1, 3, 736, 1280)\n"
          ]
        },
        {
          "name": "stderr",
          "output_type": "stream",
          "text": [
            "Embedding extraction: 1it [00:00,  4.88it/s]\n",
            " 42%|████▏     | 312/750 [01:51<02:37,  2.78it/s]"
          ]
        },
        {
          "name": "stdout",
          "output_type": "stream",
          "text": [
            "\n",
            "0: 736x1280 1 goalkeeper, 20 players, 2 referees, 95.4ms\n",
            "Speed: 6.7ms preprocess, 95.4ms inference, 1.6ms postprocess per image at shape (1, 3, 736, 1280)\n"
          ]
        },
        {
          "name": "stderr",
          "output_type": "stream",
          "text": [
            "Embedding extraction: 1it [00:00,  5.10it/s]\n",
            " 42%|████▏     | 313/750 [01:52<02:36,  2.80it/s]"
          ]
        },
        {
          "name": "stdout",
          "output_type": "stream",
          "text": [
            "\n",
            "0: 736x1280 1 goalkeeper, 20 players, 2 referees, 96.3ms\n",
            "Speed: 6.2ms preprocess, 96.3ms inference, 1.7ms postprocess per image at shape (1, 3, 736, 1280)\n"
          ]
        },
        {
          "name": "stderr",
          "output_type": "stream",
          "text": [
            "Embedding extraction: 1it [00:00,  5.03it/s]\n",
            " 42%|████▏     | 314/750 [01:52<02:36,  2.79it/s]"
          ]
        },
        {
          "name": "stdout",
          "output_type": "stream",
          "text": [
            "\n",
            "0: 736x1280 1 goalkeeper, 20 players, 2 referees, 95.0ms\n",
            "Speed: 6.3ms preprocess, 95.0ms inference, 2.3ms postprocess per image at shape (1, 3, 736, 1280)\n"
          ]
        },
        {
          "name": "stderr",
          "output_type": "stream",
          "text": [
            "Embedding extraction: 1it [00:00,  5.00it/s]\n",
            " 42%|████▏     | 315/750 [01:53<02:36,  2.78it/s]"
          ]
        },
        {
          "name": "stdout",
          "output_type": "stream",
          "text": [
            "\n",
            "0: 736x1280 1 goalkeeper, 20 players, 2 referees, 95.6ms\n",
            "Speed: 6.5ms preprocess, 95.6ms inference, 1.9ms postprocess per image at shape (1, 3, 736, 1280)\n"
          ]
        },
        {
          "name": "stderr",
          "output_type": "stream",
          "text": [
            "Embedding extraction: 1it [00:00,  5.03it/s]\n",
            " 42%|████▏     | 316/750 [01:53<02:35,  2.79it/s]"
          ]
        },
        {
          "name": "stdout",
          "output_type": "stream",
          "text": [
            "\n",
            "0: 736x1280 1 goalkeeper, 20 players, 2 referees, 96.5ms\n",
            "Speed: 6.2ms preprocess, 96.5ms inference, 1.8ms postprocess per image at shape (1, 3, 736, 1280)\n"
          ]
        },
        {
          "name": "stderr",
          "output_type": "stream",
          "text": [
            "Embedding extraction: 1it [00:00,  4.88it/s]\n",
            " 42%|████▏     | 317/750 [01:53<02:35,  2.78it/s]"
          ]
        },
        {
          "name": "stdout",
          "output_type": "stream",
          "text": [
            "\n",
            "0: 736x1280 1 goalkeeper, 20 players, 2 referees, 96.7ms\n",
            "Speed: 6.2ms preprocess, 96.7ms inference, 1.4ms postprocess per image at shape (1, 3, 736, 1280)\n"
          ]
        },
        {
          "name": "stderr",
          "output_type": "stream",
          "text": [
            "Embedding extraction: 1it [00:00,  5.05it/s]\n",
            " 42%|████▏     | 318/750 [01:54<02:35,  2.77it/s]"
          ]
        },
        {
          "name": "stdout",
          "output_type": "stream",
          "text": [
            "\n",
            "0: 736x1280 1 goalkeeper, 20 players, 2 referees, 96.0ms\n",
            "Speed: 7.0ms preprocess, 96.0ms inference, 1.6ms postprocess per image at shape (1, 3, 736, 1280)\n"
          ]
        },
        {
          "name": "stderr",
          "output_type": "stream",
          "text": [
            "Embedding extraction: 1it [00:00,  5.08it/s]\n",
            " 43%|████▎     | 319/750 [01:54<02:34,  2.78it/s]"
          ]
        },
        {
          "name": "stdout",
          "output_type": "stream",
          "text": [
            "\n",
            "0: 736x1280 1 goalkeeper, 20 players, 2 referees, 95.6ms\n",
            "Speed: 7.2ms preprocess, 95.6ms inference, 1.5ms postprocess per image at shape (1, 3, 736, 1280)\n"
          ]
        },
        {
          "name": "stderr",
          "output_type": "stream",
          "text": [
            "Embedding extraction: 1it [00:00,  5.05it/s]\n",
            " 43%|████▎     | 320/750 [01:54<02:34,  2.79it/s]"
          ]
        },
        {
          "name": "stdout",
          "output_type": "stream",
          "text": [
            "\n",
            "0: 736x1280 1 ball, 1 goalkeeper, 20 players, 2 referees, 95.5ms\n",
            "Speed: 6.7ms preprocess, 95.5ms inference, 1.8ms postprocess per image at shape (1, 3, 736, 1280)\n"
          ]
        },
        {
          "name": "stderr",
          "output_type": "stream",
          "text": [
            "Embedding extraction: 1it [00:00,  5.00it/s]\n",
            " 43%|████▎     | 321/750 [01:55<02:34,  2.78it/s]"
          ]
        },
        {
          "name": "stdout",
          "output_type": "stream",
          "text": [
            "\n",
            "0: 736x1280 1 goalkeeper, 20 players, 2 referees, 95.6ms\n",
            "Speed: 6.5ms preprocess, 95.6ms inference, 1.7ms postprocess per image at shape (1, 3, 736, 1280)\n"
          ]
        },
        {
          "name": "stderr",
          "output_type": "stream",
          "text": [
            "Embedding extraction: 1it [00:00,  5.15it/s]\n",
            " 43%|████▎     | 322/750 [01:55<02:33,  2.79it/s]"
          ]
        },
        {
          "name": "stdout",
          "output_type": "stream",
          "text": [
            "\n",
            "0: 736x1280 1 goalkeeper, 21 players, 2 referees, 95.9ms\n",
            "Speed: 6.6ms preprocess, 95.9ms inference, 1.5ms postprocess per image at shape (1, 3, 736, 1280)\n"
          ]
        },
        {
          "name": "stderr",
          "output_type": "stream",
          "text": [
            "Embedding extraction: 1it [00:00,  4.97it/s]\n",
            " 43%|████▎     | 323/750 [01:55<02:33,  2.78it/s]"
          ]
        },
        {
          "name": "stdout",
          "output_type": "stream",
          "text": [
            "\n",
            "0: 736x1280 1 goalkeeper, 20 players, 2 referees, 95.7ms\n",
            "Speed: 5.9ms preprocess, 95.7ms inference, 1.6ms postprocess per image at shape (1, 3, 736, 1280)\n"
          ]
        },
        {
          "name": "stderr",
          "output_type": "stream",
          "text": [
            "Embedding extraction: 1it [00:00,  4.83it/s]\n",
            " 43%|████▎     | 324/750 [01:56<02:33,  2.77it/s]"
          ]
        },
        {
          "name": "stdout",
          "output_type": "stream",
          "text": [
            "\n",
            "0: 736x1280 1 goalkeeper, 20 players, 2 referees, 96.4ms\n",
            "Speed: 5.9ms preprocess, 96.4ms inference, 1.6ms postprocess per image at shape (1, 3, 736, 1280)\n"
          ]
        },
        {
          "name": "stderr",
          "output_type": "stream",
          "text": [
            "Embedding extraction: 1it [00:00,  5.08it/s]\n",
            " 43%|████▎     | 325/750 [01:56<02:32,  2.79it/s]"
          ]
        },
        {
          "name": "stdout",
          "output_type": "stream",
          "text": [
            "\n",
            "0: 736x1280 1 goalkeeper, 20 players, 2 referees, 95.7ms\n",
            "Speed: 6.4ms preprocess, 95.7ms inference, 1.9ms postprocess per image at shape (1, 3, 736, 1280)\n"
          ]
        },
        {
          "name": "stderr",
          "output_type": "stream",
          "text": [
            "Embedding extraction: 1it [00:00,  4.78it/s]\n",
            " 43%|████▎     | 326/750 [01:56<02:33,  2.77it/s]"
          ]
        },
        {
          "name": "stdout",
          "output_type": "stream",
          "text": [
            "\n",
            "0: 736x1280 1 goalkeeper, 20 players, 2 referees, 96.2ms\n",
            "Speed: 6.1ms preprocess, 96.2ms inference, 2.0ms postprocess per image at shape (1, 3, 736, 1280)\n"
          ]
        },
        {
          "name": "stderr",
          "output_type": "stream",
          "text": [
            "Embedding extraction: 1it [00:00,  5.15it/s]\n",
            " 44%|████▎     | 327/750 [01:57<02:31,  2.79it/s]"
          ]
        },
        {
          "name": "stdout",
          "output_type": "stream",
          "text": [
            "\n",
            "0: 736x1280 1 goalkeeper, 20 players, 2 referees, 95.8ms\n",
            "Speed: 6.4ms preprocess, 95.8ms inference, 1.7ms postprocess per image at shape (1, 3, 736, 1280)\n"
          ]
        },
        {
          "name": "stderr",
          "output_type": "stream",
          "text": [
            "Embedding extraction: 1it [00:00,  4.98it/s]\n",
            " 44%|████▎     | 328/750 [01:57<02:31,  2.78it/s]"
          ]
        },
        {
          "name": "stdout",
          "output_type": "stream",
          "text": [
            "\n",
            "0: 736x1280 1 goalkeeper, 20 players, 2 referees, 96.0ms\n",
            "Speed: 5.6ms preprocess, 96.0ms inference, 1.8ms postprocess per image at shape (1, 3, 736, 1280)\n"
          ]
        },
        {
          "name": "stderr",
          "output_type": "stream",
          "text": [
            "Embedding extraction: 1it [00:00,  4.95it/s]\n",
            " 44%|████▍     | 329/750 [01:58<02:31,  2.78it/s]"
          ]
        },
        {
          "name": "stdout",
          "output_type": "stream",
          "text": [
            "\n",
            "0: 736x1280 1 goalkeeper, 20 players, 2 referees, 95.6ms\n",
            "Speed: 6.2ms preprocess, 95.6ms inference, 1.7ms postprocess per image at shape (1, 3, 736, 1280)\n"
          ]
        },
        {
          "name": "stderr",
          "output_type": "stream",
          "text": [
            "Embedding extraction: 1it [00:00,  5.05it/s]\n",
            " 44%|████▍     | 330/750 [01:58<02:30,  2.78it/s]"
          ]
        },
        {
          "name": "stdout",
          "output_type": "stream",
          "text": [
            "\n",
            "0: 736x1280 2 goalkeepers, 20 players, 2 referees, 95.4ms\n",
            "Speed: 6.0ms preprocess, 95.4ms inference, 1.9ms postprocess per image at shape (1, 3, 736, 1280)\n"
          ]
        },
        {
          "name": "stderr",
          "output_type": "stream",
          "text": [
            "Embedding extraction: 1it [00:00,  5.10it/s]\n",
            " 44%|████▍     | 331/750 [01:58<02:29,  2.80it/s]"
          ]
        },
        {
          "name": "stdout",
          "output_type": "stream",
          "text": [
            "\n",
            "0: 736x1280 2 goalkeepers, 21 players, 2 referees, 95.7ms\n",
            "Speed: 6.7ms preprocess, 95.7ms inference, 1.9ms postprocess per image at shape (1, 3, 736, 1280)\n"
          ]
        },
        {
          "name": "stderr",
          "output_type": "stream",
          "text": [
            "Embedding extraction: 1it [00:00,  5.29it/s]\n",
            " 44%|████▍     | 332/750 [01:59<02:28,  2.82it/s]"
          ]
        },
        {
          "name": "stdout",
          "output_type": "stream",
          "text": [
            "\n",
            "0: 736x1280 3 goalkeepers, 20 players, 2 referees, 95.9ms\n",
            "Speed: 6.0ms preprocess, 95.9ms inference, 1.6ms postprocess per image at shape (1, 3, 736, 1280)\n"
          ]
        },
        {
          "name": "stderr",
          "output_type": "stream",
          "text": [
            "Embedding extraction: 1it [00:00,  5.43it/s]\n",
            " 44%|████▍     | 333/750 [01:59<02:25,  2.86it/s]"
          ]
        },
        {
          "name": "stdout",
          "output_type": "stream",
          "text": [
            "\n",
            "0: 736x1280 2 goalkeepers, 20 players, 2 referees, 95.8ms\n",
            "Speed: 6.1ms preprocess, 95.8ms inference, 2.2ms postprocess per image at shape (1, 3, 736, 1280)\n"
          ]
        },
        {
          "name": "stderr",
          "output_type": "stream",
          "text": [
            "Embedding extraction: 1it [00:00,  5.10it/s]\n",
            " 45%|████▍     | 334/750 [01:59<02:26,  2.83it/s]"
          ]
        },
        {
          "name": "stdout",
          "output_type": "stream",
          "text": [
            "\n",
            "0: 736x1280 2 goalkeepers, 20 players, 2 referees, 96.0ms\n",
            "Speed: 7.2ms preprocess, 96.0ms inference, 1.8ms postprocess per image at shape (1, 3, 736, 1280)\n"
          ]
        },
        {
          "name": "stderr",
          "output_type": "stream",
          "text": [
            "Embedding extraction: 1it [00:00,  5.26it/s]\n",
            " 45%|████▍     | 335/750 [02:00<02:26,  2.83it/s]"
          ]
        },
        {
          "name": "stdout",
          "output_type": "stream",
          "text": [
            "\n",
            "0: 736x1280 2 goalkeepers, 21 players, 2 referees, 96.1ms\n",
            "Speed: 10.2ms preprocess, 96.1ms inference, 1.9ms postprocess per image at shape (1, 3, 736, 1280)\n"
          ]
        },
        {
          "name": "stderr",
          "output_type": "stream",
          "text": [
            "Embedding extraction: 1it [00:00,  5.38it/s]\n",
            " 45%|████▍     | 336/750 [02:00<02:26,  2.82it/s]"
          ]
        },
        {
          "name": "stdout",
          "output_type": "stream",
          "text": [
            "\n",
            "0: 736x1280 1 ball, 2 goalkeepers, 21 players, 2 referees, 96.3ms\n",
            "Speed: 7.2ms preprocess, 96.3ms inference, 3.0ms postprocess per image at shape (1, 3, 736, 1280)\n"
          ]
        },
        {
          "name": "stderr",
          "output_type": "stream",
          "text": [
            "Embedding extraction: 1it [00:00,  4.81it/s]\n",
            " 45%|████▍     | 337/750 [02:00<02:28,  2.78it/s]"
          ]
        },
        {
          "name": "stdout",
          "output_type": "stream",
          "text": [
            "\n",
            "0: 736x1280 1 ball, 2 goalkeepers, 20 players, 3 referees, 96.9ms\n",
            "Speed: 6.5ms preprocess, 96.9ms inference, 1.5ms postprocess per image at shape (1, 3, 736, 1280)\n"
          ]
        },
        {
          "name": "stderr",
          "output_type": "stream",
          "text": [
            "Embedding extraction: 1it [00:00,  4.98it/s]\n",
            " 45%|████▌     | 338/750 [02:01<02:28,  2.77it/s]"
          ]
        },
        {
          "name": "stdout",
          "output_type": "stream",
          "text": [
            "\n",
            "0: 736x1280 1 ball, 1 goalkeeper, 20 players, 2 referees, 96.3ms\n",
            "Speed: 7.1ms preprocess, 96.3ms inference, 2.0ms postprocess per image at shape (1, 3, 736, 1280)\n"
          ]
        },
        {
          "name": "stderr",
          "output_type": "stream",
          "text": [
            "Embedding extraction: 1it [00:00,  4.90it/s]\n",
            " 45%|████▌     | 339/750 [02:01<02:29,  2.75it/s]"
          ]
        },
        {
          "name": "stdout",
          "output_type": "stream",
          "text": [
            "\n",
            "0: 736x1280 1 goalkeeper, 20 players, 2 referees, 97.2ms\n",
            "Speed: 7.1ms preprocess, 97.2ms inference, 1.4ms postprocess per image at shape (1, 3, 736, 1280)\n"
          ]
        },
        {
          "name": "stderr",
          "output_type": "stream",
          "text": [
            "Embedding extraction: 1it [00:00,  4.98it/s]\n",
            " 45%|████▌     | 340/750 [02:01<02:29,  2.75it/s]"
          ]
        },
        {
          "name": "stdout",
          "output_type": "stream",
          "text": [
            "\n",
            "0: 736x1280 1 goalkeeper, 21 players, 2 referees, 97.1ms\n",
            "Speed: 6.9ms preprocess, 97.1ms inference, 1.5ms postprocess per image at shape (1, 3, 736, 1280)\n"
          ]
        },
        {
          "name": "stderr",
          "output_type": "stream",
          "text": [
            "Embedding extraction: 1it [00:00,  4.74it/s]\n",
            " 45%|████▌     | 341/750 [02:02<02:31,  2.70it/s]"
          ]
        },
        {
          "name": "stdout",
          "output_type": "stream",
          "text": [
            "\n",
            "0: 736x1280 1 goalkeeper, 21 players, 2 referees, 98.4ms\n",
            "Speed: 7.3ms preprocess, 98.4ms inference, 2.0ms postprocess per image at shape (1, 3, 736, 1280)\n"
          ]
        },
        {
          "name": "stderr",
          "output_type": "stream",
          "text": [
            "Embedding extraction: 1it [00:00,  4.81it/s]\n",
            " 46%|████▌     | 342/750 [02:02<02:32,  2.68it/s]"
          ]
        },
        {
          "name": "stdout",
          "output_type": "stream",
          "text": [
            "\n",
            "0: 736x1280 1 goalkeeper, 21 players, 2 referees, 97.7ms\n",
            "Speed: 8.1ms preprocess, 97.7ms inference, 1.8ms postprocess per image at shape (1, 3, 736, 1280)\n"
          ]
        },
        {
          "name": "stderr",
          "output_type": "stream",
          "text": [
            "Embedding extraction: 1it [00:00,  4.98it/s]\n",
            " 46%|████▌     | 343/750 [02:03<02:30,  2.70it/s]"
          ]
        },
        {
          "name": "stdout",
          "output_type": "stream",
          "text": [
            "\n",
            "0: 736x1280 1 goalkeeper, 20 players, 2 referees, 98.1ms\n",
            "Speed: 6.8ms preprocess, 98.1ms inference, 1.6ms postprocess per image at shape (1, 3, 736, 1280)\n"
          ]
        },
        {
          "name": "stderr",
          "output_type": "stream",
          "text": [
            "Embedding extraction: 1it [00:00,  4.98it/s]\n",
            " 46%|████▌     | 344/750 [02:03<02:29,  2.72it/s]"
          ]
        },
        {
          "name": "stdout",
          "output_type": "stream",
          "text": [
            "\n",
            "0: 736x1280 1 ball, 1 goalkeeper, 21 players, 2 referees, 97.2ms\n",
            "Speed: 6.4ms preprocess, 97.2ms inference, 1.6ms postprocess per image at shape (1, 3, 736, 1280)\n"
          ]
        },
        {
          "name": "stderr",
          "output_type": "stream",
          "text": [
            "Embedding extraction: 1it [00:00,  4.85it/s]\n",
            " 46%|████▌     | 345/750 [02:03<02:29,  2.71it/s]"
          ]
        },
        {
          "name": "stdout",
          "output_type": "stream",
          "text": [
            "\n",
            "0: 736x1280 1 ball, 1 goalkeeper, 21 players, 2 referees, 97.2ms\n",
            "Speed: 8.7ms preprocess, 97.2ms inference, 1.8ms postprocess per image at shape (1, 3, 736, 1280)\n"
          ]
        },
        {
          "name": "stderr",
          "output_type": "stream",
          "text": [
            "Embedding extraction: 1it [00:00,  4.78it/s]\n",
            " 46%|████▌     | 346/750 [02:04<02:29,  2.69it/s]"
          ]
        },
        {
          "name": "stdout",
          "output_type": "stream",
          "text": [
            "\n",
            "0: 736x1280 1 goalkeeper, 19 players, 2 referees, 97.6ms\n",
            "Speed: 6.7ms preprocess, 97.6ms inference, 1.6ms postprocess per image at shape (1, 3, 736, 1280)\n"
          ]
        },
        {
          "name": "stderr",
          "output_type": "stream",
          "text": [
            "Embedding extraction: 1it [00:00,  5.29it/s]\n",
            " 46%|████▋     | 347/750 [02:04<02:27,  2.74it/s]"
          ]
        },
        {
          "name": "stdout",
          "output_type": "stream",
          "text": [
            "\n",
            "0: 736x1280 1 goalkeeper, 19 players, 2 referees, 97.4ms\n",
            "Speed: 6.4ms preprocess, 97.4ms inference, 1.7ms postprocess per image at shape (1, 3, 736, 1280)\n"
          ]
        },
        {
          "name": "stderr",
          "output_type": "stream",
          "text": [
            "Embedding extraction: 1it [00:00,  5.05it/s]\n",
            " 46%|████▋     | 348/750 [02:04<02:26,  2.75it/s]"
          ]
        },
        {
          "name": "stdout",
          "output_type": "stream",
          "text": [
            "\n",
            "0: 736x1280 1 goalkeeper, 19 players, 2 referees, 96.6ms\n",
            "Speed: 6.8ms preprocess, 96.6ms inference, 1.8ms postprocess per image at shape (1, 3, 736, 1280)\n"
          ]
        },
        {
          "name": "stderr",
          "output_type": "stream",
          "text": [
            "Embedding extraction: 1it [00:00,  5.26it/s]\n",
            " 47%|████▋     | 349/750 [02:05<02:24,  2.78it/s]"
          ]
        },
        {
          "name": "stdout",
          "output_type": "stream",
          "text": [
            "\n",
            "0: 736x1280 1 goalkeeper, 20 players, 2 referees, 95.9ms\n",
            "Speed: 7.7ms preprocess, 95.9ms inference, 1.6ms postprocess per image at shape (1, 3, 736, 1280)\n"
          ]
        },
        {
          "name": "stderr",
          "output_type": "stream",
          "text": [
            "Embedding extraction: 1it [00:00,  5.08it/s]\n",
            " 47%|████▋     | 350/750 [02:05<02:24,  2.77it/s]"
          ]
        },
        {
          "name": "stdout",
          "output_type": "stream",
          "text": [
            "\n",
            "0: 736x1280 1 goalkeeper, 21 players, 2 referees, 96.5ms\n",
            "Speed: 7.1ms preprocess, 96.5ms inference, 1.6ms postprocess per image at shape (1, 3, 736, 1280)\n"
          ]
        },
        {
          "name": "stderr",
          "output_type": "stream",
          "text": [
            "Embedding extraction: 1it [00:00,  5.08it/s]\n",
            " 47%|████▋     | 351/750 [02:06<02:23,  2.77it/s]"
          ]
        },
        {
          "name": "stdout",
          "output_type": "stream",
          "text": [
            "\n",
            "0: 736x1280 1 goalkeeper, 21 players, 2 referees, 96.5ms\n",
            "Speed: 6.7ms preprocess, 96.5ms inference, 1.6ms postprocess per image at shape (1, 3, 736, 1280)\n"
          ]
        },
        {
          "name": "stderr",
          "output_type": "stream",
          "text": [
            "Embedding extraction: 1it [00:00,  5.05it/s]\n",
            " 47%|████▋     | 352/750 [02:06<02:23,  2.78it/s]"
          ]
        },
        {
          "name": "stdout",
          "output_type": "stream",
          "text": [
            "\n",
            "0: 736x1280 1 ball, 1 goalkeeper, 19 players, 2 referees, 97.2ms\n",
            "Speed: 7.2ms preprocess, 97.2ms inference, 1.7ms postprocess per image at shape (1, 3, 736, 1280)\n"
          ]
        },
        {
          "name": "stderr",
          "output_type": "stream",
          "text": [
            "Embedding extraction: 1it [00:00,  5.41it/s]\n",
            " 47%|████▋     | 353/750 [02:06<02:21,  2.81it/s]"
          ]
        },
        {
          "name": "stdout",
          "output_type": "stream",
          "text": [
            "\n",
            "0: 736x1280 1 goalkeeper, 19 players, 2 referees, 96.8ms\n",
            "Speed: 7.6ms preprocess, 96.8ms inference, 1.8ms postprocess per image at shape (1, 3, 736, 1280)\n"
          ]
        },
        {
          "name": "stderr",
          "output_type": "stream",
          "text": [
            "Embedding extraction: 1it [00:00,  5.56it/s]\n",
            " 47%|████▋     | 354/750 [02:07<02:19,  2.85it/s]"
          ]
        },
        {
          "name": "stdout",
          "output_type": "stream",
          "text": [
            "\n",
            "0: 736x1280 1 goalkeeper, 19 players, 2 referees, 96.6ms\n",
            "Speed: 6.8ms preprocess, 96.6ms inference, 1.6ms postprocess per image at shape (1, 3, 736, 1280)\n"
          ]
        },
        {
          "name": "stderr",
          "output_type": "stream",
          "text": [
            "Embedding extraction: 1it [00:00,  5.43it/s]\n",
            " 47%|████▋     | 355/750 [02:07<02:17,  2.87it/s]"
          ]
        },
        {
          "name": "stdout",
          "output_type": "stream",
          "text": [
            "\n",
            "0: 736x1280 1 goalkeeper, 19 players, 2 referees, 97.1ms\n",
            "Speed: 7.0ms preprocess, 97.1ms inference, 1.8ms postprocess per image at shape (1, 3, 736, 1280)\n"
          ]
        },
        {
          "name": "stderr",
          "output_type": "stream",
          "text": [
            "Embedding extraction: 1it [00:00,  5.56it/s]\n",
            " 47%|████▋     | 356/750 [02:07<02:16,  2.89it/s]"
          ]
        },
        {
          "name": "stdout",
          "output_type": "stream",
          "text": [
            "\n",
            "0: 736x1280 1 goalkeeper, 19 players, 2 referees, 96.1ms\n",
            "Speed: 6.2ms preprocess, 96.1ms inference, 1.9ms postprocess per image at shape (1, 3, 736, 1280)\n"
          ]
        },
        {
          "name": "stderr",
          "output_type": "stream",
          "text": [
            "Embedding extraction: 1it [00:00,  5.68it/s]\n",
            " 48%|████▊     | 357/750 [02:08<02:17,  2.85it/s]"
          ]
        },
        {
          "name": "stdout",
          "output_type": "stream",
          "text": [
            "\n",
            "0: 736x1280 1 goalkeeper, 19 players, 2 referees, 96.0ms\n",
            "Speed: 9.7ms preprocess, 96.0ms inference, 3.7ms postprocess per image at shape (1, 3, 736, 1280)\n"
          ]
        },
        {
          "name": "stderr",
          "output_type": "stream",
          "text": [
            "Embedding extraction: 1it [00:00,  5.13it/s]\n",
            " 48%|████▊     | 358/750 [02:08<02:19,  2.80it/s]"
          ]
        },
        {
          "name": "stdout",
          "output_type": "stream",
          "text": [
            "\n",
            "0: 736x1280 2 goalkeepers, 19 players, 2 referees, 96.2ms\n",
            "Speed: 9.2ms preprocess, 96.2ms inference, 1.8ms postprocess per image at shape (1, 3, 736, 1280)\n"
          ]
        },
        {
          "name": "stderr",
          "output_type": "stream",
          "text": [
            "Embedding extraction: 1it [00:00,  5.35it/s]\n",
            " 48%|████▊     | 359/750 [02:08<02:19,  2.80it/s]"
          ]
        },
        {
          "name": "stdout",
          "output_type": "stream",
          "text": [
            "\n",
            "0: 736x1280 1 ball, 1 goalkeeper, 19 players, 2 referees, 96.5ms\n",
            "Speed: 7.6ms preprocess, 96.5ms inference, 2.0ms postprocess per image at shape (1, 3, 736, 1280)\n"
          ]
        },
        {
          "name": "stderr",
          "output_type": "stream",
          "text": [
            "Embedding extraction: 1it [00:00,  5.59it/s]\n",
            " 48%|████▊     | 360/750 [02:09<02:17,  2.84it/s]"
          ]
        },
        {
          "name": "stdout",
          "output_type": "stream",
          "text": [
            "\n",
            "0: 736x1280 1 goalkeeper, 19 players, 2 referees, 96.7ms\n",
            "Speed: 7.2ms preprocess, 96.7ms inference, 1.8ms postprocess per image at shape (1, 3, 736, 1280)\n"
          ]
        },
        {
          "name": "stderr",
          "output_type": "stream",
          "text": [
            "Embedding extraction: 1it [00:00,  5.62it/s]\n",
            " 48%|████▊     | 361/750 [02:09<02:15,  2.86it/s]"
          ]
        },
        {
          "name": "stdout",
          "output_type": "stream",
          "text": [
            "\n",
            "0: 736x1280 1 goalkeeper, 18 players, 2 referees, 97.0ms\n",
            "Speed: 7.4ms preprocess, 97.0ms inference, 1.5ms postprocess per image at shape (1, 3, 736, 1280)\n"
          ]
        },
        {
          "name": "stderr",
          "output_type": "stream",
          "text": [
            "Embedding extraction: 1it [00:00,  5.52it/s]\n",
            " 48%|████▊     | 362/750 [02:09<02:16,  2.85it/s]"
          ]
        },
        {
          "name": "stdout",
          "output_type": "stream",
          "text": [
            "\n",
            "0: 736x1280 1 goalkeeper, 20 players, 2 referees, 96.8ms\n",
            "Speed: 10.2ms preprocess, 96.8ms inference, 1.5ms postprocess per image at shape (1, 3, 736, 1280)\n"
          ]
        },
        {
          "name": "stderr",
          "output_type": "stream",
          "text": [
            "Embedding extraction: 1it [00:00,  5.10it/s]\n",
            " 48%|████▊     | 363/750 [02:10<02:17,  2.82it/s]"
          ]
        },
        {
          "name": "stdout",
          "output_type": "stream",
          "text": [
            "\n",
            "0: 736x1280 1 goalkeeper, 21 players, 2 referees, 97.7ms\n",
            "Speed: 7.7ms preprocess, 97.7ms inference, 2.3ms postprocess per image at shape (1, 3, 736, 1280)\n"
          ]
        },
        {
          "name": "stderr",
          "output_type": "stream",
          "text": [
            "Embedding extraction: 1it [00:00,  5.21it/s]\n",
            " 49%|████▊     | 364/750 [02:10<02:17,  2.81it/s]"
          ]
        },
        {
          "name": "stdout",
          "output_type": "stream",
          "text": [
            "\n",
            "0: 736x1280 1 goalkeeper, 22 players, 2 referees, 97.8ms\n",
            "Speed: 7.3ms preprocess, 97.8ms inference, 1.8ms postprocess per image at shape (1, 3, 736, 1280)\n"
          ]
        },
        {
          "name": "stderr",
          "output_type": "stream",
          "text": [
            "Embedding extraction: 1it [00:00,  5.15it/s]\n",
            " 49%|████▊     | 365/750 [02:10<02:17,  2.79it/s]"
          ]
        },
        {
          "name": "stdout",
          "output_type": "stream",
          "text": [
            "\n",
            "0: 736x1280 1 goalkeeper, 20 players, 2 referees, 96.7ms\n",
            "Speed: 7.6ms preprocess, 96.7ms inference, 1.9ms postprocess per image at shape (1, 3, 736, 1280)\n"
          ]
        },
        {
          "name": "stderr",
          "output_type": "stream",
          "text": [
            "Embedding extraction: 1it [00:00,  4.98it/s]\n",
            " 49%|████▉     | 366/750 [02:11<02:18,  2.77it/s]"
          ]
        },
        {
          "name": "stdout",
          "output_type": "stream",
          "text": [
            "\n",
            "0: 736x1280 1 goalkeeper, 22 players, 2 referees, 97.0ms\n",
            "Speed: 6.8ms preprocess, 97.0ms inference, 1.6ms postprocess per image at shape (1, 3, 736, 1280)\n"
          ]
        },
        {
          "name": "stderr",
          "output_type": "stream",
          "text": [
            "Embedding extraction: 1it [00:00,  5.13it/s]\n",
            " 49%|████▉     | 367/750 [02:11<02:19,  2.76it/s]"
          ]
        },
        {
          "name": "stdout",
          "output_type": "stream",
          "text": [
            "\n",
            "0: 736x1280 1 goalkeeper, 19 players, 2 referees, 97.4ms\n",
            "Speed: 6.9ms preprocess, 97.4ms inference, 2.0ms postprocess per image at shape (1, 3, 736, 1280)\n"
          ]
        },
        {
          "name": "stderr",
          "output_type": "stream",
          "text": [
            "Embedding extraction: 1it [00:00,  4.83it/s]\n",
            " 49%|████▉     | 368/750 [02:12<02:19,  2.73it/s]"
          ]
        },
        {
          "name": "stdout",
          "output_type": "stream",
          "text": [
            "\n",
            "0: 736x1280 1 goalkeeper, 20 players, 2 referees, 97.5ms\n",
            "Speed: 6.5ms preprocess, 97.5ms inference, 2.2ms postprocess per image at shape (1, 3, 736, 1280)\n"
          ]
        },
        {
          "name": "stderr",
          "output_type": "stream",
          "text": [
            "Embedding extraction: 1it [00:00,  5.41it/s]\n",
            " 49%|████▉     | 369/750 [02:12<02:17,  2.77it/s]"
          ]
        },
        {
          "name": "stdout",
          "output_type": "stream",
          "text": [
            "\n",
            "0: 736x1280 1 goalkeeper, 19 players, 2 referees, 96.5ms\n",
            "Speed: 7.5ms preprocess, 96.5ms inference, 1.7ms postprocess per image at shape (1, 3, 736, 1280)\n"
          ]
        },
        {
          "name": "stderr",
          "output_type": "stream",
          "text": [
            "Embedding extraction: 1it [00:00,  5.56it/s]\n",
            " 49%|████▉     | 370/750 [02:12<02:15,  2.81it/s]"
          ]
        },
        {
          "name": "stdout",
          "output_type": "stream",
          "text": [
            "\n",
            "0: 736x1280 1 goalkeeper, 22 players, 2 referees, 97.7ms\n",
            "Speed: 6.8ms preprocess, 97.7ms inference, 1.8ms postprocess per image at shape (1, 3, 736, 1280)\n"
          ]
        },
        {
          "name": "stderr",
          "output_type": "stream",
          "text": [
            "Embedding extraction: 1it [00:00,  5.13it/s]\n",
            " 49%|████▉     | 371/750 [02:13<02:15,  2.80it/s]"
          ]
        },
        {
          "name": "stdout",
          "output_type": "stream",
          "text": [
            "\n",
            "0: 736x1280 1 goalkeeper, 20 players, 2 referees, 96.8ms\n",
            "Speed: 6.5ms preprocess, 96.8ms inference, 1.6ms postprocess per image at shape (1, 3, 736, 1280)\n"
          ]
        },
        {
          "name": "stderr",
          "output_type": "stream",
          "text": [
            "Embedding extraction: 1it [00:00,  5.24it/s]\n",
            " 50%|████▉     | 372/750 [02:13<02:13,  2.82it/s]"
          ]
        },
        {
          "name": "stdout",
          "output_type": "stream",
          "text": [
            "\n",
            "0: 736x1280 1 goalkeeper, 20 players, 2 referees, 96.7ms\n",
            "Speed: 6.8ms preprocess, 96.7ms inference, 1.8ms postprocess per image at shape (1, 3, 736, 1280)\n"
          ]
        },
        {
          "name": "stderr",
          "output_type": "stream",
          "text": [
            "Embedding extraction: 1it [00:00,  5.21it/s]\n",
            " 50%|████▉     | 373/750 [02:13<02:13,  2.83it/s]"
          ]
        },
        {
          "name": "stdout",
          "output_type": "stream",
          "text": [
            "\n",
            "0: 736x1280 1 goalkeeper, 21 players, 2 referees, 97.0ms\n",
            "Speed: 6.5ms preprocess, 97.0ms inference, 1.6ms postprocess per image at shape (1, 3, 736, 1280)\n"
          ]
        },
        {
          "name": "stderr",
          "output_type": "stream",
          "text": [
            "Embedding extraction: 1it [00:00,  5.21it/s]\n",
            " 50%|████▉     | 374/750 [02:14<02:13,  2.82it/s]"
          ]
        },
        {
          "name": "stdout",
          "output_type": "stream",
          "text": [
            "\n",
            "0: 736x1280 1 ball, 1 goalkeeper, 19 players, 2 referees, 96.5ms\n",
            "Speed: 6.9ms preprocess, 96.5ms inference, 1.7ms postprocess per image at shape (1, 3, 736, 1280)\n"
          ]
        },
        {
          "name": "stderr",
          "output_type": "stream",
          "text": [
            "Embedding extraction: 1it [00:00,  5.21it/s]\n",
            " 50%|█████     | 375/750 [02:14<02:13,  2.82it/s]"
          ]
        },
        {
          "name": "stdout",
          "output_type": "stream",
          "text": [
            "\n",
            "0: 736x1280 1 goalkeeper, 19 players, 2 referees, 96.6ms\n",
            "Speed: 7.1ms preprocess, 96.6ms inference, 1.9ms postprocess per image at shape (1, 3, 736, 1280)\n"
          ]
        },
        {
          "name": "stderr",
          "output_type": "stream",
          "text": [
            "Embedding extraction: 1it [00:00,  5.21it/s]\n",
            " 50%|█████     | 376/750 [02:14<02:12,  2.82it/s]"
          ]
        },
        {
          "name": "stdout",
          "output_type": "stream",
          "text": [
            "\n",
            "0: 736x1280 1 goalkeeper, 19 players, 2 referees, 96.7ms\n",
            "Speed: 5.8ms preprocess, 96.7ms inference, 1.9ms postprocess per image at shape (1, 3, 736, 1280)\n"
          ]
        },
        {
          "name": "stderr",
          "output_type": "stream",
          "text": [
            "Embedding extraction: 1it [00:00,  5.29it/s]\n",
            " 50%|█████     | 377/750 [02:15<02:11,  2.83it/s]"
          ]
        },
        {
          "name": "stdout",
          "output_type": "stream",
          "text": [
            "\n",
            "0: 736x1280 1 goalkeeper, 19 players, 2 referees, 96.5ms\n",
            "Speed: 8.0ms preprocess, 96.5ms inference, 1.7ms postprocess per image at shape (1, 3, 736, 1280)\n"
          ]
        },
        {
          "name": "stderr",
          "output_type": "stream",
          "text": [
            "Embedding extraction: 1it [00:00,  5.08it/s]\n",
            " 50%|█████     | 378/750 [02:15<02:12,  2.80it/s]"
          ]
        },
        {
          "name": "stdout",
          "output_type": "stream",
          "text": [
            "\n",
            "0: 736x1280 1 ball, 1 goalkeeper, 19 players, 2 referees, 96.6ms\n",
            "Speed: 7.3ms preprocess, 96.6ms inference, 1.8ms postprocess per image at shape (1, 3, 736, 1280)\n"
          ]
        },
        {
          "name": "stderr",
          "output_type": "stream",
          "text": [
            "Embedding extraction: 1it [00:00,  5.05it/s]\n",
            " 51%|█████     | 379/750 [02:15<02:13,  2.77it/s]"
          ]
        },
        {
          "name": "stdout",
          "output_type": "stream",
          "text": [
            "\n",
            "0: 736x1280 1 ball, 1 goalkeeper, 19 players, 2 referees, 96.8ms\n",
            "Speed: 7.7ms preprocess, 96.8ms inference, 1.7ms postprocess per image at shape (1, 3, 736, 1280)\n"
          ]
        },
        {
          "name": "stderr",
          "output_type": "stream",
          "text": [
            "Embedding extraction: 1it [00:00,  5.15it/s]\n",
            " 51%|█████     | 380/750 [02:16<02:13,  2.77it/s]"
          ]
        },
        {
          "name": "stdout",
          "output_type": "stream",
          "text": [
            "\n",
            "0: 736x1280 1 ball, 1 goalkeeper, 19 players, 2 referees, 96.7ms\n",
            "Speed: 6.8ms preprocess, 96.7ms inference, 2.0ms postprocess per image at shape (1, 3, 736, 1280)\n"
          ]
        },
        {
          "name": "stderr",
          "output_type": "stream",
          "text": [
            "Embedding extraction: 1it [00:00,  5.21it/s]\n",
            " 51%|█████     | 381/750 [02:16<02:12,  2.78it/s]"
          ]
        },
        {
          "name": "stdout",
          "output_type": "stream",
          "text": [
            "\n",
            "0: 736x1280 1 ball, 1 goalkeeper, 20 players, 2 referees, 97.0ms\n",
            "Speed: 6.3ms preprocess, 97.0ms inference, 2.0ms postprocess per image at shape (1, 3, 736, 1280)\n"
          ]
        },
        {
          "name": "stderr",
          "output_type": "stream",
          "text": [
            "Embedding extraction: 1it [00:00,  5.21it/s]\n",
            " 51%|█████     | 382/750 [02:17<02:11,  2.80it/s]"
          ]
        },
        {
          "name": "stdout",
          "output_type": "stream",
          "text": [
            "\n",
            "0: 736x1280 1 goalkeeper, 19 players, 2 referees, 97.0ms\n",
            "Speed: 6.9ms preprocess, 97.0ms inference, 2.0ms postprocess per image at shape (1, 3, 736, 1280)\n"
          ]
        },
        {
          "name": "stderr",
          "output_type": "stream",
          "text": [
            "Embedding extraction: 1it [00:00,  5.35it/s]\n",
            " 51%|█████     | 383/750 [02:17<02:10,  2.81it/s]"
          ]
        },
        {
          "name": "stdout",
          "output_type": "stream",
          "text": [
            "\n",
            "0: 736x1280 1 ball, 1 goalkeeper, 19 players, 2 referees, 96.1ms\n",
            "Speed: 6.8ms preprocess, 96.1ms inference, 1.7ms postprocess per image at shape (1, 3, 736, 1280)\n"
          ]
        },
        {
          "name": "stderr",
          "output_type": "stream",
          "text": [
            "Embedding extraction: 1it [00:00,  5.46it/s]\n",
            " 51%|█████     | 384/750 [02:17<02:09,  2.83it/s]"
          ]
        },
        {
          "name": "stdout",
          "output_type": "stream",
          "text": [
            "\n",
            "0: 736x1280 1 ball, 1 goalkeeper, 19 players, 2 referees, 95.6ms\n",
            "Speed: 6.3ms preprocess, 95.6ms inference, 1.8ms postprocess per image at shape (1, 3, 736, 1280)\n"
          ]
        },
        {
          "name": "stderr",
          "output_type": "stream",
          "text": [
            "Embedding extraction: 1it [00:00,  5.26it/s]\n",
            " 51%|█████▏    | 385/750 [02:18<02:07,  2.85it/s]"
          ]
        },
        {
          "name": "stdout",
          "output_type": "stream",
          "text": [
            "\n",
            "0: 736x1280 1 goalkeeper, 19 players, 2 referees, 95.8ms\n",
            "Speed: 6.2ms preprocess, 95.8ms inference, 1.5ms postprocess per image at shape (1, 3, 736, 1280)\n"
          ]
        },
        {
          "name": "stderr",
          "output_type": "stream",
          "text": [
            "Embedding extraction: 1it [00:00,  5.15it/s]\n",
            " 51%|█████▏    | 386/750 [02:18<02:07,  2.85it/s]"
          ]
        },
        {
          "name": "stdout",
          "output_type": "stream",
          "text": [
            "\n",
            "0: 736x1280 1 ball, 1 goalkeeper, 19 players, 2 referees, 96.2ms\n",
            "Speed: 6.6ms preprocess, 96.2ms inference, 1.8ms postprocess per image at shape (1, 3, 736, 1280)\n"
          ]
        },
        {
          "name": "stderr",
          "output_type": "stream",
          "text": [
            "Embedding extraction: 1it [00:00,  5.38it/s]\n",
            " 52%|█████▏    | 387/750 [02:18<02:07,  2.86it/s]"
          ]
        },
        {
          "name": "stdout",
          "output_type": "stream",
          "text": [
            "\n",
            "0: 736x1280 1 ball, 1 goalkeeper, 19 players, 2 referees, 95.8ms\n",
            "Speed: 6.6ms preprocess, 95.8ms inference, 1.8ms postprocess per image at shape (1, 3, 736, 1280)\n"
          ]
        },
        {
          "name": "stderr",
          "output_type": "stream",
          "text": [
            "Embedding extraction: 1it [00:00,  5.41it/s]\n",
            " 52%|█████▏    | 388/750 [02:19<02:05,  2.88it/s]"
          ]
        },
        {
          "name": "stdout",
          "output_type": "stream",
          "text": [
            "\n",
            "0: 736x1280 1 ball, 1 goalkeeper, 19 players, 2 referees, 101.9ms\n",
            "Speed: 7.2ms preprocess, 101.9ms inference, 1.7ms postprocess per image at shape (1, 3, 736, 1280)\n"
          ]
        },
        {
          "name": "stderr",
          "output_type": "stream",
          "text": [
            "Embedding extraction: 1it [00:00,  4.98it/s]\n",
            " 52%|█████▏    | 389/750 [02:19<02:08,  2.82it/s]"
          ]
        },
        {
          "name": "stdout",
          "output_type": "stream",
          "text": [
            "\n",
            "0: 736x1280 1 goalkeeper, 19 players, 2 referees, 96.4ms\n",
            "Speed: 7.2ms preprocess, 96.4ms inference, 1.9ms postprocess per image at shape (1, 3, 736, 1280)\n"
          ]
        },
        {
          "name": "stderr",
          "output_type": "stream",
          "text": [
            "Embedding extraction: 1it [00:00,  5.15it/s]\n",
            " 52%|█████▏    | 390/750 [02:19<02:08,  2.81it/s]"
          ]
        },
        {
          "name": "stdout",
          "output_type": "stream",
          "text": [
            "\n",
            "0: 736x1280 1 ball, 1 goalkeeper, 19 players, 2 referees, 96.2ms\n",
            "Speed: 7.7ms preprocess, 96.2ms inference, 1.8ms postprocess per image at shape (1, 3, 736, 1280)\n"
          ]
        },
        {
          "name": "stderr",
          "output_type": "stream",
          "text": [
            "Embedding extraction: 1it [00:00,  5.18it/s]\n",
            " 52%|█████▏    | 391/750 [02:20<02:08,  2.80it/s]"
          ]
        },
        {
          "name": "stdout",
          "output_type": "stream",
          "text": [
            "\n",
            "0: 736x1280 1 ball, 1 goalkeeper, 19 players, 2 referees, 96.6ms\n",
            "Speed: 7.2ms preprocess, 96.6ms inference, 1.4ms postprocess per image at shape (1, 3, 736, 1280)\n"
          ]
        },
        {
          "name": "stderr",
          "output_type": "stream",
          "text": [
            "Embedding extraction: 1it [00:00,  5.21it/s]\n",
            " 52%|█████▏    | 392/750 [02:20<02:08,  2.79it/s]"
          ]
        },
        {
          "name": "stdout",
          "output_type": "stream",
          "text": [
            "\n",
            "0: 736x1280 1 ball, 1 goalkeeper, 20 players, 2 referees, 96.5ms\n",
            "Speed: 7.2ms preprocess, 96.5ms inference, 1.7ms postprocess per image at shape (1, 3, 736, 1280)\n"
          ]
        },
        {
          "name": "stderr",
          "output_type": "stream",
          "text": [
            "Embedding extraction: 1it [00:00,  5.29it/s]\n",
            " 52%|█████▏    | 393/750 [02:20<02:07,  2.79it/s]"
          ]
        },
        {
          "name": "stdout",
          "output_type": "stream",
          "text": [
            "\n",
            "0: 736x1280 1 ball, 1 goalkeeper, 21 players, 2 referees, 96.6ms\n",
            "Speed: 8.3ms preprocess, 96.6ms inference, 1.7ms postprocess per image at shape (1, 3, 736, 1280)\n"
          ]
        },
        {
          "name": "stderr",
          "output_type": "stream",
          "text": [
            "Embedding extraction: 1it [00:00,  4.96it/s]\n",
            " 53%|█████▎    | 394/750 [02:21<02:08,  2.77it/s]"
          ]
        },
        {
          "name": "stdout",
          "output_type": "stream",
          "text": [
            "\n",
            "0: 736x1280 1 ball, 1 goalkeeper, 21 players, 2 referees, 96.6ms\n",
            "Speed: 7.2ms preprocess, 96.6ms inference, 2.0ms postprocess per image at shape (1, 3, 736, 1280)\n"
          ]
        },
        {
          "name": "stderr",
          "output_type": "stream",
          "text": [
            "Embedding extraction: 1it [00:00,  5.24it/s]\n",
            " 53%|█████▎    | 395/750 [02:21<02:07,  2.78it/s]"
          ]
        },
        {
          "name": "stdout",
          "output_type": "stream",
          "text": [
            "\n",
            "0: 736x1280 1 ball, 1 goalkeeper, 20 players, 2 referees, 97.3ms\n",
            "Speed: 6.4ms preprocess, 97.3ms inference, 1.5ms postprocess per image at shape (1, 3, 736, 1280)\n"
          ]
        },
        {
          "name": "stderr",
          "output_type": "stream",
          "text": [
            "Embedding extraction: 1it [00:00,  5.00it/s]\n",
            " 53%|█████▎    | 396/750 [02:22<02:07,  2.78it/s]"
          ]
        },
        {
          "name": "stdout",
          "output_type": "stream",
          "text": [
            "\n",
            "0: 736x1280 1 goalkeeper, 20 players, 2 referees, 96.2ms\n",
            "Speed: 6.4ms preprocess, 96.2ms inference, 1.5ms postprocess per image at shape (1, 3, 736, 1280)\n"
          ]
        },
        {
          "name": "stderr",
          "output_type": "stream",
          "text": [
            "Embedding extraction: 1it [00:00,  5.26it/s]\n",
            " 53%|█████▎    | 397/750 [02:22<02:05,  2.81it/s]"
          ]
        },
        {
          "name": "stdout",
          "output_type": "stream",
          "text": [
            "\n",
            "0: 736x1280 1 ball, 1 goalkeeper, 21 players, 2 referees, 95.8ms\n",
            "Speed: 6.5ms preprocess, 95.8ms inference, 2.1ms postprocess per image at shape (1, 3, 736, 1280)\n"
          ]
        },
        {
          "name": "stderr",
          "output_type": "stream",
          "text": [
            "Embedding extraction: 1it [00:00,  5.13it/s]\n",
            " 53%|█████▎    | 398/750 [02:22<02:05,  2.81it/s]"
          ]
        },
        {
          "name": "stdout",
          "output_type": "stream",
          "text": [
            "\n",
            "0: 736x1280 1 ball, 1 goalkeeper, 20 players, 2 referees, 96.3ms\n",
            "Speed: 6.5ms preprocess, 96.3ms inference, 1.4ms postprocess per image at shape (1, 3, 736, 1280)\n"
          ]
        },
        {
          "name": "stderr",
          "output_type": "stream",
          "text": [
            "Embedding extraction: 1it [00:00,  5.03it/s]\n",
            " 53%|█████▎    | 399/750 [02:23<02:05,  2.80it/s]"
          ]
        },
        {
          "name": "stdout",
          "output_type": "stream",
          "text": [
            "\n",
            "0: 736x1280 1 goalkeeper, 21 players, 2 referees, 100.4ms\n",
            "Speed: 7.3ms preprocess, 100.4ms inference, 2.0ms postprocess per image at shape (1, 3, 736, 1280)\n"
          ]
        },
        {
          "name": "stderr",
          "output_type": "stream",
          "text": [
            "Embedding extraction: 1it [00:00,  4.69it/s]\n",
            " 53%|█████▎    | 400/750 [02:23<02:07,  2.75it/s]"
          ]
        },
        {
          "name": "stdout",
          "output_type": "stream",
          "text": [
            "\n",
            "0: 736x1280 1 ball, 1 goalkeeper, 21 players, 2 referees, 100.2ms\n",
            "Speed: 7.1ms preprocess, 100.2ms inference, 1.5ms postprocess per image at shape (1, 3, 736, 1280)\n"
          ]
        },
        {
          "name": "stderr",
          "output_type": "stream",
          "text": [
            "Embedding extraction: 1it [00:00,  5.13it/s]\n",
            " 53%|█████▎    | 401/750 [02:23<02:06,  2.76it/s]"
          ]
        },
        {
          "name": "stdout",
          "output_type": "stream",
          "text": [
            "\n",
            "0: 736x1280 1 ball, 1 goalkeeper, 20 players, 2 referees, 98.3ms\n",
            "Speed: 6.4ms preprocess, 98.3ms inference, 1.7ms postprocess per image at shape (1, 3, 736, 1280)\n"
          ]
        },
        {
          "name": "stderr",
          "output_type": "stream",
          "text": [
            "Embedding extraction: 1it [00:00,  5.00it/s]\n",
            " 54%|█████▎    | 402/750 [02:24<02:06,  2.75it/s]"
          ]
        },
        {
          "name": "stdout",
          "output_type": "stream",
          "text": [
            "\n",
            "0: 736x1280 1 ball, 1 goalkeeper, 22 players, 2 referees, 98.2ms\n",
            "Speed: 6.6ms preprocess, 98.2ms inference, 1.8ms postprocess per image at shape (1, 3, 736, 1280)\n"
          ]
        },
        {
          "name": "stderr",
          "output_type": "stream",
          "text": [
            "Embedding extraction: 1it [00:00,  4.83it/s]\n",
            " 54%|█████▎    | 403/750 [02:24<02:07,  2.73it/s]"
          ]
        },
        {
          "name": "stdout",
          "output_type": "stream",
          "text": [
            "\n",
            "0: 736x1280 1 ball, 1 goalkeeper, 21 players, 2 referees, 98.8ms\n",
            "Speed: 6.4ms preprocess, 98.8ms inference, 1.7ms postprocess per image at shape (1, 3, 736, 1280)\n"
          ]
        },
        {
          "name": "stderr",
          "output_type": "stream",
          "text": [
            "Embedding extraction: 1it [00:00,  4.90it/s]\n",
            " 54%|█████▍    | 404/750 [02:24<02:07,  2.71it/s]"
          ]
        },
        {
          "name": "stdout",
          "output_type": "stream",
          "text": [
            "\n",
            "0: 736x1280 1 goalkeeper, 21 players, 2 referees, 98.4ms\n",
            "Speed: 7.5ms preprocess, 98.4ms inference, 3.5ms postprocess per image at shape (1, 3, 736, 1280)\n"
          ]
        },
        {
          "name": "stderr",
          "output_type": "stream",
          "text": [
            "Embedding extraction: 1it [00:00,  4.76it/s]\n",
            " 54%|█████▍    | 405/750 [02:25<02:09,  2.67it/s]"
          ]
        },
        {
          "name": "stdout",
          "output_type": "stream",
          "text": [
            "\n",
            "0: 736x1280 1 goalkeeper, 21 players, 2 referees, 97.3ms\n",
            "Speed: 7.1ms preprocess, 97.3ms inference, 2.4ms postprocess per image at shape (1, 3, 736, 1280)\n"
          ]
        },
        {
          "name": "stderr",
          "output_type": "stream",
          "text": [
            "Embedding extraction: 1it [00:00,  4.98it/s]\n",
            " 54%|█████▍    | 406/750 [02:25<02:08,  2.68it/s]"
          ]
        },
        {
          "name": "stdout",
          "output_type": "stream",
          "text": [
            "\n",
            "0: 736x1280 1 ball, 1 goalkeeper, 21 players, 2 referees, 98.2ms\n",
            "Speed: 7.7ms preprocess, 98.2ms inference, 1.6ms postprocess per image at shape (1, 3, 736, 1280)\n"
          ]
        },
        {
          "name": "stderr",
          "output_type": "stream",
          "text": [
            "Embedding extraction: 1it [00:00,  4.81it/s]\n",
            " 54%|█████▍    | 407/750 [02:26<02:07,  2.68it/s]"
          ]
        },
        {
          "name": "stdout",
          "output_type": "stream",
          "text": [
            "\n",
            "0: 736x1280 1 ball, 1 goalkeeper, 21 players, 2 referees, 97.2ms\n",
            "Speed: 6.6ms preprocess, 97.2ms inference, 1.8ms postprocess per image at shape (1, 3, 736, 1280)\n"
          ]
        },
        {
          "name": "stderr",
          "output_type": "stream",
          "text": [
            "Embedding extraction: 1it [00:00,  4.74it/s]\n",
            " 54%|█████▍    | 408/750 [02:26<02:07,  2.67it/s]"
          ]
        },
        {
          "name": "stdout",
          "output_type": "stream",
          "text": [
            "\n",
            "0: 736x1280 1 ball, 1 goalkeeper, 21 players, 2 referees, 96.7ms\n",
            "Speed: 7.2ms preprocess, 96.7ms inference, 1.8ms postprocess per image at shape (1, 3, 736, 1280)\n"
          ]
        },
        {
          "name": "stderr",
          "output_type": "stream",
          "text": [
            "Embedding extraction: 1it [00:00,  4.67it/s]\n",
            " 55%|█████▍    | 409/750 [02:26<02:07,  2.67it/s]"
          ]
        },
        {
          "name": "stdout",
          "output_type": "stream",
          "text": [
            "\n",
            "0: 736x1280 1 ball, 1 goalkeeper, 21 players, 2 referees, 96.2ms\n",
            "Speed: 7.2ms preprocess, 96.2ms inference, 1.6ms postprocess per image at shape (1, 3, 736, 1280)\n"
          ]
        },
        {
          "name": "stderr",
          "output_type": "stream",
          "text": [
            "Embedding extraction: 1it [00:00,  4.88it/s]\n",
            " 55%|█████▍    | 410/750 [02:27<02:06,  2.69it/s]"
          ]
        },
        {
          "name": "stdout",
          "output_type": "stream",
          "text": [
            "\n",
            "0: 736x1280 1 ball, 1 goalkeeper, 21 players, 2 referees, 100.2ms\n",
            "Speed: 6.8ms preprocess, 100.2ms inference, 1.7ms postprocess per image at shape (1, 3, 736, 1280)\n"
          ]
        },
        {
          "name": "stderr",
          "output_type": "stream",
          "text": [
            "Embedding extraction: 1it [00:00,  4.69it/s]\n",
            " 55%|█████▍    | 411/750 [02:27<02:07,  2.65it/s]"
          ]
        },
        {
          "name": "stdout",
          "output_type": "stream",
          "text": [
            "\n",
            "0: 736x1280 1 ball, 1 goalkeeper, 20 players, 2 referees, 101.7ms\n",
            "Speed: 6.9ms preprocess, 101.7ms inference, 1.6ms postprocess per image at shape (1, 3, 736, 1280)\n"
          ]
        },
        {
          "name": "stderr",
          "output_type": "stream",
          "text": [
            "Embedding extraction: 1it [00:00,  4.88it/s]\n",
            " 55%|█████▍    | 412/750 [02:27<02:07,  2.66it/s]"
          ]
        },
        {
          "name": "stdout",
          "output_type": "stream",
          "text": [
            "\n",
            "0: 736x1280 1 goalkeeper, 20 players, 2 referees, 98.4ms\n",
            "Speed: 7.4ms preprocess, 98.4ms inference, 1.5ms postprocess per image at shape (1, 3, 736, 1280)\n"
          ]
        },
        {
          "name": "stderr",
          "output_type": "stream",
          "text": [
            "Embedding extraction: 1it [00:00,  5.00it/s]\n",
            " 55%|█████▌    | 413/750 [02:28<02:07,  2.65it/s]"
          ]
        },
        {
          "name": "stdout",
          "output_type": "stream",
          "text": [
            "\n",
            "0: 736x1280 1 ball, 1 goalkeeper, 20 players, 2 referees, 95.9ms\n",
            "Speed: 7.6ms preprocess, 95.9ms inference, 2.1ms postprocess per image at shape (1, 3, 736, 1280)\n"
          ]
        },
        {
          "name": "stderr",
          "output_type": "stream",
          "text": [
            "Embedding extraction: 1it [00:00,  4.90it/s]\n",
            " 55%|█████▌    | 414/750 [02:28<02:06,  2.66it/s]"
          ]
        },
        {
          "name": "stdout",
          "output_type": "stream",
          "text": [
            "\n",
            "0: 736x1280 1 ball, 1 goalkeeper, 20 players, 2 referees, 96.7ms\n",
            "Speed: 7.2ms preprocess, 96.7ms inference, 1.6ms postprocess per image at shape (1, 3, 736, 1280)\n"
          ]
        },
        {
          "name": "stderr",
          "output_type": "stream",
          "text": [
            "Embedding extraction: 1it [00:00,  4.85it/s]\n",
            " 55%|█████▌    | 415/750 [02:29<02:05,  2.68it/s]"
          ]
        },
        {
          "name": "stdout",
          "output_type": "stream",
          "text": [
            "\n",
            "0: 736x1280 1 goalkeeper, 20 players, 2 referees, 98.2ms\n",
            "Speed: 6.7ms preprocess, 98.2ms inference, 1.6ms postprocess per image at shape (1, 3, 736, 1280)\n"
          ]
        },
        {
          "name": "stderr",
          "output_type": "stream",
          "text": [
            "Embedding extraction: 1it [00:00,  4.52it/s]\n",
            " 55%|█████▌    | 416/750 [02:29<02:06,  2.65it/s]"
          ]
        },
        {
          "name": "stdout",
          "output_type": "stream",
          "text": [
            "\n",
            "0: 736x1280 1 goalkeeper, 20 players, 2 referees, 104.9ms\n",
            "Speed: 6.8ms preprocess, 104.9ms inference, 3.0ms postprocess per image at shape (1, 3, 736, 1280)\n"
          ]
        },
        {
          "name": "stderr",
          "output_type": "stream",
          "text": [
            "Embedding extraction: 1it [00:00,  4.35it/s]\n",
            " 56%|█████▌    | 417/750 [02:29<02:08,  2.60it/s]"
          ]
        },
        {
          "name": "stdout",
          "output_type": "stream",
          "text": [
            "\n",
            "0: 736x1280 1 goalkeeper, 21 players, 2 referees, 104.3ms\n",
            "Speed: 6.4ms preprocess, 104.3ms inference, 2.0ms postprocess per image at shape (1, 3, 736, 1280)\n"
          ]
        },
        {
          "name": "stderr",
          "output_type": "stream",
          "text": [
            "Embedding extraction: 1it [00:00,  4.27it/s]\n",
            " 56%|█████▌    | 418/750 [02:30<02:09,  2.56it/s]"
          ]
        },
        {
          "name": "stdout",
          "output_type": "stream",
          "text": [
            "\n",
            "0: 736x1280 1 goalkeeper, 21 players, 2 referees, 104.4ms\n",
            "Speed: 8.3ms preprocess, 104.4ms inference, 1.8ms postprocess per image at shape (1, 3, 736, 1280)\n"
          ]
        },
        {
          "name": "stderr",
          "output_type": "stream",
          "text": [
            "Embedding extraction: 1it [00:00,  4.26it/s]\n",
            " 56%|█████▌    | 419/750 [02:30<02:10,  2.53it/s]"
          ]
        },
        {
          "name": "stdout",
          "output_type": "stream",
          "text": [
            "\n",
            "0: 736x1280 1 goalkeeper, 21 players, 2 referees, 105.3ms\n",
            "Speed: 7.4ms preprocess, 105.3ms inference, 1.6ms postprocess per image at shape (1, 3, 736, 1280)\n"
          ]
        },
        {
          "name": "stderr",
          "output_type": "stream",
          "text": [
            "Embedding extraction: 1it [00:00,  4.63it/s]\n",
            " 56%|█████▌    | 420/750 [02:31<02:10,  2.54it/s]"
          ]
        },
        {
          "name": "stdout",
          "output_type": "stream",
          "text": [
            "\n",
            "0: 736x1280 1 goalkeeper, 22 players, 2 referees, 101.1ms\n",
            "Speed: 7.1ms preprocess, 101.1ms inference, 1.5ms postprocess per image at shape (1, 3, 736, 1280)\n"
          ]
        },
        {
          "name": "stderr",
          "output_type": "stream",
          "text": [
            "Embedding extraction: 1it [00:00,  4.72it/s]\n",
            " 56%|█████▌    | 421/750 [02:31<02:08,  2.56it/s]"
          ]
        },
        {
          "name": "stdout",
          "output_type": "stream",
          "text": [
            "\n",
            "0: 736x1280 1 goalkeeper, 20 players, 2 referees, 101.4ms\n",
            "Speed: 7.3ms preprocess, 101.4ms inference, 1.7ms postprocess per image at shape (1, 3, 736, 1280)\n"
          ]
        },
        {
          "name": "stderr",
          "output_type": "stream",
          "text": [
            "Embedding extraction: 1it [00:00,  5.13it/s]\n",
            " 56%|█████▋    | 422/750 [02:31<02:05,  2.62it/s]"
          ]
        },
        {
          "name": "stdout",
          "output_type": "stream",
          "text": [
            "\n",
            "0: 736x1280 1 goalkeeper, 20 players, 2 referees, 99.0ms\n",
            "Speed: 6.1ms preprocess, 99.0ms inference, 1.6ms postprocess per image at shape (1, 3, 736, 1280)\n"
          ]
        },
        {
          "name": "stderr",
          "output_type": "stream",
          "text": [
            "Embedding extraction: 1it [00:00,  4.69it/s]\n",
            " 56%|█████▋    | 423/750 [02:32<02:04,  2.63it/s]"
          ]
        },
        {
          "name": "stdout",
          "output_type": "stream",
          "text": [
            "\n",
            "0: 736x1280 1 goalkeeper, 20 players, 2 referees, 97.3ms\n",
            "Speed: 7.3ms preprocess, 97.3ms inference, 1.7ms postprocess per image at shape (1, 3, 736, 1280)\n"
          ]
        },
        {
          "name": "stderr",
          "output_type": "stream",
          "text": [
            "Embedding extraction: 1it [00:00,  5.00it/s]\n",
            " 57%|█████▋    | 424/750 [02:32<02:02,  2.66it/s]"
          ]
        },
        {
          "name": "stdout",
          "output_type": "stream",
          "text": [
            "\n",
            "0: 736x1280 1 goalkeeper, 20 players, 2 referees, 98.4ms\n",
            "Speed: 6.9ms preprocess, 98.4ms inference, 1.7ms postprocess per image at shape (1, 3, 736, 1280)\n"
          ]
        },
        {
          "name": "stderr",
          "output_type": "stream",
          "text": [
            "Embedding extraction: 1it [00:00,  4.85it/s]\n",
            " 57%|█████▋    | 425/750 [02:32<02:01,  2.68it/s]"
          ]
        },
        {
          "name": "stdout",
          "output_type": "stream",
          "text": [
            "\n",
            "0: 736x1280 1 ball, 1 goalkeeper, 20 players, 2 referees, 104.2ms\n",
            "Speed: 6.5ms preprocess, 104.2ms inference, 1.6ms postprocess per image at shape (1, 3, 736, 1280)\n"
          ]
        },
        {
          "name": "stderr",
          "output_type": "stream",
          "text": [
            "Embedding extraction: 1it [00:00,  4.50it/s]\n",
            " 57%|█████▋    | 426/750 [02:33<02:02,  2.64it/s]"
          ]
        },
        {
          "name": "stdout",
          "output_type": "stream",
          "text": [
            "\n",
            "0: 736x1280 1 ball, 1 goalkeeper, 20 players, 2 referees, 103.9ms\n",
            "Speed: 7.0ms preprocess, 103.9ms inference, 1.6ms postprocess per image at shape (1, 3, 736, 1280)\n"
          ]
        },
        {
          "name": "stderr",
          "output_type": "stream",
          "text": [
            "Embedding extraction: 1it [00:00,  4.83it/s]\n",
            " 57%|█████▋    | 427/750 [02:33<02:02,  2.65it/s]"
          ]
        },
        {
          "name": "stdout",
          "output_type": "stream",
          "text": [
            "\n",
            "0: 736x1280 1 ball, 1 goalkeeper, 20 players, 2 referees, 99.5ms\n",
            "Speed: 6.4ms preprocess, 99.5ms inference, 1.8ms postprocess per image at shape (1, 3, 736, 1280)\n"
          ]
        },
        {
          "name": "stderr",
          "output_type": "stream",
          "text": [
            "Embedding extraction: 1it [00:00,  4.93it/s]\n",
            " 57%|█████▋    | 428/750 [02:34<02:00,  2.67it/s]"
          ]
        },
        {
          "name": "stdout",
          "output_type": "stream",
          "text": [
            "\n",
            "0: 736x1280 1 ball, 1 goalkeeper, 20 players, 2 referees, 95.5ms\n",
            "Speed: 6.7ms preprocess, 95.5ms inference, 1.6ms postprocess per image at shape (1, 3, 736, 1280)\n"
          ]
        },
        {
          "name": "stderr",
          "output_type": "stream",
          "text": [
            "Embedding extraction: 1it [00:00,  4.95it/s]\n",
            " 57%|█████▋    | 429/750 [02:34<01:59,  2.68it/s]"
          ]
        },
        {
          "name": "stdout",
          "output_type": "stream",
          "text": [
            "\n",
            "0: 736x1280 1 ball, 1 goalkeeper, 21 players, 2 referees, 95.9ms\n",
            "Speed: 6.6ms preprocess, 95.9ms inference, 1.7ms postprocess per image at shape (1, 3, 736, 1280)\n"
          ]
        },
        {
          "name": "stderr",
          "output_type": "stream",
          "text": [
            "Embedding extraction: 1it [00:00,  5.03it/s]\n",
            " 57%|█████▋    | 430/750 [02:34<01:58,  2.70it/s]"
          ]
        },
        {
          "name": "stdout",
          "output_type": "stream",
          "text": [
            "\n",
            "0: 736x1280 1 ball, 1 goalkeeper, 20 players, 2 referees, 101.4ms\n",
            "Speed: 7.7ms preprocess, 101.4ms inference, 1.5ms postprocess per image at shape (1, 3, 736, 1280)\n"
          ]
        },
        {
          "name": "stderr",
          "output_type": "stream",
          "text": [
            "Embedding extraction: 1it [00:00,  4.74it/s]\n",
            " 57%|█████▋    | 431/750 [02:35<01:59,  2.68it/s]"
          ]
        },
        {
          "name": "stdout",
          "output_type": "stream",
          "text": [
            "\n",
            "0: 736x1280 1 ball, 1 goalkeeper, 20 players, 2 referees, 97.2ms\n",
            "Speed: 7.5ms preprocess, 97.2ms inference, 2.2ms postprocess per image at shape (1, 3, 736, 1280)\n"
          ]
        },
        {
          "name": "stderr",
          "output_type": "stream",
          "text": [
            "Embedding extraction: 1it [00:00,  4.42it/s]\n",
            " 58%|█████▊    | 432/750 [02:35<02:01,  2.62it/s]"
          ]
        },
        {
          "name": "stdout",
          "output_type": "stream",
          "text": [
            "\n",
            "0: 736x1280 1 goalkeeper, 20 players, 2 referees, 100.8ms\n",
            "Speed: 7.2ms preprocess, 100.8ms inference, 1.9ms postprocess per image at shape (1, 3, 736, 1280)\n"
          ]
        },
        {
          "name": "stderr",
          "output_type": "stream",
          "text": [
            "Embedding extraction: 1it [00:00,  4.76it/s]\n",
            " 58%|█████▊    | 433/750 [02:35<02:00,  2.64it/s]"
          ]
        },
        {
          "name": "stdout",
          "output_type": "stream",
          "text": [
            "\n",
            "0: 736x1280 1 goalkeeper, 20 players, 2 referees, 102.1ms\n",
            "Speed: 8.7ms preprocess, 102.1ms inference, 1.9ms postprocess per image at shape (1, 3, 736, 1280)\n"
          ]
        },
        {
          "name": "stderr",
          "output_type": "stream",
          "text": [
            "Embedding extraction: 1it [00:00,  4.83it/s]\n",
            " 58%|█████▊    | 434/750 [02:36<01:59,  2.64it/s]"
          ]
        },
        {
          "name": "stdout",
          "output_type": "stream",
          "text": [
            "\n",
            "0: 736x1280 1 goalkeeper, 20 players, 2 referees, 97.8ms\n",
            "Speed: 7.0ms preprocess, 97.8ms inference, 1.7ms postprocess per image at shape (1, 3, 736, 1280)\n"
          ]
        },
        {
          "name": "stderr",
          "output_type": "stream",
          "text": [
            "Embedding extraction: 1it [00:00,  4.85it/s]\n",
            " 58%|█████▊    | 435/750 [02:36<01:58,  2.66it/s]"
          ]
        },
        {
          "name": "stdout",
          "output_type": "stream",
          "text": [
            "\n",
            "0: 736x1280 1 goalkeeper, 20 players, 2 referees, 97.8ms\n",
            "Speed: 7.0ms preprocess, 97.8ms inference, 1.6ms postprocess per image at shape (1, 3, 736, 1280)\n"
          ]
        },
        {
          "name": "stderr",
          "output_type": "stream",
          "text": [
            "Embedding extraction: 1it [00:00,  4.81it/s]\n",
            " 58%|█████▊    | 436/750 [02:37<01:57,  2.67it/s]"
          ]
        },
        {
          "name": "stdout",
          "output_type": "stream",
          "text": [
            "\n",
            "0: 736x1280 1 ball, 1 goalkeeper, 21 players, 2 referees, 101.5ms\n",
            "Speed: 5.7ms preprocess, 101.5ms inference, 1.8ms postprocess per image at shape (1, 3, 736, 1280)\n"
          ]
        },
        {
          "name": "stderr",
          "output_type": "stream",
          "text": [
            "Embedding extraction: 1it [00:00,  4.93it/s]\n",
            " 58%|█████▊    | 437/750 [02:37<01:56,  2.68it/s]"
          ]
        },
        {
          "name": "stdout",
          "output_type": "stream",
          "text": [
            "\n",
            "0: 736x1280 1 ball, 1 goalkeeper, 21 players, 2 referees, 106.6ms\n",
            "Speed: 7.1ms preprocess, 106.6ms inference, 2.0ms postprocess per image at shape (1, 3, 736, 1280)\n"
          ]
        },
        {
          "name": "stderr",
          "output_type": "stream",
          "text": [
            "Embedding extraction: 1it [00:00,  4.18it/s]\n",
            " 58%|█████▊    | 438/750 [02:37<02:00,  2.60it/s]"
          ]
        },
        {
          "name": "stdout",
          "output_type": "stream",
          "text": [
            "\n",
            "0: 736x1280 1 goalkeeper, 21 players, 2 referees, 105.9ms\n",
            "Speed: 5.5ms preprocess, 105.9ms inference, 1.4ms postprocess per image at shape (1, 3, 736, 1280)\n"
          ]
        },
        {
          "name": "stderr",
          "output_type": "stream",
          "text": [
            "Embedding extraction: 1it [00:00,  4.07it/s]\n",
            " 59%|█████▊    | 439/750 [02:38<02:02,  2.54it/s]"
          ]
        },
        {
          "name": "stdout",
          "output_type": "stream",
          "text": [
            "\n",
            "0: 736x1280 1 goalkeeper, 21 players, 2 referees, 106.4ms\n",
            "Speed: 6.1ms preprocess, 106.4ms inference, 1.6ms postprocess per image at shape (1, 3, 736, 1280)\n"
          ]
        },
        {
          "name": "stderr",
          "output_type": "stream",
          "text": [
            "Embedding extraction: 1it [00:00,  4.57it/s]\n",
            " 59%|█████▊    | 440/750 [02:38<02:02,  2.54it/s]"
          ]
        },
        {
          "name": "stdout",
          "output_type": "stream",
          "text": [
            "\n",
            "0: 736x1280 1 goalkeeper, 20 players, 2 referees, 102.1ms\n",
            "Speed: 6.1ms preprocess, 102.1ms inference, 1.6ms postprocess per image at shape (1, 3, 736, 1280)\n"
          ]
        },
        {
          "name": "stderr",
          "output_type": "stream",
          "text": [
            "Embedding extraction: 1it [00:00,  4.41it/s]\n",
            " 59%|█████▉    | 441/750 [02:39<02:01,  2.54it/s]"
          ]
        },
        {
          "name": "stdout",
          "output_type": "stream",
          "text": [
            "\n",
            "0: 736x1280 1 goalkeeper, 22 players, 2 referees, 101.9ms\n",
            "Speed: 5.9ms preprocess, 101.9ms inference, 1.5ms postprocess per image at shape (1, 3, 736, 1280)\n"
          ]
        },
        {
          "name": "stderr",
          "output_type": "stream",
          "text": [
            "Embedding extraction: 1it [00:00,  4.57it/s]\n",
            " 59%|█████▉    | 442/750 [02:39<02:00,  2.56it/s]"
          ]
        },
        {
          "name": "stdout",
          "output_type": "stream",
          "text": [
            "\n",
            "0: 736x1280 1 goalkeeper, 20 players, 2 referees, 101.4ms\n",
            "Speed: 6.5ms preprocess, 101.4ms inference, 1.9ms postprocess per image at shape (1, 3, 736, 1280)\n"
          ]
        },
        {
          "name": "stderr",
          "output_type": "stream",
          "text": [
            "Embedding extraction: 1it [00:00,  4.83it/s]\n",
            " 59%|█████▉    | 443/750 [02:39<01:58,  2.60it/s]"
          ]
        },
        {
          "name": "stdout",
          "output_type": "stream",
          "text": [
            "\n",
            "0: 736x1280 1 goalkeeper, 20 players, 2 referees, 97.5ms\n",
            "Speed: 5.8ms preprocess, 97.5ms inference, 1.7ms postprocess per image at shape (1, 3, 736, 1280)\n"
          ]
        },
        {
          "name": "stderr",
          "output_type": "stream",
          "text": [
            "Embedding extraction: 1it [00:00,  4.83it/s]\n",
            " 59%|█████▉    | 444/750 [02:40<01:56,  2.64it/s]"
          ]
        },
        {
          "name": "stdout",
          "output_type": "stream",
          "text": [
            "\n",
            "0: 736x1280 1 goalkeeper, 21 players, 2 referees, 96.9ms\n",
            "Speed: 6.4ms preprocess, 96.9ms inference, 1.7ms postprocess per image at shape (1, 3, 736, 1280)\n"
          ]
        },
        {
          "name": "stderr",
          "output_type": "stream",
          "text": [
            "Embedding extraction: 1it [00:00,  4.83it/s]\n",
            " 59%|█████▉    | 445/750 [02:40<01:54,  2.66it/s]"
          ]
        },
        {
          "name": "stdout",
          "output_type": "stream",
          "text": [
            "\n",
            "0: 736x1280 1 goalkeeper, 20 players, 2 referees, 100.8ms\n",
            "Speed: 6.2ms preprocess, 100.8ms inference, 1.8ms postprocess per image at shape (1, 3, 736, 1280)\n"
          ]
        },
        {
          "name": "stderr",
          "output_type": "stream",
          "text": [
            "Embedding extraction: 1it [00:00,  4.69it/s]\n",
            " 59%|█████▉    | 446/750 [02:40<01:54,  2.66it/s]"
          ]
        },
        {
          "name": "stdout",
          "output_type": "stream",
          "text": [
            "\n",
            "0: 736x1280 1 goalkeeper, 20 players, 2 referees, 99.8ms\n",
            "Speed: 6.4ms preprocess, 99.8ms inference, 1.6ms postprocess per image at shape (1, 3, 736, 1280)\n"
          ]
        },
        {
          "name": "stderr",
          "output_type": "stream",
          "text": [
            "Embedding extraction: 1it [00:00,  4.72it/s]\n",
            " 60%|█████▉    | 447/750 [02:41<01:53,  2.67it/s]"
          ]
        },
        {
          "name": "stdout",
          "output_type": "stream",
          "text": [
            "\n",
            "0: 736x1280 1 goalkeeper, 20 players, 2 referees, 99.7ms\n",
            "Speed: 7.4ms preprocess, 99.7ms inference, 1.8ms postprocess per image at shape (1, 3, 736, 1280)\n"
          ]
        },
        {
          "name": "stderr",
          "output_type": "stream",
          "text": [
            "Embedding extraction: 1it [00:00,  4.57it/s]\n",
            " 60%|█████▉    | 448/750 [02:41<01:54,  2.65it/s]"
          ]
        },
        {
          "name": "stdout",
          "output_type": "stream",
          "text": [
            "\n",
            "0: 736x1280 1 goalkeeper, 20 players, 2 referees, 99.6ms\n",
            "Speed: 6.5ms preprocess, 99.6ms inference, 1.7ms postprocess per image at shape (1, 3, 736, 1280)\n"
          ]
        },
        {
          "name": "stderr",
          "output_type": "stream",
          "text": [
            "Embedding extraction: 1it [00:00,  5.10it/s]\n",
            " 60%|█████▉    | 449/750 [02:42<01:52,  2.68it/s]"
          ]
        },
        {
          "name": "stdout",
          "output_type": "stream",
          "text": [
            "\n",
            "0: 736x1280 1 goalkeeper, 21 players, 1 referee, 97.7ms\n",
            "Speed: 6.0ms preprocess, 97.7ms inference, 1.7ms postprocess per image at shape (1, 3, 736, 1280)\n"
          ]
        },
        {
          "name": "stderr",
          "output_type": "stream",
          "text": [
            "Embedding extraction: 1it [00:00,  5.03it/s]\n",
            " 60%|██████    | 450/750 [02:42<01:50,  2.71it/s]"
          ]
        },
        {
          "name": "stdout",
          "output_type": "stream",
          "text": [
            "\n",
            "0: 736x1280 1 goalkeeper, 20 players, 1 referee, 96.5ms\n",
            "Speed: 6.5ms preprocess, 96.5ms inference, 2.2ms postprocess per image at shape (1, 3, 736, 1280)\n"
          ]
        },
        {
          "name": "stderr",
          "output_type": "stream",
          "text": [
            "Embedding extraction: 1it [00:00,  4.78it/s]\n",
            " 60%|██████    | 451/750 [02:42<01:50,  2.70it/s]"
          ]
        },
        {
          "name": "stdout",
          "output_type": "stream",
          "text": [
            "\n",
            "0: 736x1280 1 goalkeeper, 20 players, 2 referees, 103.0ms\n",
            "Speed: 5.7ms preprocess, 103.0ms inference, 1.5ms postprocess per image at shape (1, 3, 736, 1280)\n"
          ]
        },
        {
          "name": "stderr",
          "output_type": "stream",
          "text": [
            "Embedding extraction: 1it [00:00,  4.46it/s]\n",
            " 60%|██████    | 452/750 [02:43<01:51,  2.67it/s]"
          ]
        },
        {
          "name": "stdout",
          "output_type": "stream",
          "text": [
            "\n",
            "0: 736x1280 1 goalkeeper, 21 players, 2 referees, 101.7ms\n",
            "Speed: 6.1ms preprocess, 101.7ms inference, 1.6ms postprocess per image at shape (1, 3, 736, 1280)\n"
          ]
        },
        {
          "name": "stderr",
          "output_type": "stream",
          "text": [
            "Embedding extraction: 1it [00:00,  4.42it/s]\n",
            " 60%|██████    | 453/750 [02:43<01:53,  2.61it/s]"
          ]
        },
        {
          "name": "stdout",
          "output_type": "stream",
          "text": [
            "\n",
            "0: 736x1280 1 goalkeeper, 20 players, 1 referee, 101.5ms\n",
            "Speed: 6.3ms preprocess, 101.5ms inference, 1.9ms postprocess per image at shape (1, 3, 736, 1280)\n"
          ]
        },
        {
          "name": "stderr",
          "output_type": "stream",
          "text": [
            "Embedding extraction: 1it [00:00,  4.55it/s]\n",
            " 61%|██████    | 454/750 [02:43<01:53,  2.60it/s]"
          ]
        },
        {
          "name": "stdout",
          "output_type": "stream",
          "text": [
            "\n",
            "0: 736x1280 1 goalkeeper, 21 players, 1 referee, 101.3ms\n",
            "Speed: 6.9ms preprocess, 101.3ms inference, 1.8ms postprocess per image at shape (1, 3, 736, 1280)\n"
          ]
        },
        {
          "name": "stderr",
          "output_type": "stream",
          "text": [
            "Embedding extraction: 1it [00:00,  4.63it/s]\n",
            " 61%|██████    | 455/750 [02:44<01:53,  2.60it/s]"
          ]
        },
        {
          "name": "stdout",
          "output_type": "stream",
          "text": [
            "\n",
            "0: 736x1280 1 goalkeeper, 20 players, 1 referee, 100.1ms\n",
            "Speed: 6.3ms preprocess, 100.1ms inference, 1.7ms postprocess per image at shape (1, 3, 736, 1280)\n"
          ]
        },
        {
          "name": "stderr",
          "output_type": "stream",
          "text": [
            "Embedding extraction: 1it [00:00,  4.69it/s]\n",
            " 61%|██████    | 456/750 [02:44<01:52,  2.62it/s]"
          ]
        },
        {
          "name": "stdout",
          "output_type": "stream",
          "text": [
            "\n",
            "0: 736x1280 1 goalkeeper, 21 players, 1 referee, 97.5ms\n",
            "Speed: 5.8ms preprocess, 97.5ms inference, 2.2ms postprocess per image at shape (1, 3, 736, 1280)\n"
          ]
        },
        {
          "name": "stderr",
          "output_type": "stream",
          "text": [
            "Embedding extraction: 1it [00:00,  4.81it/s]\n",
            " 61%|██████    | 457/750 [02:45<01:50,  2.66it/s]"
          ]
        },
        {
          "name": "stdout",
          "output_type": "stream",
          "text": [
            "\n",
            "0: 736x1280 1 goalkeeper, 20 players, 1 referee, 96.6ms\n",
            "Speed: 5.6ms preprocess, 96.6ms inference, 1.6ms postprocess per image at shape (1, 3, 736, 1280)\n"
          ]
        },
        {
          "name": "stderr",
          "output_type": "stream",
          "text": [
            "Embedding extraction: 1it [00:00,  4.85it/s]\n",
            " 61%|██████    | 458/750 [02:45<01:48,  2.69it/s]"
          ]
        },
        {
          "name": "stdout",
          "output_type": "stream",
          "text": [
            "\n",
            "0: 736x1280 1 goalkeeper, 20 players, 1 referee, 101.1ms\n",
            "Speed: 6.8ms preprocess, 101.1ms inference, 1.8ms postprocess per image at shape (1, 3, 736, 1280)\n"
          ]
        },
        {
          "name": "stderr",
          "output_type": "stream",
          "text": [
            "Embedding extraction: 1it [00:00,  4.27it/s]\n",
            " 61%|██████    | 459/750 [02:45<01:50,  2.63it/s]"
          ]
        },
        {
          "name": "stdout",
          "output_type": "stream",
          "text": [
            "\n",
            "0: 736x1280 1 goalkeeper, 20 players, 1 referee, 104.6ms\n",
            "Speed: 6.2ms preprocess, 104.6ms inference, 1.8ms postprocess per image at shape (1, 3, 736, 1280)\n"
          ]
        },
        {
          "name": "stderr",
          "output_type": "stream",
          "text": [
            "Embedding extraction: 1it [00:00,  4.37it/s]\n",
            " 61%|██████▏   | 460/750 [02:46<01:51,  2.60it/s]"
          ]
        },
        {
          "name": "stdout",
          "output_type": "stream",
          "text": [
            "\n",
            "0: 736x1280 1 goalkeeper, 20 players, 1 referee, 104.0ms\n",
            "Speed: 6.0ms preprocess, 104.0ms inference, 1.5ms postprocess per image at shape (1, 3, 736, 1280)\n"
          ]
        },
        {
          "name": "stderr",
          "output_type": "stream",
          "text": [
            "Embedding extraction: 1it [00:00,  4.39it/s]\n",
            " 61%|██████▏   | 461/750 [02:46<01:52,  2.56it/s]"
          ]
        },
        {
          "name": "stdout",
          "output_type": "stream",
          "text": [
            "\n",
            "0: 736x1280 1 goalkeeper, 20 players, 1 referee, 104.3ms\n",
            "Speed: 6.3ms preprocess, 104.3ms inference, 1.5ms postprocess per image at shape (1, 3, 736, 1280)\n"
          ]
        },
        {
          "name": "stderr",
          "output_type": "stream",
          "text": [
            "Embedding extraction: 1it [00:00,  4.65it/s]\n",
            " 62%|██████▏   | 462/750 [02:46<01:52,  2.57it/s]"
          ]
        },
        {
          "name": "stdout",
          "output_type": "stream",
          "text": [
            "\n",
            "0: 736x1280 1 goalkeeper, 20 players, 1 referee, 101.2ms\n",
            "Speed: 8.1ms preprocess, 101.2ms inference, 1.5ms postprocess per image at shape (1, 3, 736, 1280)\n"
          ]
        },
        {
          "name": "stderr",
          "output_type": "stream",
          "text": [
            "Embedding extraction: 1it [00:00,  4.72it/s]\n",
            " 62%|██████▏   | 463/750 [02:47<01:50,  2.59it/s]"
          ]
        },
        {
          "name": "stdout",
          "output_type": "stream",
          "text": [
            "\n",
            "0: 736x1280 1 goalkeeper, 20 players, 2 referees, 100.9ms\n",
            "Speed: 6.5ms preprocess, 100.9ms inference, 1.7ms postprocess per image at shape (1, 3, 736, 1280)\n"
          ]
        },
        {
          "name": "stderr",
          "output_type": "stream",
          "text": [
            "Embedding extraction: 1it [00:00,  5.05it/s]\n",
            " 62%|██████▏   | 464/750 [02:47<01:48,  2.65it/s]"
          ]
        },
        {
          "name": "stdout",
          "output_type": "stream",
          "text": [
            "\n",
            "0: 736x1280 1 goalkeeper, 20 players, 1 referee, 96.4ms\n",
            "Speed: 6.0ms preprocess, 96.4ms inference, 1.7ms postprocess per image at shape (1, 3, 736, 1280)\n"
          ]
        },
        {
          "name": "stderr",
          "output_type": "stream",
          "text": [
            "Embedding extraction: 1it [00:00,  4.74it/s]\n",
            " 62%|██████▏   | 465/750 [02:48<01:47,  2.66it/s]"
          ]
        },
        {
          "name": "stdout",
          "output_type": "stream",
          "text": [
            "\n",
            "0: 736x1280 1 goalkeeper, 20 players, 1 referee, 99.8ms\n",
            "Speed: 6.3ms preprocess, 99.8ms inference, 1.6ms postprocess per image at shape (1, 3, 736, 1280)\n"
          ]
        },
        {
          "name": "stderr",
          "output_type": "stream",
          "text": [
            "Embedding extraction: 1it [00:00,  4.10it/s]\n",
            " 62%|██████▏   | 466/750 [02:48<01:49,  2.59it/s]"
          ]
        },
        {
          "name": "stdout",
          "output_type": "stream",
          "text": [
            "\n",
            "0: 736x1280 1 goalkeeper, 20 players, 1 referee, 113.3ms\n",
            "Speed: 6.3ms preprocess, 113.3ms inference, 2.0ms postprocess per image at shape (1, 3, 736, 1280)\n"
          ]
        },
        {
          "name": "stderr",
          "output_type": "stream",
          "text": [
            "Embedding extraction: 1it [00:00,  3.82it/s]\n",
            " 62%|██████▏   | 467/750 [02:48<01:53,  2.49it/s]"
          ]
        },
        {
          "name": "stdout",
          "output_type": "stream",
          "text": [
            "\n",
            "0: 736x1280 1 goalkeeper, 20 players, 2 referees, 112.2ms\n",
            "Speed: 6.3ms preprocess, 112.2ms inference, 2.0ms postprocess per image at shape (1, 3, 736, 1280)\n"
          ]
        },
        {
          "name": "stderr",
          "output_type": "stream",
          "text": [
            "Embedding extraction: 1it [00:00,  3.82it/s]\n",
            " 62%|██████▏   | 468/750 [02:49<01:56,  2.42it/s]"
          ]
        },
        {
          "name": "stdout",
          "output_type": "stream",
          "text": [
            "\n",
            "0: 736x1280 1 goalkeeper, 20 players, 2 referees, 107.9ms\n",
            "Speed: 5.8ms preprocess, 107.9ms inference, 1.9ms postprocess per image at shape (1, 3, 736, 1280)\n"
          ]
        },
        {
          "name": "stderr",
          "output_type": "stream",
          "text": [
            "Embedding extraction: 1it [00:00,  4.17it/s]\n",
            " 63%|██████▎   | 469/750 [02:49<01:55,  2.43it/s]"
          ]
        },
        {
          "name": "stdout",
          "output_type": "stream",
          "text": [
            "\n",
            "0: 736x1280 1 goalkeeper, 20 players, 3 referees, 102.9ms\n",
            "Speed: 6.7ms preprocess, 102.9ms inference, 1.8ms postprocess per image at shape (1, 3, 736, 1280)\n"
          ]
        },
        {
          "name": "stderr",
          "output_type": "stream",
          "text": [
            "Embedding extraction: 1it [00:00,  4.72it/s]\n",
            " 63%|██████▎   | 470/750 [02:50<01:52,  2.49it/s]"
          ]
        },
        {
          "name": "stdout",
          "output_type": "stream",
          "text": [
            "\n",
            "0: 736x1280 1 ball, 1 goalkeeper, 19 players, 2 referees, 95.3ms\n",
            "Speed: 6.5ms preprocess, 95.3ms inference, 1.9ms postprocess per image at shape (1, 3, 736, 1280)\n"
          ]
        },
        {
          "name": "stderr",
          "output_type": "stream",
          "text": [
            "Embedding extraction: 1it [00:02,  2.47s/it]\n",
            " 63%|██████▎   | 471/750 [02:52<04:59,  1.07s/it]"
          ]
        },
        {
          "name": "stdout",
          "output_type": "stream",
          "text": [
            "\n",
            "0: 736x1280 1 ball, 1 goalkeeper, 19 players, 2 referees, 122.0ms\n",
            "Speed: 7.0ms preprocess, 122.0ms inference, 2.1ms postprocess per image at shape (1, 3, 736, 1280)\n"
          ]
        },
        {
          "name": "stderr",
          "output_type": "stream",
          "text": [
            "Embedding extraction: 1it [00:00,  5.10it/s]\n",
            " 63%|██████▎   | 472/750 [02:53<04:00,  1.15it/s]"
          ]
        },
        {
          "name": "stdout",
          "output_type": "stream",
          "text": [
            "\n",
            "0: 736x1280 1 ball, 1 goalkeeper, 20 players, 3 referees, 97.1ms\n",
            "Speed: 7.8ms preprocess, 97.1ms inference, 1.7ms postprocess per image at shape (1, 3, 736, 1280)\n"
          ]
        },
        {
          "name": "stderr",
          "output_type": "stream",
          "text": [
            "Embedding extraction: 1it [00:00,  4.98it/s]\n",
            " 63%|██████▎   | 473/750 [02:53<03:19,  1.39it/s]"
          ]
        },
        {
          "name": "stdout",
          "output_type": "stream",
          "text": [
            "\n",
            "0: 736x1280 1 goalkeeper, 20 players, 3 referees, 97.2ms\n",
            "Speed: 7.8ms preprocess, 97.2ms inference, 2.3ms postprocess per image at shape (1, 3, 736, 1280)\n"
          ]
        },
        {
          "name": "stderr",
          "output_type": "stream",
          "text": [
            "Embedding extraction: 1it [00:00,  4.76it/s]\n",
            " 63%|██████▎   | 474/750 [02:53<02:50,  1.62it/s]"
          ]
        },
        {
          "name": "stdout",
          "output_type": "stream",
          "text": [
            "\n",
            "0: 736x1280 1 ball, 1 goalkeeper, 20 players, 3 referees, 97.6ms\n",
            "Speed: 8.6ms preprocess, 97.6ms inference, 1.6ms postprocess per image at shape (1, 3, 736, 1280)\n"
          ]
        },
        {
          "name": "stderr",
          "output_type": "stream",
          "text": [
            "Embedding extraction: 1it [00:00,  4.85it/s]\n",
            " 63%|██████▎   | 475/750 [02:54<02:29,  1.83it/s]"
          ]
        },
        {
          "name": "stdout",
          "output_type": "stream",
          "text": [
            "\n",
            "0: 736x1280 1 goalkeeper, 20 players, 2 referees, 98.2ms\n",
            "Speed: 9.1ms preprocess, 98.2ms inference, 1.7ms postprocess per image at shape (1, 3, 736, 1280)\n"
          ]
        },
        {
          "name": "stderr",
          "output_type": "stream",
          "text": [
            "Embedding extraction: 1it [00:00,  4.78it/s]\n",
            " 63%|██████▎   | 476/750 [02:54<02:16,  2.01it/s]"
          ]
        },
        {
          "name": "stdout",
          "output_type": "stream",
          "text": [
            "\n",
            "0: 736x1280 1 goalkeeper, 20 players, 2 referees, 97.4ms\n",
            "Speed: 6.0ms preprocess, 97.4ms inference, 1.9ms postprocess per image at shape (1, 3, 736, 1280)\n"
          ]
        },
        {
          "name": "stderr",
          "output_type": "stream",
          "text": [
            "Embedding extraction: 1it [00:00,  4.98it/s]\n",
            " 64%|██████▎   | 477/750 [02:55<02:04,  2.19it/s]"
          ]
        },
        {
          "name": "stdout",
          "output_type": "stream",
          "text": [
            "\n",
            "0: 736x1280 1 goalkeeper, 21 players, 3 referees, 97.6ms\n",
            "Speed: 6.3ms preprocess, 97.6ms inference, 1.7ms postprocess per image at shape (1, 3, 736, 1280)\n"
          ]
        },
        {
          "name": "stderr",
          "output_type": "stream",
          "text": [
            "Embedding extraction: 1it [00:00,  4.93it/s]\n",
            " 64%|██████▎   | 478/750 [02:55<01:57,  2.31it/s]"
          ]
        },
        {
          "name": "stdout",
          "output_type": "stream",
          "text": [
            "\n",
            "0: 736x1280 1 goalkeeper, 21 players, 3 referees, 100.5ms\n",
            "Speed: 8.1ms preprocess, 100.5ms inference, 1.5ms postprocess per image at shape (1, 3, 736, 1280)\n"
          ]
        },
        {
          "name": "stderr",
          "output_type": "stream",
          "text": [
            "Embedding extraction: 1it [00:00,  4.98it/s]\n",
            " 64%|██████▍   | 479/750 [02:55<01:52,  2.40it/s]"
          ]
        },
        {
          "name": "stdout",
          "output_type": "stream",
          "text": [
            "\n",
            "0: 736x1280 1 goalkeeper, 20 players, 2 referees, 106.3ms\n",
            "Speed: 8.1ms preprocess, 106.3ms inference, 2.0ms postprocess per image at shape (1, 3, 736, 1280)\n"
          ]
        },
        {
          "name": "stderr",
          "output_type": "stream",
          "text": [
            "Embedding extraction: 1it [00:00,  4.18it/s]\n",
            " 64%|██████▍   | 480/750 [02:56<01:52,  2.40it/s]"
          ]
        },
        {
          "name": "stdout",
          "output_type": "stream",
          "text": [
            "\n",
            "0: 736x1280 1 goalkeeper, 20 players, 3 referees, 107.0ms\n",
            "Speed: 9.9ms preprocess, 107.0ms inference, 2.1ms postprocess per image at shape (1, 3, 736, 1280)\n"
          ]
        },
        {
          "name": "stderr",
          "output_type": "stream",
          "text": [
            "Embedding extraction: 1it [00:00,  4.17it/s]\n",
            " 64%|██████▍   | 481/750 [02:56<01:52,  2.39it/s]"
          ]
        },
        {
          "name": "stdout",
          "output_type": "stream",
          "text": [
            "\n",
            "0: 736x1280 1 goalkeeper, 21 players, 3 referees, 106.5ms\n",
            "Speed: 8.8ms preprocess, 106.5ms inference, 2.4ms postprocess per image at shape (1, 3, 736, 1280)\n"
          ]
        },
        {
          "name": "stderr",
          "output_type": "stream",
          "text": [
            "Embedding extraction: 1it [00:00,  3.32it/s]\n",
            " 64%|██████▍   | 482/750 [02:57<01:57,  2.27it/s]"
          ]
        },
        {
          "name": "stdout",
          "output_type": "stream",
          "text": [
            "\n",
            "0: 736x1280 1 goalkeeper, 20 players, 2 referees, 105.2ms\n",
            "Speed: 8.2ms preprocess, 105.2ms inference, 2.7ms postprocess per image at shape (1, 3, 736, 1280)\n"
          ]
        },
        {
          "name": "stderr",
          "output_type": "stream",
          "text": [
            "Embedding extraction: 1it [00:00,  4.31it/s]\n",
            " 64%|██████▍   | 483/750 [02:57<01:55,  2.32it/s]"
          ]
        },
        {
          "name": "stdout",
          "output_type": "stream",
          "text": [
            "\n",
            "0: 736x1280 1 goalkeeper, 20 players, 2 referees, 99.2ms\n",
            "Speed: 7.1ms preprocess, 99.2ms inference, 1.9ms postprocess per image at shape (1, 3, 736, 1280)\n"
          ]
        },
        {
          "name": "stderr",
          "output_type": "stream",
          "text": [
            "Embedding extraction: 1it [00:00,  5.00it/s]\n",
            " 65%|██████▍   | 484/750 [02:57<01:49,  2.43it/s]"
          ]
        },
        {
          "name": "stdout",
          "output_type": "stream",
          "text": [
            "\n",
            "0: 736x1280 1 goalkeeper, 21 players, 2 referees, 97.8ms\n",
            "Speed: 7.0ms preprocess, 97.8ms inference, 1.6ms postprocess per image at shape (1, 3, 736, 1280)\n"
          ]
        },
        {
          "name": "stderr",
          "output_type": "stream",
          "text": [
            "Embedding extraction: 1it [00:00,  4.44it/s]\n",
            " 65%|██████▍   | 485/750 [02:58<01:47,  2.47it/s]"
          ]
        },
        {
          "name": "stdout",
          "output_type": "stream",
          "text": [
            "\n",
            "0: 736x1280 1 goalkeeper, 21 players, 2 referees, 105.9ms\n",
            "Speed: 6.3ms preprocess, 105.9ms inference, 1.7ms postprocess per image at shape (1, 3, 736, 1280)\n"
          ]
        },
        {
          "name": "stderr",
          "output_type": "stream",
          "text": [
            "Embedding extraction: 1it [00:00,  4.07it/s]\n",
            " 65%|██████▍   | 486/750 [02:58<01:48,  2.44it/s]"
          ]
        },
        {
          "name": "stdout",
          "output_type": "stream",
          "text": [
            "\n",
            "0: 736x1280 1 goalkeeper, 20 players, 2 referees, 108.1ms\n",
            "Speed: 6.4ms preprocess, 108.1ms inference, 2.2ms postprocess per image at shape (1, 3, 736, 1280)\n"
          ]
        },
        {
          "name": "stderr",
          "output_type": "stream",
          "text": [
            "Embedding extraction: 1it [00:00,  4.24it/s]\n",
            " 65%|██████▍   | 487/750 [02:59<01:48,  2.42it/s]"
          ]
        },
        {
          "name": "stdout",
          "output_type": "stream",
          "text": [
            "\n",
            "0: 736x1280 1 goalkeeper, 20 players, 2 referees, 107.2ms\n",
            "Speed: 6.8ms preprocess, 107.2ms inference, 1.6ms postprocess per image at shape (1, 3, 736, 1280)\n"
          ]
        },
        {
          "name": "stderr",
          "output_type": "stream",
          "text": [
            "Embedding extraction: 1it [00:00,  4.13it/s]\n",
            " 65%|██████▌   | 488/750 [02:59<01:48,  2.42it/s]"
          ]
        },
        {
          "name": "stdout",
          "output_type": "stream",
          "text": [
            "\n",
            "0: 736x1280 1 goalkeeper, 22 players, 2 referees, 105.3ms\n",
            "Speed: 7.9ms preprocess, 105.3ms inference, 1.5ms postprocess per image at shape (1, 3, 736, 1280)\n"
          ]
        },
        {
          "name": "stderr",
          "output_type": "stream",
          "text": [
            "Embedding extraction: 1it [00:00,  4.22it/s]\n",
            " 65%|██████▌   | 489/750 [02:59<01:47,  2.42it/s]"
          ]
        },
        {
          "name": "stdout",
          "output_type": "stream",
          "text": [
            "\n",
            "0: 736x1280 1 goalkeeper, 21 players, 2 referees, 105.0ms\n",
            "Speed: 7.1ms preprocess, 105.0ms inference, 1.7ms postprocess per image at shape (1, 3, 736, 1280)\n"
          ]
        },
        {
          "name": "stderr",
          "output_type": "stream",
          "text": [
            "Embedding extraction: 1it [00:00,  4.24it/s]\n",
            " 65%|██████▌   | 490/750 [03:00<01:47,  2.42it/s]"
          ]
        },
        {
          "name": "stdout",
          "output_type": "stream",
          "text": [
            "\n",
            "0: 736x1280 1 goalkeeper, 22 players, 2 referees, 105.9ms\n",
            "Speed: 10.0ms preprocess, 105.9ms inference, 1.9ms postprocess per image at shape (1, 3, 736, 1280)\n"
          ]
        },
        {
          "name": "stderr",
          "output_type": "stream",
          "text": [
            "Embedding extraction: 1it [00:00,  4.26it/s]\n",
            " 65%|██████▌   | 491/750 [03:00<01:47,  2.42it/s]"
          ]
        },
        {
          "name": "stdout",
          "output_type": "stream",
          "text": [
            "\n",
            "0: 736x1280 1 goalkeeper, 21 players, 2 referees, 106.7ms\n",
            "Speed: 6.8ms preprocess, 106.7ms inference, 1.8ms postprocess per image at shape (1, 3, 736, 1280)\n"
          ]
        },
        {
          "name": "stderr",
          "output_type": "stream",
          "text": [
            "Embedding extraction: 1it [00:00,  4.12it/s]\n",
            " 66%|██████▌   | 492/750 [03:01<01:46,  2.42it/s]"
          ]
        },
        {
          "name": "stdout",
          "output_type": "stream",
          "text": [
            "\n",
            "0: 736x1280 1 goalkeeper, 21 players, 2 referees, 107.6ms\n",
            "Speed: 7.6ms preprocess, 107.6ms inference, 1.6ms postprocess per image at shape (1, 3, 736, 1280)\n"
          ]
        },
        {
          "name": "stderr",
          "output_type": "stream",
          "text": [
            "Embedding extraction: 1it [00:00,  4.33it/s]\n",
            " 66%|██████▌   | 493/750 [03:01<01:46,  2.42it/s]"
          ]
        },
        {
          "name": "stdout",
          "output_type": "stream",
          "text": [
            "\n",
            "0: 736x1280 1 goalkeeper, 21 players, 2 referees, 107.1ms\n",
            "Speed: 7.5ms preprocess, 107.1ms inference, 1.6ms postprocess per image at shape (1, 3, 736, 1280)\n"
          ]
        },
        {
          "name": "stderr",
          "output_type": "stream",
          "text": [
            "Embedding extraction: 1it [00:00,  4.35it/s]\n",
            " 66%|██████▌   | 494/750 [03:02<01:44,  2.44it/s]"
          ]
        },
        {
          "name": "stdout",
          "output_type": "stream",
          "text": [
            "\n",
            "0: 736x1280 1 goalkeeper, 21 players, 2 referees, 107.1ms\n",
            "Speed: 5.8ms preprocess, 107.1ms inference, 1.5ms postprocess per image at shape (1, 3, 736, 1280)\n"
          ]
        },
        {
          "name": "stderr",
          "output_type": "stream",
          "text": [
            "Embedding extraction: 1it [00:00,  4.31it/s]\n",
            " 66%|██████▌   | 495/750 [03:02<01:43,  2.46it/s]"
          ]
        },
        {
          "name": "stdout",
          "output_type": "stream",
          "text": [
            "\n",
            "0: 736x1280 1 goalkeeper, 21 players, 2 referees, 106.7ms\n",
            "Speed: 6.3ms preprocess, 106.7ms inference, 1.4ms postprocess per image at shape (1, 3, 736, 1280)\n"
          ]
        },
        {
          "name": "stderr",
          "output_type": "stream",
          "text": [
            "Embedding extraction: 1it [00:00,  4.29it/s]\n",
            " 66%|██████▌   | 496/750 [03:02<01:43,  2.46it/s]"
          ]
        },
        {
          "name": "stdout",
          "output_type": "stream",
          "text": [
            "\n",
            "0: 736x1280 1 goalkeeper, 21 players, 2 referees, 106.6ms\n",
            "Speed: 7.0ms preprocess, 106.6ms inference, 1.9ms postprocess per image at shape (1, 3, 736, 1280)\n"
          ]
        },
        {
          "name": "stderr",
          "output_type": "stream",
          "text": [
            "Embedding extraction: 1it [00:00,  4.24it/s]\n",
            " 66%|██████▋   | 497/750 [03:03<01:42,  2.46it/s]"
          ]
        },
        {
          "name": "stdout",
          "output_type": "stream",
          "text": [
            "\n",
            "0: 736x1280 1 goalkeeper, 21 players, 2 referees, 106.6ms\n",
            "Speed: 6.2ms preprocess, 106.6ms inference, 1.5ms postprocess per image at shape (1, 3, 736, 1280)\n"
          ]
        },
        {
          "name": "stderr",
          "output_type": "stream",
          "text": [
            "Embedding extraction: 1it [00:00,  4.18it/s]\n",
            " 66%|██████▋   | 498/750 [03:03<01:42,  2.45it/s]"
          ]
        },
        {
          "name": "stdout",
          "output_type": "stream",
          "text": [
            "\n",
            "0: 736x1280 1 goalkeeper, 20 players, 2 referees, 106.6ms\n",
            "Speed: 6.3ms preprocess, 106.6ms inference, 1.8ms postprocess per image at shape (1, 3, 736, 1280)\n"
          ]
        },
        {
          "name": "stderr",
          "output_type": "stream",
          "text": [
            "Embedding extraction: 1it [00:00,  4.26it/s]\n",
            " 67%|██████▋   | 499/750 [03:04<01:42,  2.45it/s]"
          ]
        },
        {
          "name": "stdout",
          "output_type": "stream",
          "text": [
            "\n",
            "0: 736x1280 1 goalkeeper, 21 players, 2 referees, 106.5ms\n",
            "Speed: 7.1ms preprocess, 106.5ms inference, 1.6ms postprocess per image at shape (1, 3, 736, 1280)\n"
          ]
        },
        {
          "name": "stderr",
          "output_type": "stream",
          "text": [
            "Embedding extraction: 1it [00:00,  4.31it/s]\n",
            " 67%|██████▋   | 500/750 [03:04<01:41,  2.46it/s]"
          ]
        },
        {
          "name": "stdout",
          "output_type": "stream",
          "text": [
            "\n",
            "0: 736x1280 1 goalkeeper, 20 players, 2 referees, 106.6ms\n",
            "Speed: 7.0ms preprocess, 106.6ms inference, 1.5ms postprocess per image at shape (1, 3, 736, 1280)\n"
          ]
        },
        {
          "name": "stderr",
          "output_type": "stream",
          "text": [
            "Embedding extraction: 1it [00:00,  4.33it/s]\n",
            " 67%|██████▋   | 501/750 [03:04<01:41,  2.45it/s]"
          ]
        },
        {
          "name": "stdout",
          "output_type": "stream",
          "text": [
            "\n",
            "0: 736x1280 1 goalkeeper, 19 players, 2 referees, 105.4ms\n",
            "Speed: 6.4ms preprocess, 105.4ms inference, 1.5ms postprocess per image at shape (1, 3, 736, 1280)\n"
          ]
        },
        {
          "name": "stderr",
          "output_type": "stream",
          "text": [
            "Embedding extraction: 1it [00:00,  4.59it/s]\n",
            " 67%|██████▋   | 502/750 [03:05<01:39,  2.49it/s]"
          ]
        },
        {
          "name": "stdout",
          "output_type": "stream",
          "text": [
            "\n",
            "0: 736x1280 1 goalkeeper, 20 players, 1 referee, 107.3ms\n",
            "Speed: 6.3ms preprocess, 107.3ms inference, 1.8ms postprocess per image at shape (1, 3, 736, 1280)\n"
          ]
        },
        {
          "name": "stderr",
          "output_type": "stream",
          "text": [
            "Embedding extraction: 1it [00:00,  4.55it/s]\n",
            " 67%|██████▋   | 503/750 [03:05<01:38,  2.51it/s]"
          ]
        },
        {
          "name": "stdout",
          "output_type": "stream",
          "text": [
            "\n",
            "0: 736x1280 1 goalkeeper, 23 players, 1 referee, 107.6ms\n",
            "Speed: 6.6ms preprocess, 107.6ms inference, 1.5ms postprocess per image at shape (1, 3, 736, 1280)\n"
          ]
        },
        {
          "name": "stderr",
          "output_type": "stream",
          "text": [
            "Embedding extraction: 1it [00:00,  4.65it/s]\n",
            " 67%|██████▋   | 504/750 [03:06<01:36,  2.54it/s]"
          ]
        },
        {
          "name": "stdout",
          "output_type": "stream",
          "text": [
            "\n",
            "0: 736x1280 24 players, 1 referee, 103.2ms\n",
            "Speed: 7.2ms preprocess, 103.2ms inference, 1.4ms postprocess per image at shape (1, 3, 736, 1280)\n"
          ]
        },
        {
          "name": "stderr",
          "output_type": "stream",
          "text": [
            "Embedding extraction: 1it [00:00,  3.98it/s]\n",
            " 67%|██████▋   | 505/750 [03:06<01:38,  2.49it/s]"
          ]
        },
        {
          "name": "stdout",
          "output_type": "stream",
          "text": [
            "\n",
            "0: 736x1280 24 players, 1 referee, 106.3ms\n",
            "Speed: 6.4ms preprocess, 106.3ms inference, 1.7ms postprocess per image at shape (1, 3, 736, 1280)\n"
          ]
        },
        {
          "name": "stderr",
          "output_type": "stream",
          "text": [
            "Embedding extraction: 1it [00:00,  3.82it/s]\n",
            " 67%|██████▋   | 506/750 [03:06<01:40,  2.43it/s]"
          ]
        },
        {
          "name": "stdout",
          "output_type": "stream",
          "text": [
            "\n",
            "0: 736x1280 24 players, 1 referee, 106.2ms\n",
            "Speed: 7.0ms preprocess, 106.2ms inference, 1.8ms postprocess per image at shape (1, 3, 736, 1280)\n"
          ]
        },
        {
          "name": "stderr",
          "output_type": "stream",
          "text": [
            "Embedding extraction: 1it [00:00,  3.83it/s]\n",
            " 68%|██████▊   | 507/750 [03:07<01:41,  2.39it/s]"
          ]
        },
        {
          "name": "stdout",
          "output_type": "stream",
          "text": [
            "\n",
            "0: 736x1280 1 goalkeeper, 23 players, 1 referee, 107.8ms\n",
            "Speed: 6.9ms preprocess, 107.8ms inference, 1.4ms postprocess per image at shape (1, 3, 736, 1280)\n"
          ]
        },
        {
          "name": "stderr",
          "output_type": "stream",
          "text": [
            "Embedding extraction: 1it [00:00,  4.24it/s]\n",
            " 68%|██████▊   | 508/750 [03:07<01:40,  2.41it/s]"
          ]
        },
        {
          "name": "stdout",
          "output_type": "stream",
          "text": [
            "\n",
            "0: 736x1280 1 goalkeeper, 21 players, 1 referee, 108.6ms\n",
            "Speed: 8.8ms preprocess, 108.6ms inference, 1.5ms postprocess per image at shape (1, 3, 736, 1280)\n"
          ]
        },
        {
          "name": "stderr",
          "output_type": "stream",
          "text": [
            "Embedding extraction: 1it [00:00,  4.26it/s]\n",
            " 68%|██████▊   | 509/750 [03:08<01:39,  2.42it/s]"
          ]
        },
        {
          "name": "stdout",
          "output_type": "stream",
          "text": [
            "\n",
            "0: 736x1280 1 goalkeeper, 22 players, 1 referee, 105.8ms\n",
            "Speed: 7.1ms preprocess, 105.8ms inference, 2.1ms postprocess per image at shape (1, 3, 736, 1280)\n"
          ]
        },
        {
          "name": "stderr",
          "output_type": "stream",
          "text": [
            "Embedding extraction: 1it [00:00,  4.29it/s]\n",
            " 68%|██████▊   | 510/750 [03:08<01:38,  2.43it/s]"
          ]
        },
        {
          "name": "stdout",
          "output_type": "stream",
          "text": [
            "\n",
            "0: 736x1280 1 goalkeeper, 23 players, 1 referee, 106.6ms\n",
            "Speed: 7.6ms preprocess, 106.6ms inference, 1.9ms postprocess per image at shape (1, 3, 736, 1280)\n"
          ]
        },
        {
          "name": "stderr",
          "output_type": "stream",
          "text": [
            "Embedding extraction: 1it [00:00,  4.31it/s]\n",
            " 68%|██████▊   | 511/750 [03:08<01:37,  2.45it/s]"
          ]
        },
        {
          "name": "stdout",
          "output_type": "stream",
          "text": [
            "\n",
            "0: 736x1280 1 goalkeeper, 23 players, 2 referees, 107.6ms\n",
            "Speed: 6.3ms preprocess, 107.6ms inference, 1.7ms postprocess per image at shape (1, 3, 736, 1280)\n"
          ]
        },
        {
          "name": "stderr",
          "output_type": "stream",
          "text": [
            "Embedding extraction: 1it [00:00,  4.24it/s]\n",
            " 68%|██████▊   | 512/750 [03:09<01:36,  2.45it/s]"
          ]
        },
        {
          "name": "stdout",
          "output_type": "stream",
          "text": [
            "\n",
            "0: 736x1280 1 goalkeeper, 20 players, 2 referees, 107.2ms\n",
            "Speed: 6.3ms preprocess, 107.2ms inference, 1.8ms postprocess per image at shape (1, 3, 736, 1280)\n"
          ]
        },
        {
          "name": "stderr",
          "output_type": "stream",
          "text": [
            "Embedding extraction: 1it [00:00,  4.33it/s]\n",
            " 68%|██████▊   | 513/750 [03:09<01:36,  2.46it/s]"
          ]
        },
        {
          "name": "stdout",
          "output_type": "stream",
          "text": [
            "\n",
            "0: 736x1280 1 goalkeeper, 21 players, 2 referees, 106.7ms\n",
            "Speed: 6.6ms preprocess, 106.7ms inference, 1.9ms postprocess per image at shape (1, 3, 736, 1280)\n"
          ]
        },
        {
          "name": "stderr",
          "output_type": "stream",
          "text": [
            "Embedding extraction: 1it [00:00,  4.59it/s]\n",
            " 69%|██████▊   | 514/750 [03:10<01:34,  2.50it/s]"
          ]
        },
        {
          "name": "stdout",
          "output_type": "stream",
          "text": [
            "\n",
            "0: 736x1280 1 goalkeeper, 22 players, 2 referees, 106.9ms\n",
            "Speed: 6.8ms preprocess, 106.9ms inference, 2.0ms postprocess per image at shape (1, 3, 736, 1280)\n"
          ]
        },
        {
          "name": "stderr",
          "output_type": "stream",
          "text": [
            "Embedding extraction: 1it [00:00,  4.26it/s]\n",
            " 69%|██████▊   | 515/750 [03:10<01:34,  2.49it/s]"
          ]
        },
        {
          "name": "stdout",
          "output_type": "stream",
          "text": [
            "\n",
            "0: 736x1280 1 goalkeeper, 22 players, 2 referees, 106.0ms\n",
            "Speed: 6.5ms preprocess, 106.0ms inference, 1.9ms postprocess per image at shape (1, 3, 736, 1280)\n"
          ]
        },
        {
          "name": "stderr",
          "output_type": "stream",
          "text": [
            "Embedding extraction: 1it [00:00,  3.98it/s]\n",
            " 69%|██████▉   | 516/750 [03:10<01:35,  2.46it/s]"
          ]
        },
        {
          "name": "stdout",
          "output_type": "stream",
          "text": [
            "\n",
            "0: 736x1280 1 goalkeeper, 20 players, 2 referees, 107.5ms\n",
            "Speed: 5.9ms preprocess, 107.5ms inference, 1.5ms postprocess per image at shape (1, 3, 736, 1280)\n"
          ]
        },
        {
          "name": "stderr",
          "output_type": "stream",
          "text": [
            "Embedding extraction: 1it [00:00,  4.00it/s]\n",
            " 69%|██████▉   | 517/750 [03:11<01:35,  2.44it/s]"
          ]
        },
        {
          "name": "stdout",
          "output_type": "stream",
          "text": [
            "\n",
            "0: 736x1280 1 goalkeeper, 21 players, 2 referees, 105.8ms\n",
            "Speed: 14.3ms preprocess, 105.8ms inference, 1.4ms postprocess per image at shape (1, 3, 736, 1280)\n"
          ]
        },
        {
          "name": "stderr",
          "output_type": "stream",
          "text": [
            "Embedding extraction: 1it [00:00,  4.06it/s]\n",
            " 69%|██████▉   | 518/750 [03:11<01:36,  2.41it/s]"
          ]
        },
        {
          "name": "stdout",
          "output_type": "stream",
          "text": [
            "\n",
            "0: 736x1280 1 goalkeeper, 21 players, 3 referees, 106.8ms\n",
            "Speed: 6.1ms preprocess, 106.8ms inference, 1.7ms postprocess per image at shape (1, 3, 736, 1280)\n"
          ]
        },
        {
          "name": "stderr",
          "output_type": "stream",
          "text": [
            "Embedding extraction: 1it [00:00,  4.03it/s]\n",
            " 69%|██████▉   | 519/750 [03:12<01:36,  2.40it/s]"
          ]
        },
        {
          "name": "stdout",
          "output_type": "stream",
          "text": [
            "\n",
            "0: 736x1280 1 goalkeeper, 19 players, 3 referees, 106.3ms\n",
            "Speed: 6.3ms preprocess, 106.3ms inference, 1.5ms postprocess per image at shape (1, 3, 736, 1280)\n"
          ]
        },
        {
          "name": "stderr",
          "output_type": "stream",
          "text": [
            "Embedding extraction: 1it [00:00,  4.31it/s]\n",
            " 69%|██████▉   | 520/750 [03:12<01:34,  2.43it/s]"
          ]
        },
        {
          "name": "stdout",
          "output_type": "stream",
          "text": [
            "\n",
            "0: 736x1280 1 goalkeeper, 19 players, 3 referees, 106.3ms\n",
            "Speed: 6.5ms preprocess, 106.3ms inference, 1.9ms postprocess per image at shape (1, 3, 736, 1280)\n"
          ]
        },
        {
          "name": "stderr",
          "output_type": "stream",
          "text": [
            "Embedding extraction: 1it [00:00,  4.31it/s]\n",
            " 69%|██████▉   | 521/750 [03:13<01:34,  2.43it/s]"
          ]
        },
        {
          "name": "stdout",
          "output_type": "stream",
          "text": [
            "\n",
            "0: 736x1280 1 goalkeeper, 19 players, 2 referees, 107.3ms\n",
            "Speed: 7.6ms preprocess, 107.3ms inference, 1.5ms postprocess per image at shape (1, 3, 736, 1280)\n"
          ]
        },
        {
          "name": "stderr",
          "output_type": "stream",
          "text": [
            "Embedding extraction: 1it [00:00,  4.18it/s]\n",
            " 70%|██████▉   | 522/750 [03:13<01:34,  2.42it/s]"
          ]
        },
        {
          "name": "stdout",
          "output_type": "stream",
          "text": [
            "\n",
            "0: 736x1280 1 goalkeeper, 19 players, 2 referees, 106.5ms\n",
            "Speed: 6.5ms preprocess, 106.5ms inference, 1.5ms postprocess per image at shape (1, 3, 736, 1280)\n"
          ]
        },
        {
          "name": "stderr",
          "output_type": "stream",
          "text": [
            "Embedding extraction: 1it [00:00,  4.05it/s]\n",
            " 70%|██████▉   | 523/750 [03:13<01:34,  2.39it/s]"
          ]
        },
        {
          "name": "stdout",
          "output_type": "stream",
          "text": [
            "\n",
            "0: 736x1280 1 goalkeeper, 19 players, 2 referees, 107.0ms\n",
            "Speed: 8.6ms preprocess, 107.0ms inference, 2.3ms postprocess per image at shape (1, 3, 736, 1280)\n"
          ]
        },
        {
          "name": "stderr",
          "output_type": "stream",
          "text": [
            "Embedding extraction: 1it [00:00,  4.03it/s]\n",
            " 70%|██████▉   | 524/750 [03:14<01:36,  2.35it/s]"
          ]
        },
        {
          "name": "stdout",
          "output_type": "stream",
          "text": [
            "\n",
            "0: 736x1280 1 goalkeeper, 19 players, 2 referees, 106.8ms\n",
            "Speed: 9.1ms preprocess, 106.8ms inference, 2.0ms postprocess per image at shape (1, 3, 736, 1280)\n"
          ]
        },
        {
          "name": "stderr",
          "output_type": "stream",
          "text": [
            "Embedding extraction: 1it [00:00,  5.00it/s]\n",
            " 70%|███████   | 525/750 [03:14<01:33,  2.40it/s]"
          ]
        },
        {
          "name": "stdout",
          "output_type": "stream",
          "text": [
            "\n",
            "0: 736x1280 1 goalkeeper, 19 players, 2 referees, 96.1ms\n",
            "Speed: 8.9ms preprocess, 96.1ms inference, 2.6ms postprocess per image at shape (1, 3, 736, 1280)\n"
          ]
        },
        {
          "name": "stderr",
          "output_type": "stream",
          "text": [
            "Embedding extraction: 1it [00:00,  4.61it/s]\n",
            " 70%|███████   | 526/750 [03:15<01:32,  2.42it/s]"
          ]
        },
        {
          "name": "stdout",
          "output_type": "stream",
          "text": [
            "\n",
            "0: 736x1280 1 goalkeeper, 19 players, 2 referees, 102.1ms\n",
            "Speed: 9.8ms preprocess, 102.1ms inference, 2.0ms postprocess per image at shape (1, 3, 736, 1280)\n"
          ]
        },
        {
          "name": "stderr",
          "output_type": "stream",
          "text": [
            "Embedding extraction: 1it [00:00,  4.33it/s]\n",
            " 70%|███████   | 527/750 [03:15<01:33,  2.40it/s]"
          ]
        },
        {
          "name": "stdout",
          "output_type": "stream",
          "text": [
            "\n",
            "0: 736x1280 1 goalkeeper, 19 players, 2 referees, 96.8ms\n",
            "Speed: 8.4ms preprocess, 96.8ms inference, 2.2ms postprocess per image at shape (1, 3, 736, 1280)\n"
          ]
        },
        {
          "name": "stderr",
          "output_type": "stream",
          "text": [
            "Embedding extraction: 1it [00:00,  4.63it/s]\n",
            " 70%|███████   | 528/750 [03:16<01:34,  2.35it/s]"
          ]
        },
        {
          "name": "stdout",
          "output_type": "stream",
          "text": [
            "\n",
            "0: 736x1280 1 goalkeeper, 19 players, 2 referees, 95.8ms\n",
            "Speed: 8.8ms preprocess, 95.8ms inference, 2.2ms postprocess per image at shape (1, 3, 736, 1280)\n"
          ]
        },
        {
          "name": "stderr",
          "output_type": "stream",
          "text": [
            "Embedding extraction: 1it [00:00,  4.76it/s]\n",
            " 71%|███████   | 529/750 [03:16<01:31,  2.40it/s]"
          ]
        },
        {
          "name": "stdout",
          "output_type": "stream",
          "text": [
            "\n",
            "0: 736x1280 1 goalkeeper, 21 players, 2 referees, 98.5ms\n",
            "Speed: 10.9ms preprocess, 98.5ms inference, 2.5ms postprocess per image at shape (1, 3, 736, 1280)\n"
          ]
        },
        {
          "name": "stderr",
          "output_type": "stream",
          "text": [
            "Embedding extraction: 1it [00:00,  4.88it/s]\n",
            " 71%|███████   | 530/750 [03:16<01:29,  2.45it/s]"
          ]
        },
        {
          "name": "stdout",
          "output_type": "stream",
          "text": [
            "\n",
            "0: 736x1280 1 goalkeeper, 19 players, 2 referees, 97.3ms\n",
            "Speed: 7.0ms preprocess, 97.3ms inference, 1.7ms postprocess per image at shape (1, 3, 736, 1280)\n"
          ]
        },
        {
          "name": "stderr",
          "output_type": "stream",
          "text": [
            "Embedding extraction: 1it [00:00,  4.50it/s]\n",
            " 71%|███████   | 531/750 [03:17<01:28,  2.48it/s]"
          ]
        },
        {
          "name": "stdout",
          "output_type": "stream",
          "text": [
            "\n",
            "0: 736x1280 1 goalkeeper, 21 players, 2 referees, 111.6ms\n",
            "Speed: 8.3ms preprocess, 111.6ms inference, 2.3ms postprocess per image at shape (1, 3, 736, 1280)\n"
          ]
        },
        {
          "name": "stderr",
          "output_type": "stream",
          "text": [
            "Embedding extraction: 1it [00:00,  4.10it/s]\n",
            " 71%|███████   | 532/750 [03:17<01:30,  2.41it/s]"
          ]
        },
        {
          "name": "stdout",
          "output_type": "stream",
          "text": [
            "\n",
            "0: 736x1280 1 goalkeeper, 22 players, 2 referees, 107.5ms\n",
            "Speed: 8.0ms preprocess, 107.5ms inference, 1.5ms postprocess per image at shape (1, 3, 736, 1280)\n"
          ]
        },
        {
          "name": "stderr",
          "output_type": "stream",
          "text": [
            "Embedding extraction: 1it [00:00,  4.72it/s]\n",
            " 71%|███████   | 533/750 [03:18<01:28,  2.45it/s]"
          ]
        },
        {
          "name": "stdout",
          "output_type": "stream",
          "text": [
            "\n",
            "0: 736x1280 1 goalkeeper, 21 players, 2 referees, 98.3ms\n",
            "Speed: 6.8ms preprocess, 98.3ms inference, 1.5ms postprocess per image at shape (1, 3, 736, 1280)\n"
          ]
        },
        {
          "name": "stderr",
          "output_type": "stream",
          "text": [
            "Embedding extraction: 1it [00:00,  4.81it/s]\n",
            " 71%|███████   | 534/750 [03:18<01:25,  2.52it/s]"
          ]
        },
        {
          "name": "stdout",
          "output_type": "stream",
          "text": [
            "\n",
            "0: 736x1280 1 goalkeeper, 21 players, 2 referees, 101.8ms\n",
            "Speed: 9.4ms preprocess, 101.8ms inference, 1.7ms postprocess per image at shape (1, 3, 736, 1280)\n"
          ]
        },
        {
          "name": "stderr",
          "output_type": "stream",
          "text": [
            "Embedding extraction: 1it [00:00,  4.20it/s]\n",
            " 71%|███████▏  | 535/750 [03:18<01:26,  2.49it/s]"
          ]
        },
        {
          "name": "stdout",
          "output_type": "stream",
          "text": [
            "\n",
            "0: 736x1280 1 goalkeeper, 23 players, 2 referees, 110.8ms\n",
            "Speed: 6.7ms preprocess, 110.8ms inference, 1.8ms postprocess per image at shape (1, 3, 736, 1280)\n"
          ]
        },
        {
          "name": "stderr",
          "output_type": "stream",
          "text": [
            "Embedding extraction: 1it [00:00,  3.88it/s]\n",
            " 71%|███████▏  | 536/750 [03:19<01:28,  2.43it/s]"
          ]
        },
        {
          "name": "stdout",
          "output_type": "stream",
          "text": [
            "\n",
            "0: 736x1280 1 goalkeeper, 22 players, 2 referees, 110.5ms\n",
            "Speed: 6.9ms preprocess, 110.5ms inference, 1.7ms postprocess per image at shape (1, 3, 736, 1280)\n"
          ]
        },
        {
          "name": "stderr",
          "output_type": "stream",
          "text": [
            "Embedding extraction: 1it [00:00,  3.95it/s]\n",
            " 72%|███████▏  | 537/750 [03:19<01:29,  2.39it/s]"
          ]
        },
        {
          "name": "stdout",
          "output_type": "stream",
          "text": [
            "\n",
            "0: 736x1280 1 goalkeeper, 21 players, 2 referees, 111.3ms\n",
            "Speed: 6.7ms preprocess, 111.3ms inference, 1.8ms postprocess per image at shape (1, 3, 736, 1280)\n"
          ]
        },
        {
          "name": "stderr",
          "output_type": "stream",
          "text": [
            "Embedding extraction: 1it [00:00,  4.55it/s]\n",
            " 72%|███████▏  | 538/750 [03:20<01:27,  2.43it/s]"
          ]
        },
        {
          "name": "stdout",
          "output_type": "stream",
          "text": [
            "\n",
            "0: 736x1280 1 goalkeeper, 21 players, 2 referees, 96.2ms\n",
            "Speed: 6.7ms preprocess, 96.2ms inference, 1.8ms postprocess per image at shape (1, 3, 736, 1280)\n"
          ]
        },
        {
          "name": "stderr",
          "output_type": "stream",
          "text": [
            "Embedding extraction: 1it [00:00,  4.59it/s]\n",
            " 72%|███████▏  | 539/750 [03:20<01:25,  2.46it/s]"
          ]
        },
        {
          "name": "stdout",
          "output_type": "stream",
          "text": [
            "\n",
            "0: 736x1280 1 goalkeeper, 21 players, 2 referees, 96.8ms\n",
            "Speed: 11.3ms preprocess, 96.8ms inference, 2.2ms postprocess per image at shape (1, 3, 736, 1280)\n"
          ]
        },
        {
          "name": "stderr",
          "output_type": "stream",
          "text": [
            "Embedding extraction: 1it [00:00,  4.39it/s]\n",
            " 72%|███████▏  | 540/750 [03:20<01:25,  2.46it/s]"
          ]
        },
        {
          "name": "stdout",
          "output_type": "stream",
          "text": [
            "\n",
            "0: 736x1280 1 goalkeeper, 21 players, 2 referees, 99.6ms\n",
            "Speed: 6.5ms preprocess, 99.6ms inference, 1.9ms postprocess per image at shape (1, 3, 736, 1280)\n"
          ]
        },
        {
          "name": "stderr",
          "output_type": "stream",
          "text": [
            "Embedding extraction: 1it [00:00,  4.15it/s]\n",
            " 72%|███████▏  | 541/750 [03:21<01:25,  2.43it/s]"
          ]
        },
        {
          "name": "stdout",
          "output_type": "stream",
          "text": [
            "\n",
            "0: 736x1280 1 goalkeeper, 19 players, 2 referees, 112.4ms\n",
            "Speed: 14.3ms preprocess, 112.4ms inference, 1.8ms postprocess per image at shape (1, 3, 736, 1280)\n"
          ]
        },
        {
          "name": "stderr",
          "output_type": "stream",
          "text": [
            "Embedding extraction: 1it [00:00,  4.69it/s]\n",
            " 72%|███████▏  | 542/750 [03:21<01:25,  2.44it/s]"
          ]
        },
        {
          "name": "stdout",
          "output_type": "stream",
          "text": [
            "\n",
            "0: 736x1280 1 goalkeeper, 22 players, 2 referees, 99.6ms\n",
            "Speed: 7.1ms preprocess, 99.6ms inference, 1.9ms postprocess per image at shape (1, 3, 736, 1280)\n"
          ]
        },
        {
          "name": "stderr",
          "output_type": "stream",
          "text": [
            "Embedding extraction: 1it [00:00,  3.86it/s]\n",
            " 72%|███████▏  | 543/750 [03:22<01:26,  2.38it/s]"
          ]
        },
        {
          "name": "stdout",
          "output_type": "stream",
          "text": [
            "\n",
            "0: 736x1280 1 goalkeeper, 24 players, 2 referees, 107.7ms\n",
            "Speed: 7.8ms preprocess, 107.7ms inference, 1.8ms postprocess per image at shape (1, 3, 736, 1280)\n"
          ]
        },
        {
          "name": "stderr",
          "output_type": "stream",
          "text": [
            "Embedding extraction: 1it [00:00,  3.95it/s]\n",
            " 73%|███████▎  | 544/750 [03:22<01:28,  2.33it/s]"
          ]
        },
        {
          "name": "stdout",
          "output_type": "stream",
          "text": [
            "\n",
            "0: 736x1280 1 goalkeeper, 21 players, 2 referees, 106.3ms\n",
            "Speed: 8.2ms preprocess, 106.3ms inference, 1.6ms postprocess per image at shape (1, 3, 736, 1280)\n"
          ]
        },
        {
          "name": "stderr",
          "output_type": "stream",
          "text": [
            "Embedding extraction: 1it [00:00,  4.10it/s]\n",
            " 73%|███████▎  | 545/750 [03:23<01:27,  2.34it/s]"
          ]
        },
        {
          "name": "stdout",
          "output_type": "stream",
          "text": [
            "\n",
            "0: 736x1280 1 goalkeeper, 21 players, 2 referees, 105.9ms\n",
            "Speed: 7.4ms preprocess, 105.9ms inference, 1.8ms postprocess per image at shape (1, 3, 736, 1280)\n"
          ]
        },
        {
          "name": "stderr",
          "output_type": "stream",
          "text": [
            "Embedding extraction: 1it [00:00,  4.08it/s]\n",
            " 73%|███████▎  | 546/750 [03:23<01:26,  2.35it/s]"
          ]
        },
        {
          "name": "stdout",
          "output_type": "stream",
          "text": [
            "\n",
            "0: 736x1280 1 goalkeeper, 20 players, 2 referees, 106.0ms\n",
            "Speed: 6.1ms preprocess, 106.0ms inference, 1.6ms postprocess per image at shape (1, 3, 736, 1280)\n"
          ]
        },
        {
          "name": "stderr",
          "output_type": "stream",
          "text": [
            "Embedding extraction: 1it [00:00,  4.26it/s]\n",
            " 73%|███████▎  | 547/750 [03:23<01:25,  2.39it/s]"
          ]
        },
        {
          "name": "stdout",
          "output_type": "stream",
          "text": [
            "\n",
            "0: 736x1280 1 goalkeeper, 21 players, 2 referees, 113.1ms\n",
            "Speed: 7.1ms preprocess, 113.1ms inference, 1.5ms postprocess per image at shape (1, 3, 736, 1280)\n"
          ]
        },
        {
          "name": "stderr",
          "output_type": "stream",
          "text": [
            "Embedding extraction: 1it [00:00,  4.10it/s]\n",
            " 73%|███████▎  | 548/750 [03:24<01:25,  2.37it/s]"
          ]
        },
        {
          "name": "stdout",
          "output_type": "stream",
          "text": [
            "\n",
            "0: 736x1280 1 goalkeeper, 22 players, 2 referees, 110.7ms\n",
            "Speed: 8.3ms preprocess, 110.7ms inference, 1.6ms postprocess per image at shape (1, 3, 736, 1280)\n"
          ]
        },
        {
          "name": "stderr",
          "output_type": "stream",
          "text": [
            "Embedding extraction: 1it [00:00,  3.89it/s]\n",
            " 73%|███████▎  | 549/750 [03:24<01:25,  2.34it/s]"
          ]
        },
        {
          "name": "stdout",
          "output_type": "stream",
          "text": [
            "\n",
            "0: 736x1280 1 goalkeeper, 20 players, 2 referees, 112.4ms\n",
            "Speed: 6.4ms preprocess, 112.4ms inference, 1.6ms postprocess per image at shape (1, 3, 736, 1280)\n"
          ]
        },
        {
          "name": "stderr",
          "output_type": "stream",
          "text": [
            "Embedding extraction: 1it [00:00,  3.89it/s]\n",
            " 73%|███████▎  | 550/750 [03:25<01:26,  2.32it/s]"
          ]
        },
        {
          "name": "stdout",
          "output_type": "stream",
          "text": [
            "\n",
            "0: 736x1280 1 goalkeeper, 20 players, 2 referees, 111.8ms\n",
            "Speed: 6.9ms preprocess, 111.8ms inference, 2.0ms postprocess per image at shape (1, 3, 736, 1280)\n"
          ]
        },
        {
          "name": "stderr",
          "output_type": "stream",
          "text": [
            "Embedding extraction: 1it [00:00,  3.88it/s]\n",
            " 73%|███████▎  | 551/750 [03:25<01:25,  2.32it/s]"
          ]
        },
        {
          "name": "stdout",
          "output_type": "stream",
          "text": [
            "\n",
            "0: 736x1280 1 goalkeeper, 21 players, 2 referees, 112.9ms\n",
            "Speed: 6.7ms preprocess, 112.9ms inference, 1.5ms postprocess per image at shape (1, 3, 736, 1280)\n"
          ]
        },
        {
          "name": "stderr",
          "output_type": "stream",
          "text": [
            "Embedding extraction: 1it [00:00,  3.83it/s]\n",
            " 74%|███████▎  | 552/750 [03:26<01:25,  2.31it/s]"
          ]
        },
        {
          "name": "stdout",
          "output_type": "stream",
          "text": [
            "\n",
            "0: 736x1280 1 goalkeeper, 21 players, 2 referees, 108.8ms\n",
            "Speed: 6.4ms preprocess, 108.8ms inference, 1.6ms postprocess per image at shape (1, 3, 736, 1280)\n"
          ]
        },
        {
          "name": "stderr",
          "output_type": "stream",
          "text": [
            "Embedding extraction: 1it [00:00,  4.50it/s]\n",
            " 74%|███████▎  | 553/750 [03:26<01:23,  2.36it/s]"
          ]
        },
        {
          "name": "stdout",
          "output_type": "stream",
          "text": [
            "\n",
            "0: 736x1280 1 goalkeeper, 22 players, 2 referees, 99.4ms\n",
            "Speed: 6.9ms preprocess, 99.4ms inference, 1.8ms postprocess per image at shape (1, 3, 736, 1280)\n"
          ]
        },
        {
          "name": "stderr",
          "output_type": "stream",
          "text": [
            "Embedding extraction: 1it [00:00,  4.63it/s]\n",
            " 74%|███████▍  | 554/750 [03:26<01:20,  2.42it/s]"
          ]
        },
        {
          "name": "stdout",
          "output_type": "stream",
          "text": [
            "\n",
            "0: 736x1280 1 goalkeeper, 20 players, 2 referees, 98.1ms\n",
            "Speed: 7.0ms preprocess, 98.1ms inference, 1.9ms postprocess per image at shape (1, 3, 736, 1280)\n"
          ]
        },
        {
          "name": "stderr",
          "output_type": "stream",
          "text": [
            "Embedding extraction: 1it [00:00,  4.69it/s]\n",
            " 74%|███████▍  | 555/750 [03:27<01:18,  2.48it/s]"
          ]
        },
        {
          "name": "stdout",
          "output_type": "stream",
          "text": [
            "\n",
            "0: 736x1280 1 goalkeeper, 20 players, 2 referees, 109.1ms\n",
            "Speed: 6.7ms preprocess, 109.1ms inference, 2.2ms postprocess per image at shape (1, 3, 736, 1280)\n"
          ]
        },
        {
          "name": "stderr",
          "output_type": "stream",
          "text": [
            "Embedding extraction: 1it [00:00,  3.83it/s]\n",
            " 74%|███████▍  | 556/750 [03:27<01:20,  2.42it/s]"
          ]
        },
        {
          "name": "stdout",
          "output_type": "stream",
          "text": [
            "\n",
            "0: 736x1280 1 goalkeeper, 21 players, 2 referees, 116.0ms\n",
            "Speed: 6.2ms preprocess, 116.0ms inference, 1.7ms postprocess per image at shape (1, 3, 736, 1280)\n"
          ]
        },
        {
          "name": "stderr",
          "output_type": "stream",
          "text": [
            "Embedding extraction: 1it [00:00,  3.92it/s]\n",
            " 74%|███████▍  | 557/750 [03:28<01:20,  2.38it/s]"
          ]
        },
        {
          "name": "stdout",
          "output_type": "stream",
          "text": [
            "\n",
            "0: 736x1280 1 goalkeeper, 23 players, 2 referees, 114.5ms\n",
            "Speed: 6.3ms preprocess, 114.5ms inference, 1.5ms postprocess per image at shape (1, 3, 736, 1280)\n"
          ]
        },
        {
          "name": "stderr",
          "output_type": "stream",
          "text": [
            "Embedding extraction: 1it [00:00,  3.91it/s]\n",
            " 74%|███████▍  | 558/750 [03:28<01:21,  2.35it/s]"
          ]
        },
        {
          "name": "stdout",
          "output_type": "stream",
          "text": [
            "\n",
            "0: 736x1280 1 goalkeeper, 22 players, 2 referees, 109.6ms\n",
            "Speed: 7.5ms preprocess, 109.6ms inference, 1.7ms postprocess per image at shape (1, 3, 736, 1280)\n"
          ]
        },
        {
          "name": "stderr",
          "output_type": "stream",
          "text": [
            "Embedding extraction: 1it [00:00,  4.07it/s]\n",
            " 75%|███████▍  | 559/750 [03:28<01:21,  2.36it/s]"
          ]
        },
        {
          "name": "stdout",
          "output_type": "stream",
          "text": [
            "\n",
            "0: 736x1280 1 goalkeeper, 22 players, 2 referees, 105.3ms\n",
            "Speed: 6.4ms preprocess, 105.3ms inference, 1.8ms postprocess per image at shape (1, 3, 736, 1280)\n"
          ]
        },
        {
          "name": "stderr",
          "output_type": "stream",
          "text": [
            "Embedding extraction: 1it [00:00,  4.98it/s]\n",
            " 75%|███████▍  | 560/750 [03:29<01:18,  2.43it/s]"
          ]
        },
        {
          "name": "stdout",
          "output_type": "stream",
          "text": [
            "\n",
            "0: 736x1280 1 goalkeeper, 21 players, 2 referees, 96.7ms\n",
            "Speed: 10.0ms preprocess, 96.7ms inference, 1.8ms postprocess per image at shape (1, 3, 736, 1280)\n"
          ]
        },
        {
          "name": "stderr",
          "output_type": "stream",
          "text": [
            "Embedding extraction: 1it [00:00,  4.88it/s]\n",
            " 75%|███████▍  | 561/750 [03:29<01:15,  2.50it/s]"
          ]
        },
        {
          "name": "stdout",
          "output_type": "stream",
          "text": [
            "\n",
            "0: 736x1280 1 goalkeeper, 22 players, 2 referees, 95.8ms\n",
            "Speed: 10.2ms preprocess, 95.8ms inference, 2.1ms postprocess per image at shape (1, 3, 736, 1280)\n"
          ]
        },
        {
          "name": "stderr",
          "output_type": "stream",
          "text": [
            "Embedding extraction: 1it [00:00,  4.46it/s]\n",
            " 75%|███████▍  | 562/750 [03:30<01:14,  2.51it/s]"
          ]
        },
        {
          "name": "stdout",
          "output_type": "stream",
          "text": [
            "\n",
            "0: 736x1280 1 goalkeeper, 22 players, 2 referees, 109.1ms\n",
            "Speed: 6.8ms preprocess, 109.1ms inference, 1.6ms postprocess per image at shape (1, 3, 736, 1280)\n"
          ]
        },
        {
          "name": "stderr",
          "output_type": "stream",
          "text": [
            "Embedding extraction: 1it [00:00,  4.05it/s]\n",
            " 75%|███████▌  | 563/750 [03:30<01:15,  2.47it/s]"
          ]
        },
        {
          "name": "stdout",
          "output_type": "stream",
          "text": [
            "\n",
            "0: 736x1280 1 goalkeeper, 22 players, 2 referees, 114.1ms\n",
            "Speed: 7.1ms preprocess, 114.1ms inference, 1.7ms postprocess per image at shape (1, 3, 736, 1280)\n"
          ]
        },
        {
          "name": "stderr",
          "output_type": "stream",
          "text": [
            "Embedding extraction: 1it [00:00,  4.05it/s]\n",
            " 75%|███████▌  | 564/750 [03:30<01:16,  2.42it/s]"
          ]
        },
        {
          "name": "stdout",
          "output_type": "stream",
          "text": [
            "\n",
            "0: 736x1280 1 goalkeeper, 23 players, 2 referees, 117.4ms\n",
            "Speed: 6.4ms preprocess, 117.4ms inference, 1.7ms postprocess per image at shape (1, 3, 736, 1280)\n"
          ]
        },
        {
          "name": "stderr",
          "output_type": "stream",
          "text": [
            "Embedding extraction: 1it [00:00,  4.05it/s]\n",
            " 75%|███████▌  | 565/750 [03:31<01:17,  2.39it/s]"
          ]
        },
        {
          "name": "stdout",
          "output_type": "stream",
          "text": [
            "\n",
            "0: 736x1280 2 goalkeepers, 21 players, 2 referees, 108.5ms\n",
            "Speed: 6.7ms preprocess, 108.5ms inference, 2.0ms postprocess per image at shape (1, 3, 736, 1280)\n"
          ]
        },
        {
          "name": "stderr",
          "output_type": "stream",
          "text": [
            "Embedding extraction: 1it [00:00,  4.57it/s]\n",
            " 75%|███████▌  | 566/750 [03:31<01:15,  2.42it/s]"
          ]
        },
        {
          "name": "stdout",
          "output_type": "stream",
          "text": [
            "\n",
            "0: 736x1280 1 goalkeeper, 22 players, 2 referees, 95.5ms\n",
            "Speed: 6.9ms preprocess, 95.5ms inference, 1.7ms postprocess per image at shape (1, 3, 736, 1280)\n"
          ]
        },
        {
          "name": "stderr",
          "output_type": "stream",
          "text": [
            "Embedding extraction: 1it [00:00,  4.74it/s]\n",
            " 76%|███████▌  | 567/750 [03:32<01:13,  2.51it/s]"
          ]
        },
        {
          "name": "stdout",
          "output_type": "stream",
          "text": [
            "\n",
            "0: 736x1280 1 goalkeeper, 21 players, 2 referees, 102.8ms\n",
            "Speed: 6.6ms preprocess, 102.8ms inference, 2.0ms postprocess per image at shape (1, 3, 736, 1280)\n"
          ]
        },
        {
          "name": "stderr",
          "output_type": "stream",
          "text": [
            "Embedding extraction: 1it [00:00,  4.37it/s]\n",
            " 76%|███████▌  | 568/750 [03:32<01:12,  2.51it/s]"
          ]
        },
        {
          "name": "stdout",
          "output_type": "stream",
          "text": [
            "\n",
            "0: 736x1280 1 goalkeeper, 22 players, 2 referees, 107.4ms\n",
            "Speed: 7.0ms preprocess, 107.4ms inference, 1.6ms postprocess per image at shape (1, 3, 736, 1280)\n"
          ]
        },
        {
          "name": "stderr",
          "output_type": "stream",
          "text": [
            "Embedding extraction: 1it [00:00,  3.94it/s]\n",
            " 76%|███████▌  | 569/750 [03:32<01:13,  2.45it/s]"
          ]
        },
        {
          "name": "stdout",
          "output_type": "stream",
          "text": [
            "\n",
            "0: 736x1280 1 goalkeeper, 21 players, 2 referees, 112.9ms\n",
            "Speed: 7.2ms preprocess, 112.9ms inference, 1.8ms postprocess per image at shape (1, 3, 736, 1280)\n"
          ]
        },
        {
          "name": "stderr",
          "output_type": "stream",
          "text": [
            "Embedding extraction: 1it [00:00,  4.03it/s]\n",
            " 76%|███████▌  | 570/750 [03:33<01:14,  2.42it/s]"
          ]
        },
        {
          "name": "stdout",
          "output_type": "stream",
          "text": [
            "\n",
            "0: 736x1280 1 goalkeeper, 23 players, 2 referees, 113.0ms\n",
            "Speed: 6.0ms preprocess, 113.0ms inference, 1.6ms postprocess per image at shape (1, 3, 736, 1280)\n"
          ]
        },
        {
          "name": "stderr",
          "output_type": "stream",
          "text": [
            "Embedding extraction: 1it [00:00,  4.17it/s]\n",
            " 76%|███████▌  | 571/750 [03:33<01:14,  2.42it/s]"
          ]
        },
        {
          "name": "stdout",
          "output_type": "stream",
          "text": [
            "\n",
            "0: 736x1280 1 goalkeeper, 21 players, 2 referees, 115.1ms\n",
            "Speed: 5.8ms preprocess, 115.1ms inference, 1.6ms postprocess per image at shape (1, 3, 736, 1280)\n"
          ]
        },
        {
          "name": "stderr",
          "output_type": "stream",
          "text": [
            "Embedding extraction: 1it [00:00,  4.13it/s]\n",
            " 76%|███████▋  | 572/750 [03:34<01:14,  2.40it/s]"
          ]
        },
        {
          "name": "stdout",
          "output_type": "stream",
          "text": [
            "\n",
            "0: 736x1280 1 goalkeeper, 21 players, 2 referees, 109.9ms\n",
            "Speed: 6.3ms preprocess, 109.9ms inference, 1.5ms postprocess per image at shape (1, 3, 736, 1280)\n"
          ]
        },
        {
          "name": "stderr",
          "output_type": "stream",
          "text": [
            "Embedding extraction: 1it [00:00,  4.41it/s]\n",
            " 76%|███████▋  | 573/750 [03:34<01:12,  2.43it/s]"
          ]
        },
        {
          "name": "stdout",
          "output_type": "stream",
          "text": [
            "\n",
            "0: 736x1280 1 goalkeeper, 22 players, 2 referees, 100.6ms\n",
            "Speed: 5.8ms preprocess, 100.6ms inference, 1.8ms postprocess per image at shape (1, 3, 736, 1280)\n"
          ]
        },
        {
          "name": "stderr",
          "output_type": "stream",
          "text": [
            "Embedding extraction: 1it [00:00,  4.35it/s]\n",
            " 77%|███████▋  | 574/750 [03:35<01:11,  2.46it/s]"
          ]
        },
        {
          "name": "stdout",
          "output_type": "stream",
          "text": [
            "\n",
            "0: 736x1280 1 goalkeeper, 21 players, 2 referees, 100.1ms\n",
            "Speed: 7.0ms preprocess, 100.1ms inference, 1.7ms postprocess per image at shape (1, 3, 736, 1280)\n"
          ]
        },
        {
          "name": "stderr",
          "output_type": "stream",
          "text": [
            "Embedding extraction: 1it [00:00,  4.59it/s]\n",
            " 77%|███████▋  | 575/750 [03:35<01:10,  2.50it/s]"
          ]
        },
        {
          "name": "stdout",
          "output_type": "stream",
          "text": [
            "\n",
            "0: 736x1280 1 goalkeeper, 21 players, 2 referees, 110.1ms\n",
            "Speed: 6.4ms preprocess, 110.1ms inference, 1.6ms postprocess per image at shape (1, 3, 736, 1280)\n"
          ]
        },
        {
          "name": "stderr",
          "output_type": "stream",
          "text": [
            "Embedding extraction: 1it [00:00,  4.06it/s]\n",
            " 77%|███████▋  | 576/750 [03:35<01:10,  2.46it/s]"
          ]
        },
        {
          "name": "stdout",
          "output_type": "stream",
          "text": [
            "\n",
            "0: 736x1280 1 goalkeeper, 23 players, 2 referees, 114.5ms\n",
            "Speed: 6.4ms preprocess, 114.5ms inference, 1.6ms postprocess per image at shape (1, 3, 736, 1280)\n"
          ]
        },
        {
          "name": "stderr",
          "output_type": "stream",
          "text": [
            "Embedding extraction: 1it [00:00,  4.41it/s]\n",
            " 77%|███████▋  | 577/750 [03:36<01:10,  2.47it/s]"
          ]
        },
        {
          "name": "stdout",
          "output_type": "stream",
          "text": [
            "\n",
            "0: 736x1280 1 goalkeeper, 20 players, 2 referees, 116.1ms\n",
            "Speed: 7.0ms preprocess, 116.1ms inference, 1.9ms postprocess per image at shape (1, 3, 736, 1280)\n"
          ]
        },
        {
          "name": "stderr",
          "output_type": "stream",
          "text": [
            "Embedding extraction: 1it [00:00,  4.29it/s]\n",
            " 77%|███████▋  | 578/750 [03:36<01:10,  2.44it/s]"
          ]
        },
        {
          "name": "stdout",
          "output_type": "stream",
          "text": [
            "\n",
            "0: 736x1280 1 goalkeeper, 21 players, 2 referees, 114.5ms\n",
            "Speed: 7.0ms preprocess, 114.5ms inference, 1.4ms postprocess per image at shape (1, 3, 736, 1280)\n"
          ]
        },
        {
          "name": "stderr",
          "output_type": "stream",
          "text": [
            "Embedding extraction: 1it [00:00,  4.41it/s]\n",
            " 77%|███████▋  | 579/750 [03:37<01:09,  2.46it/s]"
          ]
        },
        {
          "name": "stdout",
          "output_type": "stream",
          "text": [
            "\n",
            "0: 736x1280 1 goalkeeper, 19 players, 2 referees, 115.1ms\n",
            "Speed: 6.0ms preprocess, 115.1ms inference, 1.8ms postprocess per image at shape (1, 3, 736, 1280)\n"
          ]
        },
        {
          "name": "stderr",
          "output_type": "stream",
          "text": [
            "Embedding extraction: 1it [00:00,  4.40it/s]\n",
            " 77%|███████▋  | 580/750 [03:37<01:09,  2.46it/s]"
          ]
        },
        {
          "name": "stdout",
          "output_type": "stream",
          "text": [
            "\n",
            "0: 736x1280 1 goalkeeper, 20 players, 2 referees, 116.0ms\n",
            "Speed: 5.9ms preprocess, 116.0ms inference, 1.9ms postprocess per image at shape (1, 3, 736, 1280)\n"
          ]
        },
        {
          "name": "stderr",
          "output_type": "stream",
          "text": [
            "Embedding extraction: 1it [00:00,  4.00it/s]\n",
            " 77%|███████▋  | 581/750 [03:37<01:09,  2.42it/s]"
          ]
        },
        {
          "name": "stdout",
          "output_type": "stream",
          "text": [
            "\n",
            "0: 736x1280 1 goalkeeper, 19 players, 2 referees, 114.6ms\n",
            "Speed: 6.4ms preprocess, 114.6ms inference, 1.6ms postprocess per image at shape (1, 3, 736, 1280)\n"
          ]
        },
        {
          "name": "stderr",
          "output_type": "stream",
          "text": [
            "Embedding extraction: 1it [00:00,  4.12it/s]\n",
            " 78%|███████▊  | 582/750 [03:38<01:09,  2.41it/s]"
          ]
        },
        {
          "name": "stdout",
          "output_type": "stream",
          "text": [
            "\n",
            "0: 736x1280 1 goalkeeper, 19 players, 2 referees, 114.1ms\n",
            "Speed: 5.7ms preprocess, 114.1ms inference, 1.9ms postprocess per image at shape (1, 3, 736, 1280)\n"
          ]
        },
        {
          "name": "stderr",
          "output_type": "stream",
          "text": [
            "Embedding extraction: 1it [00:00,  4.07it/s]\n",
            " 78%|███████▊  | 583/750 [03:38<01:09,  2.40it/s]"
          ]
        },
        {
          "name": "stdout",
          "output_type": "stream",
          "text": [
            "\n",
            "0: 736x1280 1 goalkeeper, 21 players, 2 referees, 112.6ms\n",
            "Speed: 5.7ms preprocess, 112.6ms inference, 1.9ms postprocess per image at shape (1, 3, 736, 1280)\n"
          ]
        },
        {
          "name": "stderr",
          "output_type": "stream",
          "text": [
            "Embedding extraction: 1it [00:00,  4.07it/s]\n",
            " 78%|███████▊  | 584/750 [03:39<01:09,  2.39it/s]"
          ]
        },
        {
          "name": "stdout",
          "output_type": "stream",
          "text": [
            "\n",
            "0: 736x1280 1 goalkeeper, 20 players, 2 referees, 110.3ms\n",
            "Speed: 6.9ms preprocess, 110.3ms inference, 1.9ms postprocess per image at shape (1, 3, 736, 1280)\n"
          ]
        },
        {
          "name": "stderr",
          "output_type": "stream",
          "text": [
            "Embedding extraction: 1it [00:00,  4.65it/s]\n",
            " 78%|███████▊  | 585/750 [03:39<01:07,  2.44it/s]"
          ]
        },
        {
          "name": "stdout",
          "output_type": "stream",
          "text": [
            "\n",
            "0: 736x1280 1 goalkeeper, 19 players, 2 referees, 96.1ms\n",
            "Speed: 6.4ms preprocess, 96.1ms inference, 1.5ms postprocess per image at shape (1, 3, 736, 1280)\n"
          ]
        },
        {
          "name": "stderr",
          "output_type": "stream",
          "text": [
            "Embedding extraction: 1it [00:00,  4.76it/s]\n",
            " 78%|███████▊  | 586/750 [03:39<01:05,  2.50it/s]"
          ]
        },
        {
          "name": "stdout",
          "output_type": "stream",
          "text": [
            "\n",
            "0: 736x1280 1 goalkeeper, 19 players, 2 referees, 104.7ms\n",
            "Speed: 6.2ms preprocess, 104.7ms inference, 1.9ms postprocess per image at shape (1, 3, 736, 1280)\n"
          ]
        },
        {
          "name": "stderr",
          "output_type": "stream",
          "text": [
            "Embedding extraction: 1it [00:00,  4.55it/s]\n",
            " 78%|███████▊  | 587/750 [03:40<01:04,  2.52it/s]"
          ]
        },
        {
          "name": "stdout",
          "output_type": "stream",
          "text": [
            "\n",
            "0: 736x1280 1 goalkeeper, 18 players, 2 referees, 112.9ms\n",
            "Speed: 6.2ms preprocess, 112.9ms inference, 2.0ms postprocess per image at shape (1, 3, 736, 1280)\n"
          ]
        },
        {
          "name": "stderr",
          "output_type": "stream",
          "text": [
            "Embedding extraction: 1it [00:00,  4.41it/s]\n",
            " 78%|███████▊  | 588/750 [03:40<01:04,  2.52it/s]"
          ]
        },
        {
          "name": "stdout",
          "output_type": "stream",
          "text": [
            "\n",
            "0: 736x1280 1 goalkeeper, 21 players, 2 referees, 113.0ms\n",
            "Speed: 6.5ms preprocess, 113.0ms inference, 1.9ms postprocess per image at shape (1, 3, 736, 1280)\n"
          ]
        },
        {
          "name": "stderr",
          "output_type": "stream",
          "text": [
            "Embedding extraction: 1it [00:00,  4.29it/s]\n",
            " 79%|███████▊  | 589/750 [03:41<01:04,  2.50it/s]"
          ]
        },
        {
          "name": "stdout",
          "output_type": "stream",
          "text": [
            "\n",
            "0: 736x1280 1 goalkeeper, 21 players, 2 referees, 112.7ms\n",
            "Speed: 6.7ms preprocess, 112.7ms inference, 1.5ms postprocess per image at shape (1, 3, 736, 1280)\n"
          ]
        },
        {
          "name": "stderr",
          "output_type": "stream",
          "text": [
            "Embedding extraction: 1it [00:00,  4.07it/s]\n",
            " 79%|███████▊  | 590/750 [03:41<01:05,  2.46it/s]"
          ]
        },
        {
          "name": "stdout",
          "output_type": "stream",
          "text": [
            "\n",
            "0: 736x1280 1 goalkeeper, 20 players, 2 referees, 112.4ms\n",
            "Speed: 7.2ms preprocess, 112.4ms inference, 1.7ms postprocess per image at shape (1, 3, 736, 1280)\n"
          ]
        },
        {
          "name": "stderr",
          "output_type": "stream",
          "text": [
            "Embedding extraction: 1it [00:00,  3.80it/s]\n",
            " 79%|███████▉  | 591/750 [03:41<01:06,  2.39it/s]"
          ]
        },
        {
          "name": "stdout",
          "output_type": "stream",
          "text": [
            "\n",
            "0: 736x1280 1 goalkeeper, 20 players, 2 referees, 111.3ms\n",
            "Speed: 7.0ms preprocess, 111.3ms inference, 2.0ms postprocess per image at shape (1, 3, 736, 1280)\n"
          ]
        },
        {
          "name": "stderr",
          "output_type": "stream",
          "text": [
            "Embedding extraction: 1it [00:00,  4.00it/s]\n",
            " 79%|███████▉  | 592/750 [03:42<01:06,  2.37it/s]"
          ]
        },
        {
          "name": "stdout",
          "output_type": "stream",
          "text": [
            "\n",
            "0: 736x1280 1 goalkeeper, 19 players, 2 referees, 108.6ms\n",
            "Speed: 6.9ms preprocess, 108.6ms inference, 1.6ms postprocess per image at shape (1, 3, 736, 1280)\n"
          ]
        },
        {
          "name": "stderr",
          "output_type": "stream",
          "text": [
            "Embedding extraction: 1it [00:00,  4.52it/s]\n",
            " 79%|███████▉  | 593/750 [03:42<01:04,  2.42it/s]"
          ]
        },
        {
          "name": "stdout",
          "output_type": "stream",
          "text": [
            "\n",
            "0: 736x1280 1 goalkeeper, 20 players, 2 referees, 112.2ms\n",
            "Speed: 6.0ms preprocess, 112.2ms inference, 1.8ms postprocess per image at shape (1, 3, 736, 1280)\n"
          ]
        },
        {
          "name": "stderr",
          "output_type": "stream",
          "text": [
            "Embedding extraction: 1it [00:00,  4.02it/s]\n",
            " 79%|███████▉  | 594/750 [03:43<01:04,  2.40it/s]"
          ]
        },
        {
          "name": "stdout",
          "output_type": "stream",
          "text": [
            "\n",
            "0: 736x1280 1 goalkeeper, 20 players, 2 referees, 111.6ms\n",
            "Speed: 6.2ms preprocess, 111.6ms inference, 1.7ms postprocess per image at shape (1, 3, 736, 1280)\n"
          ]
        },
        {
          "name": "stderr",
          "output_type": "stream",
          "text": [
            "Embedding extraction: 1it [00:00,  4.12it/s]\n",
            " 79%|███████▉  | 595/750 [03:43<01:04,  2.39it/s]"
          ]
        },
        {
          "name": "stdout",
          "output_type": "stream",
          "text": [
            "\n",
            "0: 736x1280 1 goalkeeper, 20 players, 2 referees, 111.6ms\n",
            "Speed: 6.4ms preprocess, 111.6ms inference, 2.2ms postprocess per image at shape (1, 3, 736, 1280)\n"
          ]
        },
        {
          "name": "stderr",
          "output_type": "stream",
          "text": [
            "Embedding extraction: 1it [00:00,  4.69it/s]\n",
            " 79%|███████▉  | 596/750 [03:44<01:03,  2.44it/s]"
          ]
        },
        {
          "name": "stdout",
          "output_type": "stream",
          "text": [
            "\n",
            "0: 736x1280 1 goalkeeper, 20 players, 2 referees, 96.6ms\n",
            "Speed: 7.0ms preprocess, 96.6ms inference, 1.5ms postprocess per image at shape (1, 3, 736, 1280)\n"
          ]
        },
        {
          "name": "stderr",
          "output_type": "stream",
          "text": [
            "Embedding extraction: 1it [00:00,  5.18it/s]\n",
            " 80%|███████▉  | 597/750 [03:44<01:00,  2.54it/s]"
          ]
        },
        {
          "name": "stdout",
          "output_type": "stream",
          "text": [
            "\n",
            "0: 736x1280 1 goalkeeper, 20 players, 2 referees, 106.2ms\n",
            "Speed: 6.8ms preprocess, 106.2ms inference, 1.5ms postprocess per image at shape (1, 3, 736, 1280)\n"
          ]
        },
        {
          "name": "stderr",
          "output_type": "stream",
          "text": [
            "Embedding extraction: 1it [00:00,  4.10it/s]\n",
            " 80%|███████▉  | 598/750 [03:44<01:00,  2.50it/s]"
          ]
        },
        {
          "name": "stdout",
          "output_type": "stream",
          "text": [
            "\n",
            "0: 736x1280 1 goalkeeper, 19 players, 2 referees, 114.5ms\n",
            "Speed: 6.9ms preprocess, 114.5ms inference, 1.5ms postprocess per image at shape (1, 3, 736, 1280)\n"
          ]
        },
        {
          "name": "stderr",
          "output_type": "stream",
          "text": [
            "Embedding extraction: 1it [00:00,  4.00it/s]\n",
            " 80%|███████▉  | 599/750 [03:45<01:01,  2.44it/s]"
          ]
        },
        {
          "name": "stdout",
          "output_type": "stream",
          "text": [
            "\n",
            "0: 736x1280 1 goalkeeper, 19 players, 2 referees, 112.8ms\n",
            "Speed: 8.5ms preprocess, 112.8ms inference, 2.0ms postprocess per image at shape (1, 3, 736, 1280)\n"
          ]
        },
        {
          "name": "stderr",
          "output_type": "stream",
          "text": [
            "Embedding extraction: 1it [00:00,  4.00it/s]\n",
            " 80%|████████  | 600/750 [03:45<01:03,  2.37it/s]"
          ]
        },
        {
          "name": "stdout",
          "output_type": "stream",
          "text": [
            "\n",
            "0: 736x1280 1 goalkeeper, 19 players, 2 referees, 114.6ms\n",
            "Speed: 9.0ms preprocess, 114.6ms inference, 2.4ms postprocess per image at shape (1, 3, 736, 1280)\n"
          ]
        },
        {
          "name": "stderr",
          "output_type": "stream",
          "text": [
            "Embedding extraction: 1it [00:00,  3.76it/s]\n",
            " 80%|████████  | 601/750 [03:46<01:04,  2.31it/s]"
          ]
        },
        {
          "name": "stdout",
          "output_type": "stream",
          "text": [
            "\n",
            "0: 736x1280 1 goalkeeper, 19 players, 2 referees, 114.3ms\n",
            "Speed: 8.0ms preprocess, 114.3ms inference, 1.6ms postprocess per image at shape (1, 3, 736, 1280)\n"
          ]
        },
        {
          "name": "stderr",
          "output_type": "stream",
          "text": [
            "Embedding extraction: 1it [00:00,  4.00it/s]\n",
            " 80%|████████  | 602/750 [03:46<01:04,  2.31it/s]"
          ]
        },
        {
          "name": "stdout",
          "output_type": "stream",
          "text": [
            "\n",
            "0: 736x1280 1 goalkeeper, 20 players, 2 referees, 108.1ms\n",
            "Speed: 8.4ms preprocess, 108.1ms inference, 2.5ms postprocess per image at shape (1, 3, 736, 1280)\n"
          ]
        },
        {
          "name": "stderr",
          "output_type": "stream",
          "text": [
            "Embedding extraction: 1it [00:00,  4.03it/s]\n",
            " 80%|████████  | 603/750 [03:47<01:04,  2.27it/s]"
          ]
        },
        {
          "name": "stdout",
          "output_type": "stream",
          "text": [
            "\n",
            "0: 736x1280 1 goalkeeper, 19 players, 2 referees, 103.7ms\n",
            "Speed: 7.9ms preprocess, 103.7ms inference, 2.9ms postprocess per image at shape (1, 3, 736, 1280)\n"
          ]
        },
        {
          "name": "stderr",
          "output_type": "stream",
          "text": [
            "Embedding extraction: 1it [00:00,  4.22it/s]\n",
            " 81%|████████  | 604/750 [03:47<01:03,  2.29it/s]"
          ]
        },
        {
          "name": "stdout",
          "output_type": "stream",
          "text": [
            "\n",
            "0: 736x1280 1 goalkeeper, 19 players, 2 referees, 111.8ms\n",
            "Speed: 10.4ms preprocess, 111.8ms inference, 3.0ms postprocess per image at shape (1, 3, 736, 1280)\n"
          ]
        },
        {
          "name": "stderr",
          "output_type": "stream",
          "text": [
            "Embedding extraction: 1it [00:00,  3.89it/s]\n",
            " 81%|████████  | 605/750 [03:47<01:04,  2.26it/s]"
          ]
        },
        {
          "name": "stdout",
          "output_type": "stream",
          "text": [
            "\n",
            "0: 736x1280 1 goalkeeper, 19 players, 2 referees, 115.8ms\n",
            "Speed: 7.7ms preprocess, 115.8ms inference, 1.9ms postprocess per image at shape (1, 3, 736, 1280)\n"
          ]
        },
        {
          "name": "stderr",
          "output_type": "stream",
          "text": [
            "Embedding extraction: 1it [00:00,  3.89it/s]\n",
            " 81%|████████  | 606/750 [03:48<01:04,  2.23it/s]"
          ]
        },
        {
          "name": "stdout",
          "output_type": "stream",
          "text": [
            "\n",
            "0: 736x1280 1 goalkeeper, 19 players, 2 referees, 107.3ms\n",
            "Speed: 8.0ms preprocess, 107.3ms inference, 1.8ms postprocess per image at shape (1, 3, 736, 1280)\n"
          ]
        },
        {
          "name": "stderr",
          "output_type": "stream",
          "text": [
            "Embedding extraction: 1it [00:00,  4.33it/s]\n",
            " 81%|████████  | 607/750 [03:48<01:03,  2.24it/s]"
          ]
        },
        {
          "name": "stdout",
          "output_type": "stream",
          "text": [
            "\n",
            "0: 736x1280 1 goalkeeper, 19 players, 2 referees, 103.5ms\n",
            "Speed: 8.3ms preprocess, 103.5ms inference, 2.5ms postprocess per image at shape (1, 3, 736, 1280)\n"
          ]
        },
        {
          "name": "stderr",
          "output_type": "stream",
          "text": [
            "Embedding extraction: 1it [00:00,  4.29it/s]\n",
            " 81%|████████  | 608/750 [03:49<01:02,  2.29it/s]"
          ]
        },
        {
          "name": "stdout",
          "output_type": "stream",
          "text": [
            "\n",
            "0: 736x1280 1 goalkeeper, 19 players, 2 referees, 104.5ms\n",
            "Speed: 8.8ms preprocess, 104.5ms inference, 1.7ms postprocess per image at shape (1, 3, 736, 1280)\n"
          ]
        },
        {
          "name": "stderr",
          "output_type": "stream",
          "text": [
            "Embedding extraction: 1it [00:00,  4.63it/s]\n",
            " 81%|████████  | 609/750 [03:49<00:59,  2.36it/s]"
          ]
        },
        {
          "name": "stdout",
          "output_type": "stream",
          "text": [
            "\n",
            "0: 736x1280 1 goalkeeper, 19 players, 2 referees, 176.4ms\n",
            "Speed: 6.6ms preprocess, 176.4ms inference, 2.0ms postprocess per image at shape (1, 3, 736, 1280)\n"
          ]
        },
        {
          "name": "stderr",
          "output_type": "stream",
          "text": [
            "Embedding extraction: 1it [00:00,  3.57it/s]\n",
            " 81%|████████▏ | 610/750 [03:50<01:03,  2.20it/s]"
          ]
        },
        {
          "name": "stdout",
          "output_type": "stream",
          "text": [
            "\n",
            "0: 736x1280 1 goalkeeper, 18 players, 2 referees, 175.7ms\n",
            "Speed: 7.9ms preprocess, 175.7ms inference, 1.9ms postprocess per image at shape (1, 3, 736, 1280)\n"
          ]
        },
        {
          "name": "stderr",
          "output_type": "stream",
          "text": [
            "Embedding extraction: 1it [00:00,  4.00it/s]\n",
            " 81%|████████▏ | 611/750 [03:50<01:04,  2.14it/s]"
          ]
        },
        {
          "name": "stdout",
          "output_type": "stream",
          "text": [
            "\n",
            "0: 736x1280 1 ball, 1 goalkeeper, 21 players, 2 referees, 129.9ms\n",
            "Speed: 6.7ms preprocess, 129.9ms inference, 1.8ms postprocess per image at shape (1, 3, 736, 1280)\n"
          ]
        },
        {
          "name": "stderr",
          "output_type": "stream",
          "text": [
            "Embedding extraction: 1it [00:00,  4.20it/s]\n",
            " 82%|████████▏ | 612/750 [03:51<01:03,  2.19it/s]"
          ]
        },
        {
          "name": "stdout",
          "output_type": "stream",
          "text": [
            "\n",
            "0: 736x1280 1 ball, 1 goalkeeper, 21 players, 2 referees, 117.6ms\n",
            "Speed: 7.5ms preprocess, 117.6ms inference, 2.0ms postprocess per image at shape (1, 3, 736, 1280)\n"
          ]
        },
        {
          "name": "stderr",
          "output_type": "stream",
          "text": [
            "Embedding extraction: 1it [00:00,  4.10it/s]\n",
            " 82%|████████▏ | 613/750 [03:51<01:01,  2.23it/s]"
          ]
        },
        {
          "name": "stdout",
          "output_type": "stream",
          "text": [
            "\n",
            "0: 736x1280 1 ball, 1 goalkeeper, 21 players, 2 referees, 111.0ms\n",
            "Speed: 6.7ms preprocess, 111.0ms inference, 2.2ms postprocess per image at shape (1, 3, 736, 1280)\n"
          ]
        },
        {
          "name": "stderr",
          "output_type": "stream",
          "text": [
            "Embedding extraction: 1it [00:00,  4.10it/s]\n",
            " 82%|████████▏ | 614/750 [03:51<01:00,  2.26it/s]"
          ]
        },
        {
          "name": "stdout",
          "output_type": "stream",
          "text": [
            "\n",
            "0: 736x1280 1 goalkeeper, 21 players, 2 referees, 105.2ms\n",
            "Speed: 7.0ms preprocess, 105.2ms inference, 1.5ms postprocess per image at shape (1, 3, 736, 1280)\n"
          ]
        },
        {
          "name": "stderr",
          "output_type": "stream",
          "text": [
            "Embedding extraction: 1it [00:00,  4.27it/s]\n",
            " 82%|████████▏ | 615/750 [03:52<00:58,  2.32it/s]"
          ]
        },
        {
          "name": "stdout",
          "output_type": "stream",
          "text": [
            "\n",
            "0: 736x1280 1 goalkeeper, 21 players, 2 referees, 111.3ms\n",
            "Speed: 7.0ms preprocess, 111.3ms inference, 1.5ms postprocess per image at shape (1, 3, 736, 1280)\n"
          ]
        },
        {
          "name": "stderr",
          "output_type": "stream",
          "text": [
            "Embedding extraction: 1it [00:00,  3.82it/s]\n",
            " 82%|████████▏ | 616/750 [03:52<00:58,  2.30it/s]"
          ]
        },
        {
          "name": "stdout",
          "output_type": "stream",
          "text": [
            "\n",
            "0: 736x1280 1 goalkeeper, 20 players, 2 referees, 111.7ms\n",
            "Speed: 7.1ms preprocess, 111.7ms inference, 1.6ms postprocess per image at shape (1, 3, 736, 1280)\n"
          ]
        },
        {
          "name": "stderr",
          "output_type": "stream",
          "text": [
            "Embedding extraction: 1it [00:00,  3.88it/s]\n",
            " 82%|████████▏ | 617/750 [03:53<00:57,  2.30it/s]"
          ]
        },
        {
          "name": "stdout",
          "output_type": "stream",
          "text": [
            "\n",
            "0: 736x1280 1 goalkeeper, 20 players, 2 referees, 118.1ms\n",
            "Speed: 7.3ms preprocess, 118.1ms inference, 2.0ms postprocess per image at shape (1, 3, 736, 1280)\n"
          ]
        },
        {
          "name": "stderr",
          "output_type": "stream",
          "text": [
            "Embedding extraction: 1it [00:00,  3.76it/s]\n",
            " 82%|████████▏ | 618/750 [03:53<00:58,  2.27it/s]"
          ]
        },
        {
          "name": "stdout",
          "output_type": "stream",
          "text": [
            "\n",
            "0: 736x1280 1 goalkeeper, 20 players, 2 referees, 109.3ms\n",
            "Speed: 6.6ms preprocess, 109.3ms inference, 1.7ms postprocess per image at shape (1, 3, 736, 1280)\n"
          ]
        },
        {
          "name": "stderr",
          "output_type": "stream",
          "text": [
            "Embedding extraction: 1it [00:00,  4.41it/s]\n",
            " 83%|████████▎ | 619/750 [03:54<00:56,  2.33it/s]"
          ]
        },
        {
          "name": "stdout",
          "output_type": "stream",
          "text": [
            "\n",
            "0: 736x1280 1 goalkeeper, 20 players, 2 referees, 96.8ms\n",
            "Speed: 5.9ms preprocess, 96.8ms inference, 1.5ms postprocess per image at shape (1, 3, 736, 1280)\n"
          ]
        },
        {
          "name": "stderr",
          "output_type": "stream",
          "text": [
            "Embedding extraction: 1it [00:00,  4.44it/s]\n",
            " 83%|████████▎ | 620/750 [03:54<00:54,  2.40it/s]"
          ]
        },
        {
          "name": "stdout",
          "output_type": "stream",
          "text": [
            "\n",
            "0: 736x1280 1 goalkeeper, 20 players, 2 referees, 105.7ms\n",
            "Speed: 6.9ms preprocess, 105.7ms inference, 1.5ms postprocess per image at shape (1, 3, 736, 1280)\n"
          ]
        },
        {
          "name": "stderr",
          "output_type": "stream",
          "text": [
            "Embedding extraction: 1it [00:00,  4.48it/s]\n",
            " 83%|████████▎ | 621/750 [03:54<00:52,  2.44it/s]"
          ]
        },
        {
          "name": "stdout",
          "output_type": "stream",
          "text": [
            "\n",
            "0: 736x1280 1 goalkeeper, 20 players, 2 referees, 108.2ms\n",
            "Speed: 6.5ms preprocess, 108.2ms inference, 1.9ms postprocess per image at shape (1, 3, 736, 1280)\n"
          ]
        },
        {
          "name": "stderr",
          "output_type": "stream",
          "text": [
            "Embedding extraction: 1it [00:00,  3.95it/s]\n",
            " 83%|████████▎ | 622/750 [03:55<00:53,  2.41it/s]"
          ]
        },
        {
          "name": "stdout",
          "output_type": "stream",
          "text": [
            "\n",
            "0: 736x1280 1 goalkeeper, 21 players, 2 referees, 113.4ms\n",
            "Speed: 6.2ms preprocess, 113.4ms inference, 2.0ms postprocess per image at shape (1, 3, 736, 1280)\n"
          ]
        },
        {
          "name": "stderr",
          "output_type": "stream",
          "text": [
            "Embedding extraction: 1it [00:00,  3.91it/s]\n",
            " 83%|████████▎ | 623/750 [03:55<00:53,  2.37it/s]"
          ]
        },
        {
          "name": "stdout",
          "output_type": "stream",
          "text": [
            "\n",
            "0: 736x1280 1 goalkeeper, 20 players, 2 referees, 109.5ms\n",
            "Speed: 6.3ms preprocess, 109.5ms inference, 1.5ms postprocess per image at shape (1, 3, 736, 1280)\n"
          ]
        },
        {
          "name": "stderr",
          "output_type": "stream",
          "text": [
            "Embedding extraction: 1it [00:00,  4.59it/s]\n",
            " 83%|████████▎ | 624/750 [03:56<00:51,  2.42it/s]"
          ]
        },
        {
          "name": "stdout",
          "output_type": "stream",
          "text": [
            "\n",
            "0: 736x1280 1 goalkeeper, 20 players, 2 referees, 96.6ms\n",
            "Speed: 6.4ms preprocess, 96.6ms inference, 2.0ms postprocess per image at shape (1, 3, 736, 1280)\n"
          ]
        },
        {
          "name": "stderr",
          "output_type": "stream",
          "text": [
            "Embedding extraction: 1it [00:00,  4.50it/s]\n",
            " 83%|████████▎ | 625/750 [03:56<00:50,  2.48it/s]"
          ]
        },
        {
          "name": "stdout",
          "output_type": "stream",
          "text": [
            "\n",
            "0: 736x1280 1 goalkeeper, 22 players, 2 referees, 107.6ms\n",
            "Speed: 6.7ms preprocess, 107.6ms inference, 1.7ms postprocess per image at shape (1, 3, 736, 1280)\n"
          ]
        },
        {
          "name": "stderr",
          "output_type": "stream",
          "text": [
            "Embedding extraction: 1it [00:00,  3.95it/s]\n",
            " 83%|████████▎ | 626/750 [03:56<00:50,  2.44it/s]"
          ]
        },
        {
          "name": "stdout",
          "output_type": "stream",
          "text": [
            "\n",
            "0: 736x1280 1 goalkeeper, 21 players, 2 referees, 116.3ms\n",
            "Speed: 6.9ms preprocess, 116.3ms inference, 2.1ms postprocess per image at shape (1, 3, 736, 1280)\n"
          ]
        },
        {
          "name": "stderr",
          "output_type": "stream",
          "text": [
            "Embedding extraction: 1it [00:00,  3.85it/s]\n",
            " 84%|████████▎ | 627/750 [03:57<00:51,  2.38it/s]"
          ]
        },
        {
          "name": "stdout",
          "output_type": "stream",
          "text": [
            "\n",
            "0: 736x1280 1 goalkeeper, 20 players, 2 referees, 109.4ms\n",
            "Speed: 10.1ms preprocess, 109.4ms inference, 1.6ms postprocess per image at shape (1, 3, 736, 1280)\n"
          ]
        },
        {
          "name": "stderr",
          "output_type": "stream",
          "text": [
            "Embedding extraction: 1it [00:00,  4.72it/s]\n",
            " 84%|████████▎ | 628/750 [03:57<00:50,  2.43it/s]"
          ]
        },
        {
          "name": "stdout",
          "output_type": "stream",
          "text": [
            "\n",
            "0: 736x1280 1 goalkeeper, 21 players, 2 referees, 95.8ms\n",
            "Speed: 6.4ms preprocess, 95.8ms inference, 1.8ms postprocess per image at shape (1, 3, 736, 1280)\n"
          ]
        },
        {
          "name": "stderr",
          "output_type": "stream",
          "text": [
            "Embedding extraction: 1it [00:00,  4.33it/s]\n",
            " 84%|████████▍ | 629/750 [03:58<00:49,  2.47it/s]"
          ]
        },
        {
          "name": "stdout",
          "output_type": "stream",
          "text": [
            "\n",
            "0: 736x1280 1 goalkeeper, 20 players, 2 referees, 105.1ms\n",
            "Speed: 6.6ms preprocess, 105.1ms inference, 1.7ms postprocess per image at shape (1, 3, 736, 1280)\n"
          ]
        },
        {
          "name": "stderr",
          "output_type": "stream",
          "text": [
            "Embedding extraction: 1it [00:00,  4.55it/s]\n",
            " 84%|████████▍ | 630/750 [03:58<00:48,  2.49it/s]"
          ]
        },
        {
          "name": "stdout",
          "output_type": "stream",
          "text": [
            "\n",
            "0: 736x1280 1 goalkeeper, 20 players, 2 referees, 118.7ms\n",
            "Speed: 6.5ms preprocess, 118.7ms inference, 1.7ms postprocess per image at shape (1, 3, 736, 1280)\n"
          ]
        },
        {
          "name": "stderr",
          "output_type": "stream",
          "text": [
            "Embedding extraction: 1it [00:00,  3.94it/s]\n",
            " 84%|████████▍ | 631/750 [03:58<00:48,  2.43it/s]"
          ]
        },
        {
          "name": "stdout",
          "output_type": "stream",
          "text": [
            "\n",
            "0: 736x1280 1 goalkeeper, 20 players, 2 referees, 114.3ms\n",
            "Speed: 6.3ms preprocess, 114.3ms inference, 1.8ms postprocess per image at shape (1, 3, 736, 1280)\n"
          ]
        },
        {
          "name": "stderr",
          "output_type": "stream",
          "text": [
            "Embedding extraction: 1it [00:00,  3.92it/s]\n",
            " 84%|████████▍ | 632/750 [03:59<00:49,  2.40it/s]"
          ]
        },
        {
          "name": "stdout",
          "output_type": "stream",
          "text": [
            "\n",
            "0: 736x1280 1 goalkeeper, 20 players, 2 referees, 111.1ms\n",
            "Speed: 5.9ms preprocess, 111.1ms inference, 2.1ms postprocess per image at shape (1, 3, 736, 1280)\n"
          ]
        },
        {
          "name": "stderr",
          "output_type": "stream",
          "text": [
            "Embedding extraction: 1it [00:00,  4.00it/s]\n",
            " 84%|████████▍ | 633/750 [03:59<00:49,  2.38it/s]"
          ]
        },
        {
          "name": "stdout",
          "output_type": "stream",
          "text": [
            "\n",
            "0: 736x1280 1 goalkeeper, 23 players, 2 referees, 105.8ms\n",
            "Speed: 6.3ms preprocess, 105.8ms inference, 1.8ms postprocess per image at shape (1, 3, 736, 1280)\n"
          ]
        },
        {
          "name": "stderr",
          "output_type": "stream",
          "text": [
            "Embedding extraction: 1it [00:00,  4.83it/s]\n",
            " 85%|████████▍ | 634/750 [04:00<00:47,  2.45it/s]"
          ]
        },
        {
          "name": "stdout",
          "output_type": "stream",
          "text": [
            "\n",
            "0: 736x1280 1 goalkeeper, 22 players, 2 referees, 98.6ms\n",
            "Speed: 6.3ms preprocess, 98.6ms inference, 1.9ms postprocess per image at shape (1, 3, 736, 1280)\n"
          ]
        },
        {
          "name": "stderr",
          "output_type": "stream",
          "text": [
            "Embedding extraction: 1it [00:00,  4.42it/s]\n",
            " 85%|████████▍ | 635/750 [04:00<00:46,  2.48it/s]"
          ]
        },
        {
          "name": "stdout",
          "output_type": "stream",
          "text": [
            "\n",
            "0: 736x1280 1 goalkeeper, 21 players, 2 referees, 112.7ms\n",
            "Speed: 7.7ms preprocess, 112.7ms inference, 2.1ms postprocess per image at shape (1, 3, 736, 1280)\n"
          ]
        },
        {
          "name": "stderr",
          "output_type": "stream",
          "text": [
            "Embedding extraction: 1it [00:00,  4.55it/s]\n",
            " 85%|████████▍ | 636/750 [04:01<00:45,  2.49it/s]"
          ]
        },
        {
          "name": "stdout",
          "output_type": "stream",
          "text": [
            "\n",
            "0: 736x1280 1 goalkeeper, 20 players, 2 referees, 109.9ms\n",
            "Speed: 7.3ms preprocess, 109.9ms inference, 1.8ms postprocess per image at shape (1, 3, 736, 1280)\n"
          ]
        },
        {
          "name": "stderr",
          "output_type": "stream",
          "text": [
            "Embedding extraction: 1it [00:00,  3.82it/s]\n",
            " 85%|████████▍ | 637/750 [04:01<00:46,  2.44it/s]"
          ]
        },
        {
          "name": "stdout",
          "output_type": "stream",
          "text": [
            "\n",
            "0: 736x1280 1 goalkeeper, 21 players, 2 referees, 117.3ms\n",
            "Speed: 8.4ms preprocess, 117.3ms inference, 1.7ms postprocess per image at shape (1, 3, 736, 1280)\n"
          ]
        },
        {
          "name": "stderr",
          "output_type": "stream",
          "text": [
            "Embedding extraction: 1it [00:00,  3.77it/s]\n",
            " 85%|████████▌ | 638/750 [04:01<00:47,  2.37it/s]"
          ]
        },
        {
          "name": "stdout",
          "output_type": "stream",
          "text": [
            "\n",
            "0: 736x1280 1 goalkeeper, 21 players, 2 referees, 108.9ms\n",
            "Speed: 6.4ms preprocess, 108.9ms inference, 1.9ms postprocess per image at shape (1, 3, 736, 1280)\n"
          ]
        },
        {
          "name": "stderr",
          "output_type": "stream",
          "text": [
            "Embedding extraction: 1it [00:00,  4.76it/s]\n",
            " 85%|████████▌ | 639/750 [04:02<00:45,  2.43it/s]"
          ]
        },
        {
          "name": "stdout",
          "output_type": "stream",
          "text": [
            "\n",
            "0: 736x1280 1 goalkeeper, 20 players, 2 referees, 120.4ms\n",
            "Speed: 6.5ms preprocess, 120.4ms inference, 2.0ms postprocess per image at shape (1, 3, 736, 1280)\n"
          ]
        },
        {
          "name": "stderr",
          "output_type": "stream",
          "text": [
            "Embedding extraction: 1it [00:00,  4.24it/s]\n",
            " 85%|████████▌ | 640/750 [04:02<00:45,  2.40it/s]"
          ]
        },
        {
          "name": "stdout",
          "output_type": "stream",
          "text": [
            "\n",
            "0: 736x1280 1 goalkeeper, 20 players, 2 referees, 101.1ms\n",
            "Speed: 7.0ms preprocess, 101.1ms inference, 2.0ms postprocess per image at shape (1, 3, 736, 1280)\n"
          ]
        },
        {
          "name": "stderr",
          "output_type": "stream",
          "text": [
            "Embedding extraction: 1it [00:00,  4.88it/s]\n",
            " 85%|████████▌ | 641/750 [04:03<00:43,  2.48it/s]"
          ]
        },
        {
          "name": "stdout",
          "output_type": "stream",
          "text": [
            "\n",
            "0: 736x1280 1 goalkeeper, 22 players, 2 referees, 96.4ms\n",
            "Speed: 6.3ms preprocess, 96.4ms inference, 1.7ms postprocess per image at shape (1, 3, 736, 1280)\n"
          ]
        },
        {
          "name": "stderr",
          "output_type": "stream",
          "text": [
            "Embedding extraction: 1it [00:00,  4.46it/s]\n",
            " 86%|████████▌ | 642/750 [04:03<00:43,  2.51it/s]"
          ]
        },
        {
          "name": "stdout",
          "output_type": "stream",
          "text": [
            "\n",
            "0: 736x1280 1 goalkeeper, 21 players, 2 referees, 105.9ms\n",
            "Speed: 7.2ms preprocess, 105.9ms inference, 1.5ms postprocess per image at shape (1, 3, 736, 1280)\n"
          ]
        },
        {
          "name": "stderr",
          "output_type": "stream",
          "text": [
            "Embedding extraction: 1it [00:00,  4.03it/s]\n",
            " 86%|████████▌ | 643/750 [04:03<00:43,  2.46it/s]"
          ]
        },
        {
          "name": "stdout",
          "output_type": "stream",
          "text": [
            "\n",
            "0: 736x1280 1 goalkeeper, 21 players, 2 referees, 109.9ms\n",
            "Speed: 7.3ms preprocess, 109.9ms inference, 2.7ms postprocess per image at shape (1, 3, 736, 1280)\n"
          ]
        },
        {
          "name": "stderr",
          "output_type": "stream",
          "text": [
            "Embedding extraction: 1it [00:00,  4.07it/s]\n",
            " 86%|████████▌ | 644/750 [04:04<00:44,  2.40it/s]"
          ]
        },
        {
          "name": "stdout",
          "output_type": "stream",
          "text": [
            "\n",
            "0: 736x1280 1 goalkeeper, 22 players, 1 referee, 146.1ms\n",
            "Speed: 9.2ms preprocess, 146.1ms inference, 1.7ms postprocess per image at shape (1, 3, 736, 1280)\n"
          ]
        },
        {
          "name": "stderr",
          "output_type": "stream",
          "text": [
            "Embedding extraction: 1it [00:00,  3.25it/s]\n",
            " 86%|████████▌ | 645/750 [04:04<00:47,  2.23it/s]"
          ]
        },
        {
          "name": "stdout",
          "output_type": "stream",
          "text": [
            "\n",
            "0: 736x1280 1 goalkeeper, 24 players, 1 referee, 163.5ms\n",
            "Speed: 6.9ms preprocess, 163.5ms inference, 1.8ms postprocess per image at shape (1, 3, 736, 1280)\n"
          ]
        },
        {
          "name": "stderr",
          "output_type": "stream",
          "text": [
            "Embedding extraction: 1it [00:00,  3.55it/s]\n",
            " 86%|████████▌ | 646/750 [04:05<00:48,  2.12it/s]"
          ]
        },
        {
          "name": "stdout",
          "output_type": "stream",
          "text": [
            "\n",
            "0: 736x1280 1 goalkeeper, 23 players, 2 referees, 124.3ms\n",
            "Speed: 6.9ms preprocess, 124.3ms inference, 1.8ms postprocess per image at shape (1, 3, 736, 1280)\n"
          ]
        },
        {
          "name": "stderr",
          "output_type": "stream",
          "text": [
            "Embedding extraction: 1it [00:00,  3.69it/s]\n",
            " 86%|████████▋ | 647/750 [04:05<00:48,  2.13it/s]"
          ]
        },
        {
          "name": "stdout",
          "output_type": "stream",
          "text": [
            "\n",
            "0: 736x1280 1 goalkeeper, 22 players, 1 referee, 116.9ms\n",
            "Speed: 6.9ms preprocess, 116.9ms inference, 2.0ms postprocess per image at shape (1, 3, 736, 1280)\n"
          ]
        },
        {
          "name": "stderr",
          "output_type": "stream",
          "text": [
            "Embedding extraction: 1it [00:00,  3.68it/s]\n",
            " 86%|████████▋ | 648/750 [04:06<00:47,  2.14it/s]"
          ]
        },
        {
          "name": "stdout",
          "output_type": "stream",
          "text": [
            "\n",
            "0: 736x1280 2 balls, 1 goalkeeper, 23 players, 3 referees, 112.8ms\n",
            "Speed: 7.3ms preprocess, 112.8ms inference, 1.6ms postprocess per image at shape (1, 3, 736, 1280)\n"
          ]
        },
        {
          "name": "stderr",
          "output_type": "stream",
          "text": [
            "Embedding extraction: 1it [00:00,  3.64it/s]\n",
            " 87%|████████▋ | 649/750 [04:06<00:46,  2.16it/s]"
          ]
        },
        {
          "name": "stdout",
          "output_type": "stream",
          "text": [
            "\n",
            "0: 736x1280 1 goalkeeper, 22 players, 2 referees, 113.8ms\n",
            "Speed: 7.3ms preprocess, 113.8ms inference, 2.1ms postprocess per image at shape (1, 3, 736, 1280)\n"
          ]
        },
        {
          "name": "stderr",
          "output_type": "stream",
          "text": [
            "Embedding extraction: 1it [00:00,  3.80it/s]\n",
            " 87%|████████▋ | 650/750 [04:07<00:45,  2.18it/s]"
          ]
        },
        {
          "name": "stdout",
          "output_type": "stream",
          "text": [
            "\n",
            "0: 736x1280 1 goalkeeper, 22 players, 2 referees, 114.5ms\n",
            "Speed: 5.7ms preprocess, 114.5ms inference, 2.1ms postprocess per image at shape (1, 3, 736, 1280)\n"
          ]
        },
        {
          "name": "stderr",
          "output_type": "stream",
          "text": [
            "Embedding extraction: 1it [00:00,  3.56it/s]\n",
            " 87%|████████▋ | 651/750 [04:07<00:45,  2.17it/s]"
          ]
        },
        {
          "name": "stdout",
          "output_type": "stream",
          "text": [
            "\n",
            "0: 736x1280 1 ball, 1 goalkeeper, 24 players, 2 referees, 109.5ms\n",
            "Speed: 5.6ms preprocess, 109.5ms inference, 1.5ms postprocess per image at shape (1, 3, 736, 1280)\n"
          ]
        },
        {
          "name": "stderr",
          "output_type": "stream",
          "text": [
            "Embedding extraction: 1it [00:00,  3.94it/s]\n",
            " 87%|████████▋ | 652/750 [04:08<00:44,  2.22it/s]"
          ]
        },
        {
          "name": "stdout",
          "output_type": "stream",
          "text": [
            "\n",
            "0: 736x1280 1 goalkeeper, 23 players, 1 referee, 108.5ms\n",
            "Speed: 8.0ms preprocess, 108.5ms inference, 1.5ms postprocess per image at shape (1, 3, 736, 1280)\n"
          ]
        },
        {
          "name": "stderr",
          "output_type": "stream",
          "text": [
            "Embedding extraction: 1it [00:00,  3.79it/s]\n",
            " 87%|████████▋ | 653/750 [04:08<00:43,  2.22it/s]"
          ]
        },
        {
          "name": "stdout",
          "output_type": "stream",
          "text": [
            "\n",
            "0: 736x1280 1 goalkeeper, 22 players, 1 referee, 115.7ms\n",
            "Speed: 7.6ms preprocess, 115.7ms inference, 2.0ms postprocess per image at shape (1, 3, 736, 1280)\n"
          ]
        },
        {
          "name": "stderr",
          "output_type": "stream",
          "text": [
            "Embedding extraction: 1it [00:00,  3.64it/s]\n",
            " 87%|████████▋ | 654/750 [04:09<00:43,  2.20it/s]"
          ]
        },
        {
          "name": "stdout",
          "output_type": "stream",
          "text": [
            "\n",
            "0: 736x1280 1 goalkeeper, 23 players, 1 referee, 114.0ms\n",
            "Speed: 6.5ms preprocess, 114.0ms inference, 2.0ms postprocess per image at shape (1, 3, 736, 1280)\n"
          ]
        },
        {
          "name": "stderr",
          "output_type": "stream",
          "text": [
            "Embedding extraction: 1it [00:00,  3.69it/s]\n",
            " 87%|████████▋ | 655/750 [04:09<00:43,  2.19it/s]"
          ]
        },
        {
          "name": "stdout",
          "output_type": "stream",
          "text": [
            "\n",
            "0: 736x1280 1 goalkeeper, 21 players, 1 referee, 115.1ms\n",
            "Speed: 7.2ms preprocess, 115.1ms inference, 2.1ms postprocess per image at shape (1, 3, 736, 1280)\n"
          ]
        },
        {
          "name": "stderr",
          "output_type": "stream",
          "text": [
            "Embedding extraction: 1it [00:00,  3.57it/s]\n",
            " 87%|████████▋ | 656/750 [04:09<00:43,  2.17it/s]"
          ]
        },
        {
          "name": "stdout",
          "output_type": "stream",
          "text": [
            "\n",
            "0: 736x1280 1 goalkeeper, 22 players, 2 referees, 110.1ms\n",
            "Speed: 6.5ms preprocess, 110.1ms inference, 1.8ms postprocess per image at shape (1, 3, 736, 1280)\n"
          ]
        },
        {
          "name": "stderr",
          "output_type": "stream",
          "text": [
            "Embedding extraction: 1it [00:00,  3.91it/s]\n",
            " 88%|████████▊ | 657/750 [04:10<00:42,  2.20it/s]"
          ]
        },
        {
          "name": "stdout",
          "output_type": "stream",
          "text": [
            "\n",
            "0: 736x1280 1 ball, 1 goalkeeper, 22 players, 2 referees, 114.2ms\n",
            "Speed: 6.5ms preprocess, 114.2ms inference, 1.7ms postprocess per image at shape (1, 3, 736, 1280)\n"
          ]
        },
        {
          "name": "stderr",
          "output_type": "stream",
          "text": [
            "Embedding extraction: 1it [00:00,  3.88it/s]\n",
            " 88%|████████▊ | 658/750 [04:10<00:41,  2.22it/s]"
          ]
        },
        {
          "name": "stdout",
          "output_type": "stream",
          "text": [
            "\n",
            "0: 736x1280 1 goalkeeper, 21 players, 2 referees, 116.3ms\n",
            "Speed: 6.5ms preprocess, 116.3ms inference, 2.2ms postprocess per image at shape (1, 3, 736, 1280)\n"
          ]
        },
        {
          "name": "stderr",
          "output_type": "stream",
          "text": [
            "Embedding extraction: 1it [00:00,  4.03it/s]\n",
            " 88%|████████▊ | 659/750 [04:11<00:40,  2.25it/s]"
          ]
        },
        {
          "name": "stdout",
          "output_type": "stream",
          "text": [
            "\n",
            "0: 736x1280 1 goalkeeper, 20 players, 2 referees, 116.3ms\n",
            "Speed: 6.8ms preprocess, 116.3ms inference, 1.9ms postprocess per image at shape (1, 3, 736, 1280)\n"
          ]
        },
        {
          "name": "stderr",
          "output_type": "stream",
          "text": [
            "Embedding extraction: 1it [00:00,  4.05it/s]\n",
            " 88%|████████▊ | 660/750 [04:11<00:39,  2.27it/s]"
          ]
        },
        {
          "name": "stdout",
          "output_type": "stream",
          "text": [
            "\n",
            "0: 736x1280 1 goalkeeper, 20 players, 2 referees, 115.0ms\n",
            "Speed: 6.8ms preprocess, 115.0ms inference, 1.9ms postprocess per image at shape (1, 3, 736, 1280)\n"
          ]
        },
        {
          "name": "stderr",
          "output_type": "stream",
          "text": [
            "Embedding extraction: 1it [00:00,  4.27it/s]\n",
            " 88%|████████▊ | 661/750 [04:12<00:38,  2.32it/s]"
          ]
        },
        {
          "name": "stdout",
          "output_type": "stream",
          "text": [
            "\n",
            "0: 736x1280 1 goalkeeper, 19 players, 2 referees, 111.7ms\n",
            "Speed: 9.6ms preprocess, 111.7ms inference, 1.5ms postprocess per image at shape (1, 3, 736, 1280)\n"
          ]
        },
        {
          "name": "stderr",
          "output_type": "stream",
          "text": [
            "Embedding extraction: 1it [00:00,  4.90it/s]\n",
            " 88%|████████▊ | 662/750 [04:12<00:36,  2.40it/s]"
          ]
        },
        {
          "name": "stdout",
          "output_type": "stream",
          "text": [
            "\n",
            "0: 736x1280 1 goalkeeper, 19 players, 2 referees, 101.0ms\n",
            "Speed: 7.4ms preprocess, 101.0ms inference, 2.2ms postprocess per image at shape (1, 3, 736, 1280)\n"
          ]
        },
        {
          "name": "stderr",
          "output_type": "stream",
          "text": [
            "Embedding extraction: 1it [00:00,  4.93it/s]\n",
            " 88%|████████▊ | 663/750 [04:12<00:35,  2.47it/s]"
          ]
        },
        {
          "name": "stdout",
          "output_type": "stream",
          "text": [
            "\n",
            "0: 736x1280 1 goalkeeper, 21 players, 2 referees, 106.2ms\n",
            "Speed: 6.4ms preprocess, 106.2ms inference, 1.9ms postprocess per image at shape (1, 3, 736, 1280)\n"
          ]
        },
        {
          "name": "stderr",
          "output_type": "stream",
          "text": [
            "Embedding extraction: 1it [00:00,  4.29it/s]\n",
            " 89%|████████▊ | 664/750 [04:13<00:34,  2.47it/s]"
          ]
        },
        {
          "name": "stdout",
          "output_type": "stream",
          "text": [
            "\n",
            "0: 736x1280 1 goalkeeper, 19 players, 2 referees, 120.5ms\n",
            "Speed: 6.0ms preprocess, 120.5ms inference, 1.5ms postprocess per image at shape (1, 3, 736, 1280)\n"
          ]
        },
        {
          "name": "stderr",
          "output_type": "stream",
          "text": [
            "Embedding extraction: 1it [00:00,  4.26it/s]\n",
            " 89%|████████▊ | 665/750 [04:13<00:34,  2.45it/s]"
          ]
        },
        {
          "name": "stdout",
          "output_type": "stream",
          "text": [
            "\n",
            "0: 736x1280 1 goalkeeper, 21 players, 2 referees, 118.9ms\n",
            "Speed: 5.9ms preprocess, 118.9ms inference, 1.8ms postprocess per image at shape (1, 3, 736, 1280)\n"
          ]
        },
        {
          "name": "stderr",
          "output_type": "stream",
          "text": [
            "Embedding extraction: 1it [00:00,  4.02it/s]\n",
            " 89%|████████▉ | 666/750 [04:14<00:34,  2.41it/s]"
          ]
        },
        {
          "name": "stdout",
          "output_type": "stream",
          "text": [
            "\n",
            "0: 736x1280 1 goalkeeper, 23 players, 2 referees, 118.0ms\n",
            "Speed: 5.9ms preprocess, 118.0ms inference, 1.7ms postprocess per image at shape (1, 3, 736, 1280)\n"
          ]
        },
        {
          "name": "stderr",
          "output_type": "stream",
          "text": [
            "Embedding extraction: 1it [00:00,  4.00it/s]\n",
            " 89%|████████▉ | 667/750 [04:14<00:35,  2.37it/s]"
          ]
        },
        {
          "name": "stdout",
          "output_type": "stream",
          "text": [
            "\n",
            "0: 736x1280 1 goalkeeper, 21 players, 2 referees, 115.0ms\n",
            "Speed: 8.0ms preprocess, 115.0ms inference, 1.9ms postprocess per image at shape (1, 3, 736, 1280)\n"
          ]
        },
        {
          "name": "stderr",
          "output_type": "stream",
          "text": [
            "Embedding extraction: 1it [00:00,  4.02it/s]\n",
            " 89%|████████▉ | 668/750 [04:14<00:34,  2.35it/s]"
          ]
        },
        {
          "name": "stdout",
          "output_type": "stream",
          "text": [
            "\n",
            "0: 736x1280 1 ball, 1 goalkeeper, 22 players, 2 referees, 115.7ms\n",
            "Speed: 7.8ms preprocess, 115.7ms inference, 1.9ms postprocess per image at shape (1, 3, 736, 1280)\n"
          ]
        },
        {
          "name": "stderr",
          "output_type": "stream",
          "text": [
            "Embedding extraction: 1it [00:00,  4.81it/s]\n",
            " 89%|████████▉ | 669/750 [04:15<00:33,  2.41it/s]"
          ]
        },
        {
          "name": "stdout",
          "output_type": "stream",
          "text": [
            "\n",
            "0: 736x1280 1 ball, 1 goalkeeper, 23 players, 2 referees, 96.5ms\n",
            "Speed: 8.7ms preprocess, 96.5ms inference, 1.7ms postprocess per image at shape (1, 3, 736, 1280)\n"
          ]
        },
        {
          "name": "stderr",
          "output_type": "stream",
          "text": [
            "Embedding extraction: 1it [00:00,  5.35it/s]\n",
            " 89%|████████▉ | 670/750 [04:15<00:31,  2.51it/s]"
          ]
        },
        {
          "name": "stdout",
          "output_type": "stream",
          "text": [
            "\n",
            "0: 736x1280 1 goalkeeper, 19 players, 2 referees, 108.0ms\n",
            "Speed: 6.4ms preprocess, 108.0ms inference, 2.1ms postprocess per image at shape (1, 3, 736, 1280)\n"
          ]
        },
        {
          "name": "stderr",
          "output_type": "stream",
          "text": [
            "Embedding extraction: 1it [00:00,  4.10it/s]\n",
            " 89%|████████▉ | 671/750 [04:16<00:31,  2.48it/s]"
          ]
        },
        {
          "name": "stdout",
          "output_type": "stream",
          "text": [
            "\n",
            "0: 736x1280 1 goalkeeper, 21 players, 2 referees, 118.8ms\n",
            "Speed: 6.6ms preprocess, 118.8ms inference, 1.5ms postprocess per image at shape (1, 3, 736, 1280)\n"
          ]
        },
        {
          "name": "stderr",
          "output_type": "stream",
          "text": [
            "Embedding extraction: 1it [00:00,  4.12it/s]\n",
            " 90%|████████▉ | 672/750 [04:16<00:31,  2.44it/s]"
          ]
        },
        {
          "name": "stdout",
          "output_type": "stream",
          "text": [
            "\n",
            "0: 736x1280 1 goalkeeper, 21 players, 2 referees, 119.5ms\n",
            "Speed: 7.0ms preprocess, 119.5ms inference, 1.8ms postprocess per image at shape (1, 3, 736, 1280)\n"
          ]
        },
        {
          "name": "stderr",
          "output_type": "stream",
          "text": [
            "Embedding extraction: 1it [00:00,  3.98it/s]\n",
            " 90%|████████▉ | 673/750 [04:16<00:32,  2.41it/s]"
          ]
        },
        {
          "name": "stdout",
          "output_type": "stream",
          "text": [
            "\n",
            "0: 736x1280 1 goalkeeper, 21 players, 2 referees, 117.5ms\n",
            "Speed: 6.5ms preprocess, 117.5ms inference, 1.9ms postprocess per image at shape (1, 3, 736, 1280)\n"
          ]
        },
        {
          "name": "stderr",
          "output_type": "stream",
          "text": [
            "Embedding extraction: 1it [00:00,  4.02it/s]\n",
            " 90%|████████▉ | 674/750 [04:17<00:31,  2.38it/s]"
          ]
        },
        {
          "name": "stdout",
          "output_type": "stream",
          "text": [
            "\n",
            "0: 736x1280 1 goalkeeper, 22 players, 2 referees, 116.6ms\n",
            "Speed: 6.5ms preprocess, 116.6ms inference, 1.5ms postprocess per image at shape (1, 3, 736, 1280)\n"
          ]
        },
        {
          "name": "stderr",
          "output_type": "stream",
          "text": [
            "Embedding extraction: 1it [00:00,  3.92it/s]\n",
            " 90%|█████████ | 675/750 [04:17<00:32,  2.32it/s]"
          ]
        },
        {
          "name": "stdout",
          "output_type": "stream",
          "text": [
            "\n",
            "0: 736x1280 1 ball, 1 goalkeeper, 23 players, 2 referees, 107.6ms\n",
            "Speed: 10.4ms preprocess, 107.6ms inference, 2.1ms postprocess per image at shape (1, 3, 736, 1280)\n"
          ]
        },
        {
          "name": "stderr",
          "output_type": "stream",
          "text": [
            "Embedding extraction: 1it [00:00,  3.68it/s]\n",
            " 90%|█████████ | 676/750 [04:18<00:32,  2.27it/s]"
          ]
        },
        {
          "name": "stdout",
          "output_type": "stream",
          "text": [
            "\n",
            "0: 736x1280 1 ball, 1 goalkeeper, 25 players, 2 referees, 114.2ms\n",
            "Speed: 7.2ms preprocess, 114.2ms inference, 1.9ms postprocess per image at shape (1, 3, 736, 1280)\n"
          ]
        },
        {
          "name": "stderr",
          "output_type": "stream",
          "text": [
            "Embedding extraction: 1it [00:00,  3.95it/s]\n",
            " 90%|█████████ | 677/750 [04:18<00:32,  2.28it/s]"
          ]
        },
        {
          "name": "stdout",
          "output_type": "stream",
          "text": [
            "\n",
            "0: 736x1280 1 ball, 1 goalkeeper, 23 players, 2 referees, 113.0ms\n",
            "Speed: 6.3ms preprocess, 113.0ms inference, 1.8ms postprocess per image at shape (1, 3, 736, 1280)\n"
          ]
        },
        {
          "name": "stderr",
          "output_type": "stream",
          "text": [
            "Embedding extraction: 1it [00:00,  3.83it/s]\n",
            " 90%|█████████ | 678/750 [04:19<00:31,  2.28it/s]"
          ]
        },
        {
          "name": "stdout",
          "output_type": "stream",
          "text": [
            "\n",
            "0: 736x1280 1 ball, 1 goalkeeper, 22 players, 2 referees, 115.9ms\n",
            "Speed: 5.8ms preprocess, 115.9ms inference, 1.8ms postprocess per image at shape (1, 3, 736, 1280)\n"
          ]
        },
        {
          "name": "stderr",
          "output_type": "stream",
          "text": [
            "Embedding extraction: 1it [00:00,  3.88it/s]\n",
            " 91%|█████████ | 679/750 [04:19<00:31,  2.27it/s]"
          ]
        },
        {
          "name": "stdout",
          "output_type": "stream",
          "text": [
            "\n",
            "0: 736x1280 1 goalkeeper, 20 players, 2 referees, 114.0ms\n",
            "Speed: 7.2ms preprocess, 114.0ms inference, 1.6ms postprocess per image at shape (1, 3, 736, 1280)\n"
          ]
        },
        {
          "name": "stderr",
          "output_type": "stream",
          "text": [
            "Embedding extraction: 1it [00:00,  3.86it/s]\n",
            " 91%|█████████ | 680/750 [04:20<00:30,  2.27it/s]"
          ]
        },
        {
          "name": "stdout",
          "output_type": "stream",
          "text": [
            "\n",
            "0: 736x1280 1 ball, 1 goalkeeper, 21 players, 2 referees, 109.0ms\n",
            "Speed: 10.3ms preprocess, 109.0ms inference, 2.3ms postprocess per image at shape (1, 3, 736, 1280)\n"
          ]
        },
        {
          "name": "stderr",
          "output_type": "stream",
          "text": [
            "Embedding extraction: 1it [00:00,  3.91it/s]\n",
            " 91%|█████████ | 681/750 [04:20<00:30,  2.26it/s]"
          ]
        },
        {
          "name": "stdout",
          "output_type": "stream",
          "text": [
            "\n",
            "0: 736x1280 1 ball, 1 goalkeeper, 21 players, 2 referees, 108.8ms\n",
            "Speed: 8.4ms preprocess, 108.8ms inference, 1.6ms postprocess per image at shape (1, 3, 736, 1280)\n"
          ]
        },
        {
          "name": "stderr",
          "output_type": "stream",
          "text": [
            "Embedding extraction: 1it [00:00,  3.86it/s]\n",
            " 91%|█████████ | 682/750 [04:20<00:29,  2.27it/s]"
          ]
        },
        {
          "name": "stdout",
          "output_type": "stream",
          "text": [
            "\n",
            "0: 736x1280 1 ball, 1 goalkeeper, 23 players, 2 referees, 117.3ms\n",
            "Speed: 6.3ms preprocess, 117.3ms inference, 1.6ms postprocess per image at shape (1, 3, 736, 1280)\n"
          ]
        },
        {
          "name": "stderr",
          "output_type": "stream",
          "text": [
            "Embedding extraction: 1it [00:00,  3.69it/s]\n",
            " 91%|█████████ | 683/750 [04:21<00:29,  2.25it/s]"
          ]
        },
        {
          "name": "stdout",
          "output_type": "stream",
          "text": [
            "\n",
            "0: 736x1280 1 goalkeeper, 25 players, 2 referees, 115.6ms\n",
            "Speed: 6.5ms preprocess, 115.6ms inference, 1.9ms postprocess per image at shape (1, 3, 736, 1280)\n"
          ]
        },
        {
          "name": "stderr",
          "output_type": "stream",
          "text": [
            "Embedding extraction: 1it [00:00,  3.80it/s]\n",
            " 91%|█████████ | 684/750 [04:21<00:29,  2.25it/s]"
          ]
        },
        {
          "name": "stdout",
          "output_type": "stream",
          "text": [
            "\n",
            "0: 736x1280 1 ball, 1 goalkeeper, 25 players, 2 referees, 113.8ms\n",
            "Speed: 8.1ms preprocess, 113.8ms inference, 1.8ms postprocess per image at shape (1, 3, 736, 1280)\n"
          ]
        },
        {
          "name": "stderr",
          "output_type": "stream",
          "text": [
            "Embedding extraction: 1it [00:00,  3.82it/s]\n",
            " 91%|█████████▏| 685/750 [04:22<00:28,  2.26it/s]"
          ]
        },
        {
          "name": "stdout",
          "output_type": "stream",
          "text": [
            "\n",
            "0: 736x1280 1 ball, 1 goalkeeper, 23 players, 2 referees, 116.7ms\n",
            "Speed: 6.5ms preprocess, 116.7ms inference, 1.7ms postprocess per image at shape (1, 3, 736, 1280)\n"
          ]
        },
        {
          "name": "stderr",
          "output_type": "stream",
          "text": [
            "Embedding extraction: 1it [00:00,  3.79it/s]\n",
            " 91%|█████████▏| 686/750 [04:22<00:28,  2.24it/s]"
          ]
        },
        {
          "name": "stdout",
          "output_type": "stream",
          "text": [
            "\n",
            "0: 736x1280 1 ball, 1 goalkeeper, 23 players, 2 referees, 116.6ms\n",
            "Speed: 6.8ms preprocess, 116.6ms inference, 1.5ms postprocess per image at shape (1, 3, 736, 1280)\n"
          ]
        },
        {
          "name": "stderr",
          "output_type": "stream",
          "text": [
            "Embedding extraction: 1it [00:00,  3.79it/s]\n",
            " 92%|█████████▏| 687/750 [04:23<00:28,  2.24it/s]"
          ]
        },
        {
          "name": "stdout",
          "output_type": "stream",
          "text": [
            "\n",
            "0: 736x1280 2 balls, 1 goalkeeper, 21 players, 2 referees, 116.1ms\n",
            "Speed: 7.9ms preprocess, 116.1ms inference, 1.7ms postprocess per image at shape (1, 3, 736, 1280)\n"
          ]
        },
        {
          "name": "stderr",
          "output_type": "stream",
          "text": [
            "Embedding extraction: 1it [00:00,  3.92it/s]\n",
            " 92%|█████████▏| 688/750 [04:23<00:27,  2.25it/s]"
          ]
        },
        {
          "name": "stdout",
          "output_type": "stream",
          "text": [
            "\n",
            "0: 736x1280 1 goalkeeper, 23 players, 2 referees, 114.2ms\n",
            "Speed: 6.5ms preprocess, 114.2ms inference, 1.6ms postprocess per image at shape (1, 3, 736, 1280)\n"
          ]
        },
        {
          "name": "stderr",
          "output_type": "stream",
          "text": [
            "Embedding extraction: 1it [00:00,  3.80it/s]\n",
            " 92%|█████████▏| 689/750 [04:24<00:27,  2.26it/s]"
          ]
        },
        {
          "name": "stdout",
          "output_type": "stream",
          "text": [
            "\n",
            "0: 736x1280 1 goalkeeper, 23 players, 1 referee, 114.5ms\n",
            "Speed: 7.2ms preprocess, 114.5ms inference, 1.5ms postprocess per image at shape (1, 3, 736, 1280)\n"
          ]
        },
        {
          "name": "stderr",
          "output_type": "stream",
          "text": [
            "Embedding extraction: 1it [00:00,  4.13it/s]\n",
            " 92%|█████████▏| 690/750 [04:24<00:26,  2.28it/s]"
          ]
        },
        {
          "name": "stdout",
          "output_type": "stream",
          "text": [
            "\n",
            "0: 736x1280 1 goalkeeper, 22 players, 1 referee, 115.5ms\n",
            "Speed: 6.3ms preprocess, 115.5ms inference, 2.0ms postprocess per image at shape (1, 3, 736, 1280)\n"
          ]
        },
        {
          "name": "stderr",
          "output_type": "stream",
          "text": [
            "Embedding extraction: 1it [00:00,  3.97it/s]\n",
            " 92%|█████████▏| 691/750 [04:24<00:25,  2.29it/s]"
          ]
        },
        {
          "name": "stdout",
          "output_type": "stream",
          "text": [
            "\n",
            "0: 736x1280 1 goalkeeper, 23 players, 1 referee, 116.9ms\n",
            "Speed: 6.0ms preprocess, 116.9ms inference, 1.9ms postprocess per image at shape (1, 3, 736, 1280)\n"
          ]
        },
        {
          "name": "stderr",
          "output_type": "stream",
          "text": [
            "Embedding extraction: 1it [00:00,  3.98it/s]\n",
            " 92%|█████████▏| 692/750 [04:25<00:25,  2.30it/s]"
          ]
        },
        {
          "name": "stdout",
          "output_type": "stream",
          "text": [
            "\n",
            "0: 736x1280 1 goalkeeper, 21 players, 1 referee, 116.7ms\n",
            "Speed: 6.0ms preprocess, 116.7ms inference, 1.9ms postprocess per image at shape (1, 3, 736, 1280)\n"
          ]
        },
        {
          "name": "stderr",
          "output_type": "stream",
          "text": [
            "Embedding extraction: 1it [00:00,  4.00it/s]\n",
            " 92%|█████████▏| 693/750 [04:25<00:24,  2.29it/s]"
          ]
        },
        {
          "name": "stdout",
          "output_type": "stream",
          "text": [
            "\n",
            "0: 736x1280 1 ball, 1 goalkeeper, 21 players, 1 referee, 114.1ms\n",
            "Speed: 6.2ms preprocess, 114.1ms inference, 1.9ms postprocess per image at shape (1, 3, 736, 1280)\n"
          ]
        },
        {
          "name": "stderr",
          "output_type": "stream",
          "text": [
            "Embedding extraction: 1it [00:00,  4.59it/s]\n",
            " 93%|█████████▎| 694/750 [04:26<00:23,  2.36it/s]"
          ]
        },
        {
          "name": "stdout",
          "output_type": "stream",
          "text": [
            "\n",
            "0: 736x1280 1 ball, 1 goalkeeper, 20 players, 2 referees, 96.6ms\n",
            "Speed: 6.5ms preprocess, 96.6ms inference, 2.0ms postprocess per image at shape (1, 3, 736, 1280)\n"
          ]
        },
        {
          "name": "stderr",
          "output_type": "stream",
          "text": [
            "Embedding extraction: 1it [00:00,  4.55it/s]\n",
            " 93%|█████████▎| 695/750 [04:26<00:22,  2.42it/s]"
          ]
        },
        {
          "name": "stdout",
          "output_type": "stream",
          "text": [
            "\n",
            "0: 736x1280 1 ball, 1 goalkeeper, 22 players, 2 referees, 104.4ms\n",
            "Speed: 7.4ms preprocess, 104.4ms inference, 1.5ms postprocess per image at shape (1, 3, 736, 1280)\n"
          ]
        },
        {
          "name": "stderr",
          "output_type": "stream",
          "text": [
            "Embedding extraction: 1it [00:00,  4.74it/s]\n",
            " 93%|█████████▎| 696/750 [04:26<00:21,  2.48it/s]"
          ]
        },
        {
          "name": "stdout",
          "output_type": "stream",
          "text": [
            "\n",
            "0: 736x1280 1 ball, 1 goalkeeper, 22 players, 2 referees, 117.9ms\n",
            "Speed: 6.1ms preprocess, 117.9ms inference, 2.0ms postprocess per image at shape (1, 3, 736, 1280)\n"
          ]
        },
        {
          "name": "stderr",
          "output_type": "stream",
          "text": [
            "Embedding extraction: 1it [00:00,  3.86it/s]\n",
            " 93%|█████████▎| 697/750 [04:27<00:21,  2.41it/s]"
          ]
        },
        {
          "name": "stdout",
          "output_type": "stream",
          "text": [
            "\n",
            "0: 736x1280 1 ball, 1 goalkeeper, 24 players, 2 referees, 116.3ms\n",
            "Speed: 7.3ms preprocess, 116.3ms inference, 1.9ms postprocess per image at shape (1, 3, 736, 1280)\n"
          ]
        },
        {
          "name": "stderr",
          "output_type": "stream",
          "text": [
            "Embedding extraction: 1it [00:00,  3.82it/s]\n",
            " 93%|█████████▎| 698/750 [04:27<00:22,  2.36it/s]"
          ]
        },
        {
          "name": "stdout",
          "output_type": "stream",
          "text": [
            "\n",
            "0: 736x1280 1 ball, 1 goalkeeper, 23 players, 2 referees, 114.9ms\n",
            "Speed: 5.9ms preprocess, 114.9ms inference, 1.9ms postprocess per image at shape (1, 3, 736, 1280)\n"
          ]
        },
        {
          "name": "stderr",
          "output_type": "stream",
          "text": [
            "Embedding extraction: 1it [00:00,  4.72it/s]\n",
            " 93%|█████████▎| 699/750 [04:28<00:21,  2.41it/s]"
          ]
        },
        {
          "name": "stdout",
          "output_type": "stream",
          "text": [
            "\n",
            "0: 736x1280 1 ball, 1 goalkeeper, 21 players, 2 referees, 103.1ms\n",
            "Speed: 6.0ms preprocess, 103.1ms inference, 1.8ms postprocess per image at shape (1, 3, 736, 1280)\n"
          ]
        },
        {
          "name": "stderr",
          "output_type": "stream",
          "text": [
            "Embedding extraction: 1it [00:00,  4.00it/s]\n",
            " 93%|█████████▎| 700/750 [04:28<00:20,  2.40it/s]"
          ]
        },
        {
          "name": "stdout",
          "output_type": "stream",
          "text": [
            "\n",
            "0: 736x1280 1 ball, 1 goalkeeper, 21 players, 2 referees, 142.5ms\n",
            "Speed: 6.1ms preprocess, 142.5ms inference, 2.0ms postprocess per image at shape (1, 3, 736, 1280)\n"
          ]
        },
        {
          "name": "stderr",
          "output_type": "stream",
          "text": [
            "Embedding extraction: 1it [00:00,  3.73it/s]\n",
            " 93%|█████████▎| 701/750 [04:29<00:21,  2.30it/s]"
          ]
        },
        {
          "name": "stdout",
          "output_type": "stream",
          "text": [
            "\n",
            "0: 736x1280 1 ball, 1 goalkeeper, 21 players, 2 referees, 121.5ms\n",
            "Speed: 6.6ms preprocess, 121.5ms inference, 2.0ms postprocess per image at shape (1, 3, 736, 1280)\n"
          ]
        },
        {
          "name": "stderr",
          "output_type": "stream",
          "text": [
            "Embedding extraction: 1it [00:00,  3.85it/s]\n",
            " 94%|█████████▎| 702/750 [04:29<00:21,  2.27it/s]"
          ]
        },
        {
          "name": "stdout",
          "output_type": "stream",
          "text": [
            "\n",
            "0: 736x1280 1 ball, 1 goalkeeper, 24 players, 2 referees, 111.4ms\n",
            "Speed: 6.3ms preprocess, 111.4ms inference, 2.0ms postprocess per image at shape (1, 3, 736, 1280)\n"
          ]
        },
        {
          "name": "stderr",
          "output_type": "stream",
          "text": [
            "Embedding extraction: 1it [00:00,  3.77it/s]\n",
            " 94%|█████████▎| 703/750 [04:30<00:20,  2.26it/s]"
          ]
        },
        {
          "name": "stdout",
          "output_type": "stream",
          "text": [
            "\n",
            "0: 736x1280 1 ball, 1 goalkeeper, 22 players, 2 referees, 116.2ms\n",
            "Speed: 6.8ms preprocess, 116.2ms inference, 2.0ms postprocess per image at shape (1, 3, 736, 1280)\n"
          ]
        },
        {
          "name": "stderr",
          "output_type": "stream",
          "text": [
            "Embedding extraction: 1it [00:00,  3.85it/s]\n",
            " 94%|█████████▍| 704/750 [04:30<00:20,  2.26it/s]"
          ]
        },
        {
          "name": "stdout",
          "output_type": "stream",
          "text": [
            "\n",
            "0: 736x1280 1 ball, 1 goalkeeper, 20 players, 2 referees, 116.4ms\n",
            "Speed: 7.4ms preprocess, 116.4ms inference, 2.0ms postprocess per image at shape (1, 3, 736, 1280)\n"
          ]
        },
        {
          "name": "stderr",
          "output_type": "stream",
          "text": [
            "Embedding extraction: 1it [00:00,  3.79it/s]\n",
            " 94%|█████████▍| 705/750 [04:30<00:19,  2.25it/s]"
          ]
        },
        {
          "name": "stdout",
          "output_type": "stream",
          "text": [
            "\n",
            "0: 736x1280 1 ball, 1 goalkeeper, 21 players, 2 referees, 114.9ms\n",
            "Speed: 6.0ms preprocess, 114.9ms inference, 1.7ms postprocess per image at shape (1, 3, 736, 1280)\n"
          ]
        },
        {
          "name": "stderr",
          "output_type": "stream",
          "text": [
            "Embedding extraction: 1it [00:00,  3.89it/s]\n",
            " 94%|█████████▍| 706/750 [04:31<00:19,  2.26it/s]"
          ]
        },
        {
          "name": "stdout",
          "output_type": "stream",
          "text": [
            "\n",
            "0: 736x1280 1 ball, 1 goalkeeper, 23 players, 2 referees, 114.4ms\n",
            "Speed: 6.4ms preprocess, 114.4ms inference, 2.4ms postprocess per image at shape (1, 3, 736, 1280)\n"
          ]
        },
        {
          "name": "stderr",
          "output_type": "stream",
          "text": [
            "Embedding extraction: 1it [00:00,  3.89it/s]\n",
            " 94%|█████████▍| 707/750 [04:31<00:19,  2.26it/s]"
          ]
        },
        {
          "name": "stdout",
          "output_type": "stream",
          "text": [
            "\n",
            "0: 736x1280 1 ball, 1 goalkeeper, 24 players, 1 referee, 107.0ms\n",
            "Speed: 7.0ms preprocess, 107.0ms inference, 1.5ms postprocess per image at shape (1, 3, 736, 1280)\n"
          ]
        },
        {
          "name": "stderr",
          "output_type": "stream",
          "text": [
            "Embedding extraction: 1it [00:00,  3.73it/s]\n",
            " 94%|█████████▍| 708/750 [04:32<00:18,  2.25it/s]"
          ]
        },
        {
          "name": "stdout",
          "output_type": "stream",
          "text": [
            "\n",
            "0: 736x1280 1 ball, 1 goalkeeper, 22 players, 1 referee, 114.1ms\n",
            "Speed: 6.5ms preprocess, 114.1ms inference, 2.0ms postprocess per image at shape (1, 3, 736, 1280)\n"
          ]
        },
        {
          "name": "stderr",
          "output_type": "stream",
          "text": [
            "Embedding extraction: 1it [00:00,  3.66it/s]\n",
            " 95%|█████████▍| 709/750 [04:32<00:18,  2.24it/s]"
          ]
        },
        {
          "name": "stdout",
          "output_type": "stream",
          "text": [
            "\n",
            "0: 736x1280 1 ball, 1 goalkeeper, 22 players, 1 referee, 113.6ms\n",
            "Speed: 6.6ms preprocess, 113.6ms inference, 1.9ms postprocess per image at shape (1, 3, 736, 1280)\n"
          ]
        },
        {
          "name": "stderr",
          "output_type": "stream",
          "text": [
            "Embedding extraction: 1it [00:00,  3.80it/s]\n",
            " 95%|█████████▍| 710/750 [04:33<00:17,  2.25it/s]"
          ]
        },
        {
          "name": "stdout",
          "output_type": "stream",
          "text": [
            "\n",
            "0: 736x1280 1 ball, 1 goalkeeper, 22 players, 1 referee, 116.8ms\n",
            "Speed: 6.1ms preprocess, 116.8ms inference, 2.0ms postprocess per image at shape (1, 3, 736, 1280)\n"
          ]
        },
        {
          "name": "stderr",
          "output_type": "stream",
          "text": [
            "Embedding extraction: 1it [00:00,  3.73it/s]\n",
            " 95%|█████████▍| 711/750 [04:33<00:17,  2.24it/s]"
          ]
        },
        {
          "name": "stdout",
          "output_type": "stream",
          "text": [
            "\n",
            "0: 736x1280 1 ball, 1 goalkeeper, 21 players, 2 referees, 110.2ms\n",
            "Speed: 5.9ms preprocess, 110.2ms inference, 1.7ms postprocess per image at shape (1, 3, 736, 1280)\n"
          ]
        },
        {
          "name": "stderr",
          "output_type": "stream",
          "text": [
            "Embedding extraction: 1it [00:00,  3.64it/s]\n",
            " 95%|█████████▍| 712/750 [04:34<00:17,  2.23it/s]"
          ]
        },
        {
          "name": "stdout",
          "output_type": "stream",
          "text": [
            "\n",
            "0: 736x1280 2 balls, 1 goalkeeper, 23 players, 2 referees, 110.2ms\n",
            "Speed: 6.7ms preprocess, 110.2ms inference, 1.7ms postprocess per image at shape (1, 3, 736, 1280)\n"
          ]
        },
        {
          "name": "stderr",
          "output_type": "stream",
          "text": [
            "Embedding extraction: 1it [00:00,  3.69it/s]\n",
            " 95%|█████████▌| 713/750 [04:34<00:16,  2.22it/s]"
          ]
        },
        {
          "name": "stdout",
          "output_type": "stream",
          "text": [
            "\n",
            "0: 736x1280 1 ball, 1 goalkeeper, 21 players, 2 referees, 113.6ms\n",
            "Speed: 6.6ms preprocess, 113.6ms inference, 1.7ms postprocess per image at shape (1, 3, 736, 1280)\n"
          ]
        },
        {
          "name": "stderr",
          "output_type": "stream",
          "text": [
            "Embedding extraction: 1it [00:00,  3.88it/s]\n",
            " 95%|█████████▌| 714/750 [04:34<00:16,  2.24it/s]"
          ]
        },
        {
          "name": "stdout",
          "output_type": "stream",
          "text": [
            "\n",
            "0: 736x1280 1 ball, 1 goalkeeper, 20 players, 2 referees, 115.8ms\n",
            "Speed: 6.0ms preprocess, 115.8ms inference, 1.9ms postprocess per image at shape (1, 3, 736, 1280)\n"
          ]
        },
        {
          "name": "stderr",
          "output_type": "stream",
          "text": [
            "Embedding extraction: 1it [00:00,  3.83it/s]\n",
            " 95%|█████████▌| 715/750 [04:35<00:15,  2.24it/s]"
          ]
        },
        {
          "name": "stdout",
          "output_type": "stream",
          "text": [
            "\n",
            "0: 736x1280 1 goalkeeper, 21 players, 2 referees, 117.1ms\n",
            "Speed: 6.8ms preprocess, 117.1ms inference, 1.9ms postprocess per image at shape (1, 3, 736, 1280)\n"
          ]
        },
        {
          "name": "stderr",
          "output_type": "stream",
          "text": [
            "Embedding extraction: 1it [00:00,  3.82it/s]\n",
            " 95%|█████████▌| 716/750 [04:35<00:15,  2.24it/s]"
          ]
        },
        {
          "name": "stdout",
          "output_type": "stream",
          "text": [
            "\n",
            "0: 736x1280 1 goalkeeper, 24 players, 2 referees, 110.4ms\n",
            "Speed: 7.2ms preprocess, 110.4ms inference, 1.9ms postprocess per image at shape (1, 3, 736, 1280)\n"
          ]
        },
        {
          "name": "stderr",
          "output_type": "stream",
          "text": [
            "Embedding extraction: 1it [00:00,  4.69it/s]\n",
            " 96%|█████████▌| 717/750 [04:36<00:14,  2.32it/s]"
          ]
        },
        {
          "name": "stdout",
          "output_type": "stream",
          "text": [
            "\n",
            "0: 736x1280 1 goalkeeper, 23 players, 2 referees, 100.3ms\n",
            "Speed: 7.2ms preprocess, 100.3ms inference, 1.7ms postprocess per image at shape (1, 3, 736, 1280)\n"
          ]
        },
        {
          "name": "stderr",
          "output_type": "stream",
          "text": [
            "Embedding extraction: 1it [00:00,  4.39it/s]\n",
            " 96%|█████████▌| 718/750 [04:36<00:13,  2.38it/s]"
          ]
        },
        {
          "name": "stdout",
          "output_type": "stream",
          "text": [
            "\n",
            "0: 736x1280 1 goalkeeper, 21 players, 2 referees, 104.0ms\n",
            "Speed: 6.0ms preprocess, 104.0ms inference, 1.6ms postprocess per image at shape (1, 3, 736, 1280)\n"
          ]
        },
        {
          "name": "stderr",
          "output_type": "stream",
          "text": [
            "Embedding extraction: 1it [00:00,  4.29it/s]\n",
            " 96%|█████████▌| 719/750 [04:37<00:12,  2.41it/s]"
          ]
        },
        {
          "name": "stdout",
          "output_type": "stream",
          "text": [
            "\n",
            "0: 736x1280 2 goalkeepers, 20 players, 2 referees, 111.5ms\n",
            "Speed: 6.4ms preprocess, 111.5ms inference, 2.3ms postprocess per image at shape (1, 3, 736, 1280)\n"
          ]
        },
        {
          "name": "stderr",
          "output_type": "stream",
          "text": [
            "Embedding extraction: 1it [00:00,  4.20it/s]\n",
            " 96%|█████████▌| 720/750 [04:37<00:12,  2.41it/s]"
          ]
        },
        {
          "name": "stdout",
          "output_type": "stream",
          "text": [
            "\n",
            "0: 736x1280 2 goalkeepers, 22 players, 2 referees, 110.8ms\n",
            "Speed: 7.6ms preprocess, 110.8ms inference, 2.5ms postprocess per image at shape (1, 3, 736, 1280)\n"
          ]
        },
        {
          "name": "stderr",
          "output_type": "stream",
          "text": [
            "Embedding extraction: 1it [00:00,  4.61it/s]\n",
            " 96%|█████████▌| 721/750 [04:37<00:11,  2.44it/s]"
          ]
        },
        {
          "name": "stdout",
          "output_type": "stream",
          "text": [
            "\n",
            "0: 736x1280 2 goalkeepers, 22 players, 2 referees, 108.2ms\n",
            "Speed: 6.3ms preprocess, 108.2ms inference, 2.0ms postprocess per image at shape (1, 3, 736, 1280)\n"
          ]
        },
        {
          "name": "stderr",
          "output_type": "stream",
          "text": [
            "Embedding extraction: 1it [00:00,  4.29it/s]\n",
            " 96%|█████████▋| 722/750 [04:38<00:11,  2.45it/s]"
          ]
        },
        {
          "name": "stdout",
          "output_type": "stream",
          "text": [
            "\n",
            "0: 736x1280 1 goalkeeper, 22 players, 2 referees, 112.8ms\n",
            "Speed: 6.9ms preprocess, 112.8ms inference, 1.6ms postprocess per image at shape (1, 3, 736, 1280)\n"
          ]
        },
        {
          "name": "stderr",
          "output_type": "stream",
          "text": [
            "Embedding extraction: 1it [00:00,  3.94it/s]\n",
            " 96%|█████████▋| 723/750 [04:38<00:11,  2.40it/s]"
          ]
        },
        {
          "name": "stdout",
          "output_type": "stream",
          "text": [
            "\n",
            "0: 736x1280 1 goalkeeper, 20 players, 2 referees, 112.9ms\n",
            "Speed: 7.0ms preprocess, 112.9ms inference, 2.0ms postprocess per image at shape (1, 3, 736, 1280)\n"
          ]
        },
        {
          "name": "stderr",
          "output_type": "stream",
          "text": [
            "Embedding extraction: 1it [00:00,  3.86it/s]\n",
            " 97%|█████████▋| 724/750 [04:39<00:11,  2.33it/s]"
          ]
        },
        {
          "name": "stdout",
          "output_type": "stream",
          "text": [
            "\n",
            "0: 736x1280 1 goalkeeper, 21 players, 2 referees, 106.6ms\n",
            "Speed: 7.4ms preprocess, 106.6ms inference, 2.0ms postprocess per image at shape (1, 3, 736, 1280)\n"
          ]
        },
        {
          "name": "stderr",
          "output_type": "stream",
          "text": [
            "Embedding extraction: 1it [00:00,  4.05it/s]\n",
            " 97%|█████████▋| 725/750 [04:39<00:10,  2.34it/s]"
          ]
        },
        {
          "name": "stdout",
          "output_type": "stream",
          "text": [
            "\n",
            "0: 736x1280 1 goalkeeper, 22 players, 2 referees, 106.5ms\n",
            "Speed: 7.5ms preprocess, 106.5ms inference, 1.5ms postprocess per image at shape (1, 3, 736, 1280)\n"
          ]
        },
        {
          "name": "stderr",
          "output_type": "stream",
          "text": [
            "Embedding extraction: 1it [00:00,  4.05it/s]\n",
            " 97%|█████████▋| 726/750 [04:40<00:10,  2.35it/s]"
          ]
        },
        {
          "name": "stdout",
          "output_type": "stream",
          "text": [
            "\n",
            "0: 736x1280 1 goalkeeper, 23 players, 2 referees, 105.9ms\n",
            "Speed: 5.8ms preprocess, 105.9ms inference, 1.7ms postprocess per image at shape (1, 3, 736, 1280)\n"
          ]
        },
        {
          "name": "stderr",
          "output_type": "stream",
          "text": [
            "Embedding extraction: 1it [00:00,  4.05it/s]\n",
            " 97%|█████████▋| 727/750 [04:40<00:09,  2.36it/s]"
          ]
        },
        {
          "name": "stdout",
          "output_type": "stream",
          "text": [
            "\n",
            "0: 736x1280 1 goalkeeper, 23 players, 2 referees, 119.1ms\n",
            "Speed: 7.8ms preprocess, 119.1ms inference, 1.6ms postprocess per image at shape (1, 3, 736, 1280)\n"
          ]
        },
        {
          "name": "stderr",
          "output_type": "stream",
          "text": [
            "Embedding extraction: 1it [00:00,  3.80it/s]\n",
            " 97%|█████████▋| 728/750 [04:40<00:09,  2.32it/s]"
          ]
        },
        {
          "name": "stdout",
          "output_type": "stream",
          "text": [
            "\n",
            "0: 736x1280 1 goalkeeper, 20 players, 2 referees, 114.4ms\n",
            "Speed: 7.3ms preprocess, 114.4ms inference, 1.8ms postprocess per image at shape (1, 3, 736, 1280)\n"
          ]
        },
        {
          "name": "stderr",
          "output_type": "stream",
          "text": [
            "Embedding extraction: 1it [00:00,  3.83it/s]\n",
            " 97%|█████████▋| 729/750 [04:41<00:09,  2.29it/s]"
          ]
        },
        {
          "name": "stdout",
          "output_type": "stream",
          "text": [
            "\n",
            "0: 736x1280 1 ball, 1 goalkeeper, 21 players, 2 referees, 115.0ms\n",
            "Speed: 6.9ms preprocess, 115.0ms inference, 1.6ms postprocess per image at shape (1, 3, 736, 1280)\n"
          ]
        },
        {
          "name": "stderr",
          "output_type": "stream",
          "text": [
            "Embedding extraction: 1it [00:00,  3.80it/s]\n",
            " 97%|█████████▋| 730/750 [04:41<00:08,  2.28it/s]"
          ]
        },
        {
          "name": "stdout",
          "output_type": "stream",
          "text": [
            "\n",
            "0: 736x1280 1 ball, 1 goalkeeper, 23 players, 2 referees, 114.9ms\n",
            "Speed: 6.9ms preprocess, 114.9ms inference, 1.7ms postprocess per image at shape (1, 3, 736, 1280)\n"
          ]
        },
        {
          "name": "stderr",
          "output_type": "stream",
          "text": [
            "Embedding extraction: 1it [00:00,  4.08it/s]\n",
            " 97%|█████████▋| 731/750 [04:42<00:08,  2.30it/s]"
          ]
        },
        {
          "name": "stdout",
          "output_type": "stream",
          "text": [
            "\n",
            "0: 736x1280 1 goalkeeper, 20 players, 2 referees, 102.5ms\n",
            "Speed: 7.0ms preprocess, 102.5ms inference, 2.2ms postprocess per image at shape (1, 3, 736, 1280)\n"
          ]
        },
        {
          "name": "stderr",
          "output_type": "stream",
          "text": [
            "Embedding extraction: 1it [00:00,  4.88it/s]\n",
            " 98%|█████████▊| 732/750 [04:42<00:07,  2.40it/s]"
          ]
        },
        {
          "name": "stdout",
          "output_type": "stream",
          "text": [
            "\n",
            "0: 736x1280 1 goalkeeper, 19 players, 2 referees, 104.1ms\n",
            "Speed: 5.9ms preprocess, 104.1ms inference, 1.6ms postprocess per image at shape (1, 3, 736, 1280)\n"
          ]
        },
        {
          "name": "stderr",
          "output_type": "stream",
          "text": [
            "Embedding extraction: 1it [00:00,  4.15it/s]\n",
            " 98%|█████████▊| 733/750 [04:42<00:07,  2.42it/s]"
          ]
        },
        {
          "name": "stdout",
          "output_type": "stream",
          "text": [
            "\n",
            "0: 736x1280 1 ball, 1 goalkeeper, 21 players, 2 referees, 120.0ms\n",
            "Speed: 6.8ms preprocess, 120.0ms inference, 2.1ms postprocess per image at shape (1, 3, 736, 1280)\n"
          ]
        },
        {
          "name": "stderr",
          "output_type": "stream",
          "text": [
            "Embedding extraction: 1it [00:00,  3.97it/s]\n",
            " 98%|█████████▊| 734/750 [04:43<00:06,  2.37it/s]"
          ]
        },
        {
          "name": "stdout",
          "output_type": "stream",
          "text": [
            "\n",
            "0: 736x1280 1 goalkeeper, 22 players, 2 referees, 105.1ms\n",
            "Speed: 7.0ms preprocess, 105.1ms inference, 2.0ms postprocess per image at shape (1, 3, 736, 1280)\n"
          ]
        },
        {
          "name": "stderr",
          "output_type": "stream",
          "text": [
            "Embedding extraction: 1it [00:00,  5.03it/s]\n",
            " 98%|█████████▊| 735/750 [04:43<00:06,  2.46it/s]"
          ]
        },
        {
          "name": "stdout",
          "output_type": "stream",
          "text": [
            "\n",
            "0: 736x1280 1 goalkeeper, 22 players, 2 referees, 99.9ms\n",
            "Speed: 6.7ms preprocess, 99.9ms inference, 1.7ms postprocess per image at shape (1, 3, 736, 1280)\n"
          ]
        },
        {
          "name": "stderr",
          "output_type": "stream",
          "text": [
            "Embedding extraction: 1it [00:00,  4.05it/s]\n",
            " 98%|█████████▊| 736/750 [04:44<00:05,  2.45it/s]"
          ]
        },
        {
          "name": "stdout",
          "output_type": "stream",
          "text": [
            "\n",
            "0: 736x1280 1 goalkeeper, 23 players, 2 referees, 117.8ms\n",
            "Speed: 6.7ms preprocess, 117.8ms inference, 1.6ms postprocess per image at shape (1, 3, 736, 1280)\n"
          ]
        },
        {
          "name": "stderr",
          "output_type": "stream",
          "text": [
            "Embedding extraction: 1it [00:00,  4.00it/s]\n",
            " 98%|█████████▊| 737/750 [04:44<00:05,  2.39it/s]"
          ]
        },
        {
          "name": "stdout",
          "output_type": "stream",
          "text": [
            "\n",
            "0: 736x1280 1 goalkeeper, 22 players, 2 referees, 106.6ms\n",
            "Speed: 6.6ms preprocess, 106.6ms inference, 1.9ms postprocess per image at shape (1, 3, 736, 1280)\n"
          ]
        },
        {
          "name": "stderr",
          "output_type": "stream",
          "text": [
            "Embedding extraction: 1it [00:00,  4.24it/s]\n",
            " 98%|█████████▊| 738/750 [04:45<00:04,  2.41it/s]"
          ]
        },
        {
          "name": "stdout",
          "output_type": "stream",
          "text": [
            "\n",
            "0: 736x1280 1 goalkeeper, 20 players, 2 referees, 114.0ms\n",
            "Speed: 6.9ms preprocess, 114.0ms inference, 2.6ms postprocess per image at shape (1, 3, 736, 1280)\n"
          ]
        },
        {
          "name": "stderr",
          "output_type": "stream",
          "text": [
            "Embedding extraction: 1it [00:00,  3.89it/s]\n",
            " 99%|█████████▊| 739/750 [04:45<00:04,  2.37it/s]"
          ]
        },
        {
          "name": "stdout",
          "output_type": "stream",
          "text": [
            "\n",
            "0: 736x1280 1 goalkeeper, 21 players, 2 referees, 112.4ms\n",
            "Speed: 6.0ms preprocess, 112.4ms inference, 1.8ms postprocess per image at shape (1, 3, 736, 1280)\n"
          ]
        },
        {
          "name": "stderr",
          "output_type": "stream",
          "text": [
            "Embedding extraction: 1it [00:00,  4.76it/s]\n",
            " 99%|█████████▊| 740/750 [04:45<00:04,  2.42it/s]"
          ]
        },
        {
          "name": "stdout",
          "output_type": "stream",
          "text": [
            "\n",
            "0: 736x1280 1 ball, 1 goalkeeper, 22 players, 2 referees, 97.0ms\n",
            "Speed: 6.9ms preprocess, 97.0ms inference, 1.7ms postprocess per image at shape (1, 3, 736, 1280)\n"
          ]
        },
        {
          "name": "stderr",
          "output_type": "stream",
          "text": [
            "Embedding extraction: 1it [00:00,  4.27it/s]\n",
            " 99%|█████████▉| 741/750 [04:46<00:03,  2.44it/s]"
          ]
        },
        {
          "name": "stdout",
          "output_type": "stream",
          "text": [
            "\n",
            "0: 736x1280 3 goalkeepers, 20 players, 2 referees, 101.5ms\n",
            "Speed: 6.2ms preprocess, 101.5ms inference, 1.7ms postprocess per image at shape (1, 3, 736, 1280)\n"
          ]
        },
        {
          "name": "stderr",
          "output_type": "stream",
          "text": [
            "Embedding extraction: 1it [00:00,  4.50it/s]\n",
            " 99%|█████████▉| 742/750 [04:46<00:03,  2.46it/s]"
          ]
        },
        {
          "name": "stdout",
          "output_type": "stream",
          "text": [
            "\n",
            "0: 736x1280 1 ball, 1 goalkeeper, 20 players, 2 referees, 103.2ms\n",
            "Speed: 6.6ms preprocess, 103.2ms inference, 1.8ms postprocess per image at shape (1, 3, 736, 1280)\n"
          ]
        },
        {
          "name": "stderr",
          "output_type": "stream",
          "text": [
            "Embedding extraction: 1it [00:00,  4.37it/s]\n",
            " 99%|█████████▉| 743/750 [04:47<00:02,  2.47it/s]"
          ]
        },
        {
          "name": "stdout",
          "output_type": "stream",
          "text": [
            "\n",
            "0: 736x1280 1 goalkeeper, 20 players, 2 referees, 109.1ms\n",
            "Speed: 6.5ms preprocess, 109.1ms inference, 2.0ms postprocess per image at shape (1, 3, 736, 1280)\n"
          ]
        },
        {
          "name": "stderr",
          "output_type": "stream",
          "text": [
            "Embedding extraction: 1it [00:00,  3.97it/s]\n",
            " 99%|█████████▉| 744/750 [04:47<00:02,  2.42it/s]"
          ]
        },
        {
          "name": "stdout",
          "output_type": "stream",
          "text": [
            "\n",
            "0: 736x1280 1 goalkeeper, 20 players, 2 referees, 137.4ms\n",
            "Speed: 6.4ms preprocess, 137.4ms inference, 2.3ms postprocess per image at shape (1, 3, 736, 1280)\n"
          ]
        },
        {
          "name": "stderr",
          "output_type": "stream",
          "text": [
            "Embedding extraction: 1it [00:00,  3.73it/s]\n",
            " 99%|█████████▉| 745/750 [04:48<00:02,  2.32it/s]"
          ]
        },
        {
          "name": "stdout",
          "output_type": "stream",
          "text": [
            "\n",
            "0: 736x1280 1 goalkeeper, 21 players, 2 referees, 141.7ms\n",
            "Speed: 6.1ms preprocess, 141.7ms inference, 1.6ms postprocess per image at shape (1, 3, 736, 1280)\n"
          ]
        },
        {
          "name": "stderr",
          "output_type": "stream",
          "text": [
            "Embedding extraction: 1it [00:00,  3.82it/s]\n",
            " 99%|█████████▉| 746/750 [04:48<00:01,  2.26it/s]"
          ]
        },
        {
          "name": "stdout",
          "output_type": "stream",
          "text": [
            "\n",
            "0: 736x1280 1 goalkeeper, 20 players, 2 referees, 111.3ms\n",
            "Speed: 7.6ms preprocess, 111.3ms inference, 2.4ms postprocess per image at shape (1, 3, 736, 1280)\n"
          ]
        },
        {
          "name": "stderr",
          "output_type": "stream",
          "text": [
            "Embedding extraction: 1it [00:00,  3.76it/s]\n",
            "100%|█████████▉| 747/750 [04:48<00:01,  2.25it/s]"
          ]
        },
        {
          "name": "stdout",
          "output_type": "stream",
          "text": [
            "\n",
            "0: 736x1280 1 goalkeeper, 20 players, 2 referees, 113.3ms\n",
            "Speed: 8.1ms preprocess, 113.3ms inference, 1.6ms postprocess per image at shape (1, 3, 736, 1280)\n"
          ]
        },
        {
          "name": "stderr",
          "output_type": "stream",
          "text": [
            "Embedding extraction: 1it [00:00,  3.85it/s]\n",
            "100%|█████████▉| 748/750 [04:49<00:00,  2.26it/s]"
          ]
        },
        {
          "name": "stdout",
          "output_type": "stream",
          "text": [
            "\n",
            "0: 736x1280 1 goalkeeper, 22 players, 2 referees, 107.5ms\n",
            "Speed: 6.5ms preprocess, 107.5ms inference, 1.7ms postprocess per image at shape (1, 3, 736, 1280)\n"
          ]
        },
        {
          "name": "stderr",
          "output_type": "stream",
          "text": [
            "Embedding extraction: 1it [00:00,  4.17it/s]\n",
            "100%|█████████▉| 749/750 [04:49<00:00,  2.30it/s]"
          ]
        },
        {
          "name": "stdout",
          "output_type": "stream",
          "text": [
            "\n",
            "0: 736x1280 1 goalkeeper, 21 players, 2 referees, 116.7ms\n",
            "Speed: 7.4ms preprocess, 116.7ms inference, 2.1ms postprocess per image at shape (1, 3, 736, 1280)\n"
          ]
        },
        {
          "name": "stderr",
          "output_type": "stream",
          "text": [
            "Embedding extraction: 1it [00:00,  4.24it/s]\n",
            "100%|██████████| 750/750 [04:50<00:00,  2.58it/s]\n"
          ]
        },
        {
          "name": "stdout",
          "output_type": "stream",
          "text": [
            "✅ Annotated video saved at: 121364_0_annotated.mp4\n",
            "✅ Detection log saved at: 121364_0_log.json\n"
          ]
        }
      ],
      "source": [
        "import supervision as sv\n",
        "import cv2\n",
        "import numpy as np\n",
        "import json\n",
        "from tqdm import tqdm\n",
        "\n",
        "# === Paths ===\n",
        "SOURCE_VIDEO_PATH = \"121364_0.mp4\"\n",
        "OUTPUT_VIDEO_PATH = \"121364_0_annotated.mp4\"\n",
        "JSON_OUTPUT_PATH = \"121364_0_log.json\"\n",
        "\n",
        "# === IDs ===\n",
        "BALL_ID = 0\n",
        "GOALKEEPER_ID = 1\n",
        "PLAYER_ID = 2\n",
        "REFEREE_ID = 3\n",
        "\n",
        "# === Annotators ===\n",
        "ellipse_annotator = sv.EllipseAnnotator(\n",
        "    color=sv.ColorPalette.from_hex(['#00BFFF', '#FF1493', '#FFD700']),\n",
        "    thickness=2\n",
        ")\n",
        "label_annotator = sv.LabelAnnotator(\n",
        "    color=sv.ColorPalette.from_hex(['#00BFFF', '#FF1493', '#FFD700']),\n",
        "    text_color=sv.Color.from_hex('#000000'),\n",
        "    text_position=sv.Position.BOTTOM_CENTER\n",
        ")\n",
        "triangle_annotator = sv.TriangleAnnotator(\n",
        "    color=sv.Color.from_hex('#FFD700'),\n",
        "    base=25,\n",
        "    height=21,\n",
        "    outline_thickness=1\n",
        ")\n",
        "\n",
        "# === Video Setup ===\n",
        "cap = cv2.VideoCapture(SOURCE_VIDEO_PATH)\n",
        "width = int(cap.get(cv2.CAP_PROP_FRAME_WIDTH))\n",
        "height = int(cap.get(cv2.CAP_PROP_FRAME_HEIGHT))\n",
        "fps = int(cap.get(cv2.CAP_PROP_FPS))\n",
        "total_frames = int(cap.get(cv2.CAP_PROP_FRAME_COUNT))\n",
        "writer = cv2.VideoWriter(OUTPUT_VIDEO_PATH, cv2.VideoWriter_fourcc(*'mp4v'), fps, (width, height))\n",
        "frame_generator = sv.get_video_frames_generator(SOURCE_VIDEO_PATH)\n",
        "\n",
        "tracker = sv.ByteTrack()\n",
        "tracker.reset()\n",
        "log_data = []\n",
        "\n",
        "# === Frame Loop ===\n",
        "for frame_index, frame in tqdm(enumerate(frame_generator), total=total_frames):\n",
        "    result = model.predict(frame, conf=0.1)[0]\n",
        "    detections = sv.Detections.from_ultralytics(result)\n",
        "\n",
        "    # Ball\n",
        "    ball_detections = detections[detections.class_id == BALL_ID]\n",
        "    ball_detections.xyxy = sv.pad_boxes(xyxy=ball_detections.xyxy, px=10)\n",
        "\n",
        "    # All other detections\n",
        "    all_detections = detections[detections.class_id != BALL_ID]\n",
        "    all_detections = all_detections.with_nms(threshold=0.5, class_agnostic=True)\n",
        "    all_detections = tracker.update_with_detections(detections=all_detections)\n",
        "\n",
        "    # Split classes\n",
        "    goalkeepers_detections = all_detections[all_detections.class_id == GOALKEEPER_ID]\n",
        "    players_detections = all_detections[all_detections.class_id == PLAYER_ID]\n",
        "    referees_detections = all_detections[all_detections.class_id == REFEREE_ID]\n",
        "\n",
        "    # Team classification\n",
        "    players_crops = [sv.crop_image(frame, xyxy) for xyxy in players_detections.xyxy]\n",
        "    players_detections.class_id = team_classifier.predict(players_crops)\n",
        "    goalkeepers_detections.class_id = resolve_goalkeepers_team_id(players_detections, goalkeepers_detections)\n",
        "    referees_detections.class_id -= 1\n",
        "\n",
        "    # Merge and annotate\n",
        "    all_detections = sv.Detections.merge([\n",
        "        players_detections, goalkeepers_detections, referees_detections\n",
        "    ])\n",
        "    all_detections.class_id = all_detections.class_id.astype(int)\n",
        "\n",
        "    labels = [f\"#{tracker_id}\" for tracker_id in all_detections.tracker_id]\n",
        "\n",
        "    annotated_frame = frame.copy()\n",
        "    annotated_frame = ellipse_annotator.annotate(scene=annotated_frame, detections=all_detections)\n",
        "    annotated_frame = label_annotator.annotate(scene=annotated_frame, detections=all_detections, labels=labels)\n",
        "    annotated_frame = triangle_annotator.annotate(scene=annotated_frame, detections=ball_detections)\n",
        "    writer.write(annotated_frame)\n",
        "\n",
        "    # === Frame Log ===\n",
        "    frame_log = {\n",
        "        \"frame\": frame_index,\n",
        "        \"timestamp_sec\": round(frame_index / fps, 2),\n",
        "        \"detections\": []\n",
        "    }\n",
        "\n",
        "    for tracker_id, class_id, xyxy in zip(all_detections.tracker_id, all_detections.class_id, all_detections.xyxy):\n",
        "        label = [\"player\", \"GK\", \"referee\"][class_id] if class_id < 3 else \"unknown\"\n",
        "        team_id = int(class_id == 0)  # crude: players and GK only\n",
        "        frame_log[\"detections\"].append({\n",
        "            \"label\": label,\n",
        "            \"id\": int(tracker_id),\n",
        "            \"team_id\": team_id,\n",
        "            \"box\": list(map(float, xyxy))\n",
        "        })\n",
        "\n",
        "    for xyxy in ball_detections.xyxy:\n",
        "        frame_log[\"detections\"].append({\n",
        "            \"label\": \"ball\",\n",
        "            \"id\": None,\n",
        "            \"team_id\": None,\n",
        "            \"box\": list(map(float, xyxy))\n",
        "        })\n",
        "\n",
        "    log_data.append(frame_log)\n",
        "\n",
        "# === Finalize ===\n",
        "cap.release()\n",
        "writer.release()\n",
        "\n",
        "with open(JSON_OUTPUT_PATH, \"w\") as f:\n",
        "    json.dump(log_data, f, indent=2)\n",
        "\n",
        "print(f\"✅ Annotated video saved at: {OUTPUT_VIDEO_PATH}\")\n",
        "print(f\"✅ Detection log saved at: {JSON_OUTPUT_PATH}\")\n"
      ]
    },
    {
      "cell_type": "code",
      "execution_count": 30,
      "metadata": {
        "id": "9iNm9lOKPkqi"
      },
      "outputs": [
        {
          "name": "stdout",
          "output_type": "stream",
          "text": [
            "✅ Possession data added and saved to: 121364_0_log_with_possession.json\n"
          ]
        }
      ],
      "source": [
        "import json\n",
        "import numpy as np\n",
        "\n",
        "# Load detection log\n",
        "with open(\"121364_0_log.json\", \"r\") as f:\n",
        "    log_data = json.load(f)\n",
        "\n",
        "# Define possession threshold (in pixels, tweak as needed)\n",
        "possession_threshold = 50\n",
        "\n",
        "# Loop through each frame and compute possession\n",
        "for frame in log_data:\n",
        "    ball_box = None\n",
        "    players = []\n",
        "\n",
        "    for det in frame[\"detections\"]:\n",
        "        if det[\"label\"] == \"ball\":\n",
        "            ball_box = det[\"box\"]\n",
        "        elif det[\"label\"] == \"player\":\n",
        "            players.append({\"id\": det[\"id\"], \"box\": det[\"box\"]})\n",
        "\n",
        "    possessor_id = None\n",
        "    min_distance = float(\"inf\")\n",
        "\n",
        "    if ball_box:\n",
        "        ball_center = np.array([\n",
        "            (ball_box[0] + ball_box[2]) / 2,\n",
        "            (ball_box[1] + ball_box[3]) / 2\n",
        "        ])\n",
        "\n",
        "        for player in players:\n",
        "            player_box = player[\"box\"]\n",
        "            player_center = np.array([\n",
        "                (player_box[0] + player_box[2]) / 2,\n",
        "                (player_box[1] + player_box[3]) / 2\n",
        "            ])\n",
        "            distance = np.linalg.norm(player_center - ball_center)\n",
        "\n",
        "            if distance < possession_threshold and distance < min_distance:\n",
        "                min_distance = distance\n",
        "                possessor_id = player[\"id\"]\n",
        "\n",
        "    frame[\"possession\"] = possessor_id  # Will be None if no one has the ball\n",
        "\n",
        "# Save updated log\n",
        "output_path = \"121364_0_log_with_possession.json\"\n",
        "with open(output_path, \"w\") as f:\n",
        "    json.dump(log_data, f, indent=2)\n",
        "\n",
        "print(f\"✅ Possession data added and saved to: {output_path}\")\n"
      ]
    }
  ],
  "metadata": {
    "colab": {
      "provenance": []
    },
    "kernelspec": {
      "display_name": "myenv",
      "language": "python",
      "name": "python3"
    },
    "language_info": {
      "codemirror_mode": {
        "name": "ipython",
        "version": 3
      },
      "file_extension": ".py",
      "mimetype": "text/x-python",
      "name": "python",
      "nbconvert_exporter": "python",
      "pygments_lexer": "ipython3",
      "version": "3.12.4"
    }
  },
  "nbformat": 4,
  "nbformat_minor": 0
}
